{
 "cells": [
  {
   "cell_type": "markdown",
   "metadata": {},
   "source": [
    "## Installation\n",
    "\n",
    "Installation on Unix-like systems is nothing more than to either download or clone the [Asteroid github repository](https://github.com/lutzhamel/asteroid) or download one of the prepackaged releases and add the `code` directory of the repository/release to your `PATH` environment variable.  Be sure that you have Python 3.x installed. Make sure that the file `code/asteroid` has execution privileges on your machine.\n",
    "\n",
    "On Windows 10 you will need to set the environment variable `ASTEROID_ROOT` to point to the folder where you cloned the repo or unzipped the downloaded file.  Then you will need to add the following to the `path` environment variable: `%ASTEROID_ROOT%\\code`.  That's it, now you can use the `asteroid.bat` file to start the asteroid interpreter.\n",
    "\n",
    "\n",
    "## Running the Asteroid Interpreter\n",
    "\n",
    "You can now run the interpreter from the command line by simply typing `asteroid`.  This will work on both Windows and Unix-like systems as long as you followed the instructions above,\n",
    "```\n",
    "$ cat simple.ast\n",
    "-- a simple program using lambda functions\n",
    "\n",
    "load \"standard\"\n",
    "load \"io\".\n",
    "\n",
    "print ((lambda with n do return n+1) 1).\n",
    "$ \n",
    "$ asteroid simple.ast \n",
    "2\n",
    "$ \n",
    "```\n",
    "\n"
   ]
  },
  {
   "cell_type": "code",
   "execution_count": null,
   "metadata": {
    "collapsed": true
   },
   "outputs": [],
   "source": []
  }
 ],
 "metadata": {
  "kernelspec": {
   "display_name": "Python 3",
   "language": "python",
   "name": "python3"
  },
  "language_info": {
   "codemirror_mode": {
    "name": "ipython",
    "version": 3
   },
   "file_extension": ".py",
   "mimetype": "text/x-python",
   "name": "python",
   "nbconvert_exporter": "python",
   "pygments_lexer": "ipython3",
   "version": "3.7.6"
  }
 },
 "nbformat": 4,
 "nbformat_minor": 2
}

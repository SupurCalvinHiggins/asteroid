{
 "cells": [
  {
   "cell_type": "markdown",
   "metadata": {},
   "source": [
    "# Asteroid User Guide"
   ]
  },
  {
   "cell_type": "markdown",
   "metadata": {},
   "source": [
    "**NOTE:** This user guide is currently out of date - we have made a lot of changes to the language - we will update it shortly."
   ]
  },
  {
   "cell_type": "markdown",
   "metadata": {},
   "source": [
    "Asteroid is a multi-paradigm programming language that makes pattern matching one of its core computational mechanisms.  This is often called *pattern-matching oriented programming*."
   ]
  },
  {
   "cell_type": "markdown",
   "metadata": {},
   "source": [
    "In this document we describe the major features of Asteroid and give plenty of examples.  For the most part Asteroid should appear very familiar.  However, there are some features which differ drastically from other programming languages.  Here are just two:\n",
    "\n",
    "1. All statements that look like assignments are actually pattern-match statements.  For example if I state,\n",
    "```\n",
    "let [x,2,y] = [1,2,3].\n",
    "```\n",
    "that means the subject term `[1,2,3]` is matched to the pattern `[x,2,y]` and `x` and `y` are bound to the values 1 and 3, respectively.  By the way, there is nothing wrong with this statement,\n",
    "```\n",
    "let [1,2,3] = [1,2,3].\n",
    "```\n",
    "which is just another pattern match without any variable instantiation.\n",
    "\n",
    "2. Asteroid allows for list slicing.  Consider the example,\n",
    "```\n",
    "let a = [1,2,3].\n",
    "let b = a@1. -- access element 1\n",
    "print b.\n",
    "```\n",
    "The result of executing this program would be that the value `2` is printed to the screen.  On the other hand the program,\n",
    "```\n",
    "let a = [1,2,3].\n",
    "let b = a@[1]. -- access element 1 and return it in a list\n",
    "print b.\n",
    "```\n",
    "would print the value `[2]`.  We can take advantage of this capability to reverse the list `a` with a simple indexing operation using a list of indexes,\n",
    "```\n",
    "let a = [1,2,3].\n",
    "let b = a@[2,1,0]. -- reverse list a\n",
    "print b.\n",
    "```"
   ]
  },
  {
   "cell_type": "markdown",
   "metadata": {},
   "source": [
    "Let's import the Asteroid interpreter so we can run Asteroid programs in this notebook.  Be sure that you are running Jupyter with Python 3.x."
   ]
  },
  {
   "cell_type": "code",
   "execution_count": 1,
   "metadata": {
    "collapsed": true
   },
   "outputs": [],
   "source": [
    "# let the notebook access the code folder\n",
    "import sys\n",
    "sys.path.insert(1,\"code\")\n",
    "\n",
    "from asteroid_interp import interp "
   ]
  },
  {
   "cell_type": "markdown",
   "metadata": {},
   "source": [
    "Asteroid is implemented in Python.  In this notebook we represent programs as strings so that we can execute them with the `interp` function right here in the notebook. Asteroid also supports calling the interpreter from the command line (see the [Installing and Running](Installing and Running.ipynb) document)."
   ]
  },
  {
   "cell_type": "markdown",
   "metadata": {},
   "source": [
    "## The Basics"
   ]
  },
  {
   "cell_type": "markdown",
   "metadata": {},
   "source": [
    "As with most languages we are familiar with Asteroid has **variables** (alpha-numeric symbols starting with an alpha character) and **constants**.  Constants are available for all the **primitive data types**:\n",
    "\n",
    "* `integer`\n",
    "* `real`\n",
    "* `string`\n",
    "* `boolean`\n",
    "\n",
    "Asteroid arranges these data types in a **type hierarchy** in order to facilitate automatic type promotion:\n",
    "\n",
    "`boolean` < `integer` < `real` < `string`\n",
    "\n",
    "Asteroid supports two more data types: \n",
    "\n",
    "* `list`\n",
    "* `tuple`\n",
    "\n",
    "These are **structured data types** in that they can contain entities of other data types. Both of these data types have the probably familiar constructors which are possibly empty squence of comma separated values enclosed by square brackets for lists and enclosed by parentheses for tuples. For tuples we have the caveat that the 1-tuple is represented by a value followed by a comma to distinguish it from parenthesized expressions, e.g.`(<something>,)`. Furthermore, the null-tuple `()` actually belongs to a different data type as we will see below.\n",
    "Here are some examples,\n",
    "```\n",
    "let a = [1,2,3].  -- this is a list\n",
    "let c = (1,2,3).  -- this is a tuple\n",
    "```\n",
    "In order to distinguish it from a parenthesized value the single element in a 1-tuple has to be followed by a comma, like so,\n",
    "```\n",
    "let one_tuple = (1,).  -- this is a 1-tuple\n",
    "```\n",
    "Lists and tuples themselves are also embedded in type hierarchies, although very simple ones:\n",
    "\n",
    "* `list` < `string`\n",
    "* `tuple` < `string`\n",
    "\n",
    "That is, any list or tuple can be viewed as a string.  This is very convenient for printing lists and tuples.\n",
    "\n",
    "Finally, Asteroid supports one more type, namely the `none` type.  The `none` type has a constant named conveniently `none`.  As mentioned above, the null-tuple is of this type and therefore the constant `()` can often be used as a convenient short hand for the constant `none`.  The `none` data type does not belong to any type hierarchy."
   ]
  },
  {
   "cell_type": "markdown",
   "metadata": {},
   "source": [
    "By now you probably figured out that statements are terminated with a period and that comments start with a `--` symbol and continue till the end of the line.  You probably also figured out that the `let` statement is Asteroid's version of assignment even though the underlying mechanism is a bit different."
   ]
  },
  {
   "cell_type": "markdown",
   "metadata": {},
   "source": [
    "## Data Structures"
   ]
  },
  {
   "cell_type": "markdown",
   "metadata": {},
   "source": [
    "### Lists"
   ]
  },
  {
   "cell_type": "markdown",
   "metadata": {},
   "source": [
    "In Asteroid the `list` is the fundamental, built-in data structure.  A trait it shares with programming languages such as Lisp, Python, ML, and Prolog.  Below is the list reversal example from above as an executable Asteroid program. So go ahead and experiment!"
   ]
  },
  {
   "cell_type": "code",
   "execution_count": 2,
   "metadata": {},
   "outputs": [
    {
     "name": "stdout",
     "output_type": "stream",
     "text": [
      "[3,2,1]\n"
     ]
    }
   ],
   "source": [
    "program = \\\n",
    "\"\"\"\n",
    "load \"standard\".    -- load standard computational model\n",
    "load \"io\".          -- load the io module so we can print\n",
    "let a = [1,2,3].    -- construct list a\n",
    "let b = a@[2,1,0].  -- reverse list a\n",
    "print b.\n",
    "\"\"\"\n",
    "interp(program)"
   ]
  },
  {
   "cell_type": "markdown",
   "metadata": {},
   "source": [
    "As we have seen the `@` operator allows you to access either individual elements or slices of a list.  We can also use **list comprehensions** to construct lists,"
   ]
  },
  {
   "cell_type": "code",
   "execution_count": 3,
   "metadata": {},
   "outputs": [
    {
     "name": "stdout",
     "output_type": "stream",
     "text": [
      "list: [1,3,5,7,9]\n",
      "reversed list: [9,7,5,3,1]\n"
     ]
    }
   ],
   "source": [
    "program = \\\n",
    "\"\"\"\n",
    "load \"standard\".\n",
    "load \"io\".          \n",
    "\n",
    "-- build a list of odd values\n",
    "let a = [1 to 10 step 2].\n",
    "print (\"list: \" + a).\n",
    "\n",
    "-- reverse the list\n",
    "let slice = [4 to 0 step -1].\n",
    "let b = a@slice.\n",
    "print (\"reversed list: \" + b).\n",
    "\"\"\"\n",
    "interp(program)"
   ]
  },
  {
   "cell_type": "markdown",
   "metadata": {},
   "source": [
    "Higher dimensional arrays can easily be simulated with lists of lists,"
   ]
  },
  {
   "cell_type": "code",
   "execution_count": 4,
   "metadata": {},
   "outputs": [
    {
     "name": "stdout",
     "output_type": "stream",
     "text": [
      "[[1,2,3],[4,0,6],[7,8,9]]\n"
     ]
    }
   ],
   "source": [
    "program = \\\n",
    "'''\n",
    "load \"standard\".\n",
    "load \"io\".\n",
    "\n",
    "-- build a 2-D array\n",
    "let b = [[1,2,3],\n",
    "         [4,5,6],\n",
    "         [7,8,9]].\n",
    "         \n",
    "-- modify an element in the array\n",
    "let b@1@1 = 0.\n",
    "print b.\n",
    "'''\n",
    "interp(program)"
   ]
  },
  {
   "cell_type": "markdown",
   "metadata": {},
   "source": [
    "**NOTE**: At this point slicing is not supported on the left side of a `let` statement."
   ]
  },
  {
   "cell_type": "markdown",
   "metadata": {},
   "source": [
    "### Custom Data Structures using Constructors"
   ]
  },
  {
   "cell_type": "markdown",
   "metadata": {},
   "source": [
    "You can introduce custom data structures using **constructors**.  These custom data structures differ from lists in the sense that the name of the constructor acts like a type tag.  So in some sense when you define a new constructor you are introducing a new type into your program.  Here is a simple example,"
   ]
  },
  {
   "cell_type": "code",
   "execution_count": 5,
   "metadata": {},
   "outputs": [
    {
     "name": "stdout",
     "output_type": "stream",
     "text": [
      "Sophie is 46 years old and is female.\n"
     ]
    }
   ],
   "source": [
    "program = \\\n",
    "'''\n",
    "load \"standard\".\n",
    "load \"io\".\n",
    "\n",
    "-- introduce a new type `Person` with arity 3\n",
    "constructor Person with arity 3.\n",
    " \n",
    "-- make a list of persons\n",
    "let people = [\n",
    "    Person(\"George\", 32, \"M\"),\n",
    "    Person(\"Sophie\", 46, \"F\"),\n",
    "    Person(\"Oliver\", 21, \"M\")\n",
    "    ].\n",
    "\n",
    "-- retrieve the second person on the list and print\n",
    "let Person(name,age,sex) = people@1.\n",
    "print (name + \" is \" + age + \" years old and is \" + (\"male\" if sex is \"M\" else \"female\") + \".\").\n",
    "'''\n",
    "interp(program, exceptions=True)"
   ]
  },
  {
   "cell_type": "markdown",
   "metadata": {},
   "source": [
    "The `constructor` statement introduces a new typed data structure. In this case it introduces a data structure of type `Person` with three \"slots\".  We use this data structure to build a list of persons.  One of the interesting things in terms of constructors is that we can pattern match the generated data structure as in the second `let` statement in the program above.\n",
    "\n",
    "It turns out that data structures defined with the `constructor` command also support prototype based OO programming.  More of that below."
   ]
  },
  {
   "cell_type": "markdown",
   "metadata": {},
   "source": [
    "## The Let Statement"
   ]
  },
  {
   "cell_type": "markdown",
   "metadata": {},
   "source": [
    "The `let` statement is Asteroid's version of the assignment statement.  Here is a snippet of Asteroid's grammar detailing the statement,\n",
    "```\n",
    "stmt := LET pattern '=' exp '.'?\n",
    "```\n",
    "In the grammar capital words and symbols in quotes represent language keywords and lower case letters represent non-terminals.  \n",
    "\n",
    "The notation is an EBNF notation that means the question mark is a meta operator and makes the period at the end of the `let` statement optional.  Even though the period is optional we highly recommend using it because leaving it out can, under certain circumstances, lead to ambiguous statements and therefore will lead to syntax errors.\n",
    "\n",
    "As we said before, the `let` statement is a pattern matching statement which we can see expressed here by the `pattern` on the left side of the `=` sign. Patterns are expressions that consist purely of constructors and variables. Under the **standard computational model** constructors consist of constants, list constructors, and user defined constructors.  Under the **default model** any expression symbol that has not been attached to a function can be used for pattern matching.  We will talk about models in more detail below."
   ]
  },
  {
   "cell_type": "markdown",
   "metadata": {},
   "source": [
    "Here is an example under the **standard computational model**,"
   ]
  },
  {
   "cell_type": "code",
   "execution_count": 6,
   "metadata": {},
   "outputs": [
    {
     "name": "stdout",
     "output_type": "stream",
     "text": [
      "(1,3)\n"
     ]
    }
   ],
   "source": [
    "program =\\\n",
    "\"\"\"\n",
    "load \"standard\".\n",
    "load \"io\".\n",
    "\n",
    "-- note 1+1 evaluates to 2 and is then matched\n",
    "-- the variables x and y are bound to 1 and 3, respectively\n",
    "let [x,2,y] = [1+0,1+1,1+2]. \n",
    "print (x,y).\n",
    "\"\"\"\n",
    "interp(program)"
   ]
  },
  {
   "cell_type": "markdown",
   "metadata": {},
   "source": [
    "Here is a similar program under the **default model**,"
   ]
  },
  {
   "cell_type": "code",
   "execution_count": 7,
   "metadata": {},
   "outputs": [
    {
     "name": "stdout",
     "output_type": "stream",
     "text": [
      "(__plus__(1,0),__plus__(1,2))\n"
     ]
    }
   ],
   "source": [
    "program =\\\n",
    "\"\"\"\n",
    "load \"default\".\n",
    "load \"io\".\n",
    "\n",
    "-- note 1+1 does NOT evaluate to 2 and 1+1 is matched\n",
    "-- the variables x and y are bound to term expressions\n",
    "let [x,1+1,y] = [1+0,1+1,1+2]. \n",
    "print (x,y).\n",
    "\"\"\"\n",
    "interp(program)"
   ]
  },
  {
   "cell_type": "markdown",
   "metadata": {},
   "source": [
    "Under the default model all expression symbols are constructors unless a function has been attached to them.  Here the `+` symbol is considered a constructor since under the default model it has no other interpretation.  This has the consequence for the \"value 2\" part of the pattern in the `let` statement - here we have to match the explicit structure of `1 + 1` since the `1 + 1` on the righ side is not evaluated but represents a structure.  The same is true with the values `1 + 0` and `1 + 2`.  Each of these terms represents a structure and this structure is bound to the corresponding variable in the pattern during matching.  This becomes clear when we print out the bound values of the variables: they are just prefix term structures (`__plus__` is Asteroid's internal representation of the `+` operator symbol)."
   ]
  },
  {
   "cell_type": "markdown",
   "metadata": {},
   "source": [
    "## Flow of Control Statements"
   ]
  },
  {
   "cell_type": "markdown",
   "metadata": {},
   "source": [
    "Control structure implementation in Asteroid is along the lines of any of the modern programming languages such as Python, Swift, or Rust.  For example, the `for` loop allows you to iterate over lists without having to explicitly define a loop index counter.  Here is a snippet from the Asteroid EBNF grammar that shows the control statements,\n",
    "```\n",
    "stmt := FOR pattern IN exp DO stmt_list END FOR\n",
    "      | WHILE exp DO stmt_list END WHILE\n",
    "      | REPEAT DO? stmt_list UNTIL exp '.'?\n",
    "      | IF exp DO stmt_list (ELIF exp DO stmt_list)* (ELSE DO? stmt_list)? END IF\n",
    "      | TRY stmt_list (CATCH pattern DO stmt_list)+ END TRY\n",
    "      | THROW exp '.'?\n",
    "      | BREAK '.'?\n",
    "```\n",
    "Looking at the list of supported flow of control statements there are really not a lot of surprises.  For example, here is a short program with a `for` loop that prints out the first ten even positive integers,"
   ]
  },
  {
   "cell_type": "code",
   "execution_count": 8,
   "metadata": {},
   "outputs": [
    {
     "name": "stdout",
     "output_type": "stream",
     "text": [
      "0\n",
      "2\n",
      "4\n",
      "6\n",
      "8\n",
      "10\n"
     ]
    }
   ],
   "source": [
    "program =\\\n",
    "\"\"\"\n",
    "load \"standard\".\n",
    "load \"io\".\n",
    "for i in 0 to 10 step 2 do\n",
    "    print i\n",
    "end for\n",
    "\"\"\"\n",
    "interp(program)"
   ]
  },
  {
   "cell_type": "markdown",
   "metadata": {},
   "source": [
    "Here is another example that iterates over lists,"
   ]
  },
  {
   "cell_type": "code",
   "execution_count": 9,
   "metadata": {},
   "outputs": [
    {
     "name": "stdout",
     "output_type": "stream",
     "text": [
      "turkey\n",
      "duck\n",
      "chicken\n"
     ]
    }
   ],
   "source": [
    "program = \\\n",
    "\"\"\"\n",
    "load \"standard\".\n",
    "load \"io\".\n",
    "\n",
    "for bird in [\"turkey\",\"duck\",\"chicken\"] do\n",
    "    print bird.\n",
    "end for\n",
    "\"\"\"\n",
    "interp(program)"
   ]
  },
  {
   "cell_type": "markdown",
   "metadata": {},
   "source": [
    "Even though Asteroid's flow of control statements look so familiar they support pattern matching to a degree not found in other programming languages and which we will take a look at below."
   ]
  },
  {
   "cell_type": "markdown",
   "metadata": {},
   "source": [
    "## Functions"
   ]
  },
  {
   "cell_type": "markdown",
   "metadata": {},
   "source": [
    "Here is the grammar snippet that defines functions,\n",
    "```\n",
    "stmt      := FUNCTION ID body_defs END FUNCTION\n",
    "body_defs := WITH pattern DO stmt_list (ORWITH pattern DO stmt_list)*\n",
    "```\n",
    "A closer look reveals that a function can have multiple bodies each associated with a different formal argument pattern.  Asteroid inherits this characteristic directly from functional languages like ML or Haskell.\n",
    "\n",
    "However, considering that a variable represents the simplest pattern we can write functions that look very familiar to the programmer coming from the Python or Java traditions.  Here is a function that reverses a list,"
   ]
  },
  {
   "cell_type": "code",
   "execution_count": 10,
   "metadata": {},
   "outputs": [
    {
     "name": "stdout",
     "output_type": "stream",
     "text": [
      "[3,2,1]\n"
     ]
    }
   ],
   "source": [
    "program =\\\n",
    "'''\n",
    "load \"standard\".\n",
    "load \"util\".\n",
    "load \"io\".\n",
    "\n",
    "function reverse with list do\n",
    "    let len = length(list).\n",
    "    let r_list = list@[(len-1) to 0 step -1].\n",
    "    return r_list.\n",
    "end function\n",
    "\n",
    "let my_list = [1,2,3].\n",
    "let my_reversed_list = reverse(my_list).\n",
    "print my_reversed_list.\n",
    "'''\n",
    "interp(program)"
   ]
  },
  {
   "cell_type": "markdown",
   "metadata": {},
   "source": [
    "We'll talk about pattern matching in functions and multiple bodies later on in this document.  Asteroid also supports anonymous or `lambda` functions.  Here is a snippet of the grammar that defines anonymous functions,\n",
    "```\n",
    "primary := LAMBDA body_defs \n",
    "```\n",
    "where the `body_defs` are the same as for the functions defined above.  This implies that `lambda` functions can also have multiple bodies each associated with a different formal argument pattern.  Here is a simple example using a `lambda` function,"
   ]
  },
  {
   "cell_type": "code",
   "execution_count": 11,
   "metadata": {},
   "outputs": [
    {
     "name": "stdout",
     "output_type": "stream",
     "text": [
      "2\n"
     ]
    }
   ],
   "source": [
    "program = \\\n",
    "'''\n",
    "load \"standard\"\n",
    "load \"io\".\n",
    "\n",
    "print ((lambda with n do return n+1) 1).\n",
    "'''\n",
    "interp(program)"
   ]
  },
  {
   "cell_type": "markdown",
   "metadata": {},
   "source": [
    "## Manipulating the Model"
   ]
  },
  {
   "cell_type": "markdown",
   "metadata": {},
   "source": [
    "One of the most unconventional features of Asteroid is the fact that the developer has the ability to control the interpretation of expression operator symbols such as `+` and `*`, *etc.* A collection of interpretations of different symbols is called a *model*. We start by demonstrating how a developer can explicitly manipulate the interpretation of the `+` and `-` operators,"
   ]
  },
  {
   "cell_type": "code",
   "execution_count": 12,
   "metadata": {},
   "outputs": [
    {
     "name": "stdout",
     "output_type": "stream",
     "text": [
      "__minus__(__plus__(4,3),2)\n",
      "5\n",
      "3\n"
     ]
    }
   ],
   "source": [
    "program =\\\n",
    "\"\"\"\n",
    "load \"io\". \n",
    "\n",
    "-- print out the value using the default term model\n",
    "load \"default\".\n",
    "print (4+3-2). \n",
    "\n",
    "-- print out the value using the standard model\n",
    "load \"standard\". \n",
    "print (4+3-2). \n",
    "\n",
    "-- save the interpretations\n",
    "let plus_op = __plus__.\n",
    "let minus_op = __minus__.\n",
    "\n",
    "-- detach the interpretations from constructors\n",
    "detach from __plus__.\n",
    "detach from __minus__.\n",
    "\n",
    "-- reattach in opposite order\n",
    "attach plus_op to __minus__.\n",
    "attach minus_op to __plus__. \n",
    "\n",
    "-- print the value of the term using\n",
    "-- the modified standard model\n",
    "print (4+3-2). \n",
    "\"\"\"\n",
    "interp(program)"
   ]
  },
  {
   "cell_type": "markdown",
   "metadata": {},
   "source": [
    "This program prints out the value of the term `4 + 3 - 2` under three different interpretations:\n",
    "\n",
    "* Under the default term model \n",
    "\n",
    "* Under the standard model \n",
    "\n",
    "* Under the standard model with the interpretations for `+` and `-` swapped\n",
    "\n",
    "Here the symbols `__plus__` and `__minus__` are the internal names of the corresponding operators.\n",
    "As we can see the program generates the following output:\n",
    "```\n",
    "__minus__(__plus__(4,3),2)\n",
    "5\n",
    "3\n",
    "```\n",
    "The first line is the output under the term model and shows a dump of the internal term structure of the expression `4 + 3 - 2` in prefix format.\n",
    "The second line is the output under the standard model.  Given the usual interpretation of `+` and `-` the expression `4 + 3 - 2` evaluates to the value 5.\n",
    "The third line shows the output under the modified standard model with the interpretation of `+` and `-`\n",
    "swapped. In this case the expression `4 + 3 - 2` evaluates to the value 3."
   ]
  },
  {
   "cell_type": "markdown",
   "metadata": {},
   "source": [
    "The following program shows another example of model manipulation"
   ]
  },
  {
   "cell_type": "code",
   "execution_count": 13,
   "metadata": {},
   "outputs": [
    {
     "name": "stdout",
     "output_type": "stream",
     "text": [
      "6\n"
     ]
    }
   ],
   "source": [
    "program = \\\n",
    "\"\"\"\n",
    "load \"standard\".\n",
    "load \"io\".\n",
    "    \n",
    "attach (lambda with (a,b) do return a*b) to __plus__.\n",
    "print (3+2).\n",
    "\"\"\"\n",
    "interp(program)"
   ]
  },
  {
   "cell_type": "markdown",
   "metadata": {},
   "source": [
    "Here we attach a lambda function that computes the product of its arguments as the interpretation of the `+` operator symbol.  The output of this program under this modified model is the value 6 rather than the expected value 5."
   ]
  },
  {
   "cell_type": "markdown",
   "metadata": {},
   "source": [
    "## Basic Pattern Matching"
   ]
  },
  {
   "cell_type": "markdown",
   "metadata": {},
   "source": [
    "Pattern matching lies at the heart of Asteroid and the ability of manipulating the interpretation of expression terms allows the developer to pattern match on operator symbols usually reserved for value computations.  We saw some of Asteroid's pattern match ability when we discussed the `let` statement.  Below is another program that highlights a few other aspects of pattern matching.\n",
    "In particular, quoted expressions allow the programmer to treat expressions as constructor terms in the presence of a model other than the default model and pattern match against that structure.  Quoted expressions can be interpreted in the current model using the `eval` function as shown in the following.  All of the statements execute correctly.  In the case that a statement is expected to fail we put it into a try-catch block."
   ]
  },
  {
   "cell_type": "code",
   "execution_count": 14,
   "metadata": {},
   "outputs": [
    {
     "name": "stdout",
     "output_type": "stream",
     "text": [
      "1+1 pattern match failed\n"
     ]
    }
   ],
   "source": [
    "program =\\\n",
    "\"\"\"\n",
    "load \"standard\".\n",
    "load \"io\".\n",
    "load \"util\".\n",
    "\n",
    "let 1 + 1 = '1 + 1. -- quoted expression\n",
    "let 2 = eval('1 + 1). \n",
    "let 2 = 1 + 1.\n",
    "try\n",
    "    let 1 + 1 = 1 + 1.  -- throws an exception\n",
    "catch _ do\n",
    "    print \"1+1 pattern match failed\".\n",
    "end try\n",
    "\"\"\"\n",
    "interp(program)"
   ]
  },
  {
   "cell_type": "markdown",
   "metadata": {},
   "source": [
    "Asteroid supports pattern matching on function arguments in the style of ML and many other functional programming languages.\n",
    "    Below is the quick sort implemented in Asteroid as an example of this classic style pattern matching.  What is perhaps new is the `head-tail` operator being used in the last `orwith` clause.  Here the variable `pivot` matches the first element of the list and the variable `rest` matches the remaining list which is the original list with its first element removed.  We can  also see that the `+` operator symbols are overloaded operators in the standard model to act as a list concatenation operators in addition to arithmetic operators. What you also will notice is that function calls do not necessarily have to involve parentheses.  Function application is also expressed by simple juxtaposition in Asteroid.  For example, if `foobar` is a function then `foobar(a)` is a function call in Asteroid but so is `foobar a`.  The latter form of function call is used in the last line of the function `qsort` below."
   ]
  },
  {
   "cell_type": "code",
   "execution_count": 15,
   "metadata": {},
   "outputs": [
    {
     "name": "stdout",
     "output_type": "stream",
     "text": [
      "[0,1,2,3]\n"
     ]
    }
   ],
   "source": [
    "program =\\\n",
    "\"\"\"\n",
    "load \"standard\".\n",
    "load \"io\".\n",
    "\n",
    "function qsort\n",
    "    with [] do\n",
    "        return [].\n",
    "    orwith [a] do\n",
    "        return [a].\n",
    "    orwith [pivot|rest] do \n",
    "        let less=[].\n",
    "        let more=[].\n",
    "        \n",
    "        for e in rest do\n",
    "            if e < pivot do\n",
    "                let less = less + [e].\n",
    "            else\n",
    "                let more = more + [e].\n",
    "            end if\n",
    "        end for\n",
    "        \n",
    "        return qsort less + [pivot] + qsort more.\n",
    "    end function\n",
    "    \n",
    "-- print the sorted list\n",
    "print (qsort [3,2,1,0])\n",
    "\"\"\"\n",
    "interp(program)"
   ]
  },
  {
   "cell_type": "markdown",
   "metadata": {},
   "source": [
    "We can also introduce our own custom constructors and use them in pattern matching.  The program below implements [Peano addition](https://en.wikipedia.org/wiki/Peano_axioms#Addition) on terms using the two Peano axioms,\n",
    "```\n",
    "x + 0 = x\n",
    "x + S(y) = S(x+y)\n",
    "```\n",
    "Here `x` and `y` are variables, `0` represents the natural number with value zero, and `S` is the successor function.  In Peano arithmetic any natural number can be represented by the appropriate number of applications of the successor function to the natural number `0`. Here is the program, "
   ]
  },
  {
   "cell_type": "code",
   "execution_count": 16,
   "metadata": {},
   "outputs": [
    {
     "name": "stdout",
     "output_type": "stream",
     "text": [
      "S(S(S(S(S(0)))))\n"
     ]
    }
   ],
   "source": [
    "program =\\\n",
    "\"\"\"\n",
    "load \"io\".\n",
    "\n",
    "constructor S with arity 1.\n",
    "\n",
    "function reduce\n",
    "    with x + 0 do\n",
    "        return reduce(x).\n",
    "    orwith x + S(y) do\n",
    "        return S(reduce(x + y)).\n",
    "    orwith term do\n",
    "        return term.\n",
    "    end function\n",
    "\n",
    "print(reduce(S(S(0))+S(S(S(0))))). \n",
    "\"\"\"\n",
    "interp(program)"
   ]
  },
  {
   "cell_type": "markdown",
   "metadata": {},
   "source": [
    "Our program defines the constructor `S` to represent the successor function. Next, it defines a function that uses pattern matching to identify the left sides of the two axioms.  If either pattern matches the input to the `reduce` function it will activate the corresponding function body and rewrite the term recursively in an appropriate manner.  We have one additional pattern which matches if neither one of the Peano axiom patterns matches and terminates the recursion.  Finally,  on the last line, we use our `reduce` function to compute the Peano term for the addition of 2 + 3. As expected, the output of this program is,\n",
    "```\n",
    "S(S(S(S(S(0)))))\n",
    "```\n",
    "Observe that due to the fact that here we operate only in Asteroid's default term model, the `+` operator symbol was available to us as a constructor which allowed us to write the Peano addition in a very natural style."
   ]
  },
  {
   "cell_type": "markdown",
   "metadata": {},
   "source": [
    "## Pattern Matching in Control Structures"
   ]
  },
  {
   "cell_type": "markdown",
   "metadata": {},
   "source": [
    "Before we begin the discussion we need to introduce the `is` predicate  which is a built-in operator that takes the pattern on the right side and applies it to the subject term on the left side.  If there is a match the predicate will return `true` if not then it will return `false`.  Here is a snippet that illustrates the predicate,\n",
    "```\n",
    "let true = 1 + 2 is x + y.\n",
    "``` \n",
    "The subject term `1 + 2` is matched to the pattern `x + y` which of course will succeed with the variable bindings `x`  &#x21A6; `1` and `y` &#x21A6; `2`."
   ]
  },
  {
   "cell_type": "markdown",
   "metadata": {},
   "source": [
    "### Pattern Matching in `if` Statements "
   ]
  },
  {
   "cell_type": "markdown",
   "metadata": {},
   "source": [
    "In Asteroid an `if` statement consists of an `if` clause followed by zero or more `elif` clauses followed by an optional `else` clause.  The semantics of the `if` statement is fairly standard.  The `if` and `elif` clauses test the value of their corresponding expressions for the term `true` and execute their corresponding set of statements if it does evaluate to `true`.  If none of the expressions evaluate to `true` then the `else` clause is executed if present.\n",
    "\n",
    "In order to enable pattern matching in `if` statements we use the `is` predicate.  We can rewrite the `reduce` function from the above Peano arithmetic example using pattern matching in `if` statements as an illustration,\n",
    "```\n",
    "function reduce\n",
    "    with term do\n",
    "        if term is x + 0 do\n",
    "            return reduce(x).\n",
    "        elif term is x + S(y)  do\n",
    "            return S(reduce(x + y)).\n",
    "        else do\n",
    "            return term.\n",
    "        end if\n",
    "    end function\n",
    "```\n",
    "One thing to note is that the variable bindings of a successful pattern match are immediately available in the corresponding statements of the `if` or `elif` clause."
   ]
  },
  {
   "cell_type": "markdown",
   "metadata": {},
   "source": [
    "### Pattern Matching in `repeat-until` Loops"
   ]
  },
  {
   "cell_type": "markdown",
   "metadata": {},
   "source": [
    "Pattern matching in `while` loops follows a similar approach to pattern matching in `if` statements.  The `while` statement tests the evaluation of the loop expression and if it evaluates to the term `true` then the loop body is executed.  Again we use the `is` predicate to enable pattern matching in `while` loops.\n",
    "\n",
    "The example below shows a program that employs pattern matching using the head-tail operator in the `repeat-until` loop expression in order to iterate over a list and print the list elements.  Note the use of the `is` predicate to test whether the list is empty or not.  "
   ]
  },
  {
   "cell_type": "code",
   "execution_count": 17,
   "metadata": {},
   "outputs": [
    {
     "name": "stdout",
     "output_type": "stream",
     "text": [
      "1\n",
      "2\n",
      "3\n"
     ]
    }
   ],
   "source": [
    "program =\\\n",
    "'''\n",
    "load \"io\".\n",
    "\n",
    "let list = [1,2,3].\n",
    "\n",
    "repeat do\n",
    "    let [head|tail] = list. \n",
    "    print head.\n",
    "    let list = tail.\n",
    "until list is []. \n",
    "'''\n",
    "interp(program)"
   ]
  },
  {
   "cell_type": "markdown",
   "metadata": {},
   "source": [
    "### Pattern Matching in `for` Loops "
   ]
  },
  {
   "cell_type": "markdown",
   "metadata": {},
   "source": [
    "For completeness sake we have repeated here an example of a simple `for` from above,"
   ]
  },
  {
   "cell_type": "code",
   "execution_count": 18,
   "metadata": {},
   "outputs": [
    {
     "name": "stdout",
     "output_type": "stream",
     "text": [
      "turkey\n",
      "duck\n",
      "chicken\n"
     ]
    }
   ],
   "source": [
    "program = \\\n",
    "\"\"\"\n",
    "load \"standard\".\n",
    "load \"io\".\n",
    "\n",
    "for bird in [\"turkey\",\"duck\",\"chicken\"] do\n",
    "    print bird.\n",
    "end for\n",
    "\"\"\"\n",
    "interp(program)"
   ]
  },
  {
   "cell_type": "markdown",
   "metadata": {},
   "source": [
    "Turns out that in simple `for` loops such as the one above the loop variable is actually a pattern that gets matched to the list the loop iterates over.\n",
    "We can expand this simple pattern into a much more complicated pattern and do pattern matching while we are iterating.  This allows us to access substructures of the items being iterated over in a direct and succinct way.  The example below shows such a program.  The program constructs a list of `Person` structures that consist of a name and an age.  The `for` loop iterates over this list while pattern matching the `Person` constructor at each iteration binding the age variable to the appropriate value in the structure.  In the loop body it carries a running sum of the age values which it then uses to compute the average age of the persons on the list.  "
   ]
  },
  {
   "cell_type": "code",
   "execution_count": 19,
   "metadata": {},
   "outputs": [
    {
     "name": "stdout",
     "output_type": "stream",
     "text": [
      "Average Age: 33\n"
     ]
    }
   ],
   "source": [
    "program =\\\n",
    "'''\n",
    "load \"standard\".\n",
    "load \"io\".\n",
    "load \"util\".\n",
    "\n",
    "constructor Person with arity 2.\n",
    "\n",
    "let people = [ \n",
    "    Person(\"George\", 32),\n",
    "    Person(\"Sophie\", 46),\n",
    "    Person(\"Oliver\", 21)\n",
    "    ].\n",
    "    \n",
    "let n = length people.\n",
    "let sum = 0.\n",
    "\n",
    "for Person(_,age) in people do \n",
    "    let sum = sum + age.\n",
    "end for\n",
    "\n",
    "print (\"Average Age: \" + (sum/n)). \n",
    "'''\n",
    "interp(program)"
   ]
  },
  {
   "cell_type": "markdown",
   "metadata": {},
   "source": [
    "We can also use pattern matching in a `for` loop to select certain items from a list. Suppose we extend the `Person` structure of the program above with an additional field capturing the sex of a person.  The program below does just that.  That additional field is then used by the `for` loop to select only male members on the list and print out their names,"
   ]
  },
  {
   "cell_type": "code",
   "execution_count": 20,
   "metadata": {},
   "outputs": [
    {
     "name": "stdout",
     "output_type": "stream",
     "text": [
      "George\n",
      "Oliver\n"
     ]
    }
   ],
   "source": [
    "program =\\\n",
    "'''\n",
    "load \"io\".\n",
    "\n",
    "constructor Person with arity 3.\n",
    "\n",
    "let people = [\n",
    "    Person(\"George\", 32, \"M\"),\n",
    "    Person(\"Sophie\", 46, \"F\"),\n",
    "    Person(\"Oliver\", 21, \"M\")\n",
    "    ].\n",
    "    \n",
    "for Person(name,_,\"M\") in people do \n",
    "    print name.\n",
    "end for\n",
    "'''\n",
    "interp(program)"
   ]
  },
  {
   "cell_type": "markdown",
   "metadata": {},
   "source": [
    "### Pattern Matching in `try-catch` Statements"
   ]
  },
  {
   "cell_type": "markdown",
   "metadata": {},
   "source": [
    "Exception handling in Asteroid is very similar to exception handling in many of the other modern programming language available today.  The example below shows an Asteroid program that performs basic exception handling.  It attempts a division by zero which will throw an exception.  The exception is caught by the `catch` clause  and its value is printed to the terminal.  "
   ]
  },
  {
   "cell_type": "code",
   "execution_count": 21,
   "metadata": {},
   "outputs": [
    {
     "name": "stdout",
     "output_type": "stream",
     "text": [
      "(Exception,integer division or modulo by zero)\n"
     ]
    }
   ],
   "source": [
    "program =\\\n",
    "'''\n",
    "load \"io\".\n",
    "load \"standard\".\n",
    "\n",
    "try\n",
    "    let i = 10/0. \n",
    "    print i.\n",
    "catch e do \n",
    "    print e. \n",
    "end try\n",
    "'''\n",
    "interp(program)"
   ]
  },
  {
   "cell_type": "markdown",
   "metadata": {},
   "source": [
    "By default, exceptions in Asteroid are pairs where the first component is an exception specifier and the second component is the value of the exception. In Asteroid we can pattern match on the structure of exceptions in the `catch` clause.  The example below shows the same program from above where the `catch` clause  has been modified to match the structure on the exception explicitly.  Here we pattern match on the exception specifier and print out the value of the exception.  "
   ]
  },
  {
   "cell_type": "code",
   "execution_count": 22,
   "metadata": {},
   "outputs": [
    {
     "name": "stdout",
     "output_type": "stream",
     "text": [
      "integer division or modulo by zero\n"
     ]
    }
   ],
   "source": [
    "program =\\\n",
    "'''\n",
    "load \"io\".\n",
    "load \"standard\".\n",
    "\n",
    "try\n",
    "    let i = 10/0.\n",
    "    print i.\n",
    "catch (\"Exception\", v) do \n",
    "    print v.  \n",
    "end try\n",
    "'''\n",
    "interp(program)"
   ]
  },
  {
   "cell_type": "markdown",
   "metadata": {},
   "source": [
    "The structure of the exceptions as shown in the previous examples are by convention only and all internally generated exceptions in Asteroid follow that convention.  However, there is nothing to prevent the user from creating their own exception structures and objects and pattern match on them in  `catch` clauses.  The example below shows a program that throws an exception using the `MyException` constructor.  That exception structure is pattern matched in the `catch` clause and its value is printed to the terminal.  "
   ]
  },
  {
   "cell_type": "code",
   "execution_count": 23,
   "metadata": {},
   "outputs": [
    {
     "name": "stdout",
     "output_type": "stream",
     "text": [
      "Hello There!\n"
     ]
    }
   ],
   "source": [
    "program =\\\n",
    "'''\n",
    "load \"io\".\n",
    "\n",
    "constructor MyException with arity 1.\n",
    "\n",
    "try\n",
    "    throw MyException(\"Hello There!\").\n",
    "catch MyException(v) do\n",
    "    print v. \n",
    "end try\n",
    "'''\n",
    "interp(program)"
   ]
  },
  {
   "cell_type": "markdown",
   "metadata": {},
   "source": [
    "## Object-Oriented Programming and Pattern Matching"
   ]
  },
  {
   "cell_type": "markdown",
   "metadata": {},
   "source": [
    "We introduce Asteroid's objects using the dog example from the [Python documentation](https://docs.python.org/3/tutorial/classes.html).  The code below shows that Python example translated into Asteroid.  Asteroid's object system is prototype based.  Classes are introduced with the `class` keyword and the class name serves as a new type. The class name itself also serves as a constructor call in order to instantiate new objects.\n",
    "Asteroid generates an implicit object reference as the first argument to the called function.  Notice that at the call site  we only provide a single argument whereas the function definition has two arguments; the first one capturing the object reference.\n"
   ]
  },
  {
   "cell_type": "code",
   "execution_count": 24,
   "metadata": {},
   "outputs": [
    {
     "name": "stdout",
     "output_type": "stream",
     "text": [
      "Fido: [roll over,play dead]\n",
      "Buddy: [roll over,sit stay]\n"
     ]
    }
   ],
   "source": [
    "program = \\\n",
    "'''\n",
    "load \"standard\".\n",
    "load \"io\".\n",
    "load \"util\".\n",
    "\n",
    "class Dog with\n",
    "\n",
    "  data name = \"\".\n",
    "  data tricks = [].\n",
    "\n",
    "  function add_trick\n",
    "    with (self,new_trick) do\n",
    "      let self@tricks = self@tricks + [new_trick].\n",
    "    end function\n",
    "    \n",
    "  function __init__\n",
    "    with (self,name) do \n",
    "      let self@name = name.\n",
    "    end function\n",
    "    \n",
    "  end class\n",
    "\n",
    "-- Fido the dog\n",
    "let fido = Dog(\"Fido\").\n",
    "fido@add_trick(\"roll over\").\n",
    "fido@add_trick(\"play dead\").\n",
    "\n",
    "-- Buddy the dog\n",
    "let buddy = Dog(\"Buddy\").\n",
    "buddy@add_trick(\"roll over\").\n",
    "buddy@add_trick(\"sit stay\").\n",
    "\n",
    "-- print out the tricks\n",
    "print (\"Fido: \" + fido@tricks).\n",
    "print (\"Buddy: \" + buddy@tricks).\n",
    "'''\n",
    "interp(program)"
   ]
  },
  {
   "cell_type": "markdown",
   "metadata": {},
   "source": [
    "In order to demonstrate pattern matching with objects we added a third dog and added a list of dogs to our program. The resulting program below shows this and we also added code that iterates over the list of the dogs and prints out the names of the dogs whose first trick is `roll over`.  The filtering of the objects on the list is done via pattern matching in the `for` loop."
   ]
  },
  {
   "cell_type": "code",
   "execution_count": 25,
   "metadata": {},
   "outputs": [
    {
     "name": "stdout",
     "output_type": "stream",
     "text": [
      "Fido does roll over\n",
      "Buddy does roll over\n"
     ]
    }
   ],
   "source": [
    "program =\\\n",
    "'''\n",
    "load \"standard\".\n",
    "load \"io\".\n",
    "load \"util\".\n",
    "\n",
    "class Dog with\n",
    "\n",
    "  data name = \"\".\n",
    "  data tricks = [].\n",
    "\n",
    "  function add_trick\n",
    "    with (self,new_trick) do\n",
    "      let self@tricks = self@tricks + [new_trick].\n",
    "    end function\n",
    "    \n",
    "  function __init__\n",
    "    with (self,name) do \n",
    "      let self@name = name.\n",
    "    end function\n",
    "    \n",
    "  end class\n",
    "\n",
    "-- Fido the dog\n",
    "let fido = Dog(\"Fido\").\n",
    "fido@add_trick(\"roll over\").\n",
    "fido@add_trick(\"play dead\").\n",
    "\n",
    "-- Buddy the dog\n",
    "let buddy = Dog(\"Buddy\").\n",
    "buddy@add_trick(\"roll over\").\n",
    "buddy@add_trick(\"sit stay\").\n",
    "\n",
    "-- Fifi the dog\n",
    "let fifi = Dog(\"Fifi\").\n",
    "fifi@add_trick(\"sit stay\").\n",
    "\n",
    "-- print out all the names of dogs\n",
    "-- whose first trick is 'roll over'.\n",
    "let dogs = [fido, buddy, fifi]. \n",
    "\n",
    "for Dog(name, [\"roll over\"|_], _, _) in dogs do\n",
    "  print (name + \" does roll over\").\n",
    "end for\n",
    "\n",
    "'''\n",
    "interp(program)"
   ]
  },
  {
   "cell_type": "markdown",
   "metadata": {},
   "source": [
    "There is an elegant way of rewriting the last part of the code of the above example using the fact that in Asteroid patterns are first class citizens.  In the program below we associate our pattern with the variable `dog`. The quote at the beginning of the pattern is necessary otherwise Asteroid will try to dereference the variable `name` as well as the anonymous variables `_`. We use the pattern associated with `dog` in the `for` loop in order to filter the objects on the list. The `*` operator is necessary in order to tell Asteroid to use the pattern associated with the variable `dog` rather than using the variable itself as a pattern."
   ]
  },
  {
   "cell_type": "code",
   "execution_count": 26,
   "metadata": {},
   "outputs": [
    {
     "name": "stdout",
     "output_type": "stream",
     "text": [
      "Fido does roll over\n",
      "Buddy does roll over\n"
     ]
    }
   ],
   "source": [
    "program =\\\n",
    "'''\n",
    "load \"standard\".\n",
    "load \"io\".\n",
    "load \"util\".\n",
    "\n",
    "class Dog with\n",
    "\n",
    "  data name = \"\".\n",
    "  data tricks = [].\n",
    "\n",
    "  function add_trick\n",
    "    with (self,new_trick) do\n",
    "      let self@tricks = self@tricks + [new_trick].\n",
    "    end function\n",
    "    \n",
    "  function __init__\n",
    "    with (self,name) do \n",
    "      let self@name = name.\n",
    "    end function\n",
    "    \n",
    "  end class\n",
    "\n",
    "-- Fido the dog\n",
    "let fido = Dog(\"Fido\").\n",
    "fido@add_trick(\"roll over\").\n",
    "fido@add_trick(\"play dead\").\n",
    "\n",
    "-- Buddy the dog\n",
    "let buddy = Dog(\"Buddy\").\n",
    "buddy@add_trick(\"roll over\").\n",
    "buddy@add_trick(\"sit stay\").\n",
    "\n",
    "-- Fifi the dog\n",
    "let fifi = Dog(\"Fifi\").\n",
    "fifi@add_trick(\"sit stay\").\n",
    "\n",
    "-- print out all the names of dogs\n",
    "-- whose first trick is 'roll over'.\n",
    "let dogs = [fido, buddy, fifi]. \n",
    "\n",
    "-- define our pattern\n",
    "let dog = 'Dog(name, [\"roll over\"|_], _, _).\n",
    "\n",
    "-- iterate over dogs applying our pattern\n",
    "-- only if the pattern match is successful will the loop body be executed\n",
    "for *dog in dogs do \n",
    "  print (name + \" does roll over\").\n",
    "end for\n",
    "'''\n",
    "interp(program)"
   ]
  },
  {
   "cell_type": "markdown",
   "metadata": {},
   "source": [
    "## Patterns as First Class Citizens"
   ]
  },
  {
   "cell_type": "markdown",
   "metadata": {},
   "source": [
    "We have shown in the above program that patterns can be associated with and dereferenced from variables.  The program below illustrates that we can also pass patterns to functions where they can be used for pattern matching.  Here we define a function `match` that expects a subject term and a pattern.  It proceeds to pattern match the subject term to the pattern using the `is` predicate and returns whatever the predicate returns.  Observe the `*` operator in front of the `pattern` variable stating that we want to use the pattern associated with that variable.  In the program we call the function `match` with subject term `1+1` and pattern `_+_`.  "
   ]
  },
  {
   "cell_type": "code",
   "execution_count": 27,
   "metadata": {},
   "outputs": [
    {
     "name": "stdout",
     "output_type": "stream",
     "text": [
      "true\n"
     ]
    }
   ],
   "source": [
    "program =\\\n",
    "'''\n",
    "load \"io\".\n",
    "\n",
    "function match with (subject,pattern) do\n",
    "    return subject is *pattern.\n",
    "end function\n",
    "    \n",
    "print (match(1+1, '_+_)). \n",
    "'''\n",
    "interp(program)"
   ]
  },
  {
   "cell_type": "markdown",
   "metadata": {},
   "source": [
    "We can also construct patterns on-the-fly as shown below.  Here we construct two subpatterns `cl` and `cr`.  These two subpatterns are used to construct the full pattern `p` when the pattern is evaluated during a pattern match. Finally, we check whether our pattern is assembled correctly on last line.  The output of the program is `true` meaning our pattern has the same structure as the subject term `1+2+3`."
   ]
  },
  {
   "cell_type": "code",
   "execution_count": 28,
   "metadata": {},
   "outputs": [
    {
     "name": "stdout",
     "output_type": "stream",
     "text": [
      "true\n"
     ]
    }
   ],
   "source": [
    "program =\\\n",
    "'''\n",
    "load \"io\".\n",
    "\n",
    "let cl = '_ + _. \n",
    "let cr = '3.\n",
    "let p = cl + cr.\n",
    "\n",
    "print (1+2+3 is *p).\n",
    "'''\n",
    "interp(program)"
   ]
  },
  {
   "cell_type": "markdown",
   "metadata": {},
   "source": [
    "With Asteroid's ability to manipulate patterns we can rewrite the Peano addition program from above.  In the rewritten version below the pertinent Peano axioms are stored as rules in a rule table which the program will access during execution.   Our two Peano axioms appear as rules in the rule table.  Note that each rule is written as a pair where the first component is the left side of the corresponding rule and the second component is the right side of the corresponding rule.  The left sides of the rules represent the patterns that need to match the subject term and therefore it is not surprising that they are written as quoted expressions.  We also need to write the right sides of the rules as quoted expressions because we want to delay their evaluations until their corresponding patterns have matched an appropriate subject term.\n",
    "\n",
    "The function `reduce` searches through the rule table for a match to the current subject term `term`.  If a match is found the corresponding right side of the rule is evaluated.  If no match is found then the term is returned unmodified.  The output of the program is of course the Peano term `S(S(S(S(S(0)))))`."
   ]
  },
  {
   "cell_type": "code",
   "execution_count": 29,
   "metadata": {},
   "outputs": [
    {
     "name": "stdout",
     "output_type": "stream",
     "text": [
      "S(S(S(S(S(0)))))\n"
     ]
    }
   ],
   "source": [
    "program =\\\n",
    "'''\n",
    "load \"standard\".\n",
    "load \"util\".\n",
    "load \"io\".\n",
    "\n",
    "detach from __plus__ . -- '+' is now a constructor\n",
    "constructor S with arity 1.\n",
    "\n",
    "let rule_table = [ \n",
    "    ('x + 0,    'reduce(x)), \n",
    "    ('x + S(y), 'S(reduce(x + y))) \n",
    "    ].\n",
    "\n",
    "function reduce with term do\n",
    "    for i in 0 to length(rule_table) - 1 do\n",
    "        let (lhs, rhs) = rule_table@i.\n",
    "        if term is *lhs do\n",
    "            return eval(rhs).\n",
    "        end if\n",
    "    end for\n",
    "    return term.\n",
    "end function\n",
    "\n",
    "print (reduce('S(S(0)) + S(S(S(0))))).\n",
    "'''\n",
    "interp(program)"
   ]
  },
  {
   "cell_type": "markdown",
   "metadata": {},
   "source": [
    "## Advanced Model Manipulation"
   ]
  },
  {
   "cell_type": "markdown",
   "metadata": {},
   "source": [
    "Here we look at a couple of examples involving interesting aspects of model manipulation in Asteroid. The first program shows how straight forward it is to switch between constructor interpretations in Asteroid.  We define a constructor `S` and an increment function `inc`.  We then continue to print out the value of the term `S(S(S(0)))` which will print exactly the same way on the output because `S` is a constructor. Next, we attach the `inc` function as an interpretation to the constructor `S`. We then continue to print out the value of the same term `S(S(S(0)))`. However, now `S` has an interpretation as an increment function so the value printed to the output is the value three.  Next,  we detach the `inc` function from the constructor and then print the same term again.  Since at this point `S` is again just a constructor the output generated is `S(S(S(0)))`."
   ]
  },
  {
   "cell_type": "code",
   "execution_count": 30,
   "metadata": {},
   "outputs": [
    {
     "name": "stdout",
     "output_type": "stream",
     "text": [
      "S(S(S(0)))\n",
      "3\n",
      "S(S(S(0)))\n"
     ]
    }
   ],
   "source": [
    "program =\\\n",
    "'''\n",
    "load \"standard\".\n",
    "load \"io\".\n",
    "\n",
    "constructor S with arity 1.\n",
    "\n",
    "function inc with n do\n",
    "    return 1 + n.\n",
    "end function\n",
    "\n",
    "-- switching constructor interpretations\n",
    "print (S(S(S(0)))).\n",
    "\n",
    "attach inc to S. \n",
    "print (S(S(S(0)))).\n",
    "\n",
    "detach from S. \n",
    "print (S(S(S(0)))). \n",
    "'''\n",
    "interp(program)"
   ]
  },
  {
   "cell_type": "markdown",
   "metadata": {},
   "source": [
    "In the next example we show that models do not always have to compute values.  Instead we can interpret one structure with another.  Observe that in this example we do not load the standard model and only work in the default term model.  We  define our by now familiar constructor `S` and an increment function `inc` . Because we did not load the standard model the `inc` function returns a structure rather than a value (`+` is treated as a constructor).  We print out the interpretation of the term structure `S(S(S(0)))` which under the default term model is just the structure `S(S(S(0)))`.  Next we attach the function `inc` as an interpretation to the constructor `S`. We again print out the interpretation of term `S(S(S(0)))`.  In this case, because `S` now has an interpretation, the interpretation is the structure,\n",
    "```\n",
    "__plus__(1,__plus__(1,__plus__(1,0)))\n",
    "```\n",
    "Here we can see that we interpreted one structure with another. "
   ]
  },
  {
   "cell_type": "code",
   "execution_count": 31,
   "metadata": {},
   "outputs": [
    {
     "name": "stdout",
     "output_type": "stream",
     "text": [
      "S(S(S(0)))\n",
      "__plus__(1,__plus__(1,__plus__(1,0)))\n"
     ]
    }
   ],
   "source": [
    "program =\\\n",
    "'''\n",
    "load \"io\".\n",
    "\n",
    "constructor S with arity 1.\n",
    "\n",
    "function inc with n do\n",
    "    return 1 + n.\n",
    "end function\n",
    "\n",
    "print (S(S(S(0)))).\n",
    "\n",
    "attach inc to S. \n",
    "print (S(S(S(0)))).\n",
    "'''\n",
    "interp(program)"
   ]
  },
  {
   "cell_type": "markdown",
   "metadata": {},
   "source": [
    "Over the course of the previous discussions we have seen plenty of instances where we replaced one Asteroid model with another by using the appropriate `attach` and `detach` commands to manipulate the interpretation of constructors.  What is perhaps not so obvious is that we can also create overloaded models, that is, models where constructors have more than one interpretation. The example below shows a program that creates an overloaded model for the `*` operator.  Here we start by loading the standard model.  Note that in the standard model the interpretation for the `*` operator is the `mult_op` function from the `math` module.  Next we define a function that recursively computes the dot product of two vectors.  We define the function `mult_op_overloaded` that will serve as the new interpretation for the `*` operator.  This function performs one of two computations depending on the type of its arguments.  If the arguments are vectors/lists then it will compute the dot product of the two vectors otherwise it will compute the multiplication of two scalars using the `mult_op` function.  We replace the original interpretation of the `*` operator with our new overloaded interpretation by first detaching the original interpration and then attaching our new interpretation.  Observe that this new model preserves the original interpration of the `*` operator if the arguments are not vectors.  "
   ]
  },
  {
   "cell_type": "code",
   "execution_count": 32,
   "metadata": {},
   "outputs": [
    {
     "name": "stdout",
     "output_type": "stream",
     "text": [
      "[2,2,2]*[2,2,2]=12\n",
      "2*2=4\n"
     ]
    }
   ],
   "source": [
    "program =\\\n",
    "'''\n",
    "load \"math\". -- defines mult_op\n",
    "load \"standard\".\n",
    "load \"io\".\n",
    "load \"util\".\n",
    "\n",
    "function dot_op \n",
    "    with ([a],[b]) do\n",
    "        return mult_op(a,b).\n",
    "    orwith ([h1|t1],[h2|t2]) do\n",
    "        return mult_op(h1,h2) + dot_op(t1,t2).\n",
    "    end function\n",
    "    \n",
    "function mult_op_overloaded\n",
    "    with (v1,v2) do\n",
    "        if is_list(v1) and is_list(v2) do\n",
    "            -- one interpretation\n",
    "            return dot_op(v1,v2).\n",
    "        else do\n",
    "            -- another interpretation\n",
    "            return mult_op(v1,v2).\n",
    "        end if\n",
    "    end function\n",
    "\n",
    "detach from __times__. \n",
    "attach  mult_op_overloaded to __times__. \n",
    "\n",
    "print (\"[2,2,2]*[2,2,2]=\"+[2,2,2]*[2,2,2]).\n",
    "print (\"2*2=\" + 2*2).\n",
    "'''\n",
    "interp(program)"
   ]
  },
  {
   "cell_type": "markdown",
   "metadata": {},
   "source": [
    "## Escaping Asteroid"
   ]
  },
  {
   "cell_type": "markdown",
   "metadata": {},
   "source": [
    "The Asteroid interpreter is written in Python and the `escape` expression gives the user full access to the Python ecosystem from within Asteroid code.  In particular it gives the user access to the intperpreter internals making it easy to write interpreter extensions.  The following example shows one way to incorporate graphics into Asteroid programs,"
   ]
  },
  {
   "cell_type": "code",
   "execution_count": 33,
   "metadata": {},
   "outputs": [
    {
     "data": {
      "image/png": "[encoded data removed]",
      "text/plain": [
       "<matplotlib.figure.Figure at 0x105bf9278>"
      ]
     },
     "metadata": {},
     "output_type": "display_data"
    }
   ],
   "source": [
    "program = \\\n",
    "'''\n",
    "function circle with (x, y, r) do escape\n",
    "\"\n",
    "from asteroid_state import state\n",
    "\n",
    "# get the function parameters from the symbol table\n",
    "vx = float(state.symbol_table.lookup_sym('x')[1])\n",
    "vy = float(state.symbol_table.lookup_sym('y')[1])\n",
    "vr = float(state.symbol_table.lookup_sym('r')[1])\n",
    "\n",
    "# plot the circle at (vx,vy) with radius vr\n",
    "import matplotlib.pyplot as plt\n",
    "\n",
    "circle = plt.Circle((vx, vy), vr, color='blue')\n",
    "fig, ax = plt.subplots()\n",
    "ax.add_artist(circle)\n",
    "plt.show()\n",
    "\"\n",
    "end function\n",
    "\n",
    "-- call the escaped function\n",
    "circle(.5, .5, .2)\n",
    "'''\n",
    "interp(program)"
   ]
  },
  {
   "cell_type": "markdown",
   "metadata": {},
   "source": [
    "Asteroid's `math` module is implemented using escaped code.  For example addition is implemented with the following function,"
   ]
  },
  {
   "cell_type": "code",
   "execution_count": 34,
   "metadata": {},
   "outputs": [
    {
     "name": "stdout",
     "output_type": "stream",
     "text": [
      "3.1\n"
     ]
    }
   ],
   "source": [
    "program =\\\n",
    "'''\n",
    "function add_op with (a, b) do return escape \n",
    "\"\n",
    "global __retval__ # Asteroid return value register\n",
    "from asteroid_support import promote\n",
    "from asteroid_support import term2string\n",
    "from asteroid_state import state\n",
    "\n",
    "# lookup the function parameters\n",
    "# values in Asteroid are pairs: (<type>, <value>)\n",
    "val_a = state.symbol_table.lookup_sym('a')\n",
    "val_b = state.symbol_table.lookup_sym('b')\n",
    "\n",
    "# do the apropriate type promotions for the addition operator\n",
    "type = promote(val_a[0], val_b[0])\n",
    "\n",
    "# overloaded addition\n",
    "if type in ['integer', 'real', 'list', 'boolean']:\n",
    "    __retval__ = (type, val_a[1] + val_b[1])\n",
    "\n",
    "elif type == 'string':\n",
    "    __retval__ = (type, term2string(val_a) + term2string(val_b))\n",
    "\n",
    "else:\n",
    "    raise ValueError('unsupported type {} in +'.format(type))\n",
    "\"     \n",
    "end function\n",
    "\n",
    "load \"io\".\n",
    "print (add_op(1, 2.1)).\n",
    "'''\n",
    "interp(program)"
   ]
  },
  {
   "cell_type": "markdown",
   "metadata": {},
   "source": [
    "This function nicely highlights how to use some of the internals of the Asteroid interpreter in order to implement arithmetic operations.  Note that values are returned from escaped code via the `__retval__` register."
   ]
  },
  {
   "cell_type": "markdown",
   "metadata": {},
   "source": [
    "## Asteroid I/O"
   ]
  },
  {
   "cell_type": "markdown",
   "metadata": {},
   "source": [
    "The Asteroid I/O module currently implements three functions:\n",
    "\n",
    "**Print** is a function that prints its argument in a readable form to the terminal.  Remember that under the standard model the `+` operator also implements string concatenation.  This allows us to construct nicely formatted output strings,"
   ]
  },
  {
   "cell_type": "code",
   "execution_count": 35,
   "metadata": {},
   "outputs": [
    {
     "name": "stdout",
     "output_type": "stream",
     "text": [
      "a + b = 3\n"
     ]
    }
   ],
   "source": [
    "program =\\\n",
    "'''\n",
    "load \"standard\".\n",
    "load \"io\".\n",
    "\n",
    "let a = 1.\n",
    "let b = 2.\n",
    "print (\"a + b = \" + (a + b)).\n",
    "'''\n",
    "interp(program)"
   ]
  },
  {
   "cell_type": "markdown",
   "metadata": {},
   "source": [
    "**Input** is a function that given a prompt string will prompt the user at the terminal and return the input value as a string.  Here is a small example,"
   ]
  },
  {
   "cell_type": "code",
   "execution_count": 36,
   "metadata": {},
   "outputs": [
    {
     "name": "stdout",
     "output_type": "stream",
     "text": [
      "What is your name? Fred\n",
      "Hello Fred!\n"
     ]
    }
   ],
   "source": [
    "program =\\\n",
    "'''\n",
    "load \"standard\".\n",
    "load \"io\".\n",
    "\n",
    "let name = input(\"What is your name? \").\n",
    "print (\"Hello \" + name + \"!\").\n",
    "'''\n",
    "interp(program)"
   ]
  },
  {
   "cell_type": "markdown",
   "metadata": {},
   "source": [
    "We can use the type casting functions such as `integer` or `real` to convert the string returned from `input` into a numeric value,"
   ]
  },
  {
   "cell_type": "code",
   "execution_count": 37,
   "metadata": {},
   "outputs": [
    {
     "name": "stdout",
     "output_type": "stream",
     "text": [
      "Please enter a positive integer value: 5\n",
      "1\n",
      "2\n",
      "3\n",
      "4\n",
      "5\n"
     ]
    }
   ],
   "source": [
    "program =\\\n",
    "'''\n",
    "load \"standard\".\n",
    "load \"io\".\n",
    "load \"util\".\n",
    "\n",
    "let i = integer(input(\"Please enter a positive integer value: \")).\n",
    "\n",
    "if i < 0 do\n",
    "    throw (\"Exception\", \"I want a positive integer value.\").\n",
    "end if\n",
    "\n",
    "for k in 1 to i do\n",
    "    print k.\n",
    "end for\n",
    "'''\n",
    "interp(program)"
   ]
  },
  {
   "cell_type": "markdown",
   "metadata": {},
   "source": [
    "**Raw_print** is a function similar to **print** except that it outputs Asteroid's internal term structure for the given argument,"
   ]
  },
  {
   "cell_type": "code",
   "execution_count": 38,
   "metadata": {},
   "outputs": [
    {
     "name": "stdout",
     "output_type": "stream",
     "text": [
      "('string', 'a + b = 3')\n"
     ]
    }
   ],
   "source": [
    "program =\\\n",
    "'''\n",
    "load \"standard\".\n",
    "load \"io\".\n",
    "\n",
    "let a = 1.\n",
    "let b = 2.\n",
    "raw_print (\"a + b = \" + (a + b)).\n",
    "'''\n",
    "interp(program)"
   ]
  },
  {
   "cell_type": "markdown",
   "metadata": {},
   "source": [
    "Try the above program with the `standard` model commented out.  In that case none of the `+` operation will be performed because here `+` is now considered a constructor."
   ]
  },
  {
   "cell_type": "markdown",
   "metadata": {},
   "source": [
    "## The Module System"
   ]
  },
  {
   "cell_type": "markdown",
   "metadata": {},
   "source": [
    "A module in Asteroid is a file with a set of valid Asteroid statements.  You can include this file into other Asteroid code with the `load \"<filename>\".` statement.  In the current version of Asteroid modules do not have a separate name space, symbols from a module are entered into Asteroid's global name space."
   ]
  },
  {
   "cell_type": "markdown",
   "metadata": {},
   "source": [
    "The search strategy for a module to be loaded is as follows,\n",
    "1. raw module name - could be an absolute path\n",
    "1. search in current directory (path[1])\n",
    "1. search in directory where Asteroid is installed (path[0])\n",
    "1. search in subdirectory where Asteroid was started\n"
   ]
  },
  {
   "cell_type": "code",
   "execution_count": null,
   "metadata": {
    "collapsed": true
   },
   "outputs": [],
   "source": []
  }
 ],
 "metadata": {
  "kernelspec": {
   "display_name": "Python 3",
   "language": "python",
   "name": "python3"
  },
  "language_info": {
   "codemirror_mode": {
    "name": "ipython",
    "version": 3
   },
   "file_extension": ".py",
   "mimetype": "text/x-python",
   "name": "python",
   "nbconvert_exporter": "python",
   "pygments_lexer": "ipython3",
   "version": "3.7.6"
  }
 },
 "nbformat": 4,
 "nbformat_minor": 2
}

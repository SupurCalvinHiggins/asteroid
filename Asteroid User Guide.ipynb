{
 "cells": [
  {
   "cell_type": "markdown",
   "metadata": {},
   "source": [
    "# Asteroid User Guide"
   ]
  },
  {
   "cell_type": "markdown",
   "metadata": {},
   "source": [
    "Asteroid is a multi-paradigm programming language that makes pattern matching one of its core computational mechanisms.  This is often called *pattern-matching oriented programming*."
   ]
  },
  {
   "cell_type": "markdown",
   "metadata": {},
   "source": [
    "In this document we describe the major features of Asteroid and give plenty of examples.  For the most part Asteroid should appear very familiar.  However, there are some features which differ drastically from other programming languages.  Here are just two:\n",
    "\n",
    "1. All statements that look like assignments are actually pattern-match statements.  For example if I state,\n",
    "```\n",
    "let [x,2,y] = [1,2,3].\n",
    "```\n",
    "that means the subject term `[1,2,3]` is matched to the pattern `[x,2,y]` and `x` and `y` are bound to the values 1 and 3, respectively.  By the way, there is nothing wrong with this statement,\n",
    "```\n",
    "let [1,2,3] = [1,2,3].\n",
    "```\n",
    "which is just another pattern match without any variable instantiation.\n",
    "\n",
    "2. Asteroid allows for list slicing.  Consider the example,\n",
    "```\n",
    "let a = [1,2,3].\n",
    "let b = a @1. -- access element 1\n",
    "println b.\n",
    "```\n",
    "The result of executing this program would be that the value `2` is printed to the screen.  On the other hand the program,\n",
    "```\n",
    "let a = [1,2,3].\n",
    "let b = a @[1]. -- access element 1 and return it in a list\n",
    "println b.\n",
    "```\n",
    "would print the value `[2]`.  We can take advantage of this capability to reverse the list `a` with a simple indexing operation using a list of indexes,\n",
    "```\n",
    "let a = [1,2,3].\n",
    "let b = a @[2,1,0]. -- reverse list a\n",
    "println b.\n",
    "```"
   ]
  },
  {
   "cell_type": "markdown",
   "metadata": {},
   "source": [
    "Let's import the Asteroid interpreter so we can run Asteroid programs in this notebook.  Be sure that you are running Jupyter with Python 3.x."
   ]
  },
  {
   "cell_type": "code",
   "execution_count": 1,
   "metadata": {},
   "outputs": [],
   "source": [
    "# let the notebook access the code folder\n",
    "import sys\n",
    "sys.path.insert(1,\"code\")\n",
    "\n",
    "from asteroid_interp import interp "
   ]
  },
  {
   "cell_type": "markdown",
   "metadata": {},
   "source": [
    "Asteroid is implemented in Python.  In this notebook we represent programs as strings so that we can execute them with the `interp` function right here in the notebook. Asteroid also supports calling the interpreter from the command line (see the [Installing and Running](Installing and Running.ipynb) document)."
   ]
  },
  {
   "cell_type": "markdown",
   "metadata": {},
   "source": [
    "## The Basics"
   ]
  },
  {
   "cell_type": "markdown",
   "metadata": {},
   "source": [
    "As with most languages we are familiar with Asteroid has **variables** (alpha-numeric symbols starting with an alpha character) and **constants**.  Constants are available for all the **primitive data types**:\n",
    "\n",
    "* `integer`\n",
    "* `real`\n",
    "* `string`\n",
    "* `boolean`\n",
    "\n",
    "Asteroid arranges these data types in a **type hierarchy** in order to facilitate automatic type promotion:\n",
    "\n",
    "`boolean` < `integer` < `real` < `string`\n",
    "\n",
    "Asteroid supports two more data types: \n",
    "\n",
    "* `list`\n",
    "* `tuple`\n",
    "\n",
    "These are **structured data types** in that they can contain entities of other data types. Both of these data types have the probably familiar constructors which are possibly empty squence of comma separated values enclosed by square brackets for lists and enclosed by parentheses for tuples. For tuples we have the caveat that the 1-tuple is represented by a value followed by a comma to distinguish it from parenthesized expressions, e.g.`(<something>,)`. Furthermore, the null-tuple `()` actually belongs to a different data type as we will see below.\n",
    "Here are some examples,\n",
    "```\n",
    "let a = [1,2,3].  -- this is a list\n",
    "let c = (1,2,3).  -- this is a tuple\n",
    "```\n",
    "In order to distinguish it from a parenthesized value the single element in a 1-tuple has to be followed by a comma, like so,\n",
    "```\n",
    "let one_tuple = (1,).  -- this is a 1-tuple\n",
    "```\n",
    "Lists and tuples themselves are also embedded in type hierarchies, although very simple ones:\n",
    "\n",
    "* `list` < `string`\n",
    "* `tuple` < `string`\n",
    "\n",
    "That is, any list or tuple can be viewed as a string.  This is very convenient for printing lists and tuples.\n",
    "\n",
    "Finally, Asteroid supports one more type, namely the `none` type.  The `none` type has a constant named conveniently `none`.  As mentioned above, the null-tuple is of this type and therefore the constant `()` can often be used as a convenient short hand for the constant `none`.  The `none` data type does not belong to any type hierarchy."
   ]
  },
  {
   "cell_type": "markdown",
   "metadata": {},
   "source": [
    "By now you probably figured out that statements are terminated with a period and that comments start with a `--` symbol and continue till the end of the line.  You probably also figured out that the `let` statement is Asteroid's version of assignment even though the underlying mechanism is a bit different."
   ]
  },
  {
   "cell_type": "markdown",
   "metadata": {},
   "source": [
    "## Data Structures"
   ]
  },
  {
   "cell_type": "markdown",
   "metadata": {},
   "source": [
    "### Lists"
   ]
  },
  {
   "cell_type": "markdown",
   "metadata": {},
   "source": [
    "In Asteroid the `list` is the fundamental, built-in data structure.  A trait it shares with programming languages such as Lisp, Python, ML, and Prolog.  Below is the list reversal example from above as an executable Asteroid program. So go ahead and experiment!"
   ]
  },
  {
   "cell_type": "code",
   "execution_count": 2,
   "metadata": {},
   "outputs": [
    {
     "name": "stdout",
     "output_type": "stream",
     "text": [
      "[3,2,1]\n"
     ]
    }
   ],
   "source": [
    "program = \\\n",
    "\"\"\"\n",
    "load \"io\".          -- load the io module so we can print\n",
    "\n",
    "let a = [1,2,3].    -- construct list a\n",
    "let b = a @[2,1,0].  -- reverse list a\n",
    "println b.\n",
    "\"\"\"\n",
    "interp(program)"
   ]
  },
  {
   "cell_type": "markdown",
   "metadata": {},
   "source": [
    "As we have seen the `@` operator allows you to access either individual elements or slices of a list.  We can also use **list comprehensions** to construct lists,"
   ]
  },
  {
   "cell_type": "code",
   "execution_count": 3,
   "metadata": {},
   "outputs": [
    {
     "name": "stdout",
     "output_type": "stream",
     "text": [
      "list: [1,3,5,7,9]\n",
      "reversed list: [9,7,5,3,1]\n"
     ]
    }
   ],
   "source": [
    "program = \\\n",
    "\"\"\"\n",
    "load \"io\".          \n",
    "\n",
    "-- build a list of odd values\n",
    "let a = [1 to 10 step 2].\n",
    "println (\"list: \" + a).\n",
    "\n",
    "-- reverse the list\n",
    "let slice = [4 to 0 step -1].\n",
    "let b = a @slice.\n",
    "println (\"reversed list: \" + b).\n",
    "\"\"\"\n",
    "interp(program)"
   ]
  },
  {
   "cell_type": "markdown",
   "metadata": {},
   "source": [
    "Higher dimensional arrays can easily be simulated with lists of lists,"
   ]
  },
  {
   "cell_type": "code",
   "execution_count": 4,
   "metadata": {},
   "outputs": [
    {
     "name": "stdout",
     "output_type": "stream",
     "text": [
      "[[1,2,3],[4,0,6],[7,8,9]]\n"
     ]
    }
   ],
   "source": [
    "program = \\\n",
    "'''\n",
    "load \"io\".\n",
    "\n",
    "-- build a 2-D array\n",
    "let b = [[1,2,3],\n",
    "         [4,5,6],\n",
    "         [7,8,9]].\n",
    "         \n",
    "-- modify an element in the array\n",
    "let b @1 @1 = 0.\n",
    "println b.\n",
    "'''\n",
    "interp(program)"
   ]
  },
  {
   "cell_type": "markdown",
   "metadata": {},
   "source": [
    "**NOTE**: At this point slicing is not supported on the left side of a `let` statement."
   ]
  },
  {
   "cell_type": "markdown",
   "metadata": {},
   "source": [
    "### Custom Data Structures using 'structure'"
   ]
  },
  {
   "cell_type": "markdown",
   "metadata": {},
   "source": [
    "You can introduce custom data structures using the **structure** keyword.  These custom data structures differ from lists in the sense that the name of the structure acts like a type tag.  So in some sense when you define a new structure you are introducing a new type into your program.  Here is a simple example,"
   ]
  },
  {
   "cell_type": "code",
   "execution_count": 5,
   "metadata": {},
   "outputs": [
    {
     "name": "stdout",
     "output_type": "stream",
     "text": [
      "Sophie is 46 years old and is F.\n"
     ]
    }
   ],
   "source": [
    "program = \\\n",
    "'''\n",
    "load \"io\".\n",
    "\n",
    "structure Person with\n",
    "    data name.\n",
    "    data age.\n",
    "    data gender.\n",
    "    end\n",
    " \n",
    "-- make a list of persons\n",
    "let people = [\n",
    "    Person(\"George\", 32, \"M\"),\n",
    "    Person(\"Sophie\", 46, \"F\"),\n",
    "    Person(\"Oliver\", 21, \"X\")\n",
    "    ].\n",
    "\n",
    "-- retrieve the second person on the list and print\n",
    "let Person(name,age,gender) = people @1.\n",
    "println (name + \" is \" + age + \" years old and is \" +  gender + \".\").\n",
    "'''\n",
    "interp(program, exceptions=True)"
   ]
  },
  {
   "cell_type": "markdown",
   "metadata": {},
   "source": [
    "The `structure` statement introduces a new typed data structure. In this case it introduces a data structure of type `Person` with three \"slots\".  We use this data structure to build a list of persons.  One of the interesting things  is that we can pattern match the generated data structure as in the second `let` statement in the program above.\n",
    "\n",
    "It turns out that data structures defined with the `structure` command also support prototype based OO programming.  More of that below."
   ]
  },
  {
   "cell_type": "markdown",
   "metadata": {},
   "source": [
    "## The Let Statement"
   ]
  },
  {
   "cell_type": "markdown",
   "metadata": {},
   "source": [
    "The `let` statement is Asteroid's version of the assignment statement.  Here is a snippet of Asteroid's grammar detailing the statement,\n",
    "```\n",
    "stmt := LET pattern '=' exp '.'?\n",
    "```\n",
    "In the grammar capital words and symbols in quotes represent language keywords and lower case letters represent non-terminals.  \n",
    "\n",
    "The notation is an EBNF notation that means the question mark is a meta operator and makes the period at the end of the `let` statement optional.  Even though the period is optional we highly recommend using it because leaving it out can, under certain circumstances, lead to ambiguous statements and therefore will lead to syntax errors.\n",
    "\n",
    "As we said before, the `let` statement is a pattern matching statement which we can see expressed here by the `pattern` on the left side of the `=` sign. Patterns are expressions that consist purely of constructors and variables. Constructors consist of constants, list constructors, and user defined structures.  The quote operator `'` allows you to turn any Asteroid expression into a term structure that can be used as a pattern."
   ]
  },
  {
   "cell_type": "markdown",
   "metadata": {},
   "source": [
    "Here is an example where we do some computations on the right side of a `let` statement and then match against a pattern on the left,"
   ]
  },
  {
   "cell_type": "code",
   "execution_count": 6,
   "metadata": {},
   "outputs": [
    {
     "name": "stdout",
     "output_type": "stream",
     "text": [
      "(1,3)\n"
     ]
    }
   ],
   "source": [
    "program =\\\n",
    "\"\"\"\n",
    "load \"io\".\n",
    "\n",
    "-- note 1+1 evaluates to 2 and is then matched\n",
    "-- the variables x and y are bound to 1 and 3, respectively\n",
    "let [x,2,y] = [1+0,1+1,1+2]. \n",
    "println (x,y).\n",
    "\"\"\"\n",
    "interp(program)"
   ]
  },
  {
   "cell_type": "markdown",
   "metadata": {},
   "source": [
    "Here is a similar program but all terms have been quoted and therefore are not evaluated and the actual structure of the terms is matched,"
   ]
  },
  {
   "cell_type": "code",
   "execution_count": 7,
   "metadata": {},
   "outputs": [
    {
     "name": "stdout",
     "output_type": "stream",
     "text": [
      "(__plus__(1,0),__plus__(1,2))\n"
     ]
    }
   ],
   "source": [
    "program =\\\n",
    "\"\"\"\n",
    "load \"io\".\n",
    "\n",
    "-- note 1+1 does NOT evaluate to 2 and 1+1 is matched\n",
    "-- the variables x and y are bound to term expressions\n",
    "let [x,'1+1,y] = ['1+0,'1+1,'1+2]. \n",
    "println (x,y).\n",
    "\"\"\"\n",
    "interp(program)"
   ]
  },
  {
   "cell_type": "markdown",
   "metadata": {},
   "source": [
    "The fact that none of the terms is being evaluated and their actual structure is being preserved becomes clear what we print what has been bound to the variables `x` and `y`.  Here the symbol `__plus__` is the internal notation of the `+` operator."
   ]
  },
  {
   "cell_type": "markdown",
   "metadata": {},
   "source": [
    "## Flow of Control Statements"
   ]
  },
  {
   "cell_type": "markdown",
   "metadata": {},
   "source": [
    "Control structure implementation in Asteroid is along the lines of any of the modern programming languages such as Python, Swift, or Rust.  For example, the `for` loop allows you to iterate over lists without having to explicitly define a loop index counter.  Here is a snippet from the Asteroid EBNF grammar that shows the control statements,\n",
    "```\n",
    "stmt := FOR pattern IN exp DO stmt_list END FOR\n",
    "      | WHILE exp DO stmt_list END WHILE\n",
    "      | REPEAT DO? stmt_list UNTIL exp '.'?\n",
    "      | IF exp DO stmt_list (ELIF exp DO stmt_list)* (ELSE DO? stmt_list)? END IF\n",
    "      | TRY stmt_list (CATCH pattern DO stmt_list)+ END TRY\n",
    "      | THROW exp '.'?\n",
    "      | BREAK '.'?\n",
    "```\n",
    "Looking at the list of supported flow of control statements there are really not a lot of surprises.  For example, here is a short program with a `for` loop that prints out the first ten even positive integers,"
   ]
  },
  {
   "cell_type": "code",
   "execution_count": 8,
   "metadata": {},
   "outputs": [
    {
     "name": "stdout",
     "output_type": "stream",
     "text": [
      "0\n",
      "2\n",
      "4\n",
      "6\n",
      "8\n",
      "10\n"
     ]
    }
   ],
   "source": [
    "program =\\\n",
    "\"\"\"\n",
    "load \"io\".\n",
    "for i in 0 to 10 step 2 do\n",
    "    println i\n",
    "end \n",
    "\"\"\"\n",
    "interp(program)"
   ]
  },
  {
   "cell_type": "markdown",
   "metadata": {},
   "source": [
    "Here is another example that iterates over lists,"
   ]
  },
  {
   "cell_type": "code",
   "execution_count": 9,
   "metadata": {},
   "outputs": [
    {
     "name": "stdout",
     "output_type": "stream",
     "text": [
      "turkey\n",
      "duck\n",
      "chicken\n"
     ]
    }
   ],
   "source": [
    "program = \\\n",
    "\"\"\"\n",
    "load \"io\".\n",
    "\n",
    "for bird in [\"turkey\",\"duck\",\"chicken\"] do\n",
    "    println bird.\n",
    "end\n",
    "\"\"\"\n",
    "interp(program)"
   ]
  },
  {
   "cell_type": "markdown",
   "metadata": {},
   "source": [
    "Even though Asteroid's flow of control statements look so familiar they support pattern matching to a degree not found in other programming languages and which we will take a look at below."
   ]
  },
  {
   "cell_type": "markdown",
   "metadata": {},
   "source": [
    "## Functions"
   ]
  },
  {
   "cell_type": "markdown",
   "metadata": {},
   "source": [
    "Here is the grammar snippet that defines functions,\n",
    "```\n",
    "stmt      := FUNCTION ID body_defs END FUNCTION\n",
    "body_defs := WITH pattern DO stmt_list (ORWITH pattern DO stmt_list)*\n",
    "```\n",
    "A closer look reveals that a function can have multiple bodies each associated with a different formal argument pattern.  Asteroid inherits this characteristic directly from functional languages like ML or Haskell.\n",
    "\n",
    "However, considering that a variable represents the simplest pattern we can write functions that look very familiar to the programmer coming from the Python or Java traditions.  Here is a function that reverses a list,"
   ]
  },
  {
   "cell_type": "code",
   "execution_count": 10,
   "metadata": {},
   "outputs": [
    {
     "name": "stdout",
     "output_type": "stream",
     "text": [
      "[3,2,1]\n"
     ]
    }
   ],
   "source": [
    "program =\\\n",
    "'''\n",
    "load \"util\".\n",
    "load \"io\".\n",
    "\n",
    "function reverse with list do\n",
    "    let len = length(list).\n",
    "    let r_list = list @[(len-1) to 0 step -1].\n",
    "    return r_list.\n",
    "end \n",
    "\n",
    "let my_list = [1,2,3].\n",
    "let my_reversed_list = reverse(my_list).\n",
    "println my_reversed_list.\n",
    "'''\n",
    "interp(program)"
   ]
  },
  {
   "cell_type": "markdown",
   "metadata": {},
   "source": [
    "We'll talk about pattern matching in functions and multiple bodies later on in this document.  Asteroid also supports anonymous or `lambda` functions.  Here is a snippet of the grammar that defines anonymous functions,\n",
    "```\n",
    "primary := LAMBDA body_defs \n",
    "```\n",
    "where the `body_defs` are the same as for the functions defined above.  This implies that `lambda` functions can also have multiple bodies each associated with a different formal argument pattern.  Here is a simple example using a `lambda` function,"
   ]
  },
  {
   "cell_type": "code",
   "execution_count": 11,
   "metadata": {},
   "outputs": [
    {
     "name": "stdout",
     "output_type": "stream",
     "text": [
      "2\n"
     ]
    }
   ],
   "source": [
    "program = \\\n",
    "'''\n",
    "load \"io\".\n",
    "\n",
    "println ((lambda with n do return n+1) 1).\n",
    "'''\n",
    "interp(program)"
   ]
  },
  {
   "cell_type": "markdown",
   "metadata": {},
   "source": [
    "## Basic Pattern Matching"
   ]
  },
  {
   "cell_type": "markdown",
   "metadata": {},
   "source": [
    "Pattern matching lies at the heart of Asteroid and the ability of manipulating the interpretation of expression terms allows the developer to pattern match on operator symbols usually reserved for value computations.  We saw some of Asteroid's pattern match ability when we discussed the `let` statement.  Below is another program that highlights a few other aspects of pattern matching.\n",
    "In particular, quoted expressions allow the programmer to treat expressions as constructor terms in the presence of a model other than the default model and pattern match against that structure.  Quoted expressions can be interpreted in the current model using the `eval` function as shown in the following.  All of the statements execute correctly.  In the case that a statement is expected to fail we put it into a try-catch block."
   ]
  },
  {
   "cell_type": "code",
   "execution_count": 12,
   "metadata": {},
   "outputs": [
    {
     "name": "stdout",
     "output_type": "stream",
     "text": [
      "1+1 pattern match failed\n"
     ]
    }
   ],
   "source": [
    "program =\\\n",
    "\"\"\"\n",
    "load \"io\".\n",
    "\n",
    "let '1 + 1 = '1 + 1. -- quoted expression\n",
    "let 2 = eval('1 + 1). \n",
    "let 2 = 1 + 1.\n",
    "try\n",
    "    let '1 + 1 = 1 + 1.  -- throws an exception\n",
    "catch _ do\n",
    "    println \"1+1 pattern match failed\".\n",
    "end \n",
    "\"\"\"\n",
    "interp(program)"
   ]
  },
  {
   "cell_type": "markdown",
   "metadata": {},
   "source": [
    "Asteroid supports pattern matching on function arguments in the style of ML and many other functional programming languages.\n",
    "    Below is the quick sort implemented in Asteroid as an example of this classic style pattern matching.  What is perhaps new is the `head-tail` operator being used in the last `orwith` clause.  Here the variable `pivot` matches the first element of the list and the variable `rest` matches the remaining list which is the original list with its first element removed.  We can  also see that the `+` operator symbols are overloaded operators in the standard model to act as a list concatenation operators in addition to arithmetic operators. What you also will notice is that function calls do not necessarily have to involve parentheses.  Function application is also expressed by simple juxtaposition in Asteroid.  For example, if `foobar` is a function then `foobar(a)` is a function call in Asteroid but so is `foobar a`.  The latter form of function call is used in the last line of the function `qsort` below."
   ]
  },
  {
   "cell_type": "code",
   "execution_count": 13,
   "metadata": {},
   "outputs": [
    {
     "name": "stdout",
     "output_type": "stream",
     "text": [
      "[0,1,2,3]\n"
     ]
    }
   ],
   "source": [
    "program =\\\n",
    "\"\"\"\n",
    "load \"io\".\n",
    "\n",
    "function qsort\n",
    "    with [] do\n",
    "        return [].\n",
    "    orwith [a] do\n",
    "        return [a].\n",
    "    orwith [pivot|rest] do \n",
    "        let less=[].\n",
    "        let more=[].\n",
    "        \n",
    "        for e in rest do\n",
    "            if e < pivot do\n",
    "                let less = less + [e].\n",
    "            else\n",
    "                let more = more + [e].\n",
    "            end \n",
    "        end \n",
    "        \n",
    "        return qsort less + [pivot] + qsort more.\n",
    "    end \n",
    "    \n",
    "-- print the sorted list\n",
    "println (qsort [3,2,1,0])\n",
    "\"\"\"\n",
    "interp(program)"
   ]
  },
  {
   "cell_type": "markdown",
   "metadata": {},
   "source": [
    "We can also introduce our own custom constructors and use them in pattern matching.  The program below implements [Peano addition](https://en.wikipedia.org/wiki/Peano_axioms#Addition) on terms using the two Peano axioms,\n",
    "```\n",
    "x + 0 = x\n",
    "x + S(y) = S(x+y)\n",
    "```\n",
    "Here `x` and `y` are variables, `0` represents the natural number with value zero, and `S` is the successor function.  In Peano arithmetic any natural number can be represented by the appropriate number of applications of the successor function to the natural number `0`. Here is the program, "
   ]
  },
  {
   "cell_type": "code",
   "execution_count": 14,
   "metadata": {},
   "outputs": [
    {
     "name": "stdout",
     "output_type": "stream",
     "text": [
      "S(S(S(S(S(0)))))\n"
     ]
    }
   ],
   "source": [
    "program =\\\n",
    "\"\"\"\n",
    "-- implements Peano addition on terms\n",
    "load \"io\".\n",
    "load \"util\".\n",
    "\n",
    "structure S with\n",
    "    data x.\n",
    "    end \n",
    "    \n",
    "structure add with\n",
    "    data left.\n",
    "    data right.\n",
    "    end\n",
    "\n",
    "function reduce\n",
    "    with add(x,0) do      \n",
    "        return reduce(x).\n",
    "    orwith add(x,S(y))  do\n",
    "        return S(reduce(add(x,y))).\n",
    "    orwith term do     \n",
    "        return term.\n",
    "    end \n",
    "\n",
    "println(reduce(add(S(S(0)),S(S(S(0)))))).\n",
    "\n",
    "\"\"\"\n",
    "interp(program)"
   ]
  },
  {
   "cell_type": "markdown",
   "metadata": {},
   "source": [
    "Our program defines the structure `S` to represent the successor function and the structure `add` to represent peano addition. Next, it defines a function that uses pattern matching to identify the left sides of the two axioms.  If either pattern matches the input to the `reduce` function it will activate the corresponding function body and rewrite the term recursively in an appropriate manner.  We have one additional pattern which matches if neither one of the Peano axiom patterns matches and terminates the recursion.  Finally,  on the last line, we use our `reduce` function to compute the Peano term for the addition of 2 + 3. As expected, the output of this program is,\n",
    "```\n",
    "S(S(S(S(S(0)))))\n",
    "```"
   ]
  },
  {
   "cell_type": "markdown",
   "metadata": {},
   "source": [
    "## Pattern Matching in Control Structures"
   ]
  },
  {
   "cell_type": "markdown",
   "metadata": {},
   "source": [
    "Before we begin the discussion we need to introduce the `is` predicate  which is a built-in operator that takes the pattern on the right side and applies it to the subject term on the left side.  If there is a match the predicate will return `true` if not then it will return `false`.  Here is a snippet that illustrates the predicate,\n",
    "```\n",
    "let true = '1 + 2 is 'x + y.\n",
    "``` \n",
    "The subject term `1 + 2` is matched to the pattern `x + y` which of course will succeed with the variable bindings `x`  &#x21A6; `1` and `y` &#x21A6; `2`."
   ]
  },
  {
   "cell_type": "markdown",
   "metadata": {},
   "source": [
    "### Pattern Matching in `if` Statements "
   ]
  },
  {
   "cell_type": "markdown",
   "metadata": {},
   "source": [
    "In Asteroid an `if` statement consists of an `if` clause followed by zero or more `elif` clauses followed by an optional `else` clause.  The semantics of the `if` statement is fairly standard.  The `if` and `elif` clauses test the value of their corresponding expressions for the term `true` and execute their corresponding set of statements if it does evaluate to `true`.  If none of the expressions evaluate to `true` then the `else` clause is executed if present.\n",
    "\n",
    "In order to enable pattern matching in `if` statements we use the `is` predicate.  We can rewrite the `reduce` function from the above Peano arithmetic example using pattern matching in `if` statements as an illustration,\n",
    "```\n",
    "function reduce with term do\n",
    "    if term is add(x,0) do\n",
    "        return reduce(x).\n",
    "    elif term is add(x,S(y))  do\n",
    "        return S(reduce(add(x,y))).\n",
    "    else do\n",
    "        return term.\n",
    "    end -- if\n",
    "    end -- function\n",
    "```\n",
    "One thing to note is that the variable bindings of a successful pattern match are immediately available in the corresponding statements of the `if` or `elif` clause."
   ]
  },
  {
   "cell_type": "markdown",
   "metadata": {},
   "source": [
    "### Pattern Matching in `repeat-until` Loops"
   ]
  },
  {
   "cell_type": "markdown",
   "metadata": {},
   "source": [
    "Pattern matching in `while` loops follows a similar approach to pattern matching in `if` statements.  The `while` statement tests the evaluation of the loop expression and if it evaluates to the term `true` then the loop body is executed.  Again we use the `is` predicate to enable pattern matching in `while` loops.\n",
    "\n",
    "The example below shows a program that employs pattern matching using the head-tail operator in the `repeat-until` loop expression in order to iterate over a list and print the list elements.  Note the use of the `is` predicate to test whether the list is empty or not.  "
   ]
  },
  {
   "cell_type": "code",
   "execution_count": 15,
   "metadata": {},
   "outputs": [
    {
     "name": "stdout",
     "output_type": "stream",
     "text": [
      "1\n",
      "2\n",
      "3\n"
     ]
    }
   ],
   "source": [
    "program =\\\n",
    "'''\n",
    "load \"io\".\n",
    "\n",
    "let list = [1,2,3].\n",
    "\n",
    "repeat do\n",
    "    let [head|tail] = list. \n",
    "    println head.\n",
    "    let list = tail.\n",
    "until list is []. \n",
    "'''\n",
    "interp(program)"
   ]
  },
  {
   "cell_type": "markdown",
   "metadata": {},
   "source": [
    "### Pattern Matching in `for` Loops "
   ]
  },
  {
   "cell_type": "markdown",
   "metadata": {},
   "source": [
    "For completeness sake we have repeated here an example of a simple `for` from above,"
   ]
  },
  {
   "cell_type": "code",
   "execution_count": 16,
   "metadata": {},
   "outputs": [
    {
     "name": "stdout",
     "output_type": "stream",
     "text": [
      "turkey\n",
      "duck\n",
      "chicken\n"
     ]
    }
   ],
   "source": [
    "program = \\\n",
    "\"\"\"\n",
    "load \"io\".\n",
    "\n",
    "for bird in [\"turkey\",\"duck\",\"chicken\"] do\n",
    "    println bird.\n",
    "end \n",
    "\"\"\"\n",
    "interp(program)"
   ]
  },
  {
   "cell_type": "markdown",
   "metadata": {},
   "source": [
    "Turns out that in simple `for` loops such as the one above the loop variable is actually a pattern that gets matched to the list the loop iterates over.\n",
    "We can expand this simple pattern into a much more complicated pattern and do pattern matching while we are iterating.  This allows us to access substructures of the items being iterated over in a direct and succinct way.  The example below shows such a program.  The program constructs a list of `Person` structures that consist of a name and an age.  The `for` loop iterates over this list while pattern matching the `Person` constructor at each iteration binding the age variable to the appropriate value in the structure.  In the loop body it carries a running sum of the age values which it then uses to compute the average age of the persons on the list.  "
   ]
  },
  {
   "cell_type": "code",
   "execution_count": 17,
   "metadata": {},
   "outputs": [
    {
     "name": "stdout",
     "output_type": "stream",
     "text": [
      "Average Age: 33\n"
     ]
    }
   ],
   "source": [
    "program =\\\n",
    "'''\n",
    "load \"io\".\n",
    "\n",
    "structure Person with\n",
    "    data name.\n",
    "    data age.\n",
    "    end\n",
    "\n",
    "let people = [ \n",
    "    Person(\"George\", 32),\n",
    "    Person(\"Sophie\", 46),\n",
    "    Person(\"Oliver\", 21)\n",
    "    ].\n",
    "    \n",
    "let n = people @length().\n",
    "let sum = 0.\n",
    "\n",
    "for Person(_,age) in people do \n",
    "    let sum = sum + age.\n",
    "end \n",
    "\n",
    "println (\"Average Age: \" + (sum/n)). \n",
    "'''\n",
    "interp(program)"
   ]
  },
  {
   "cell_type": "markdown",
   "metadata": {},
   "source": [
    "We can also use pattern matching in a `for` loop to select certain items from a list. Suppose we want to print out the names of persons that contain a lower case 'p',"
   ]
  },
  {
   "cell_type": "code",
   "execution_count": 18,
   "metadata": {},
   "outputs": [
    {
     "name": "stdout",
     "output_type": "stream",
     "text": [
      "Sophie\n"
     ]
    }
   ],
   "source": [
    "program =\\\n",
    "'''\n",
    "load \"io\".\n",
    "\n",
    "structure Person with\n",
    "    data name.\n",
    "    data age.\n",
    "    end\n",
    "\n",
    "-- define a list of persons\n",
    "let people = [\n",
    "    Person(\"George\", 32),\n",
    "    Person(\"Sophie\", 46),\n",
    "    Person(\"Oliver\", 21)\n",
    "    ].\n",
    "\n",
    "-- print names that contain 'p'\n",
    "for Person(name:\".*p.*\",_) in people do\n",
    "  println name.\n",
    "end\n",
    "'''\n",
    "interp(program)"
   ]
  },
  {
   "cell_type": "markdown",
   "metadata": {},
   "source": [
    "Here we pattern match the `Person` object in the `for` loop and then use a regular expression to see if the name of that person matches our requirement that it contains a lower case 'p'.  We can tag the pattern with a variable name so that we can print out the name if the reglar expression matches."
   ]
  },
  {
   "cell_type": "markdown",
   "metadata": {},
   "source": [
    "### Pattern Matching in `try-catch` Statements"
   ]
  },
  {
   "cell_type": "markdown",
   "metadata": {},
   "source": [
    "Exception handling in Asteroid is very similar to exception handling in many of the other modern programming language available today.  The example below shows an Asteroid program that performs basic exception handling.  It attempts a division by zero which will throw an exception.  The exception is caught by the `catch` clause  and its value is printed to the terminal.  "
   ]
  },
  {
   "cell_type": "code",
   "execution_count": 19,
   "metadata": {},
   "outputs": [
    {
     "name": "stdout",
     "output_type": "stream",
     "text": [
      "(Exception,integer division or modulo by zero)\n"
     ]
    }
   ],
   "source": [
    "program =\\\n",
    "'''\n",
    "load \"io\".\n",
    "\n",
    "try\n",
    "    let i = 10/0. \n",
    "    println i.\n",
    "catch e do \n",
    "    println e. \n",
    "end \n",
    "'''\n",
    "interp(program)"
   ]
  },
  {
   "cell_type": "markdown",
   "metadata": {},
   "source": [
    "By default, exceptions in Asteroid are pairs where the first component is an exception specifier and the second component is the value of the exception. In Asteroid we can pattern match on the structure of exceptions in the `catch` clause.  The example below shows the same program from above where the `catch` clause  has been modified to match the structure on the exception explicitly.  Here we pattern match on the exception specifier and print out the value of the exception.  "
   ]
  },
  {
   "cell_type": "code",
   "execution_count": 20,
   "metadata": {},
   "outputs": [
    {
     "name": "stdout",
     "output_type": "stream",
     "text": [
      "integer division or modulo by zero\n"
     ]
    }
   ],
   "source": [
    "program =\\\n",
    "'''\n",
    "load \"io\".\n",
    "\n",
    "try\n",
    "    let i = 10/0.\n",
    "    println i.\n",
    "catch (\"Exception\", v) do \n",
    "    println v.  \n",
    "end \n",
    "'''\n",
    "interp(program)"
   ]
  },
  {
   "cell_type": "markdown",
   "metadata": {},
   "source": [
    "The structure of the exceptions as shown in the previous examples are by convention only and all internally generated exceptions in Asteroid follow that convention.  However, there is nothing to prevent the user from creating their own exception structures and objects and pattern match on them in  `catch` clauses.  The example below shows a program that throws an exception using the `MyException` constructor.  That exception structure is pattern matched in the `catch` clause and its value is printed to the terminal.  "
   ]
  },
  {
   "cell_type": "code",
   "execution_count": 21,
   "metadata": {},
   "outputs": [
    {
     "name": "stdout",
     "output_type": "stream",
     "text": [
      "Hello There!\n"
     ]
    }
   ],
   "source": [
    "program =\\\n",
    "'''\n",
    "load \"io\".\n",
    "\n",
    "structure MyException with \n",
    "    data e.\n",
    "    end\n",
    "\n",
    "try\n",
    "    throw MyException(\"Hello There!\").\n",
    "catch MyException(v) do\n",
    "    println v. \n",
    "end \n",
    "'''\n",
    "interp(program)"
   ]
  },
  {
   "cell_type": "markdown",
   "metadata": {},
   "source": [
    "## Object-Oriented Programming and Pattern Matching"
   ]
  },
  {
   "cell_type": "markdown",
   "metadata": {},
   "source": [
    "We introduce Asteroid's objects using the dog example from the [Python documentation](https://docs.python.org/3/tutorial/classes.html).  The code below shows that Python example translated into Asteroid.  Asteroid's object system is prototype based.  Classes are introduced with the `class` keyword and the class name serves as a new type. The class name itself also serves as a constructor call in order to instantiate new objects.\n",
    "Asteroid generates an implicit object reference as the first argument to the called function.  Notice that at the call site  we only provide a single argument whereas the function definition has two arguments; the first one capturing the object reference.\n"
   ]
  },
  {
   "cell_type": "code",
   "execution_count": 22,
   "metadata": {},
   "outputs": [
    {
     "name": "stdout",
     "output_type": "stream",
     "text": [
      "Fido: [roll over,play dead]\n",
      "Buddy: [roll over,sit stay]\n"
     ]
    }
   ],
   "source": [
    "program = \\\n",
    "'''\n",
    "load \"io\".\n",
    "\n",
    "structure Dog with\n",
    "\n",
    "  data name.\n",
    "  data tricks.\n",
    "\n",
    "  function add_trick\n",
    "    with (self, new_trick) do\n",
    "      let self @tricks = self @tricks + [new_trick].\n",
    "    end \n",
    "    \n",
    "  function __init__\n",
    "    with (self, name) do \n",
    "      let self @name = name.\n",
    "      let self @tricks = [].\n",
    "    end \n",
    "    \n",
    "  end \n",
    "\n",
    "-- Fido the dog\n",
    "let fido = Dog(\"Fido\").\n",
    "fido @add_trick(\"roll over\").\n",
    "fido @add_trick(\"play dead\").\n",
    "\n",
    "-- Buddy the dog\n",
    "let buddy = Dog(\"Buddy\").\n",
    "buddy @add_trick(\"roll over\").\n",
    "buddy @add_trick(\"sit stay\").\n",
    "\n",
    "-- print out the tricks\n",
    "println (\"Fido: \" + fido @tricks).\n",
    "println (\"Buddy: \" + buddy @tricks).\n",
    "\n",
    "'''\n",
    "interp(program)"
   ]
  },
  {
   "cell_type": "markdown",
   "metadata": {},
   "source": [
    "In order to demonstrate pattern matching with objects we added a third dog and added a list of dogs to our program. The resulting program below shows this and we also added code that iterates over the list of the dogs and prints out the names of the dogs whose first trick is `roll over`.  The filtering of the objects on the list is done via pattern matching in the `for` loop."
   ]
  },
  {
   "cell_type": "code",
   "execution_count": 23,
   "metadata": {},
   "outputs": [
    {
     "name": "stdout",
     "output_type": "stream",
     "text": [
      "Fido does roll over\n",
      "Buddy does roll over\n"
     ]
    }
   ],
   "source": [
    "program =\\\n",
    "'''\n",
    "load \"io\".\n",
    "\n",
    "structure Dog with\n",
    "\n",
    "  data name.\n",
    "  data tricks.\n",
    "\n",
    "  function add_trick\n",
    "    with (self, new_trick) do\n",
    "      let self @tricks = self @tricks + [new_trick].\n",
    "    end \n",
    "    \n",
    "  function __init__\n",
    "    with (self, name) do \n",
    "      let self @name = name.\n",
    "      let self @tricks = [].\n",
    "    end \n",
    "    \n",
    "  end -- structure\n",
    "\n",
    "-- Fido the dog\n",
    "let fido = Dog(\"Fido\").\n",
    "fido @add_trick(\"roll over\").\n",
    "fido @add_trick(\"play dead\").\n",
    "\n",
    "-- Buddy the dog\n",
    "let buddy = Dog(\"Buddy\").\n",
    "buddy @add_trick(\"roll over\").\n",
    "buddy @add_trick(\"sit stay\").\n",
    "\n",
    "-- Fifi the dog\n",
    "let fifi = Dog(\"Fifi\").\n",
    "fifi @add_trick(\"sit stay\").\n",
    "\n",
    "-- print out all the names of dogs\n",
    "-- whose first trick is 'roll over'.\n",
    "let dogs = [fido, buddy, fifi]. \n",
    "\n",
    "for Dog(name, [\"roll over\"|_]) in dogs do\n",
    "    println (name + \" does roll over\").\n",
    "end \n",
    "\n",
    "'''\n",
    "interp(program)"
   ]
  },
  {
   "cell_type": "markdown",
   "metadata": {},
   "source": [
    "There is an elegant way of rewriting the last part of the code of the above example using the fact that in Asteroid patterns are first class citizens.  In the program below we associate our pattern with the variable `dog`. The quote at the beginning of the pattern is necessary otherwise Asteroid will try to dereference the variable `name` as well as the anonymous variables `_`. We use the pattern associated with `dog` in the `for` loop in order to filter the objects on the list. The `*` operator is necessary in order to tell Asteroid to use the pattern associated with the variable `dog` rather than using the variable itself as a pattern."
   ]
  },
  {
   "cell_type": "code",
   "execution_count": 24,
   "metadata": {},
   "outputs": [
    {
     "name": "stdout",
     "output_type": "stream",
     "text": [
      "Fido does roll over\n",
      "Buddy does roll over\n"
     ]
    }
   ],
   "source": [
    "program =\\\n",
    "'''\n",
    "load \"io\".\n",
    "\n",
    "structure Dog with\n",
    "\n",
    "  data name.\n",
    "  data tricks.\n",
    "\n",
    "  function add_trick\n",
    "    with (self, new_trick) do\n",
    "      let self @tricks = self @tricks + [new_trick].\n",
    "    end \n",
    "    \n",
    "  function __init__\n",
    "    with (self, name) do \n",
    "      let self @name = name.\n",
    "      let self @tricks = [].\n",
    "    end \n",
    "    \n",
    "end -- structure\n",
    "\n",
    "-- Fido the dog\n",
    "let fido = Dog(\"Fido\").\n",
    "fido @add_trick(\"roll over\").\n",
    "fido @add_trick(\"play dead\").\n",
    "\n",
    "-- Buddy the dog\n",
    "let buddy = Dog(\"Buddy\").\n",
    "buddy @add_trick(\"roll over\").\n",
    "buddy @add_trick(\"sit stay\").\n",
    "\n",
    "-- Fifi the dog\n",
    "let fifi = Dog(\"Fifi\").\n",
    "fifi @add_trick(\"sit stay\").\n",
    "\n",
    "-- print out all the names of dogs\n",
    "-- whose first trick is 'roll over'.\n",
    "let dogs = [fido, buddy, fifi]. \n",
    "\n",
    "-- define our pattern\n",
    "let dog = 'Dog(name, [\"roll over\"|_]).\n",
    "\n",
    "-- iterate over dogs applying our pattern\n",
    "-- only if the pattern match is successful will the loop body be executed\n",
    "for *dog in dogs do \n",
    "  println (name + \" does roll over\").\n",
    "end \n",
    "'''\n",
    "interp(program)"
   ]
  },
  {
   "cell_type": "markdown",
   "metadata": {},
   "source": [
    "## Patterns as First Class Citizens"
   ]
  },
  {
   "cell_type": "markdown",
   "metadata": {},
   "source": [
    "We have shown in the above program that patterns can be associated with and dereferenced from variables.  The program below illustrates that we can also pass patterns to functions where they can be used for pattern matching.  Here we define a function `match` that expects a subject term and a pattern.  It proceeds to pattern match the subject term to the pattern using the `is` predicate and returns whatever the predicate returns.  Observe the `*` operator in front of the `pattern` variable stating that we want to use the pattern associated with that variable.  In the program we call the function `match` with subject term `1+1` and pattern `_+_`.  "
   ]
  },
  {
   "cell_type": "code",
   "execution_count": 25,
   "metadata": {},
   "outputs": [
    {
     "name": "stdout",
     "output_type": "stream",
     "text": [
      "true\n"
     ]
    }
   ],
   "source": [
    "program =\\\n",
    "'''\n",
    "load \"io\".\n",
    "\n",
    "function match with (subject,pattern) do\n",
    "    return subject is *pattern.\n",
    "    end \n",
    "    \n",
    "println (match('1+1, '_+_)). \n",
    "'''\n",
    "interp(program)"
   ]
  },
  {
   "cell_type": "markdown",
   "metadata": {},
   "source": [
    "We can also construct patterns on-the-fly as shown below.  Here we construct two subpatterns `cl` and `cr`.  These two subpatterns are used to construct the full pattern `p` when the pattern is evaluated during a pattern match. Finally, we check whether our pattern is assembled correctly on last line.  The output of the program is `true` meaning our pattern has the same structure as the subject term `1+2+3`."
   ]
  },
  {
   "cell_type": "code",
   "execution_count": 26,
   "metadata": {},
   "outputs": [
    {
     "name": "stdout",
     "output_type": "stream",
     "text": [
      "true\n"
     ]
    }
   ],
   "source": [
    "program =\\\n",
    "'''\n",
    "load \"io\".\n",
    "\n",
    "let cl = '_ + _. \n",
    "let cr = '3.\n",
    "let p = 'cl + cr.\n",
    "\n",
    "println (('1+2+3) is *p).\n",
    "'''\n",
    "interp(program)"
   ]
  },
  {
   "cell_type": "markdown",
   "metadata": {},
   "source": [
    "With Asteroid's ability to manipulate patterns we can rewrite the Peano addition program from above.  In the rewritten version below the pertinent Peano axioms are stored as rules in a rule table which the program will access during execution.   Our two Peano axioms appear as rules in the rule table.  Note that each rule is written as a pair where the first component is the left side of the corresponding rule and the second component is the right side of the corresponding rule.  The left sides of the rules represent the patterns that need to match the subject term and therefore it is not surprising that they are written as quoted expressions.  We also need to write the right sides of the rules as quoted expressions because we want to delay their evaluations until their corresponding patterns have matched an appropriate subject term.\n",
    "\n",
    "The function `reduce` searches through the rule table for a match to the current subject term `term`.  If a match is found the corresponding right side of the rule is evaluated.  If no match is found then the term is returned unmodified.  The output of the program is of course the Peano term `S(S(S(S(S(0)))))`."
   ]
  },
  {
   "cell_type": "code",
   "execution_count": 27,
   "metadata": {},
   "outputs": [
    {
     "name": "stdout",
     "output_type": "stream",
     "text": [
      "S(S(S(S(S(0)))))\n"
     ]
    }
   ],
   "source": [
    "program =\\\n",
    "'''\n",
    "load \"io\".\n",
    "\n",
    "structure S with\n",
    "    data x.\n",
    "    end \n",
    "    \n",
    "structure add with\n",
    "    data left.\n",
    "    data right.\n",
    "    end .\n",
    "\n",
    "let rule_table = [\n",
    "    ('add(x,0), 'reduce(x)),\n",
    "    ('add(x,S(y)), 'S(reduce(add(x,y))))\n",
    "    ].\n",
    "\n",
    "function reduce \n",
    "    with term do\n",
    "        for i in 0 to rule_table@length() - 1 do\n",
    "            let (lhs, rhs) = rule_table@i.\n",
    "            if term is *lhs do\n",
    "                return eval rhs.\n",
    "            end \n",
    "        end \n",
    "        return term.\n",
    "    end \n",
    "\n",
    "println (reduce('add(S(S(0)),S(S(S(0)))))).\n",
    "\n",
    "'''\n",
    "interp(program)"
   ]
  },
  {
   "cell_type": "markdown",
   "metadata": {},
   "source": [
    "## Escaping Asteroid"
   ]
  },
  {
   "cell_type": "markdown",
   "metadata": {},
   "source": [
    "The Asteroid interpreter is written in Python and the `escape` expression gives the user full access to the Python ecosystem from within Asteroid code.  In particular it gives the user access to the intperpreter internals making it easy to write interpreter extensions.  The following example shows one way to incorporate graphics into Asteroid programs,"
   ]
  },
  {
   "cell_type": "code",
   "execution_count": 28,
   "metadata": {},
   "outputs": [
    {
     "data": {
      "image/png": "[encoded data removed]",
      "text/plain": [
       "<Figure size 432x288 with 1 Axes>"
      ]
     },
     "metadata": {
      "needs_background": "light"
     },
     "output_type": "display_data"
    }
   ],
   "source": [
    "program = \\\n",
    "'''\n",
    "function circle with (x, y, r) do escape\n",
    "\"\n",
    "from asteroid_state import state\n",
    "\n",
    "# get the function parameters from the symbol table\n",
    "vx = float(state.symbol_table.lookup_sym('x')[1])\n",
    "vy = float(state.symbol_table.lookup_sym('y')[1])\n",
    "vr = float(state.symbol_table.lookup_sym('r')[1])\n",
    "\n",
    "# plot the circle at (vx,vy) with radius vr\n",
    "import matplotlib.pyplot as plt\n",
    "\n",
    "circle = plt.Circle((vx, vy), vr, color='blue')\n",
    "fig, ax = plt.subplots()\n",
    "ax.add_artist(circle)\n",
    "plt.show()\n",
    "\"\n",
    "end\n",
    "\n",
    "-- call the escaped function\n",
    "circle(.5, .5, .2)\n",
    "'''\n",
    "interp(program)"
   ]
  },
  {
   "cell_type": "markdown",
   "metadata": {},
   "source": [
    "## Asteroid I/O"
   ]
  },
  {
   "cell_type": "markdown",
   "metadata": {},
   "source": [
    "**Println** is a function that prints its argument in a readable form to the terminal.  Remember that under the standard model the `+` operator also implements string concatenation.  This allows us to construct nicely formatted output strings,"
   ]
  },
  {
   "cell_type": "code",
   "execution_count": 29,
   "metadata": {},
   "outputs": [
    {
     "name": "stdout",
     "output_type": "stream",
     "text": [
      "a + b = 3\n"
     ]
    }
   ],
   "source": [
    "program =\\\n",
    "'''\n",
    "load \"io\".\n",
    "\n",
    "let a = 1.\n",
    "let b = 2.\n",
    "println (\"a + b = \" + (a + b)).\n",
    "'''\n",
    "interp(program)"
   ]
  },
  {
   "cell_type": "markdown",
   "metadata": {},
   "source": [
    "**Input** is a function that given a prompt string will prompt the user at the terminal and return the input value as a string.  Here is a small example,"
   ]
  },
  {
   "cell_type": "code",
   "execution_count": 30,
   "metadata": {},
   "outputs": [
    {
     "name": "stdout",
     "output_type": "stream",
     "text": [
      "What is your name? Leo\n",
      "Hello Leo!\n"
     ]
    }
   ],
   "source": [
    "program =\\\n",
    "'''\n",
    "load \"io\".\n",
    "\n",
    "let name = input(\"What is your name? \").\n",
    "println (\"Hello \" + name + \"!\").\n",
    "'''\n",
    "interp(program)"
   ]
  },
  {
   "cell_type": "markdown",
   "metadata": {},
   "source": [
    "We can use the type casting functions such as `integer` or `real` to convert the string returned from `input` into a numeric value,"
   ]
  },
  {
   "cell_type": "code",
   "execution_count": 31,
   "metadata": {},
   "outputs": [
    {
     "name": "stdout",
     "output_type": "stream",
     "text": [
      "Please enter a positive integer value: 3\n",
      "1\n",
      "2\n",
      "3\n"
     ]
    }
   ],
   "source": [
    "program =\\\n",
    "'''\n",
    "load \"io\".\n",
    "load \"util\".\n",
    "\n",
    "let i = integer(input(\"Please enter a positive integer value: \")).\n",
    "\n",
    "if i < 0 do\n",
    "    throw (\"Exception\", \"I want a positive integer value.\").\n",
    "end \n",
    "\n",
    "for k in 1 to i do\n",
    "    println k.\n",
    "end \n",
    "'''\n",
    "interp(program)"
   ]
  },
  {
   "cell_type": "markdown",
   "metadata": {},
   "source": [
    "**Raw_print** is a function similar to **println** except that it outputs Asteroid's internal term structure for the given argument,"
   ]
  },
  {
   "cell_type": "code",
   "execution_count": 32,
   "metadata": {},
   "outputs": [
    {
     "name": "stdout",
     "output_type": "stream",
     "text": [
      "('string', 'a + b = 3')\n"
     ]
    }
   ],
   "source": [
    "program =\\\n",
    "'''\n",
    "load \"io\".\n",
    "\n",
    "let a = 1.\n",
    "let b = 2.\n",
    "raw_print (\"a + b = \" + (a + b)).\n",
    "'''\n",
    "interp(program)"
   ]
  },
  {
   "cell_type": "markdown",
   "metadata": {},
   "source": [
    "Try the above program with the `standard` model commented out.  In that case none of the `+` operation will be performed because here `+` is now considered a constructor."
   ]
  },
  {
   "cell_type": "markdown",
   "metadata": {},
   "source": [
    "## The Module System"
   ]
  },
  {
   "cell_type": "markdown",
   "metadata": {},
   "source": [
    "A module in Asteroid is a file with a set of valid Asteroid statements.  You can include this file into other Asteroid code with the `load \"<filename>\".` statement.  In the current version of Asteroid modules do not have a separate name space, symbols from a module are entered into Asteroid's global name space."
   ]
  },
  {
   "cell_type": "markdown",
   "metadata": {},
   "source": [
    "The search strategy for a module to be loaded is as follows,\n",
    "1. raw module name - could be an absolute path\n",
    "1. search in current directory (path[1])\n",
    "1. search in directory where Asteroid is installed (path[0])\n",
    "1. search in subdirectory where Asteroid was started\n"
   ]
  },
  {
   "cell_type": "code",
   "execution_count": null,
   "metadata": {},
   "outputs": [],
   "source": []
  }
 ],
 "metadata": {
  "kernelspec": {
   "display_name": "Python 3",
   "language": "python",
   "name": "python3"
  },
  "language_info": {
   "codemirror_mode": {
    "name": "ipython",
    "version": 3
   },
   "file_extension": ".py",
   "mimetype": "text/x-python",
   "name": "python",
   "nbconvert_exporter": "python",
   "pygments_lexer": "ipython3",
   "version": "3.7.6"
  }
 },
 "nbformat": 4,
 "nbformat_minor": 2
}

{
 "cells": [
  {
   "cell_type": "markdown",
   "metadata": {},
   "source": [
    "# Redundant Pattern Detection Tests"
   ]
  },
  {
   "cell_type": "markdown",
   "metadata": {},
   "source": [
    "This is a subsumption test suite for the Asteroid programming language.\n",
    "\n",
    "subsumption testing is a work in progress, as is this suite.\n",
    "\n"
   ]
  },
  {
   "cell_type": "code",
   "execution_count": 22,
   "metadata": {},
   "outputs": [],
   "source": [
    "from asteroid_interp import interp"
   ]
  },
  {
   "cell_type": "markdown",
   "metadata": {},
   "source": [
    "## Tuples, Variables(IDs), Integers\n",
    "  \n",
    "Below are several examples of Asteroid programs with redundant patterns in functions that are composed of Tuples, Variables, and Integers. The programs are correct Asteroid programs except for the redundant patterns.\n",
    "\n",
    "\n",
    "The programs should all throw a \"RedundantPatternFound\" exception, which will then be caught and have its message printed to the console."
   ]
  },
  {
   "cell_type": "code",
   "execution_count": 23,
   "metadata": {},
   "outputs": [
    {
     "name": "stdout",
     "output_type": "stream",
     "text": [
      "Redundant Pattern Detected\n",
      "\tFunction: testFunction from file <input>\n",
      "\tPattern: x on line 13\n",
      "\twill consume all matches for\n",
      "\tPattern: (1,2,z) on line 15\n"
     ]
    }
   ],
   "source": [
    "program = \\\n",
    "'''\n",
    "--------------------------------------\n",
    "-- patterns_test0.ast\n",
    "-- a simple program to test for\n",
    "-- subsumption detection in Asteroid.\n",
    "--------------------------------------\n",
    "-- By Timothy Colaneri\n",
    "--------------------------------------\n",
    "load \"io\".\n",
    "\n",
    "-- A testing function with multiple patterns\n",
    "function testFunction\n",
    "    with x do         --will SUBSUME all other patterns\n",
    "        return 0.\n",
    "    orwith ( 1, 2, z) do\n",
    "        return 1.\n",
    "    orwith ( 1, y, z) do\n",
    "        return 2.\n",
    "    orwith ( x, y, z) do\n",
    "        return 3.\n",
    "    end.\n",
    "    \n",
    "-- Evaluate the function with a test input.\n",
    "let x = testFunction( 1 , 2 , 3 ).\n",
    "\n",
    "-- If the function test worked, print the output we got.\n",
    "println( \"The value returned is: \" + x ).\n",
    "'''\n",
    "try:\n",
    "    interp(program, exceptions=True, tree_dump=False, do_walk=True, prologue=True )\n",
    "except Exception as e:\n",
    "    print(e)\n",
    "    pass\n",
    "else:\n",
    "    print(\"Error! Redundant pattern not detected!\")"
   ]
  },
  {
   "cell_type": "code",
   "execution_count": 24,
   "metadata": {},
   "outputs": [
    {
     "name": "stdout",
     "output_type": "stream",
     "text": [
      "Redundant Pattern Detected\n",
      "\tFunction: testFunction from file <input>\n",
      "\tPattern: (1,value1,value2) on line 13\n",
      "\twill consume all matches for\n",
      "\tPattern: (1,y,z) on line 15\n"
     ]
    }
   ],
   "source": [
    "program = \\\n",
    "'''\n",
    "--------------------------------------\n",
    "-- patterns_test1.ast\n",
    "-- a simple program to test for\n",
    "-- subsumption detection in Asteroid.\n",
    "--------------------------------------\n",
    "-- By Timothy Colaneri\n",
    "--------------------------------------\n",
    "load \"io\".\n",
    "\n",
    "-- A testing function with multiple patterns\n",
    "function testFunction\n",
    "    with ( 1, value1, value2) do --will SUBSUME ( 1, y, z)\n",
    "        return 1.\n",
    "    orwith ( 1, y, z) do\n",
    "        return 2.\n",
    "    orwith ( x, y, z) do\n",
    "        return 3.\n",
    "    end.\n",
    "    \n",
    "-- Evaluate the function with a test input.\n",
    "let x = testFunction( 1 , 2 , 3 ).\n",
    "\n",
    "-- If the function test worked, print the output we got.\n",
    "println( \"The value returned is: \" + x ).\n",
    "'''\n",
    "try:\n",
    "    interp(program, exceptions=True, tree_dump=False, do_walk=True, prologue=True )\n",
    "except Exception as e:\n",
    "    print(e)\n",
    "    pass\n",
    "else:\n",
    "    print(\"Error! Redundant pattern not detected!\")"
   ]
  },
  {
   "cell_type": "code",
   "execution_count": 25,
   "metadata": {},
   "outputs": [
    {
     "name": "stdout",
     "output_type": "stream",
     "text": [
      "Redundant Pattern Detected\n",
      "\tFunction: testFunction from file <input>\n",
      "\tPattern: 1 on line 13\n",
      "\twill consume all matches for\n",
      "\tPattern: 1 on line 17\n"
     ]
    }
   ],
   "source": [
    "program = \\\n",
    "'''\n",
    "--------------------------------------\n",
    "-- patterns_test2.ast\n",
    "-- a simple program to test for\n",
    "-- subsumption detection in Asteroid.\n",
    "--------------------------------------\n",
    "-- By Timothy Colaneri\n",
    "--------------------------------------\n",
    "load \"io\".\n",
    "\n",
    "-- A testing function with multiple patterns\n",
    "function testFunction\n",
    "    with 1 do --will SUBSUME 1 \n",
    "        return 1.\n",
    "    orwith 2 do\n",
    "        return 2.\n",
    "    orwith 1 do\n",
    "        return 3.\n",
    "    end.\n",
    "    \n",
    "-- Evaluate the function with a test input.\n",
    "let x = testFunction( 1 ).\n",
    "\n",
    "-- If the function test worked, print the output we got.\n",
    "println( \"The value returned is: \" + x ).\n",
    "'''\n",
    "try:\n",
    "    interp(program, exceptions=True, tree_dump=False, do_walk=True, prologue=True )\n",
    "except Exception as e:\n",
    "    print(e)\n",
    "    pass\n",
    "else:\n",
    "    print(\"Error! Redundant pattern not detected!\")"
   ]
  },
  {
   "cell_type": "code",
   "execution_count": 26,
   "metadata": {},
   "outputs": [
    {
     "name": "stdout",
     "output_type": "stream",
     "text": [
      "Redundant Pattern Detected\n",
      "\tFunction: testFunction from file <input>\n",
      "\tPattern: (1,2,(x1,test_string)) on line 15\n",
      "\twill consume all matches for\n",
      "\tPattern: (1,2,(var,test_string)) on line 19\n"
     ]
    }
   ],
   "source": [
    "program = \\\n",
    "'''\n",
    "--------------------------------------\n",
    "-- patterns_test3.ast\n",
    "-- a simple program to test for\n",
    "-- subsumption detection in Asteroid.\n",
    "--------------------------------------\n",
    "-- By Timothy Colaneri\n",
    "--------------------------------------\n",
    "load \"io\".\n",
    "\n",
    "-- A testing function with multiple patterns\n",
    "function testFunction\n",
    "    with ( 1, 2, 3) do \n",
    "        return 1.\n",
    "    orwith ( 1, 2, ( x1, \"test_string\" ) ) do --will SUBSUME ( 1, 2, ( var,\"test_string\"))\n",
    "        return 2.\n",
    "    orwith ( x, y, z) do\n",
    "        return 3.\n",
    "    orwith ( 1, 2, ( var, \"test_string\" ) ) do\n",
    "        return 3\n",
    "    end.\n",
    "    \n",
    "-- Evaluate the function with a test input.\n",
    "let x = testFunction( 1 , 2 , 3 ).\n",
    "\n",
    "-- If the function test worked, print the output we got.\n",
    "println( \"The value returned is: \" + x ).\n",
    "'''\n",
    "try:\n",
    "    interp(program, exceptions=True, tree_dump=False, do_walk=True, prologue=True )\n",
    "except Exception as e:\n",
    "    print(e)\n",
    "    pass\n",
    "else:\n",
    "    print(\"Error! Redundant pattern not detected!\")"
   ]
  },
  {
   "cell_type": "code",
   "execution_count": 27,
   "metadata": {},
   "outputs": [
    {
     "name": "stdout",
     "output_type": "stream",
     "text": [
      "Redundant Pattern Detected\n",
      "\tFunction: testFunction from file <input>\n",
      "\tPattern: (x,y,z) on line 13\n",
      "\twill consume all matches for\n",
      "\tPattern: ((x1,y1),(x2,y2),(x3,y3)) on line 15\n"
     ]
    }
   ],
   "source": [
    "program = \\\n",
    "'''\n",
    "--------------------------------------\n",
    "-- patterns_test4.ast\n",
    "-- a simple program to test for\n",
    "-- subsumption detection in Asteroid.\n",
    "--------------------------------------\n",
    "-- By Timothy Colaneri\n",
    "--------------------------------------\n",
    "load \"io\".\n",
    "\n",
    "-- A testing function with multiple patterns\n",
    "function testFunction\n",
    "    with ( x, y, z) do  -- *** will SUBSUME ( (x,y), (x,y), (x,y) ) ***\n",
    "        return 1.\n",
    "    orwith ( (x1,y1), (x2,y2), (x3,y3) ) do \n",
    "        return 2.\n",
    "    end.\n",
    "    \n",
    "-- Evaluate the function with a test input.\n",
    "let x = testFunction( 1 , 2 , 3 ).\n",
    "\n",
    "-- If the function test worked, print the output we got.\n",
    "println( \"The value returned is: \" + x ).\n",
    "'''\n",
    "try:\n",
    "    interp(program, exceptions=True, tree_dump=False, do_walk=True, prologue=True )\n",
    "except Exception as e:\n",
    "    print(e)\n",
    "    pass\n",
    "else:\n",
    "    print(\"Error! Redundant pattern not detected!\")"
   ]
  },
  {
   "cell_type": "markdown",
   "metadata": {},
   "source": [
    "## Lists\n",
    "Includes head-tail patterns.   \n",
    "All of the programs should throw a RedundantPatternFound exception.\n",
    "  "
   ]
  },
  {
   "cell_type": "code",
   "execution_count": 28,
   "metadata": {},
   "outputs": [
    {
     "name": "stdout",
     "output_type": "stream",
     "text": [
      "Redundant Pattern Detected\n",
      "\tFunction: testFunction from file <input>\n",
      "\tPattern: [x,y] on line 13\n",
      "\twill consume all matches for\n",
      "\tPattern: [1,2] on line 15\n"
     ]
    }
   ],
   "source": [
    "program = \\\n",
    "'''\n",
    "--------------------------------------\n",
    "-- patterns_test5.ast\n",
    "-- a simple program to test for\n",
    "-- subsumption detection in Asteroid.\n",
    "--------------------------------------\n",
    "-- By Timothy Colaneri\n",
    "--------------------------------------\n",
    "load \"io\".\n",
    "\n",
    "-- A testing function with multiple patterns\n",
    "function testFunction\n",
    "    with [ x, y ] do  -- *** will SUBSUME [ 1, 2 ] ***\n",
    "        return 1.\n",
    "    orwith [ 1, 2 ] do \n",
    "        return 2.\n",
    "    end.\n",
    "    \n",
    "-- Evaluate the function with a test input.\n",
    "let x = testFunction[ 3 , 4 ].\n",
    "\n",
    "-- If the function test worked, print the output we got.\n",
    "println( \"The value returned is: \" + x ).\n",
    "'''\n",
    "try:\n",
    "    interp(program, exceptions=True, tree_dump=False, do_walk=True, prologue=True )\n",
    "except Exception as e:\n",
    "    print(e)\n",
    "    pass\n",
    "else:\n",
    "    print(\"Error! Redundant pattern not detected!\")"
   ]
  },
  {
   "cell_type": "code",
   "execution_count": 29,
   "metadata": {},
   "outputs": [
    {
     "name": "stdout",
     "output_type": "stream",
     "text": [
      "Redundant Pattern Detected\n",
      "\tFunction: testFunction from file <input>\n",
      "\tPattern: [head|tail] on line 15\n",
      "\twill consume all matches for\n",
      "\tPattern: [a,b,c,d] on line 17\n"
     ]
    }
   ],
   "source": [
    "program = \\\n",
    "'''\n",
    "--------------------------------------\n",
    "-- patterns_test6.ast\n",
    "-- a simple program to test for\n",
    "-- subsumption detection in Asteroid.\n",
    "--------------------------------------\n",
    "-- By Timothy Colaneri\n",
    "--------------------------------------\n",
    "load \"io\".\n",
    "\n",
    "-- A testing function with multiple patterns\n",
    "function testFunction\n",
    "    with [ x, y ] do  \n",
    "        return 1.\n",
    "    orwith [ head | tail ] do  -- *** will SUBSUME [ a, b, c, d ] ***\n",
    "        return 2.\n",
    "    orwith [ a, b, c, d ] do \n",
    "        return 3.    \n",
    "    end.\n",
    "    \n",
    "-- Evaluate the function with a test input.\n",
    "let x = testFunction[ 3 , 4 ].\n",
    "\n",
    "-- If the function test worked, print the output we got.\n",
    "println( \"The value returned is: \" + x ).\n",
    "'''\n",
    "try:\n",
    "    interp(program, exceptions=True, tree_dump=False, do_walk=True, prologue=True )\n",
    "except Exception as e:\n",
    "    print(e)\n",
    "    pass\n",
    "else:\n",
    "    print(\"Error! Redundant pattern not detected!\")"
   ]
  },
  {
   "cell_type": "code",
   "execution_count": 30,
   "metadata": {},
   "outputs": [
    {
     "name": "stdout",
     "output_type": "stream",
     "text": [
      "Redundant Pattern Detected\n",
      "\tFunction: testFunction from file <input>\n",
      "\tPattern: [h1|h2|h3|tail] on line 13\n",
      "\twill consume all matches for\n",
      "\tPattern: [h1|h2|h3|h4|tail] on line 15\n"
     ]
    }
   ],
   "source": [
    "program = \\\n",
    "'''\n",
    "--------------------------------------\n",
    "-- patterns_test7.ast\n",
    "-- a simple program to test for\n",
    "-- subsumption detection in Asteroid.\n",
    "--------------------------------------\n",
    "-- By Timothy Colaneri\n",
    "--------------------------------------\n",
    "load \"io\".\n",
    "\n",
    "-- A testing function with multiple patterns\n",
    "function testFunction\n",
    "    with [ h1 | h2 | h3 |  tail ] do  -- *** will SUBSUME [ h1 | h2 | h3 | h4 | tail ] ***\n",
    "        return 1.\n",
    "    orwith [ h1 | h2 | h3 | h4 | tail ] do\n",
    "        return 2. \n",
    "    orwith [ h1 | tail ] do -- ** will not catch ** can still make matches others can't! ex. [ 1, 2]\n",
    "        return 3. \n",
    "    end.\n",
    "    \n",
    "-- Evaluate the function with a test input.\n",
    "let x = testFunction[ 3 , 4 ].\n",
    "\n",
    "-- If the function test worked, print the output we got.\n",
    "println( \"The value returned is: \" + x ).\n",
    "'''\n",
    "try:\n",
    "    interp(program, exceptions=True, tree_dump=False, do_walk=True, prologue=True )\n",
    "except Exception as e:\n",
    "    print(e)\n",
    "    pass\n",
    "else:\n",
    "    print(\"Error! Redundant pattern not detected!\")"
   ]
  },
  {
   "cell_type": "code",
   "execution_count": 31,
   "metadata": {},
   "outputs": [
    {
     "name": "stdout",
     "output_type": "stream",
     "text": [
      "Redundant Pattern Detected\n",
      "\tFunction: testFunction from file <input>\n",
      "\tPattern: [1|2|3|4|tail] on line 13\n",
      "\twill consume all matches for\n",
      "\tPattern: [1,2,3,4] on line 15\n"
     ]
    }
   ],
   "source": [
    "program = \\\n",
    "'''\n",
    "--------------------------------------\n",
    "-- patterns_test8.ast\n",
    "-- a simple program to test for\n",
    "-- subsumption detection in Asteroid.\n",
    "--------------------------------------\n",
    "-- By Timothy Colaneri\n",
    "--------------------------------------\n",
    "load \"io\".\n",
    "\n",
    "-- A testing function with multiple patterns\n",
    "function testFunction\n",
    "    with [ 1 | 2 | 3 | 4 | tail ] do  -- *** will SUBSUME [1, 2, 3, 4 ] ***\n",
    "        return 1.\n",
    "    orwith [ 1, 2, 3, 4 ] do\n",
    "        return 2. \n",
    "    orwith [ h1 | tail ] do \n",
    "        return 3. \n",
    "    orwith [] do\n",
    "        return 4.\n",
    "    end.\n",
    "    \n",
    "-- Evaluate the function with a test input.\n",
    "let x = testFunction[ 3 , 4 ].\n",
    "\n",
    "-- If the function test worked, print the output we got.\n",
    "println( \"The value returned is: \" + x ).\n",
    "'''\n",
    "try:\n",
    "    interp(program, exceptions=True, tree_dump=False, do_walk=True, prologue=True )\n",
    "except Exception as e:\n",
    "    print(e)\n",
    "    pass\n",
    "else:\n",
    "    print(\"Error! Redundant pattern not detected!\")"
   ]
  },
  {
   "cell_type": "markdown",
   "metadata": {},
   "source": [
    "# Named Patterns"
   ]
  },
  {
   "cell_type": "code",
   "execution_count": 32,
   "metadata": {},
   "outputs": [
    {
     "name": "stdout",
     "output_type": "stream",
     "text": [
      "Redundant Pattern Detected\n",
      "\tFunction: testFunction from file <input>\n",
      "\tPattern: person1:(fname,lname) on line 13\n",
      "\twill consume all matches for\n",
      "\tPattern: location:(long,lat) on line 17\n"
     ]
    }
   ],
   "source": [
    "program = \\\n",
    "'''\n",
    "--------------------------------------\n",
    "-- patterns_test8.ast\n",
    "-- a simple program to test for\n",
    "-- subsumption detection in Asteroid.\n",
    "--------------------------------------\n",
    "-- By Timothy Colaneri\n",
    "--------------------------------------\n",
    "load \"io\".\n",
    "\n",
    "-- A testing function with multiple patterns\n",
    "function testFunction\n",
    "    with person1:( fname, lname) do  -- *** will SUBSUME location:( long, lat ) ***\n",
    "        return 1.\n",
    "    orwith person2:( fname, lname1, lname2) do\n",
    "        return 2.\n",
    "    orwith location:( long, lat ) do \n",
    "        return 3. \n",
    "    orwith () do\n",
    "        return 4.\n",
    "    end.\n",
    "    \n",
    "-- Evaluate the function with a test input.\n",
    "let x = testFunction( 3 , 4 ).\n",
    "\n",
    "-- If the function test worked, print the output we got.\n",
    "println( \"The value returned is: \" + x ).\n",
    "'''\n",
    "try:\n",
    "    interp(program, exceptions=True, tree_dump=False, do_walk=True, prologue=True )\n",
    "except Exception as e:\n",
    "    print(e)\n",
    "    pass\n",
    "else:\n",
    "    print(\"Error! Redundant pattern not detected!\")"
   ]
  },
  {
   "cell_type": "code",
   "execution_count": 33,
   "metadata": {},
   "outputs": [
    {
     "name": "stdout",
     "output_type": "stream",
     "text": [
      "Redundant Pattern Detected\n",
      "\tFunction: testFunction from file <input>\n",
      "\tPattern: person1:(fname,lname) on line 13\n",
      "\twill consume all matches for\n",
      "\tPattern: (x,y) on line 17\n"
     ]
    }
   ],
   "source": [
    "program = \\\n",
    "'''\n",
    "--------------------------------------\n",
    "-- patterns_test9.ast\n",
    "-- a simple program to test for\n",
    "-- subsumption detection in Asteroid.\n",
    "--------------------------------------\n",
    "-- By Timothy Colaneri\n",
    "--------------------------------------\n",
    "load \"io\".\n",
    "\n",
    "-- A testing function with multiple patterns\n",
    "function testFunction\n",
    "    with person1:( fname, lname) do  -- *** will SUBSUME (x, y) ***\n",
    "        return 1.\n",
    "    orwith person2:( fname, lname1, lname2) do\n",
    "        return 2.\n",
    "    orwith ( x, y ) do \n",
    "        return 3. \n",
    "    orwith () do\n",
    "        return 4.\n",
    "    end.\n",
    "    \n",
    "-- Evaluate the function with a test input.\n",
    "let x = testFunction( 3 , 4 ).\n",
    "\n",
    "-- If the function test worked, print the output we got.\n",
    "println( \"The value returned is: \" + x ).\n",
    "'''\n",
    "try:\n",
    "    interp(program, exceptions=True, tree_dump=False, do_walk=True, prologue=True )\n",
    "except Exception as e:\n",
    "    print(e)\n",
    "    pass\n",
    "else:\n",
    "    print(\"Error! Redundant pattern not detected!\")"
   ]
  },
  {
   "cell_type": "code",
   "execution_count": 34,
   "metadata": {},
   "outputs": [
    {
     "name": "stdout",
     "output_type": "stream",
     "text": [
      "Redundant Pattern Detected\n",
      "\tFunction: testFunction from file <input>\n",
      "\tPattern: (fname,lname) on line 13\n",
      "\twill consume all matches for\n",
      "\tPattern: coord:(x,y) on line 17\n"
     ]
    }
   ],
   "source": [
    "program = \\\n",
    "'''\n",
    "--------------------------------------\n",
    "-- patterns_test10.ast\n",
    "-- a simple program to test for\n",
    "-- subsumption detection in Asteroid.\n",
    "--------------------------------------\n",
    "-- By Timothy Colaneri\n",
    "--------------------------------------\n",
    "load \"io\".\n",
    "\n",
    "-- A testing function with multiple patterns\n",
    "function testFunction\n",
    "    with ( fname, lname) do  -- *** will SUBSUME (x, y) ***\n",
    "        return 1.\n",
    "    orwith person2:( fname, lname1, lname2) do\n",
    "        return 2.\n",
    "    orwith coord:( x, y ) do \n",
    "        return 3. \n",
    "    orwith () do\n",
    "        return 4.\n",
    "    end.\n",
    "    \n",
    "-- Evaluate the function with a test input.\n",
    "let x = testFunction( 3 , 4 ).\n",
    "\n",
    "-- If the function test worked, print the output we got.\n",
    "println( \"The value returned is: \" + x ).\n",
    "'''\n",
    "try:\n",
    "    interp(program, exceptions=True, tree_dump=False, do_walk=True, prologue=True )\n",
    "except Exception as e:\n",
    "    print(e)\n",
    "    pass\n",
    "else:\n",
    "    print(\"Error! Redundant pattern not detected!\")"
   ]
  },
  {
   "cell_type": "code",
   "execution_count": 35,
   "metadata": {},
   "outputs": [
    {
     "name": "stdout",
     "output_type": "stream",
     "text": [
      "Redundant Pattern Detected\n",
      "\tFunction: testFunction from file <input>\n",
      "\tPattern: person:[(fname,lname)|tail] on line 13\n",
      "\twill consume all matches for\n",
      "\tPattern: person:[(fname1,lname1)|(fname2,lname2)|tail] on line 17\n"
     ]
    }
   ],
   "source": [
    "program = \\\n",
    "'''\n",
    "--------------------------------------\n",
    "-- patterns_test10.ast\n",
    "-- a simple program to test for\n",
    "-- subsumption detection in Asteroid.\n",
    "--------------------------------------\n",
    "-- By Timothy Colaneri\n",
    "--------------------------------------\n",
    "load \"io\".\n",
    "\n",
    "-- A testing function with multiple patterns\n",
    "function testFunction\n",
    "    with person:[( fname, lname)| tail] do  -- *** will SUBSUME [( fname1, lname1)|( fname2, lname2)| tail] ***\n",
    "        return 1.\n",
    "    orwith person:( fname, lname1, lname2) do\n",
    "        return 2.\n",
    "    orwith person:[( fname1, lname1)|( fname2, lname2)| tail] do \n",
    "        return 3. \n",
    "    orwith () do\n",
    "        return 4.\n",
    "    end.\n",
    "    \n",
    "-- Evaluate the function with a test input.\n",
    "let x = testFunction[ (test,name) ].\n",
    "\n",
    "-- If the function test worked, print the output we got.\n",
    "println( \"The value returned is: \" + x ).\n",
    "'''\n",
    "try:\n",
    "    interp(program, exceptions=True, tree_dump=False, do_walk=True, prologue=True )\n",
    "except Exception as e:\n",
    "    print(e)\n",
    "    pass\n",
    "else:\n",
    "    print(\"Error! Redundant pattern not detected!\")"
   ]
  },
  {
   "cell_type": "markdown",
   "metadata": {},
   "source": [
    "# Typeclass Patterns"
   ]
  },
  {
   "cell_type": "code",
   "execution_count": 36,
   "metadata": {},
   "outputs": [
    {
     "name": "stdout",
     "output_type": "stream",
     "text": [
      "Redundant Pattern Detected\n",
      "\tFunction: fact from file <input>\n",
      "\tPattern: n:integer on line 13\n",
      "\twill consume all matches for\n",
      "\tPattern: n:integer on line 15\n"
     ]
    }
   ],
   "source": [
    "program = \\\n",
    "'''\n",
    "--------------------------------------\n",
    "-- patterns_test11.ast\n",
    "-- a simple program to test for\n",
    "-- subsumption detection in Asteroid.\n",
    "--------------------------------------\n",
    "--------------------------------------\n",
    "load \"io\".\n",
    "\n",
    "function fact\n",
    "    with 0 do\n",
    "        return 1\n",
    "    orwith (n:%integer) do\n",
    "        return n * fact (n-1).\n",
    "    orwith (n:%integer) do\n",
    "        throw Error(\"factorial is not defined for \"+n).\n",
    "    end.\n",
    "    \n",
    "-- Evaluate the function with a test input.\n",
    "let x = fact( 5 ).\n",
    "\n",
    "-- If the function test worked, print the output we got.\n",
    "println( \"The value returned is: \" + x ). \n",
    "'''\n",
    "try:\n",
    "    interp(program, exceptions=True, tree_dump=False, do_walk=True, prologue=True )\n",
    "except Exception as e:\n",
    "    print(e)\n",
    "    pass\n",
    "else:\n",
    "    print(\"Error! Redundant pattern not detected!\")"
   ]
  },
  {
   "cell_type": "code",
   "execution_count": 37,
   "metadata": {},
   "outputs": [
    {
     "name": "stdout",
     "output_type": "stream",
     "text": [
      "Redundant Pattern Detected\n",
      "\tFunction: testFunction from file <input>\n",
      "\tPattern: (n:integer,m:real) on line 15\n",
      "\twill consume all matches for\n",
      "\tPattern: (value1:integer,value2:real) on line 17\n"
     ]
    }
   ],
   "source": [
    "program = \\\n",
    "'''\n",
    "--------------------------------------\n",
    "-- patterns_test12.ast\n",
    "-- a simple program to test for\n",
    "-- subsumption detection in Asteroid.\n",
    "--------------------------------------\n",
    "--------------------------------------\n",
    "load \"io\".\n",
    "\n",
    "function testFunction\n",
    "    with 0 do\n",
    "        return 1.\n",
    "    orwith (x:%integer, y:%integer ) do\n",
    "        return 2.\n",
    "    orwith (n:%integer, m:%real) do\n",
    "        return 3.\n",
    "    orwith (value1:%integer, value2:%real) do\n",
    "        return 4.\n",
    "    end.\n",
    "    \n",
    "-- Evaluate the function with a test input.\n",
    "let x = testFunction( 5,1 ).\n",
    "\n",
    "-- If the function test worked, print the output we got.\n",
    "println( \"The value returned is: \" + x  ). \n",
    "'''\n",
    "try:\n",
    "    interp(program, exceptions=True, tree_dump=False, do_walk=True, prologue=True )\n",
    "except Exception as e:\n",
    "    print(e)\n",
    "    pass\n",
    "else:\n",
    "    print(\"Error! Redundant pattern not detected!\")"
   ]
  },
  {
   "cell_type": "code",
   "execution_count": 38,
   "metadata": {},
   "outputs": [
    {
     "name": "stdout",
     "output_type": "stream",
     "text": [
      "Redundant Pattern Detected\n",
      "\tFunction: testFunction from file <input>\n",
      "\tPattern: (var1,var2) on line 13\n",
      "\twill consume all matches for\n",
      "\tPattern: (x:integer,y:integer) on line 15\n"
     ]
    }
   ],
   "source": [
    "program = \\\n",
    "'''\n",
    "--------------------------------------\n",
    "-- patterns_test13.ast\n",
    "-- a simple program to test for\n",
    "-- subsumption detection in Asteroid.\n",
    "--------------------------------------\n",
    "--------------------------------------\n",
    "load \"io\".\n",
    "\n",
    "function testFunction\n",
    "    with 0 do\n",
    "        return 1.\n",
    "    orwith ( var1 , var2 ) do\n",
    "        return -1.\n",
    "    orwith (x:%integer, y:%integer ) do\n",
    "        return 2.\n",
    "    orwith (n:%real, m:%real) do\n",
    "        return 3.\n",
    "    end.\n",
    "    \n",
    "-- Evaluate the function with a test input.\n",
    "let x = testFunction( 5,1 ).\n",
    "\n",
    "-- If the function test worked, print the output we got.\n",
    "println( \"The value returned is: \" + x  ). \n",
    "'''\n",
    "try:\n",
    "    interp(program, exceptions=True, tree_dump=False, do_walk=True, prologue=True )\n",
    "except Exception as e:\n",
    "    print(e)\n",
    "    pass\n",
    "else:\n",
    "    print(\"Error! Redundant pattern not detected!\")"
   ]
  },
  {
   "cell_type": "code",
   "execution_count": 39,
   "metadata": {},
   "outputs": [
    {
     "name": "stdout",
     "output_type": "stream",
     "text": [
      "Redundant Pattern Detected\n",
      "\tFunction: testFunction from file <input>\n",
      "\tPattern: x:tuple on line 11\n",
      "\twill consume all matches for\n",
      "\tPattern: (x:integer,y:integer) on line 13\n"
     ]
    }
   ],
   "source": [
    "program = \\\n",
    "'''\n",
    "--------------------------------------\n",
    "-- patterns_test14.ast\n",
    "-- a simple program to test for\n",
    "-- subsumption detection in Asteroid.\n",
    "--------------------------------------\n",
    "--------------------------------------\n",
    "load \"io\".\n",
    "\n",
    "function testFunction\n",
    "    with x:%tuple do\n",
    "        return 1.\n",
    "    orwith (x:%integer, y:%integer ) do\n",
    "        return 2.\n",
    "    orwith (n:%real, m:%real) do\n",
    "        return 3.\n",
    "    orwith ( x, y, z) do\n",
    "        return 4.\n",
    "    end.\n",
    "    \n",
    "-- Evaluate the function with a test input.\n",
    "let x = testFunction( (5,1) ).\n",
    "\n",
    "-- If the function test worked, print the output we got.\n",
    "println( \"The value returned is: \" + x  ). \n",
    "'''\n",
    "try:\n",
    "    interp(program, exceptions=True, tree_dump=False, do_walk=True, prologue=True )\n",
    "except Exception as e:\n",
    "    print(e)\n",
    "    pass\n",
    "else:\n",
    "    print(\"Error! Redundant pattern not detected!\")"
   ]
  },
  {
   "cell_type": "code",
   "execution_count": 40,
   "metadata": {},
   "outputs": [
    {
     "name": "stdout",
     "output_type": "stream",
     "text": [
      "Redundant Pattern Detected\n",
      "\tFunction: testFunction from file <input>\n",
      "\tPattern: x:list on line 11\n",
      "\twill consume all matches for\n",
      "\tPattern: [head1|head2|tail] on line 17\n"
     ]
    }
   ],
   "source": [
    "program = \\\n",
    "'''\n",
    "--------------------------------------\n",
    "-- patterns_test15.ast\n",
    "-- a simple program to test for\n",
    "-- subsumption detection in Asteroid.\n",
    "--------------------------------------\n",
    "--------------------------------------\n",
    "load \"io\".\n",
    "\n",
    "function testFunction\n",
    "    with x:%list do\n",
    "        return 1.\n",
    "    orwith (x:%integer, y:%integer ) do\n",
    "        return 2.\n",
    "    orwith (n:%real, m:%real) do\n",
    "        return 3.\n",
    "    orwith [ head1 | head2 | tail ] do\n",
    "        return 4.\n",
    "    end.\n",
    "    \n",
    "-- Evaluate the function with a test input.\n",
    "let x = testFunction( (5,1) ).\n",
    "\n",
    "-- If the function test worked, print the output we got.\n",
    "println( \"The value returned is: \" + x  ). \n",
    "'''\n",
    "try:\n",
    "    interp(program, exceptions=True, tree_dump=False, do_walk=True, prologue=True )\n",
    "except Exception as e:\n",
    "    print(e)\n",
    "    pass\n",
    "else:\n",
    "    print(\"Error! Redundant pattern not detected!\")"
   ]
  },
  {
   "cell_type": "markdown",
   "metadata": {},
   "source": [
    "# Structures and Objects"
   ]
  },
  {
   "cell_type": "code",
   "execution_count": 41,
   "metadata": {},
   "outputs": [
    {
     "name": "stdout",
     "output_type": "stream",
     "text": [
      "Redundant Pattern Detected\n",
      "\tFunction: testFunction from file <input>\n",
      "\tPattern: Person(George,32,M) on line 24\n",
      "\twill consume all matches for\n",
      "\tPattern: Person(George,32,M) on line 28\n"
     ]
    }
   ],
   "source": [
    "program = \\\n",
    "'''\n",
    "load \"io\".\n",
    "load \"util\".\n",
    "\n",
    "structure Person with\n",
    "    data name.\n",
    "    data age.\n",
    "    data gender.\n",
    "    end\n",
    "\n",
    "-- define a list of persons\n",
    "let people = [\n",
    "    Person(\"George\", 32, \"M\"),\n",
    "    Person(\"Sophie\", 46, \"F\"),\n",
    "    Person(\"Oliver\", 21, \"X\")\n",
    "    ].\n",
    "\n",
    "-- print names that contain 'p'\n",
    "for Person(name:\".*p.*\",_,_) in people do\n",
    "  println name.\n",
    "  end\n",
    "  \n",
    "function testFunction\n",
    "    with Person(\"George\", 32, \"M\") do\n",
    "        return 1.\n",
    "    orwith Person(\"Sophie\", 46, \"F\") do\n",
    "        return 2.\n",
    "    orwith Person(\"George\", 32, \"M\") do\n",
    "        return 3.\n",
    "    end.\n",
    "    \n",
    "let x = testFunction( Person(\"George\", 32, \"M\") ).\n",
    "println ( x ).\n",
    "\n",
    "'''\n",
    "\n",
    "try:\n",
    "    interp(program, exceptions=True, tree_dump=False, do_walk=True, prologue=True )\n",
    "except Exception as e:\n",
    "    print(e)\n",
    "    pass\n",
    "else:\n",
    "    print(\"Error! Redundant pattern not detected!\")"
   ]
  },
  {
   "cell_type": "code",
   "execution_count": 42,
   "metadata": {},
   "outputs": [
    {
     "name": "stdout",
     "output_type": "stream",
     "text": [
      "Redundant Pattern Detected\n",
      "\tFunction: reduce from file <input>\n",
      "\tPattern: add(x,y) on line 16\n",
      "\twill consume all matches for\n",
      "\tPattern: add(x,0) on line 18\n"
     ]
    }
   ],
   "source": [
    "program = \\\n",
    "'''\n",
    "-- implements Peano addition on terms\n",
    "load \"io\".\n",
    "load \"util\".\n",
    "\n",
    "structure S with\n",
    "    data x.\n",
    "    end \n",
    "    \n",
    "structure add with\n",
    "    data left.\n",
    "    data right.\n",
    "    end\n",
    "\n",
    "function reduce\n",
    "    with add(x,y) do\n",
    "        return 1.\n",
    "    orwith add(x,0) do      \n",
    "        return reduce(x).\n",
    "    orwith add(x,S(y))  do\n",
    "        return S(reduce(add(x,y))).\n",
    "    orwith term do     \n",
    "        return term.\n",
    "    end \n",
    "    \n",
    "println(reduce(add(add(add(S(S(0)),S(S(S(0)))),S(0)),S(0)))).\n",
    "'''\n",
    "\n",
    "try:\n",
    "    interp(program, exceptions=True, tree_dump=False, do_walk=True, prologue=True )\n",
    "except Exception as e:\n",
    "    print(e)\n",
    "    pass\n",
    "else:\n",
    "    print(\"Error! Redundant pattern not detected!\")"
   ]
  },
  {
   "cell_type": "markdown",
   "metadata": {},
   "source": [
    "### Still a work in progress"
   ]
  },
  {
   "cell_type": "code",
   "execution_count": null,
   "metadata": {},
   "outputs": [],
   "source": []
  }
 ],
 "metadata": {
  "kernelspec": {
   "display_name": "Python 3",
   "language": "python",
   "name": "python3"
  },
  "language_info": {
   "codemirror_mode": {
    "name": "ipython",
    "version": 3
   },
   "file_extension": ".py",
   "mimetype": "text/x-python",
   "name": "python",
   "nbconvert_exporter": "python",
   "pygments_lexer": "ipython3",
   "version": "3.7.3"
  }
 },
 "nbformat": 4,
 "nbformat_minor": 2
}

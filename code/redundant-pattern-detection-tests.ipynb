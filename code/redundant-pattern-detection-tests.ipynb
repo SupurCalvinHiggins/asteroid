{
 "cells": [
  {
   "cell_type": "markdown",
   "metadata": {},
   "source": [
    "# Redundant Pattern Detection Tests"
   ]
  },
  {
   "cell_type": "markdown",
   "metadata": {},
   "source": [
    "This is a redundant pattern detection test suite for the Asteroid programming language.\n",
    "\n",
    "This test suite will demonstrate many of the different situations in which a redundat pattern will be detected.\n",
    "\n"
   ]
  },
  {
   "cell_type": "code",
   "execution_count": 1,
   "metadata": {},
   "outputs": [],
   "source": [
    "#Import the actual Asteroid interpreter.\n",
    "from asteroid_interp import interp"
   ]
  },
  {
   "cell_type": "markdown",
   "metadata": {},
   "source": [
    "## Tuples, Variables(IDs), Integers\n",
    "  \n",
    "Below are several examples of Asteroid programs with redundant patterns in functions that are composed of Tuples, Variables, and Integers. The programs are correct Asteroid programs except for the redundant patterns.\n",
    "\n",
    "\n",
    "The programs should all throw a \"RedundantPatternFound\" exception, which will then be caught and have its message printed to the console."
   ]
  },
  {
   "cell_type": "code",
   "execution_count": 2,
   "metadata": {},
   "outputs": [
    {
     "name": "stdout",
     "output_type": "stream",
     "text": [
      "Redundant Pattern Detected\n",
      "\tFunction: testFunction from file <input>\n",
      "\tPattern: x on line 12\n",
      "\twill consume all matches for\n",
      "\tPattern: (1,2,z) on line 14\n"
     ]
    }
   ],
   "source": [
    "program = \\\n",
    "'''\n",
    "--------------------------------------\n",
    "-- patterns_test0.ast\n",
    "-- a simple program to test for\n",
    "-- subsumption detection in Asteroid.\n",
    "--------------------------------------\n",
    "--------------------------------------\n",
    "load \"io\".\n",
    "\n",
    "-- A testing function with multiple patterns\n",
    "function testFunction\n",
    "    with x do         --will SUBSUME all other patterns\n",
    "        return 0.\n",
    "    orwith ( 1, 2, z) do\n",
    "        return 1.\n",
    "    orwith ( 1, y, z) do\n",
    "        return 2.\n",
    "    orwith ( x, y, z) do\n",
    "        return 3.\n",
    "    end.\n",
    "    \n",
    "-- Evaluate the function with a test input.\n",
    "let x = testFunction( 1 , 2 , 3 ).\n",
    "\n",
    "-- If the function test worked, print the output we got.\n",
    "println( \"The value returned is: \" + x ).\n",
    "'''\n",
    "try:\n",
    "    interp(program, exceptions=True, tree_dump=False, do_walk=True, prologue=True )\n",
    "except Exception as e:\n",
    "    print(e)\n",
    "    pass\n",
    "else:\n",
    "    print(\"Error! Redundant pattern not detected!\")"
   ]
  },
  {
   "cell_type": "code",
   "execution_count": 3,
   "metadata": {},
   "outputs": [
    {
     "name": "stdout",
     "output_type": "stream",
     "text": [
      "Redundant Pattern Detected\n",
      "\tFunction: testFunction from file <input>\n",
      "\tPattern: (1,value1,value2) on line 12\n",
      "\twill consume all matches for\n",
      "\tPattern: (1,y,z) on line 14\n"
     ]
    }
   ],
   "source": [
    "program = \\\n",
    "'''\n",
    "--------------------------------------\n",
    "-- patterns_test1.ast\n",
    "-- a simple program to test for\n",
    "-- subsumption detection in Asteroid.\n",
    "--------------------------------------\n",
    "--------------------------------------\n",
    "load \"io\".\n",
    "\n",
    "-- A testing function with multiple patterns\n",
    "function testFunction\n",
    "    with ( 1, value1, value2) do --will SUBSUME ( 1, y, z)\n",
    "        return 1.\n",
    "    orwith ( 1, y, z) do\n",
    "        return 2.\n",
    "    orwith ( x, y, z) do\n",
    "        return 3.\n",
    "    end.\n",
    "    \n",
    "-- Evaluate the function with a test input.\n",
    "let x = testFunction( 1 , 2 , 3 ).\n",
    "\n",
    "-- If the function test worked, print the output we got.\n",
    "println( \"The value returned is: \" + x ).\n",
    "'''\n",
    "try:\n",
    "    interp(program, exceptions=True, tree_dump=False, do_walk=True, prologue=True )\n",
    "except Exception as e:\n",
    "    print(e)\n",
    "    pass\n",
    "else:\n",
    "    print(\"Error! Redundant pattern not detected!\")"
   ]
  },
  {
   "cell_type": "code",
   "execution_count": 4,
   "metadata": {},
   "outputs": [
    {
     "name": "stdout",
     "output_type": "stream",
     "text": [
      "Redundant Pattern Detected\n",
      "\tFunction: testFunction from file <input>\n",
      "\tPattern: 1 on line 12\n",
      "\twill consume all matches for\n",
      "\tPattern: 1 on line 16\n"
     ]
    }
   ],
   "source": [
    "program = \\\n",
    "'''\n",
    "--------------------------------------\n",
    "-- patterns_test2.ast\n",
    "-- a simple program to test for\n",
    "-- subsumption detection in Asteroid.\n",
    "--------------------------------------\n",
    "--------------------------------------\n",
    "load \"io\".\n",
    "\n",
    "-- A testing function with multiple patterns\n",
    "function testFunction\n",
    "    with 1 do --will SUBSUME 1 \n",
    "        return 1.\n",
    "    orwith 2 do\n",
    "        return 2.\n",
    "    orwith 1 do\n",
    "        return 3.\n",
    "    end.\n",
    "    \n",
    "-- Evaluate the function with a test input.\n",
    "let x = testFunction( 1 ).\n",
    "\n",
    "-- If the function test worked, print the output we got.\n",
    "println( \"The value returned is: \" + x ).\n",
    "'''\n",
    "try:\n",
    "    interp(program, exceptions=True, tree_dump=False, do_walk=True, prologue=True )\n",
    "except Exception as e:\n",
    "    print(e)\n",
    "    pass\n",
    "else:\n",
    "    print(\"Error! Redundant pattern not detected!\")"
   ]
  },
  {
   "cell_type": "code",
   "execution_count": 5,
   "metadata": {},
   "outputs": [
    {
     "name": "stdout",
     "output_type": "stream",
     "text": [
      "Redundant Pattern Detected\n",
      "\tFunction: testFunction from file <input>\n",
      "\tPattern: (1,2,(x1,test_string)) on line 14\n",
      "\twill consume all matches for\n",
      "\tPattern: (1,2,(var,test_string)) on line 18\n"
     ]
    }
   ],
   "source": [
    "program = \\\n",
    "'''\n",
    "--------------------------------------\n",
    "-- patterns_test3.ast\n",
    "-- a simple program to test for\n",
    "-- subsumption detection in Asteroid.\n",
    "--------------------------------------\n",
    "--------------------------------------\n",
    "load \"io\".\n",
    "\n",
    "-- A testing function with multiple patterns\n",
    "function testFunction\n",
    "    with ( 1, 2, 3) do \n",
    "        return 1.\n",
    "    orwith ( 1, 2, ( x1, \"test_string\" ) ) do --will SUBSUME ( 1, 2, ( var,\"test_string\"))\n",
    "        return 2.\n",
    "    orwith ( x, y, z) do\n",
    "        return 3.\n",
    "    orwith ( 1, 2, ( var, \"test_string\" ) ) do\n",
    "        return 3\n",
    "    end.\n",
    "    \n",
    "-- Evaluate the function with a test input.\n",
    "let x = testFunction( 1 , 2 , 3 ).\n",
    "\n",
    "-- If the function test worked, print the output we got.\n",
    "println( \"The value returned is: \" + x ).\n",
    "'''\n",
    "try:\n",
    "    interp(program, exceptions=True, tree_dump=False, do_walk=True, prologue=True )\n",
    "except Exception as e:\n",
    "    print(e)\n",
    "    pass\n",
    "else:\n",
    "    print(\"Error! Redundant pattern not detected!\")"
   ]
  },
  {
   "cell_type": "code",
   "execution_count": 6,
   "metadata": {},
   "outputs": [
    {
     "name": "stdout",
     "output_type": "stream",
     "text": [
      "Redundant Pattern Detected\n",
      "\tFunction: testFunction from file <input>\n",
      "\tPattern: (x,y,z) on line 12\n",
      "\twill consume all matches for\n",
      "\tPattern: ((x1,y1),(x2,y2),(x3,y3)) on line 14\n"
     ]
    }
   ],
   "source": [
    "program = \\\n",
    "'''\n",
    "--------------------------------------\n",
    "-- patterns_test4.ast\n",
    "-- a simple program to test for\n",
    "-- subsumption detection in Asteroid.\n",
    "--------------------------------------\n",
    "--------------------------------------\n",
    "load \"io\".\n",
    "\n",
    "-- A testing function with multiple patterns\n",
    "function testFunction\n",
    "    with ( x, y, z) do  -- *** will SUBSUME ( (x,y), (x,y), (x,y) ) ***\n",
    "        return 1.\n",
    "    orwith ( (x1,y1), (x2,y2), (x3,y3) ) do \n",
    "        return 2.\n",
    "    end.\n",
    "    \n",
    "-- Evaluate the function with a test input.\n",
    "let x = testFunction( 1 , 2 , 3 ).\n",
    "\n",
    "-- If the function test worked, print the output we got.\n",
    "println( \"The value returned is: \" + x ).\n",
    "'''\n",
    "try:\n",
    "    interp(program, exceptions=True, tree_dump=False, do_walk=True, prologue=True )\n",
    "except Exception as e:\n",
    "    print(e)\n",
    "    pass\n",
    "else:\n",
    "    print(\"Error! Redundant pattern not detected!\")"
   ]
  },
  {
   "cell_type": "markdown",
   "metadata": {},
   "source": [
    "# Strings"
   ]
  },
  {
   "cell_type": "code",
   "execution_count": 7,
   "metadata": {},
   "outputs": [
    {
     "name": "stdout",
     "output_type": "stream",
     "text": [
      "Redundant Pattern Detected\n",
      "\tFunction: testFunction from file <input>\n",
      "\tPattern: name2 on line 14\n",
      "\twill consume all matches for\n",
      "\tPattern: name2 on line 16\n"
     ]
    }
   ],
   "source": [
    "program = \\\n",
    "'''\n",
    "--------------------------------------\n",
    "-- patterns_test5.ast\n",
    "-- a simple program to test for\n",
    "-- subsumption detection in Asteroid.\n",
    "--------------------------------------\n",
    "--------------------------------------\n",
    "load \"io\".\n",
    "\n",
    "-- A testing function with multiple patterns\n",
    "function testFunction\n",
    "    with \"name1\" do  \n",
    "        return 1.\n",
    "    orwith \"name2\" do   -- *** will SUBSUME \"name2\" ***\n",
    "        return 2.\n",
    "    orwith \"name2\" do   -- duplicate pattern\n",
    "        return 2.\n",
    "    orwith \"name4\" do \n",
    "        return 2.\n",
    "    end.\n",
    "    \n",
    "-- Evaluate the function with a test input.\n",
    "let x = testFunction( \"name4\" ).\n",
    "\n",
    "-- If the function test worked, print the output we got.\n",
    "println( \"The value returned is: \" + x ).\n",
    "'''\n",
    "try:\n",
    "    interp(program, exceptions=True, tree_dump=False, do_walk=True, prologue=True )\n",
    "except Exception as e:\n",
    "    print(e)\n",
    "    pass\n",
    "else:\n",
    "    print(\"Error! Redundant pattern not detected!\")"
   ]
  },
  {
   "cell_type": "code",
   "execution_count": 8,
   "metadata": {},
   "outputs": [
    {
     "name": "stdout",
     "output_type": "stream",
     "text": [
      "Redundant Pattern Detected\n",
      "\tFunction: testFunction from file <input>\n",
      "\tPattern: abc on line 12\n",
      "\twill consume all matches for\n",
      "\tPattern: abcdef on line 14\n"
     ]
    }
   ],
   "source": [
    "program = \\\n",
    "'''\n",
    "--------------------------------------\n",
    "-- patterns_test6.ast\n",
    "-- a simple program to test for\n",
    "-- subsumption detection in Asteroid.\n",
    "--------------------------------------\n",
    "--------------------------------------\n",
    "load \"io\".\n",
    "\n",
    "-- A testing function with multiple patterns\n",
    "function testFunction\n",
    "    with \"abc\" do       -- All strings are treated as regular expressions when both unifing/subsuming\n",
    "        return 1.       -- this may be a bug.\n",
    "    orwith \"abcdef\" do  -- However, \"abcdef\" is redundant given this current behavior\n",
    "        return 2.\n",
    "    end.\n",
    "    \n",
    "-- Evaluate the function with a test input.\n",
    "let x = testFunction( \"name4\" ).\n",
    "\n",
    "-- If the function test worked, print the output we got.\n",
    "println( \"The value returned is: \" + x ).\n",
    "'''\n",
    "try:\n",
    "    interp(program, exceptions=True, tree_dump=False, do_walk=True, prologue=True )\n",
    "except Exception as e:\n",
    "    print(e)\n",
    "    pass\n",
    "else:\n",
    "    print(\"Error! Redundant pattern not detected!\")"
   ]
  },
  {
   "cell_type": "markdown",
   "metadata": {},
   "source": [
    "# Float / Double"
   ]
  },
  {
   "cell_type": "code",
   "execution_count": 9,
   "metadata": {},
   "outputs": [
    {
     "name": "stdout",
     "output_type": "stream",
     "text": [
      "Redundant Pattern Detected\n",
      "\tFunction: testFunction from file <input>\n",
      "\tPattern: 1.1 on line 12\n",
      "\twill consume all matches for\n",
      "\tPattern: 1.1 on line 18\n"
     ]
    }
   ],
   "source": [
    "program = \\\n",
    "'''\n",
    "--------------------------------------\n",
    "-- patterns_test7.ast\n",
    "-- a simple program to test for\n",
    "-- subsumption detection in Asteroid.\n",
    "--------------------------------------\n",
    "--------------------------------------\n",
    "load \"io\".\n",
    "\n",
    "-- A testing function with multiple patterns\n",
    "function testFunction\n",
    "    with 1.1 do       -- *** will subsume 1.1 \n",
    "        return 1. \n",
    "    orwith 1.2 do \n",
    "        return 2.\n",
    "    orwith 1.3 do \n",
    "        return 3.\n",
    "    orwith 1.1 do     -- *** duplicate pattern\n",
    "        return 4.     \n",
    "    end.\n",
    "    \n",
    "\n",
    "-- Evaluate the function with a test input.\n",
    "let x = 1.1.\n",
    "let y = testFunction( x ).\n",
    "\n",
    "-- If the function test worked, print the output we got.\n",
    "println( \"The value returned is: \" + y ).\n",
    "'''\n",
    "try:\n",
    "    interp(program, exceptions=True, tree_dump=False, do_walk=True, prologue=True )\n",
    "except Exception as e:\n",
    "    print(e)\n",
    "    pass\n",
    "else:\n",
    "    print(\"Error! Redundant pattern not detected!\")"
   ]
  },
  {
   "cell_type": "code",
   "execution_count": 10,
   "metadata": {},
   "outputs": [
    {
     "name": "stdout",
     "output_type": "stream",
     "text": [
      "Redundant Pattern Detected\n",
      "\tFunction: testFunction from file <input>\n",
      "\tPattern: 1.1 on line 12\n",
      "\twill consume all matches for\n",
      "\tPattern: 1.1 on line 18\n"
     ]
    }
   ],
   "source": [
    "program = \\\n",
    "'''\n",
    "--------------------------------------\n",
    "-- patterns_test8.ast\n",
    "-- a simple program to test for\n",
    "-- subsumption detection in Asteroid.\n",
    "--------------------------------------\n",
    "--------------------------------------\n",
    "load \"io\".\n",
    "\n",
    "-- A testing function with multiple patterns\n",
    "function testFunction\n",
    "    with 1.10 do       -- *** will subsume 1.10000...\n",
    "        return 1. \n",
    "    orwith 1.2 do \n",
    "        return 2.\n",
    "    orwith 1.3 do \n",
    "        return 3.\n",
    "    orwith 1.10000 do   -- *** duplicate pattern 1.10\n",
    "        return 4.     \n",
    "    end.\n",
    "    \n",
    "\n",
    "-- Evaluate the function with a test input.\n",
    "let x = 1.1.\n",
    "let y = testFunction( x ).\n",
    "\n",
    "-- If the function test worked, print the output we got.\n",
    "println( \"The value returned is: \" + y ).\n",
    "'''\n",
    "try:\n",
    "    interp(program, exceptions=True, tree_dump=False, do_walk=True, prologue=True )\n",
    "except Exception as e:\n",
    "    print(e)\n",
    "    pass\n",
    "else:\n",
    "    print(\"Error! Redundant pattern not detected!\")"
   ]
  },
  {
   "cell_type": "markdown",
   "metadata": {},
   "source": [
    "# Boolean Values"
   ]
  },
  {
   "cell_type": "code",
   "execution_count": 11,
   "metadata": {},
   "outputs": [
    {
     "name": "stdout",
     "output_type": "stream",
     "text": [
      "Redundant Pattern Detected\n",
      "\tFunction: testFunction from file <input>\n",
      "\tPattern: false on line 14\n",
      "\twill consume all matches for\n",
      "\tPattern: false on line 16\n"
     ]
    }
   ],
   "source": [
    "program = \\\n",
    "'''\n",
    "--------------------------------------\n",
    "-- patterns_test9.ast\n",
    "-- a simple program to test for\n",
    "-- subsumption detection in Asteroid.\n",
    "--------------------------------------\n",
    "--------------------------------------\n",
    "load \"io\".\n",
    "\n",
    "-- A testing function with multiple patterns\n",
    "function testFunction\n",
    "    with true do       \n",
    "        return 1. \n",
    "    orwith false do -- *** will subsume false\n",
    "        return 2.    \n",
    "    orwith false do -- *** duplicate pattern\n",
    "        return 2.  \n",
    "    end.\n",
    "    \n",
    "\n",
    "-- Evaluate the function with a test input.\n",
    "let x = true.\n",
    "let y = testFunction( x ).\n",
    "\n",
    "-- If the function test worked, print the output we got.\n",
    "println( \"The value returned is: \" + y ).\n",
    "'''\n",
    "try:\n",
    "    interp(program, exceptions=True, tree_dump=False, do_walk=True, prologue=True )\n",
    "except Exception as e:\n",
    "    print(e)\n",
    "    pass\n",
    "else:\n",
    "    print(\"Error! Redundant pattern not detected!\")"
   ]
  },
  {
   "cell_type": "markdown",
   "metadata": {},
   "source": [
    "# Regular Expressions"
   ]
  },
  {
   "cell_type": "code",
   "execution_count": 12,
   "metadata": {},
   "outputs": [
    {
     "name": "stdout",
     "output_type": "stream",
     "text": [
      "Redundant Pattern Detected\n",
      "\tFunction: test_function from file <input>\n",
      "\tPattern: .*p.* on line 12\n",
      "\twill consume all matches for\n",
      "\tPattern: .*http.* on line 14\n"
     ]
    }
   ],
   "source": [
    "program = \\\n",
    "'''\n",
    "--------------------------------------\n",
    "-- patterns_test10.ast\n",
    "-- a simple program to test for\n",
    "-- subsumption detection in Asteroid.\n",
    "--------------------------------------\n",
    "--------------------------------------\n",
    "load \"io\".\n",
    "load \"util\".\n",
    "\n",
    "function test_function \n",
    "  with \".*p.*\" do               -- RE \".*p.*\"will match to all \".*http.*\" and \".*https.*\"\n",
    "    return \"Found a p.\".\n",
    "  orwith \".*http.*\" do          --Redundant\n",
    "    return \"Found a url.\".\n",
    "  orwith \".*https.*\" do         --Redundant\n",
    "    return \"Found a secure url.\".\n",
    "  orwith \".*z.*\" do\n",
    "    return \"Found a z.\".\n",
    "  end.\n",
    "\n",
    "let var = test_function( \"test string z\" ).\n",
    "println ( var ).\n",
    "'''\n",
    "try:\n",
    "    interp(program, exceptions=True, tree_dump=False, do_walk=True, prologue=True )\n",
    "except Exception as e:\n",
    "    print(e)\n",
    "    pass\n",
    "else:\n",
    "    print(\"Error! Redundant pattern not detected!\")"
   ]
  },
  {
   "cell_type": "code",
   "execution_count": 13,
   "metadata": {},
   "outputs": [
    {
     "name": "stdout",
     "output_type": "stream",
     "text": [
      "Redundant Pattern Detected\n",
      "\tFunction: test_function from file <input>\n",
      "\tPattern: .*http.* on line 14\n",
      "\twill consume all matches for\n",
      "\tPattern: .*https.* on line 16\n"
     ]
    }
   ],
   "source": [
    "program = \\\n",
    "'''\n",
    "--------------------------------------\n",
    "-- patterns_test11.ast\n",
    "-- a simple program to test for\n",
    "-- subsumption detection in Asteroid.\n",
    "--------------------------------------\n",
    "--------------------------------------\n",
    "load \"io\".\n",
    "load \"util\".\n",
    "\n",
    "function test_function \n",
    "  with \".*q.*\" do               \n",
    "    return \"Found a p.\".\n",
    "  orwith \".*http.*\" do          -- RE \".*http.*\" will match to all \".*https.*\" patterns\n",
    "    return \"Found a url.\".\n",
    "  orwith \".*https.*\" do         --Redundant\n",
    "    return \"Found a secure url.\".\n",
    "  orwith \".*z.*\" do\n",
    "    return \"Found a z.\".\n",
    "  end.\n",
    "\n",
    "let var = test_function( \"test string z\" ).\n",
    "println ( var ).\n",
    "'''\n",
    "try:\n",
    "    interp(program, exceptions=True, tree_dump=False, do_walk=True, prologue=True )\n",
    "except Exception as e:\n",
    "    print(e)\n",
    "    pass\n",
    "else:\n",
    "    print(\"Error! Redundant pattern not detected!\")"
   ]
  },
  {
   "cell_type": "markdown",
   "metadata": {},
   "source": [
    "## Lists\n",
    "Includes head-tail patterns.   \n",
    "All of the programs should throw a RedundantPatternFound exception.\n",
    "  "
   ]
  },
  {
   "cell_type": "code",
   "execution_count": 14,
   "metadata": {},
   "outputs": [
    {
     "name": "stdout",
     "output_type": "stream",
     "text": [
      "Redundant Pattern Detected\n",
      "\tFunction: testFunction from file <input>\n",
      "\tPattern: [x,y] on line 12\n",
      "\twill consume all matches for\n",
      "\tPattern: [1,2] on line 14\n"
     ]
    }
   ],
   "source": [
    "program = \\\n",
    "'''\n",
    "--------------------------------------\n",
    "-- patterns_test12.ast\n",
    "-- a simple program to test for\n",
    "-- subsumption detection in Asteroid.\n",
    "--------------------------------------\n",
    "--------------------------------------\n",
    "load \"io\".\n",
    "\n",
    "-- A testing function with multiple patterns\n",
    "function testFunction\n",
    "    with [ x, y ] do  -- *** will SUBSUME [ 1, 2 ] ***\n",
    "        return 1.\n",
    "    orwith [ 1, 2 ] do \n",
    "        return 2.\n",
    "    end.\n",
    "    \n",
    "-- Evaluate the function with a test input.\n",
    "let x = testFunction[ 3 , 4 ].\n",
    "\n",
    "-- If the function test worked, print the output we got.\n",
    "println( \"The value returned is: \" + x ).\n",
    "'''\n",
    "try:\n",
    "    interp(program, exceptions=True, tree_dump=False, do_walk=True, prologue=True )\n",
    "except Exception as e:\n",
    "    print(e)\n",
    "    pass\n",
    "else:\n",
    "    print(\"Error! Redundant pattern not detected!\")"
   ]
  },
  {
   "cell_type": "code",
   "execution_count": 15,
   "metadata": {},
   "outputs": [
    {
     "name": "stdout",
     "output_type": "stream",
     "text": [
      "Redundant Pattern Detected\n",
      "\tFunction: testFunction from file <input>\n",
      "\tPattern: [head|tail] on line 15\n",
      "\twill consume all matches for\n",
      "\tPattern: [a,b,c,d] on line 17\n"
     ]
    }
   ],
   "source": [
    "program = \\\n",
    "'''\n",
    "--------------------------------------\n",
    "-- patterns_test13.ast\n",
    "-- a simple program to test for\n",
    "-- subsumption detection in Asteroid.\n",
    "--------------------------------------\n",
    "-- By Timothy Colaneri\n",
    "--------------------------------------\n",
    "load \"io\".\n",
    "\n",
    "-- A testing function with multiple patterns\n",
    "function testFunction\n",
    "    with [ x, y ] do  \n",
    "        return 1.\n",
    "    orwith [ head | tail ] do  -- *** will SUBSUME [ a, b, c, d ] ***\n",
    "        return 2.\n",
    "    orwith [ a, b, c, d ] do \n",
    "        return 3.    \n",
    "    end.\n",
    "    \n",
    "-- Evaluate the function with a test input.\n",
    "let x = testFunction[ 3 , 4 ].\n",
    "\n",
    "-- If the function test worked, print the output we got.\n",
    "println( \"The value returned is: \" + x ).\n",
    "'''\n",
    "try:\n",
    "    interp(program, exceptions=True, tree_dump=False, do_walk=True, prologue=True )\n",
    "except Exception as e:\n",
    "    print(e)\n",
    "    pass\n",
    "else:\n",
    "    print(\"Error! Redundant pattern not detected!\")"
   ]
  },
  {
   "cell_type": "code",
   "execution_count": 16,
   "metadata": {},
   "outputs": [
    {
     "name": "stdout",
     "output_type": "stream",
     "text": [
      "Redundant Pattern Detected\n",
      "\tFunction: testFunction from file <input>\n",
      "\tPattern: [h1|h2|h3|tail] on line 12\n",
      "\twill consume all matches for\n",
      "\tPattern: [h1|h2|h3|h4|tail] on line 14\n"
     ]
    }
   ],
   "source": [
    "program = \\\n",
    "'''\n",
    "--------------------------------------\n",
    "-- patterns_test14.ast\n",
    "-- a simple program to test for\n",
    "-- subsumption detection in Asteroid.\n",
    "--------------------------------------\n",
    "--------------------------------------\n",
    "load \"io\".\n",
    "\n",
    "-- A testing function with multiple patterns\n",
    "function testFunction\n",
    "    with [ h1 | h2 | h3 |  tail ] do  -- *** will SUBSUME [ h1 | h2 | h3 | h4 | tail ] ***\n",
    "        return 1.\n",
    "    orwith [ h1 | h2 | h3 | h4 | tail ] do\n",
    "        return 2. \n",
    "    orwith [ h1 | tail ] do -- ** will not catch ** can still make matches others can't! ex. [ 1, 2]\n",
    "        return 3. \n",
    "    end.\n",
    "    \n",
    "-- Evaluate the function with a test input.\n",
    "let x = testFunction[ 3 , 4 ].\n",
    "\n",
    "-- If the function test worked, print the output we got.\n",
    "println( \"The value returned is: \" + x ).\n",
    "'''\n",
    "try:\n",
    "    interp(program, exceptions=True, tree_dump=False, do_walk=True, prologue=True )\n",
    "except Exception as e:\n",
    "    print(e)\n",
    "    pass\n",
    "else:\n",
    "    print(\"Error! Redundant pattern not detected!\")"
   ]
  },
  {
   "cell_type": "code",
   "execution_count": 17,
   "metadata": {},
   "outputs": [
    {
     "name": "stdout",
     "output_type": "stream",
     "text": [
      "Redundant Pattern Detected\n",
      "\tFunction: testFunction from file <input>\n",
      "\tPattern: [1|2|3|4|tail] on line 12\n",
      "\twill consume all matches for\n",
      "\tPattern: [1,2,3,4] on line 14\n"
     ]
    }
   ],
   "source": [
    "program = \\\n",
    "'''\n",
    "--------------------------------------\n",
    "-- patterns_test15.ast\n",
    "-- a simple program to test for\n",
    "-- subsumption detection in Asteroid.\n",
    "--------------------------------------\n",
    "--------------------------------------\n",
    "load \"io\".\n",
    "\n",
    "-- A testing function with multiple patterns\n",
    "function testFunction\n",
    "    with [ 1 | 2 | 3 | 4 | tail ] do  -- *** will SUBSUME [1, 2, 3, 4 ] ***\n",
    "        return 1.\n",
    "    orwith [ 1, 2, 3, 4 ] do\n",
    "        return 2. \n",
    "    orwith [ h1 | tail ] do \n",
    "        return 3. \n",
    "    orwith [] do\n",
    "        return 4.\n",
    "    end.\n",
    "    \n",
    "-- Evaluate the function with a test input.\n",
    "let x = testFunction[ 3 , 4 ].\n",
    "\n",
    "-- If the function test worked, print the output we got.\n",
    "println( \"The value returned is: \" + x ).\n",
    "'''\n",
    "try:\n",
    "    interp(program, exceptions=True, tree_dump=False, do_walk=True, prologue=True )\n",
    "except Exception as e:\n",
    "    print(e)\n",
    "    pass\n",
    "else:\n",
    "    print(\"Error! Redundant pattern not detected!\")"
   ]
  },
  {
   "cell_type": "markdown",
   "metadata": {},
   "source": [
    "# Named Patterns"
   ]
  },
  {
   "cell_type": "code",
   "execution_count": 18,
   "metadata": {},
   "outputs": [
    {
     "name": "stdout",
     "output_type": "stream",
     "text": [
      "Redundant Pattern Detected\n",
      "\tFunction: testFunction from file <input>\n",
      "\tPattern: person1:(fname,lname) on line 12\n",
      "\twill consume all matches for\n",
      "\tPattern: location:(long,lat) on line 16\n"
     ]
    }
   ],
   "source": [
    "program = \\\n",
    "'''\n",
    "--------------------------------------\n",
    "-- patterns_test16.ast\n",
    "-- a simple program to test for\n",
    "-- subsumption detection in Asteroid.\n",
    "--------------------------------------\n",
    "--------------------------------------\n",
    "load \"io\".\n",
    "\n",
    "-- A testing function with multiple patterns\n",
    "function testFunction\n",
    "    with person1:( fname, lname) do  -- *** will SUBSUME location:( long, lat ) ***\n",
    "        return 1.\n",
    "    orwith person2:( fname, lname1, lname2) do\n",
    "        return 2.\n",
    "    orwith location:( long, lat ) do \n",
    "        return 3. \n",
    "    orwith () do\n",
    "        return 4.\n",
    "    end.\n",
    "    \n",
    "-- Evaluate the function with a test input.\n",
    "let x = testFunction( 3 , 4 ).\n",
    "\n",
    "-- If the function test worked, print the output we got.\n",
    "println( \"The value returned is: \" + x ).\n",
    "'''\n",
    "try:\n",
    "    interp(program, exceptions=True, tree_dump=False, do_walk=True, prologue=True )\n",
    "except Exception as e:\n",
    "    print(e)\n",
    "    pass\n",
    "else:\n",
    "    print(\"Error! Redundant pattern not detected!\")"
   ]
  },
  {
   "cell_type": "code",
   "execution_count": 19,
   "metadata": {},
   "outputs": [
    {
     "name": "stdout",
     "output_type": "stream",
     "text": [
      "Redundant Pattern Detected\n",
      "\tFunction: testFunction from file <input>\n",
      "\tPattern: person1:(fname,lname) on line 12\n",
      "\twill consume all matches for\n",
      "\tPattern: (x,y) on line 16\n"
     ]
    }
   ],
   "source": [
    "program = \\\n",
    "'''\n",
    "--------------------------------------\n",
    "-- patterns_test17.ast\n",
    "-- a simple program to test for\n",
    "-- subsumption detection in Asteroid.\n",
    "--------------------------------------\n",
    "--------------------------------------\n",
    "load \"io\".\n",
    "\n",
    "-- A testing function with multiple patterns\n",
    "function testFunction\n",
    "    with person1:( fname, lname) do  -- *** will SUBSUME (x, y) ***\n",
    "        return 1.\n",
    "    orwith person2:( fname, lname1, lname2) do\n",
    "        return 2.\n",
    "    orwith ( x, y ) do \n",
    "        return 3. \n",
    "    orwith () do\n",
    "        return 4.\n",
    "    end.\n",
    "    \n",
    "-- Evaluate the function with a test input.\n",
    "let x = testFunction( 3 , 4 ).\n",
    "\n",
    "-- If the function test worked, print the output we got.\n",
    "println( \"The value returned is: \" + x ).\n",
    "'''\n",
    "try:\n",
    "    interp(program, exceptions=True, tree_dump=False, do_walk=True, prologue=True )\n",
    "except Exception as e:\n",
    "    print(e)\n",
    "    pass\n",
    "else:\n",
    "    print(\"Error! Redundant pattern not detected!\")"
   ]
  },
  {
   "cell_type": "code",
   "execution_count": 20,
   "metadata": {},
   "outputs": [
    {
     "name": "stdout",
     "output_type": "stream",
     "text": [
      "Redundant Pattern Detected\n",
      "\tFunction: testFunction from file <input>\n",
      "\tPattern: (fname,lname) on line 12\n",
      "\twill consume all matches for\n",
      "\tPattern: coord:(x,y) on line 16\n"
     ]
    }
   ],
   "source": [
    "program = \\\n",
    "'''\n",
    "--------------------------------------\n",
    "-- patterns_test18.ast\n",
    "-- a simple program to test for\n",
    "-- subsumption detection in Asteroid.\n",
    "--------------------------------------\n",
    "--------------------------------------\n",
    "load \"io\".\n",
    "\n",
    "-- A testing function with multiple patterns\n",
    "function testFunction\n",
    "    with ( fname, lname) do  -- *** will SUBSUME (x, y) ***\n",
    "        return 1.\n",
    "    orwith person2:( fname, lname1, lname2) do\n",
    "        return 2.\n",
    "    orwith coord:( x, y ) do \n",
    "        return 3. \n",
    "    orwith () do\n",
    "        return 4.\n",
    "    end.\n",
    "    \n",
    "-- Evaluate the function with a test input.\n",
    "let x = testFunction( 3 , 4 ).\n",
    "\n",
    "-- If the function test worked, print the output we got.\n",
    "println( \"The value returned is: \" + x ).\n",
    "'''\n",
    "try:\n",
    "    interp(program, exceptions=True, tree_dump=False, do_walk=True, prologue=True )\n",
    "except Exception as e:\n",
    "    print(e)\n",
    "    pass\n",
    "else:\n",
    "    print(\"Error! Redundant pattern not detected!\")"
   ]
  },
  {
   "cell_type": "code",
   "execution_count": 21,
   "metadata": {},
   "outputs": [
    {
     "name": "stdout",
     "output_type": "stream",
     "text": [
      "Redundant Pattern Detected\n",
      "\tFunction: testFunction from file <input>\n",
      "\tPattern: person:[(fname,lname)|tail] on line 12\n",
      "\twill consume all matches for\n",
      "\tPattern: person:[(fname1,lname1)|(fname2,lname2)|tail] on line 16\n"
     ]
    }
   ],
   "source": [
    "program = \\\n",
    "'''\n",
    "--------------------------------------\n",
    "-- patterns_test19.ast\n",
    "-- a simple program to test for\n",
    "-- subsumption detection in Asteroid.\n",
    "--------------------------------------\n",
    "--------------------------------------\n",
    "load \"io\".\n",
    "\n",
    "-- A testing function with multiple patterns\n",
    "function testFunction\n",
    "    with person:[( fname, lname)| tail] do  -- *** will SUBSUME [( fname1, lname1)|( fname2, lname2)| tail] ***\n",
    "        return 1.\n",
    "    orwith person:( fname, lname1, lname2) do\n",
    "        return 2.\n",
    "    orwith person:[( fname1, lname1)|( fname2, lname2)| tail] do \n",
    "        return 3. \n",
    "    orwith () do\n",
    "        return 4.\n",
    "    end.\n",
    "    \n",
    "-- Evaluate the function with a test input.\n",
    "let x = testFunction[ (test,name) ].\n",
    "\n",
    "-- If the function test worked, print the output we got.\n",
    "println( \"The value returned is: \" + x ).\n",
    "'''\n",
    "try:\n",
    "    interp(program, exceptions=True, tree_dump=False, do_walk=True, prologue=True )\n",
    "except Exception as e:\n",
    "    print(e)\n",
    "    pass\n",
    "else:\n",
    "    print(\"Error! Redundant pattern not detected!\")"
   ]
  },
  {
   "cell_type": "markdown",
   "metadata": {},
   "source": [
    "# Typeclass Patterns"
   ]
  },
  {
   "cell_type": "code",
   "execution_count": 22,
   "metadata": {},
   "outputs": [
    {
     "name": "stdout",
     "output_type": "stream",
     "text": [
      "Redundant Pattern Detected\n",
      "\tFunction: fact from file <input>\n",
      "\tPattern: n:integer on line 13\n",
      "\twill consume all matches for\n",
      "\tPattern: n:integer on line 15\n"
     ]
    }
   ],
   "source": [
    "program = \\\n",
    "'''\n",
    "--------------------------------------\n",
    "-- patterns_test20.ast\n",
    "-- a simple program to test for\n",
    "-- subsumption detection in Asteroid.\n",
    "--------------------------------------\n",
    "--------------------------------------\n",
    "load \"io\".\n",
    "\n",
    "function fact\n",
    "    with 0 do\n",
    "        return 1\n",
    "    orwith (n:%integer) do   -- Will subsume pattern (n:%integer)\n",
    "        return n * fact (n-1).\n",
    "    orwith (n:%integer) do\n",
    "        throw Error(\"factorial is not defined for \"+n).\n",
    "    end.\n",
    "    \n",
    "-- Evaluate the function with a test input.\n",
    "let x = fact( 5 ).\n",
    "\n",
    "-- If the function test worked, print the output we got.\n",
    "println( \"The value returned is: \" + x ). \n",
    "'''\n",
    "try:\n",
    "    interp(program, exceptions=True, tree_dump=False, do_walk=True, prologue=True )\n",
    "except Exception as e:\n",
    "    print(e)\n",
    "    pass\n",
    "else:\n",
    "    print(\"Error! Redundant pattern not detected!\")"
   ]
  },
  {
   "cell_type": "code",
   "execution_count": 23,
   "metadata": {},
   "outputs": [
    {
     "name": "stdout",
     "output_type": "stream",
     "text": [
      "Redundant Pattern Detected\n",
      "\tFunction: testFunction from file <input>\n",
      "\tPattern: (n:integer,m:real) on line 15\n",
      "\twill consume all matches for\n",
      "\tPattern: (value1:integer,value2:real) on line 17\n"
     ]
    }
   ],
   "source": [
    "program = \\\n",
    "'''\n",
    "--------------------------------------\n",
    "-- patterns_test21.ast\n",
    "-- a simple program to test for\n",
    "-- subsumption detection in Asteroid.\n",
    "--------------------------------------\n",
    "--------------------------------------\n",
    "load \"io\".\n",
    "\n",
    "function testFunction\n",
    "    with 0 do\n",
    "        return 1.\n",
    "    orwith (x:%integer, y:%integer ) do\n",
    "        return 2.\n",
    "    orwith (n:%integer, m:%real) do   -- Will Subsume (value1:%integer, value2:%real)\n",
    "        return 3.\n",
    "    orwith (value1:%integer, value2:%real) do\n",
    "        return 4.\n",
    "    end.\n",
    "    \n",
    "-- Evaluate the function with a test input.\n",
    "let x = testFunction( 5,1 ).\n",
    "\n",
    "-- If the function test worked, print the output we got.\n",
    "println( \"The value returned is: \" + x  ). \n",
    "'''\n",
    "try:\n",
    "    interp(program, exceptions=True, tree_dump=False, do_walk=True, prologue=True )\n",
    "except Exception as e:\n",
    "    print(e)\n",
    "    pass\n",
    "else:\n",
    "    print(\"Error! Redundant pattern not detected!\")"
   ]
  },
  {
   "cell_type": "code",
   "execution_count": 24,
   "metadata": {},
   "outputs": [
    {
     "name": "stdout",
     "output_type": "stream",
     "text": [
      "Redundant Pattern Detected\n",
      "\tFunction: testFunction from file <input>\n",
      "\tPattern: (var1,var2) on line 13\n",
      "\twill consume all matches for\n",
      "\tPattern: (x:integer,y:integer) on line 15\n"
     ]
    }
   ],
   "source": [
    "program = \\\n",
    "'''\n",
    "--------------------------------------\n",
    "-- patterns_test22.ast\n",
    "-- a simple program to test for\n",
    "-- subsumption detection in Asteroid.\n",
    "--------------------------------------\n",
    "--------------------------------------\n",
    "load \"io\".\n",
    "\n",
    "function testFunction\n",
    "    with 0 do\n",
    "        return 1.\n",
    "    orwith ( var1 , var2 ) do          -- Will leave all following patterns redundant\n",
    "        return -1.\n",
    "    orwith (x:%integer, y:%integer ) do\n",
    "        return 2.\n",
    "    orwith (n:%real, m:%real) do\n",
    "        return 3.\n",
    "    end.\n",
    "    \n",
    "-- Evaluate the function with a test input.\n",
    "let x = testFunction( 5,1 ).\n",
    "\n",
    "-- If the function test worked, print the output we got.\n",
    "println( \"The value returned is: \" + x  ). \n",
    "'''\n",
    "try:\n",
    "    interp(program, exceptions=True, tree_dump=False, do_walk=True, prologue=True )\n",
    "except Exception as e:\n",
    "    print(e)\n",
    "    pass\n",
    "else:\n",
    "    print(\"Error! Redundant pattern not detected!\")"
   ]
  },
  {
   "cell_type": "code",
   "execution_count": 25,
   "metadata": {},
   "outputs": [
    {
     "name": "stdout",
     "output_type": "stream",
     "text": [
      "Redundant Pattern Detected\n",
      "\tFunction: testFunction from file <input>\n",
      "\tPattern: x:tuple on line 11\n",
      "\twill consume all matches for\n",
      "\tPattern: (x:integer,y:integer) on line 13\n"
     ]
    }
   ],
   "source": [
    "program = \\\n",
    "'''\n",
    "--------------------------------------\n",
    "-- patterns_test23.ast\n",
    "-- a simple program to test for\n",
    "-- subsumption detection in Asteroid.\n",
    "--------------------------------------\n",
    "--------------------------------------\n",
    "load \"io\".\n",
    "\n",
    "function testFunction\n",
    "    with x:%tuple do                   -- Will render all following patterns redundant\n",
    "        return 1.\n",
    "    orwith (x:%integer, y:%integer ) do\n",
    "        return 2.\n",
    "    orwith (n:%real, m:%real) do\n",
    "        return 3.\n",
    "    orwith ( x, y, z) do\n",
    "        return 4.\n",
    "    end.\n",
    "    \n",
    "-- Evaluate the function with a test input.\n",
    "let x = testFunction( (5,1) ).\n",
    "\n",
    "-- If the function test worked, print the output we got.\n",
    "println( \"The value returned is: \" + x  ). \n",
    "'''\n",
    "try:\n",
    "    interp(program, exceptions=True, tree_dump=False, do_walk=True, prologue=True )\n",
    "except Exception as e:\n",
    "    print(e)\n",
    "    pass\n",
    "else:\n",
    "    print(\"Error! Redundant pattern not detected!\")"
   ]
  },
  {
   "cell_type": "code",
   "execution_count": 26,
   "metadata": {},
   "outputs": [
    {
     "name": "stdout",
     "output_type": "stream",
     "text": [
      "Redundant Pattern Detected\n",
      "\tFunction: testFunction from file <input>\n",
      "\tPattern: x:list on line 11\n",
      "\twill consume all matches for\n",
      "\tPattern: [head1|head2|tail] on line 17\n"
     ]
    }
   ],
   "source": [
    "program = \\\n",
    "'''\n",
    "--------------------------------------\n",
    "-- patterns_test24.ast\n",
    "-- a simple program to test for\n",
    "-- subsumption detection in Asteroid.\n",
    "--------------------------------------\n",
    "--------------------------------------\n",
    "load \"io\".\n",
    "\n",
    "function testFunction\n",
    "    with x:%list do    -- Will match everything intended for [ head1 | head2 | tail ]\n",
    "        return 1.\n",
    "    orwith (x:%integer, y:%integer ) do\n",
    "        return 2.\n",
    "    orwith (n:%real, m:%real) do\n",
    "        return 3.\n",
    "    orwith [ head1 | head2 | tail ] do\n",
    "        return 4.\n",
    "    end.\n",
    "    \n",
    "-- Evaluate the function with a test input.\n",
    "let x = testFunction( (5,1) ).\n",
    "\n",
    "-- If the function test worked, print the output we got.\n",
    "println( \"The value returned is: \" + x  ). \n",
    "'''\n",
    "try:\n",
    "    interp(program, exceptions=True, tree_dump=False, do_walk=True, prologue=True )\n",
    "except Exception as e:\n",
    "    print(e)\n",
    "    pass\n",
    "else:\n",
    "    print(\"Error! Redundant pattern not detected!\")"
   ]
  },
  {
   "cell_type": "markdown",
   "metadata": {},
   "source": [
    "# Structures and Objects"
   ]
  },
  {
   "cell_type": "code",
   "execution_count": 27,
   "metadata": {},
   "outputs": [
    {
     "name": "stdout",
     "output_type": "stream",
     "text": [
      "Redundant Pattern Detected\n",
      "\tFunction: testFunction from file <input>\n",
      "\tPattern: Person(George,32,M) on line 30\n",
      "\twill consume all matches for\n",
      "\tPattern: Person(George,32,M) on line 34\n"
     ]
    }
   ],
   "source": [
    "program = \\\n",
    "'''\n",
    "--------------------------------------\n",
    "-- patterns_test25.ast\n",
    "-- a simple program to test for\n",
    "-- subsumption detection in Asteroid.\n",
    "--------------------------------------\n",
    "--------------------------------------\n",
    "load \"io\".\n",
    "load \"util\".\n",
    "\n",
    "structure Person with\n",
    "    data name.\n",
    "    data age.\n",
    "    data gender.\n",
    "    end\n",
    "\n",
    "-- define a list of persons\n",
    "let people = [\n",
    "    Person(\"George\", 32, \"M\"),\n",
    "    Person(\"Sophie\", 46, \"F\"),\n",
    "    Person(\"Oliver\", 21, \"X\")\n",
    "    ].\n",
    "\n",
    "-- print names that contain 'p'\n",
    "for Person(name:\".*p.*\",_,_) in people do\n",
    "  println name.\n",
    "  end\n",
    "  \n",
    "function testFunction\n",
    "    with Person(\"George\", 32, \"M\") do    -- *** will Subsume Person(\"George\", 32, \"M\")\n",
    "        return 1.\n",
    "    orwith Person(\"Sophie\", 46, \"F\") do\n",
    "        return 2.\n",
    "    orwith Person(\"George\", 32, \"M\") do  --duplicate structure/object\n",
    "        return 3.\n",
    "    end.\n",
    "    \n",
    "let x = testFunction( Person(\"George\", 32, \"M\") ).\n",
    "println ( x ).\n",
    "\n",
    "'''\n",
    "\n",
    "try:\n",
    "    interp(program, exceptions=True, tree_dump=False, do_walk=True, prologue=True )\n",
    "except Exception as e:\n",
    "    print(e)\n",
    "    pass\n",
    "else:\n",
    "    print(\"Error! Redundant pattern not detected!\")"
   ]
  },
  {
   "cell_type": "code",
   "execution_count": 28,
   "metadata": {},
   "outputs": [
    {
     "name": "stdout",
     "output_type": "stream",
     "text": [
      "Redundant Pattern Detected\n",
      "\tFunction: reduce from file <input>\n",
      "\tPattern: add(x,y) on line 22\n",
      "\twill consume all matches for\n",
      "\tPattern: add(x,0) on line 24\n"
     ]
    }
   ],
   "source": [
    "program = \\\n",
    "'''\n",
    "--------------------------------------\n",
    "-- patterns_test26.ast\n",
    "-- a simple program to test for\n",
    "-- subsumption detection in Asteroid.\n",
    "--------------------------------------\n",
    "--------------------------------------\n",
    "-- implements Peano addition on terms\n",
    "load \"io\".\n",
    "load \"util\".\n",
    "\n",
    "structure S with\n",
    "    data x.\n",
    "    end \n",
    "    \n",
    "structure add with\n",
    "    data left.\n",
    "    data right.\n",
    "    end\n",
    "\n",
    "function reduce\n",
    "    with add(x,y) do              -- Will subsume all matches for add(x,S(y))\n",
    "        return 1.\n",
    "    orwith add(x,0) do      \n",
    "        return reduce(x).\n",
    "    orwith add(x,S(y)) do         -- The redundant pattern\n",
    "        return S(reduce(add(x,y))).\n",
    "    orwith term do     \n",
    "        return term.\n",
    "    end \n",
    "    \n",
    "println(reduce(add(add(add(S(S(0)),S(S(S(0)))),S(0)),S(0)))).\n",
    "'''\n",
    "\n",
    "try:\n",
    "    interp(program, exceptions=True, tree_dump=False, do_walk=True, prologue=True )\n",
    "except Exception as e:\n",
    "    print(e)\n",
    "    pass\n",
    "else:\n",
    "    print(\"Error! Redundant pattern not detected!\")"
   ]
  },
  {
   "cell_type": "code",
   "execution_count": 29,
   "metadata": {},
   "outputs": [
    {
     "name": "stdout",
     "output_type": "stream",
     "text": [
      "Redundant Pattern Detected\n",
      "\tFunction: __init__ from file <input>\n",
      "\tPattern: (self,name,tricks) on line 17\n",
      "\twill consume all matches for\n",
      "\tPattern: (self,name,[]) on line 20\n"
     ]
    }
   ],
   "source": [
    "program = \\\n",
    "'''\n",
    "--------------------------------------\n",
    "-- patterns_test27.ast\n",
    "-- a simple program to test for\n",
    "-- subsumption detection in Asteroid.\n",
    "--------------------------------------\n",
    "--------------------------------------\n",
    "load \"io\".\n",
    "load \"util\".\n",
    "\n",
    "structure Dog\n",
    "  with\n",
    "    data name.\n",
    "    data tricks.\n",
    "\n",
    "    function __init__\n",
    "      with (self, name, tricks) do -- Will subsume all matches for (self, name, [])\n",
    "        let self@name = name.\n",
    "        let self@tricks = tricks.\n",
    "      orwith (self, name, []) do  -- Redundant Constructor \n",
    "        let self@name = name.\n",
    "        let self@tricks = [].\n",
    "      orwith (self, name) do\n",
    "        let self@name = name.\n",
    "        let self@tricks = [].\n",
    "      end\n",
    "\n",
    "    function add_trick\n",
    "      with (self, new_trick) do\n",
    "        let self@tricks = self@tricks + [new_trick].\n",
    "      end\n",
    "  end\n",
    "\n",
    "-- Fido the dog\n",
    "let fido = Dog(\"Fido\").\n",
    "'''\n",
    "try:\n",
    "    interp(program, exceptions=True, tree_dump=False, do_walk=True, prologue=True )\n",
    "except Exception as e:\n",
    "    print(e)\n",
    "    pass\n",
    "else:\n",
    "    print(\"Error! Redundant pattern not detected!\")"
   ]
  },
  {
   "cell_type": "code",
   "execution_count": 30,
   "metadata": {},
   "outputs": [
    {
     "name": "stdout",
     "output_type": "stream",
     "text": [
      "Redundant Pattern Detected\n",
      "\tFunction: test_function from file <input>\n",
      "\tPattern: Person(name:.*g.*,_,_) on line 27\n",
      "\twill consume all matches for\n",
      "\tPattern: Person(name:.*gg.*,_,_) on line 31\n"
     ]
    }
   ],
   "source": [
    "program = \\\n",
    "'''\n",
    "--------------------------------------\n",
    "-- patterns_test28.ast\n",
    "-- a simple program to test for\n",
    "-- subsumption detection in Asteroid.\n",
    "--------------------------------------\n",
    "--------------------------------------\n",
    "load \"io\".\n",
    "load \"util\".\n",
    "\n",
    "structure Person with\n",
    "    data name.\n",
    "    data age.\n",
    "    data gender.\n",
    "    end\n",
    "\n",
    "-- define a list of persons\n",
    "let people = [\n",
    "    Person(\"George\", 32, \"M\"),\n",
    "    Person(\"Sophie\", 46, \"F\"),\n",
    "    Person(\"Oliver\", 21, \"X\")\n",
    "    ].\n",
    "\n",
    "function test_function \n",
    "  with Person(name:\".*p.*\",_,_) do\n",
    "    return \"Found a p.\".\n",
    "  orwith Person(name:\".*g.*\",_,_) do   -- *** The regular expression \".*g.*\" will subsume \".*gg.*\"\n",
    "    return \"Found a g.\".\n",
    "  orwith Person(name:\".*v.*\",_,_) do\n",
    "    return \"Found a v.\".\n",
    "  orwith Person(name:\".*gg.*\",_,_) do  -- will be redundant\n",
    "    return \"Found a gg.\".\n",
    "  end.\n",
    "\n",
    "let loopCounter = 0.\n",
    "\n",
    "-- print names that contain 'p'\n",
    "for Person(_,_,_) in people do\n",
    "  println test_function( people @loopCounter ).\n",
    "  let loopCounter = loopCounter + 1.\n",
    "  end.\n",
    "'''\n",
    "try:\n",
    "    interp(program, exceptions=True, tree_dump=False, do_walk=True, prologue=True )\n",
    "except Exception as e:\n",
    "    print(e)\n",
    "    pass\n",
    "else:\n",
    "    print(\"Error! Redundant pattern not detected!\")"
   ]
  }
 ],
 "metadata": {
  "kernelspec": {
   "display_name": "Python 3",
   "language": "python",
   "name": "python3"
  },
  "language_info": {
   "codemirror_mode": {
    "name": "ipython",
    "version": 3
   },
   "file_extension": ".py",
   "mimetype": "text/x-python",
   "name": "python",
   "nbconvert_exporter": "python",
   "pygments_lexer": "ipython3",
   "version": "3.8.5"
  }
 },
 "nbformat": 4,
 "nbformat_minor": 2
}

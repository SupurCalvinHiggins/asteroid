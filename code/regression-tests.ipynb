{
 "cells": [
  {
   "cell_type": "markdown",
   "metadata": {},
   "source": [
    "# Regression Tests"
   ]
  },
  {
   "cell_type": "markdown",
   "metadata": {},
   "source": [
    "This is the regression test suite for Asteroid.  All the programs in this notebook should execute.  \n",
    "\n",
    "You can turn this into an executable Python script with:\n",
    "```\n",
    "jupyter nbconvert --to script regression-tests.ipynb \n",
    "```"
   ]
  },
  {
   "cell_type": "code",
   "execution_count": 1,
   "metadata": {},
   "outputs": [],
   "source": [
    "import sys\n",
    "# uncomment if running on SageMaker\n",
    "#sys.path[0] = '/home/ec2-user/SageMaker/asteroid/code'\n",
    "from asteroid_interp import interp"
   ]
  },
  {
   "cell_type": "code",
   "execution_count": 10,
   "metadata": {},
   "outputs": [
    {
     "name": "stderr",
     "output_type": "stream",
     "text": [
      "ERROR:root:Internal Python error in the inspect module.\n",
      "Below is the traceback from this internal error.\n",
      "\n"
     ]
    },
    {
     "name": "stdout",
     "output_type": "stream",
     "text": [
      "Error: <input>: 9: 'struct' is not a structure\n",
      "Traceback (most recent call last):\n",
      "  File \"/Users/lutz/Dropbox/URI/Projects/Asteroid/asteroid-git/code/asteroid_interp.py\", line 76, in interp\n",
      "    walk(state.AST)\n",
      "  File \"/Users/lutz/Dropbox/URI/Projects/Asteroid/asteroid-git/code/asteroid_walk.py\", line 1355, in walk\n",
      "    return node_function(node)\n",
      "  File \"/Users/lutz/Dropbox/URI/Projects/Asteroid/asteroid-git/code/asteroid_walk.py\", line 1140, in list_exp\n",
      "    outlist.append(walk(e))\n",
      "  File \"/Users/lutz/Dropbox/URI/Projects/Asteroid/asteroid-git/code/asteroid_walk.py\", line 1355, in walk\n",
      "    return node_function(node)\n",
      "  File \"/Users/lutz/Dropbox/URI/Projects/Asteroid/asteroid-git/code/asteroid_walk.py\", line 1140, in list_exp\n",
      "    outlist.append(walk(e))\n",
      "  File \"/Users/lutz/Dropbox/URI/Projects/Asteroid/asteroid-git/code/asteroid_walk.py\", line 1355, in walk\n",
      "    return node_function(node)\n",
      "  File \"/Users/lutz/Dropbox/URI/Projects/Asteroid/asteroid-git/code/asteroid_walk.py\", line 768, in unify_stmt\n",
      "    term = walk(exp)\n",
      "  File \"/Users/lutz/Dropbox/URI/Projects/Asteroid/asteroid-git/code/asteroid_walk.py\", line 1355, in walk\n",
      "    return node_function(node)\n",
      "  File \"/Users/lutz/Dropbox/URI/Projects/Asteroid/asteroid-git/code/asteroid_walk.py\", line 1124, in index_exp\n",
      "    result = read_at_ix(structure_val, ix)\n",
      "  File \"/Users/lutz/Dropbox/URI/Projects/Asteroid/asteroid-git/code/asteroid_walk.py\", line 448, in read_at_ix\n",
      "    raise ValueError(\"'{}' is not a structure\".format(structure_val[0]))\n",
      "ValueError: 'struct' is not a structure\n",
      "\n",
      "During handling of the above exception, another exception occurred:\n",
      "\n",
      "Traceback (most recent call last):\n",
      "  File \"/Users/lutz/anaconda3/lib/python3.8/site-packages/IPython/core/interactiveshell.py\", line 3418, in run_code\n",
      "    exec(code_obj, self.user_global_ns, self.user_ns)\n",
      "  File \"<ipython-input-10-898bbae612aa>\", line 15, in <module>\n",
      "    interp(program, exceptions=False, tree_dump=False, do_walk=True, prologue=True)\n",
      "  File \"/Users/lutz/Dropbox/URI/Projects/Asteroid/asteroid-git/code/asteroid_interp.py\", line 106, in interp\n",
      "    sys.exit(1)\n",
      "SystemExit: 1\n",
      "\n",
      "During handling of the above exception, another exception occurred:\n",
      "\n",
      "Traceback (most recent call last):\n",
      "  File \"/Users/lutz/anaconda3/lib/python3.8/site-packages/IPython/core/ultratb.py\", line 1170, in get_records\n",
      "    return _fixed_getinnerframes(etb, number_of_lines_of_context, tb_offset)\n",
      "  File \"/Users/lutz/anaconda3/lib/python3.8/site-packages/IPython/core/ultratb.py\", line 316, in wrapped\n",
      "    return f(*args, **kwargs)\n",
      "  File \"/Users/lutz/anaconda3/lib/python3.8/site-packages/IPython/core/ultratb.py\", line 350, in _fixed_getinnerframes\n",
      "    records = fix_frame_records_filenames(inspect.getinnerframes(etb, context))\n",
      "  File \"/Users/lutz/anaconda3/lib/python3.8/inspect.py\", line 1503, in getinnerframes\n",
      "    frameinfo = (tb.tb_frame,) + getframeinfo(tb, context)\n",
      "AttributeError: 'tuple' object has no attribute 'tb_frame'\n"
     ]
    },
    {
     "ename": "TypeError",
     "evalue": "object of type 'NoneType' has no len()",
     "output_type": "error",
     "traceback": [
      "\u001b[0;31m---------------------------------------------------------------------------\u001b[0m",
      "\u001b[0;31mValueError\u001b[0m                                Traceback (most recent call last)",
      "\u001b[0;32m~/Dropbox/URI/Projects/Asteroid/asteroid-git/code/asteroid_interp.py\u001b[0m in \u001b[0;36minterp\u001b[0;34m(input_stream, input_name, tree_dump, do_walk, symtab_dump, exceptions, version, prologue)\u001b[0m\n\u001b[1;32m     75\u001b[0m         \u001b[0;32mif\u001b[0m \u001b[0mdo_walk\u001b[0m\u001b[0;34m:\u001b[0m\u001b[0;34m\u001b[0m\u001b[0;34m\u001b[0m\u001b[0m\n\u001b[0;32m---> 76\u001b[0;31m             \u001b[0mwalk\u001b[0m\u001b[0;34m(\u001b[0m\u001b[0mstate\u001b[0m\u001b[0;34m.\u001b[0m\u001b[0mAST\u001b[0m\u001b[0;34m)\u001b[0m\u001b[0;34m\u001b[0m\u001b[0;34m\u001b[0m\u001b[0m\n\u001b[0m\u001b[1;32m     77\u001b[0m         \u001b[0;32mif\u001b[0m \u001b[0msymtab_dump\u001b[0m\u001b[0;34m:\u001b[0m\u001b[0;34m\u001b[0m\u001b[0;34m\u001b[0m\u001b[0m\n",
      "\u001b[0;32m~/Dropbox/URI/Projects/Asteroid/asteroid-git/code/asteroid_walk.py\u001b[0m in \u001b[0;36mwalk\u001b[0;34m(node)\u001b[0m\n\u001b[1;32m   1354\u001b[0m         \u001b[0mnode_function\u001b[0m \u001b[0;34m=\u001b[0m \u001b[0mdispatch_dict\u001b[0m\u001b[0;34m[\u001b[0m\u001b[0mtype\u001b[0m\u001b[0;34m]\u001b[0m\u001b[0;34m\u001b[0m\u001b[0;34m\u001b[0m\u001b[0m\n\u001b[0;32m-> 1355\u001b[0;31m         \u001b[0;32mreturn\u001b[0m \u001b[0mnode_function\u001b[0m\u001b[0;34m(\u001b[0m\u001b[0mnode\u001b[0m\u001b[0;34m)\u001b[0m\u001b[0;34m\u001b[0m\u001b[0;34m\u001b[0m\u001b[0m\n\u001b[0m\u001b[1;32m   1356\u001b[0m     \u001b[0;32melse\u001b[0m\u001b[0;34m:\u001b[0m\u001b[0;34m\u001b[0m\u001b[0;34m\u001b[0m\u001b[0m\n",
      "\u001b[0;32m~/Dropbox/URI/Projects/Asteroid/asteroid-git/code/asteroid_walk.py\u001b[0m in \u001b[0;36mlist_exp\u001b[0;34m(node)\u001b[0m\n\u001b[1;32m   1139\u001b[0m     \u001b[0;32mfor\u001b[0m \u001b[0me\u001b[0m \u001b[0;32min\u001b[0m \u001b[0minlist\u001b[0m\u001b[0;34m:\u001b[0m\u001b[0;34m\u001b[0m\u001b[0;34m\u001b[0m\u001b[0m\n\u001b[0;32m-> 1140\u001b[0;31m         \u001b[0moutlist\u001b[0m\u001b[0;34m.\u001b[0m\u001b[0mappend\u001b[0m\u001b[0;34m(\u001b[0m\u001b[0mwalk\u001b[0m\u001b[0;34m(\u001b[0m\u001b[0me\u001b[0m\u001b[0;34m)\u001b[0m\u001b[0;34m)\u001b[0m\u001b[0;34m\u001b[0m\u001b[0;34m\u001b[0m\u001b[0m\n\u001b[0m\u001b[1;32m   1141\u001b[0m \u001b[0;34m\u001b[0m\u001b[0m\n",
      "\u001b[0;32m~/Dropbox/URI/Projects/Asteroid/asteroid-git/code/asteroid_walk.py\u001b[0m in \u001b[0;36mwalk\u001b[0;34m(node)\u001b[0m\n\u001b[1;32m   1354\u001b[0m         \u001b[0mnode_function\u001b[0m \u001b[0;34m=\u001b[0m \u001b[0mdispatch_dict\u001b[0m\u001b[0;34m[\u001b[0m\u001b[0mtype\u001b[0m\u001b[0;34m]\u001b[0m\u001b[0;34m\u001b[0m\u001b[0;34m\u001b[0m\u001b[0m\n\u001b[0;32m-> 1355\u001b[0;31m         \u001b[0;32mreturn\u001b[0m \u001b[0mnode_function\u001b[0m\u001b[0;34m(\u001b[0m\u001b[0mnode\u001b[0m\u001b[0;34m)\u001b[0m\u001b[0;34m\u001b[0m\u001b[0;34m\u001b[0m\u001b[0m\n\u001b[0m\u001b[1;32m   1356\u001b[0m     \u001b[0;32melse\u001b[0m\u001b[0;34m:\u001b[0m\u001b[0;34m\u001b[0m\u001b[0;34m\u001b[0m\u001b[0m\n",
      "\u001b[0;32m~/Dropbox/URI/Projects/Asteroid/asteroid-git/code/asteroid_walk.py\u001b[0m in \u001b[0;36mlist_exp\u001b[0;34m(node)\u001b[0m\n\u001b[1;32m   1139\u001b[0m     \u001b[0;32mfor\u001b[0m \u001b[0me\u001b[0m \u001b[0;32min\u001b[0m \u001b[0minlist\u001b[0m\u001b[0;34m:\u001b[0m\u001b[0;34m\u001b[0m\u001b[0;34m\u001b[0m\u001b[0m\n\u001b[0;32m-> 1140\u001b[0;31m         \u001b[0moutlist\u001b[0m\u001b[0;34m.\u001b[0m\u001b[0mappend\u001b[0m\u001b[0;34m(\u001b[0m\u001b[0mwalk\u001b[0m\u001b[0;34m(\u001b[0m\u001b[0me\u001b[0m\u001b[0;34m)\u001b[0m\u001b[0;34m)\u001b[0m\u001b[0;34m\u001b[0m\u001b[0;34m\u001b[0m\u001b[0m\n\u001b[0m\u001b[1;32m   1141\u001b[0m \u001b[0;34m\u001b[0m\u001b[0m\n",
      "\u001b[0;32m~/Dropbox/URI/Projects/Asteroid/asteroid-git/code/asteroid_walk.py\u001b[0m in \u001b[0;36mwalk\u001b[0;34m(node)\u001b[0m\n\u001b[1;32m   1354\u001b[0m         \u001b[0mnode_function\u001b[0m \u001b[0;34m=\u001b[0m \u001b[0mdispatch_dict\u001b[0m\u001b[0;34m[\u001b[0m\u001b[0mtype\u001b[0m\u001b[0;34m]\u001b[0m\u001b[0;34m\u001b[0m\u001b[0;34m\u001b[0m\u001b[0m\n\u001b[0;32m-> 1355\u001b[0;31m         \u001b[0;32mreturn\u001b[0m \u001b[0mnode_function\u001b[0m\u001b[0;34m(\u001b[0m\u001b[0mnode\u001b[0m\u001b[0;34m)\u001b[0m\u001b[0;34m\u001b[0m\u001b[0;34m\u001b[0m\u001b[0m\n\u001b[0m\u001b[1;32m   1356\u001b[0m     \u001b[0;32melse\u001b[0m\u001b[0;34m:\u001b[0m\u001b[0;34m\u001b[0m\u001b[0;34m\u001b[0m\u001b[0m\n",
      "\u001b[0;32m~/Dropbox/URI/Projects/Asteroid/asteroid-git/code/asteroid_walk.py\u001b[0m in \u001b[0;36munify_stmt\u001b[0;34m(node)\u001b[0m\n\u001b[1;32m    767\u001b[0m \u001b[0;34m\u001b[0m\u001b[0m\n\u001b[0;32m--> 768\u001b[0;31m     \u001b[0mterm\u001b[0m \u001b[0;34m=\u001b[0m \u001b[0mwalk\u001b[0m\u001b[0;34m(\u001b[0m\u001b[0mexp\u001b[0m\u001b[0;34m)\u001b[0m\u001b[0;34m\u001b[0m\u001b[0;34m\u001b[0m\u001b[0m\n\u001b[0m\u001b[1;32m    769\u001b[0m     \u001b[0munifiers\u001b[0m \u001b[0;34m=\u001b[0m \u001b[0munify\u001b[0m\u001b[0;34m(\u001b[0m\u001b[0mterm\u001b[0m\u001b[0;34m,\u001b[0m \u001b[0mpattern\u001b[0m\u001b[0;34m)\u001b[0m\u001b[0;34m\u001b[0m\u001b[0;34m\u001b[0m\u001b[0m\n",
      "\u001b[0;32m~/Dropbox/URI/Projects/Asteroid/asteroid-git/code/asteroid_walk.py\u001b[0m in \u001b[0;36mwalk\u001b[0;34m(node)\u001b[0m\n\u001b[1;32m   1354\u001b[0m         \u001b[0mnode_function\u001b[0m \u001b[0;34m=\u001b[0m \u001b[0mdispatch_dict\u001b[0m\u001b[0;34m[\u001b[0m\u001b[0mtype\u001b[0m\u001b[0;34m]\u001b[0m\u001b[0;34m\u001b[0m\u001b[0;34m\u001b[0m\u001b[0m\n\u001b[0;32m-> 1355\u001b[0;31m         \u001b[0;32mreturn\u001b[0m \u001b[0mnode_function\u001b[0m\u001b[0;34m(\u001b[0m\u001b[0mnode\u001b[0m\u001b[0;34m)\u001b[0m\u001b[0;34m\u001b[0m\u001b[0;34m\u001b[0m\u001b[0m\n\u001b[0m\u001b[1;32m   1356\u001b[0m     \u001b[0;32melse\u001b[0m\u001b[0;34m:\u001b[0m\u001b[0;34m\u001b[0m\u001b[0;34m\u001b[0m\u001b[0m\n",
      "\u001b[0;32m~/Dropbox/URI/Projects/Asteroid/asteroid-git/code/asteroid_walk.py\u001b[0m in \u001b[0;36mindex_exp\u001b[0;34m(node)\u001b[0m\n\u001b[1;32m   1123\u001b[0m     \u001b[0;31m# indexing/slicing\u001b[0m\u001b[0;34m\u001b[0m\u001b[0;34m\u001b[0m\u001b[0;34m\u001b[0m\u001b[0m\n\u001b[0;32m-> 1124\u001b[0;31m     \u001b[0mresult\u001b[0m \u001b[0;34m=\u001b[0m \u001b[0mread_at_ix\u001b[0m\u001b[0;34m(\u001b[0m\u001b[0mstructure_val\u001b[0m\u001b[0;34m,\u001b[0m \u001b[0mix\u001b[0m\u001b[0;34m)\u001b[0m\u001b[0;34m\u001b[0m\u001b[0;34m\u001b[0m\u001b[0m\n\u001b[0m\u001b[1;32m   1125\u001b[0m     \u001b[0;31m#lhh\u001b[0m\u001b[0;34m\u001b[0m\u001b[0;34m\u001b[0m\u001b[0;34m\u001b[0m\u001b[0m\n",
      "\u001b[0;32m~/Dropbox/URI/Projects/Asteroid/asteroid-git/code/asteroid_walk.py\u001b[0m in \u001b[0;36mread_at_ix\u001b[0;34m(structure_val, ix)\u001b[0m\n\u001b[1;32m    447\u001b[0m     \u001b[0;32melse\u001b[0m\u001b[0;34m:\u001b[0m\u001b[0;34m\u001b[0m\u001b[0;34m\u001b[0m\u001b[0m\n\u001b[0;32m--> 448\u001b[0;31m         \u001b[0;32mraise\u001b[0m \u001b[0mValueError\u001b[0m\u001b[0;34m(\u001b[0m\u001b[0;34m\"'{}' is not a structure\"\u001b[0m\u001b[0;34m.\u001b[0m\u001b[0mformat\u001b[0m\u001b[0;34m(\u001b[0m\u001b[0mstructure_val\u001b[0m\u001b[0;34m[\u001b[0m\u001b[0;36m0\u001b[0m\u001b[0;34m]\u001b[0m\u001b[0;34m)\u001b[0m\u001b[0;34m)\u001b[0m\u001b[0;34m\u001b[0m\u001b[0;34m\u001b[0m\u001b[0m\n\u001b[0m\u001b[1;32m    449\u001b[0m \u001b[0;34m\u001b[0m\u001b[0m\n",
      "\u001b[0;31mValueError\u001b[0m: 'struct' is not a structure",
      "\nDuring handling of the above exception, another exception occurred:\n",
      "\u001b[0;31mSystemExit\u001b[0m                                Traceback (most recent call last)",
      "    \u001b[0;31m[... skipping hidden 1 frame]\u001b[0m\n",
      "\u001b[0;32m<ipython-input-10-898bbae612aa>\u001b[0m in \u001b[0;36m<module>\u001b[0;34m\u001b[0m\n\u001b[1;32m     14\u001b[0m '''\n\u001b[0;32m---> 15\u001b[0;31m \u001b[0minterp\u001b[0m\u001b[0;34m(\u001b[0m\u001b[0mprogram\u001b[0m\u001b[0;34m,\u001b[0m \u001b[0mexceptions\u001b[0m\u001b[0;34m=\u001b[0m\u001b[0;32mFalse\u001b[0m\u001b[0;34m,\u001b[0m \u001b[0mtree_dump\u001b[0m\u001b[0;34m=\u001b[0m\u001b[0;32mFalse\u001b[0m\u001b[0;34m,\u001b[0m \u001b[0mdo_walk\u001b[0m\u001b[0;34m=\u001b[0m\u001b[0;32mTrue\u001b[0m\u001b[0;34m,\u001b[0m \u001b[0mprologue\u001b[0m\u001b[0;34m=\u001b[0m\u001b[0;32mTrue\u001b[0m\u001b[0;34m)\u001b[0m\u001b[0;34m\u001b[0m\u001b[0;34m\u001b[0m\u001b[0m\n\u001b[0m",
      "\u001b[0;32m~/Dropbox/URI/Projects/Asteroid/asteroid-git/code/asteroid_interp.py\u001b[0m in \u001b[0;36minterp\u001b[0;34m(input_stream, input_name, tree_dump, do_walk, symtab_dump, exceptions, version, prologue)\u001b[0m\n\u001b[1;32m    105\u001b[0m             \u001b[0mprint\u001b[0m\u001b[0;34m(\u001b[0m\u001b[0;34m\"Error: {}: {}: {}\"\u001b[0m\u001b[0;34m.\u001b[0m\u001b[0mformat\u001b[0m\u001b[0;34m(\u001b[0m\u001b[0mmodule\u001b[0m\u001b[0;34m,\u001b[0m \u001b[0mlineno\u001b[0m\u001b[0;34m,\u001b[0m \u001b[0me\u001b[0m\u001b[0;34m)\u001b[0m\u001b[0;34m)\u001b[0m\u001b[0;34m\u001b[0m\u001b[0;34m\u001b[0m\u001b[0m\n\u001b[0;32m--> 106\u001b[0;31m             \u001b[0msys\u001b[0m\u001b[0;34m.\u001b[0m\u001b[0mexit\u001b[0m\u001b[0;34m(\u001b[0m\u001b[0;36m1\u001b[0m\u001b[0;34m)\u001b[0m\u001b[0;34m\u001b[0m\u001b[0;34m\u001b[0m\u001b[0m\n\u001b[0m\u001b[1;32m    107\u001b[0m \u001b[0;34m\u001b[0m\u001b[0m\n",
      "\u001b[0;31mSystemExit\u001b[0m: 1",
      "\nDuring handling of the above exception, another exception occurred:\n",
      "\u001b[0;31mTypeError\u001b[0m                                 Traceback (most recent call last)",
      "    \u001b[0;31m[... skipping hidden 1 frame]\u001b[0m\n",
      "\u001b[0;32m~/anaconda3/lib/python3.8/site-packages/IPython/core/interactiveshell.py\u001b[0m in \u001b[0;36mshowtraceback\u001b[0;34m(self, exc_tuple, filename, tb_offset, exception_only, running_compiled_code)\u001b[0m\n\u001b[1;32m   2036\u001b[0m                     stb = ['An exception has occurred, use %tb to see '\n\u001b[1;32m   2037\u001b[0m                            'the full traceback.\\n']\n\u001b[0;32m-> 2038\u001b[0;31m                     stb.extend(self.InteractiveTB.get_exception_only(etype,\n\u001b[0m\u001b[1;32m   2039\u001b[0m                                                                      value))\n\u001b[1;32m   2040\u001b[0m                 \u001b[0;32melse\u001b[0m\u001b[0;34m:\u001b[0m\u001b[0;34m\u001b[0m\u001b[0;34m\u001b[0m\u001b[0m\n",
      "\u001b[0;32m~/anaconda3/lib/python3.8/site-packages/IPython/core/ultratb.py\u001b[0m in \u001b[0;36mget_exception_only\u001b[0;34m(self, etype, value)\u001b[0m\n\u001b[1;32m    821\u001b[0m         \u001b[0mvalue\u001b[0m \u001b[0;34m:\u001b[0m \u001b[0mexception\u001b[0m \u001b[0mvalue\u001b[0m\u001b[0;34m\u001b[0m\u001b[0;34m\u001b[0m\u001b[0m\n\u001b[1;32m    822\u001b[0m         \"\"\"\n\u001b[0;32m--> 823\u001b[0;31m         \u001b[0;32mreturn\u001b[0m \u001b[0mListTB\u001b[0m\u001b[0;34m.\u001b[0m\u001b[0mstructured_traceback\u001b[0m\u001b[0;34m(\u001b[0m\u001b[0mself\u001b[0m\u001b[0;34m,\u001b[0m \u001b[0metype\u001b[0m\u001b[0;34m,\u001b[0m \u001b[0mvalue\u001b[0m\u001b[0;34m)\u001b[0m\u001b[0;34m\u001b[0m\u001b[0;34m\u001b[0m\u001b[0m\n\u001b[0m\u001b[1;32m    824\u001b[0m \u001b[0;34m\u001b[0m\u001b[0m\n\u001b[1;32m    825\u001b[0m     \u001b[0;32mdef\u001b[0m \u001b[0mshow_exception_only\u001b[0m\u001b[0;34m(\u001b[0m\u001b[0mself\u001b[0m\u001b[0;34m,\u001b[0m \u001b[0metype\u001b[0m\u001b[0;34m,\u001b[0m \u001b[0mevalue\u001b[0m\u001b[0;34m)\u001b[0m\u001b[0;34m:\u001b[0m\u001b[0;34m\u001b[0m\u001b[0;34m\u001b[0m\u001b[0m\n",
      "\u001b[0;32m~/anaconda3/lib/python3.8/site-packages/IPython/core/ultratb.py\u001b[0m in \u001b[0;36mstructured_traceback\u001b[0;34m(self, etype, evalue, etb, tb_offset, context)\u001b[0m\n\u001b[1;32m    696\u001b[0m             \u001b[0mchained_exceptions_tb_offset\u001b[0m \u001b[0;34m=\u001b[0m \u001b[0;36m0\u001b[0m\u001b[0;34m\u001b[0m\u001b[0;34m\u001b[0m\u001b[0m\n\u001b[1;32m    697\u001b[0m             out_list = (\n\u001b[0;32m--> 698\u001b[0;31m                 self.structured_traceback(\n\u001b[0m\u001b[1;32m    699\u001b[0m                     \u001b[0metype\u001b[0m\u001b[0;34m,\u001b[0m \u001b[0mevalue\u001b[0m\u001b[0;34m,\u001b[0m \u001b[0;34m(\u001b[0m\u001b[0metb\u001b[0m\u001b[0;34m,\u001b[0m \u001b[0mchained_exc_ids\u001b[0m\u001b[0;34m)\u001b[0m\u001b[0;34m,\u001b[0m\u001b[0;34m\u001b[0m\u001b[0;34m\u001b[0m\u001b[0m\n\u001b[1;32m    700\u001b[0m                     chained_exceptions_tb_offset, context)\n",
      "\u001b[0;32m~/anaconda3/lib/python3.8/site-packages/IPython/core/ultratb.py\u001b[0m in \u001b[0;36mstructured_traceback\u001b[0;34m(self, etype, value, tb, tb_offset, number_of_lines_of_context)\u001b[0m\n\u001b[1;32m   1434\u001b[0m         \u001b[0;32melse\u001b[0m\u001b[0;34m:\u001b[0m\u001b[0;34m\u001b[0m\u001b[0;34m\u001b[0m\u001b[0m\n\u001b[1;32m   1435\u001b[0m             \u001b[0mself\u001b[0m\u001b[0;34m.\u001b[0m\u001b[0mtb\u001b[0m \u001b[0;34m=\u001b[0m \u001b[0mtb\u001b[0m\u001b[0;34m\u001b[0m\u001b[0;34m\u001b[0m\u001b[0m\n\u001b[0;32m-> 1436\u001b[0;31m         return FormattedTB.structured_traceback(\n\u001b[0m\u001b[1;32m   1437\u001b[0m             self, etype, value, tb, tb_offset, number_of_lines_of_context)\n\u001b[1;32m   1438\u001b[0m \u001b[0;34m\u001b[0m\u001b[0m\n",
      "\u001b[0;32m~/anaconda3/lib/python3.8/site-packages/IPython/core/ultratb.py\u001b[0m in \u001b[0;36mstructured_traceback\u001b[0;34m(self, etype, value, tb, tb_offset, number_of_lines_of_context)\u001b[0m\n\u001b[1;32m   1334\u001b[0m         \u001b[0;32mif\u001b[0m \u001b[0mmode\u001b[0m \u001b[0;32min\u001b[0m \u001b[0mself\u001b[0m\u001b[0;34m.\u001b[0m\u001b[0mverbose_modes\u001b[0m\u001b[0;34m:\u001b[0m\u001b[0;34m\u001b[0m\u001b[0;34m\u001b[0m\u001b[0m\n\u001b[1;32m   1335\u001b[0m             \u001b[0;31m# Verbose modes need a full traceback\u001b[0m\u001b[0;34m\u001b[0m\u001b[0;34m\u001b[0m\u001b[0;34m\u001b[0m\u001b[0m\n\u001b[0;32m-> 1336\u001b[0;31m             return VerboseTB.structured_traceback(\n\u001b[0m\u001b[1;32m   1337\u001b[0m                 \u001b[0mself\u001b[0m\u001b[0;34m,\u001b[0m \u001b[0metype\u001b[0m\u001b[0;34m,\u001b[0m \u001b[0mvalue\u001b[0m\u001b[0;34m,\u001b[0m \u001b[0mtb\u001b[0m\u001b[0;34m,\u001b[0m \u001b[0mtb_offset\u001b[0m\u001b[0;34m,\u001b[0m \u001b[0mnumber_of_lines_of_context\u001b[0m\u001b[0;34m\u001b[0m\u001b[0;34m\u001b[0m\u001b[0m\n\u001b[1;32m   1338\u001b[0m             )\n",
      "\u001b[0;32m~/anaconda3/lib/python3.8/site-packages/IPython/core/ultratb.py\u001b[0m in \u001b[0;36mstructured_traceback\u001b[0;34m(self, etype, evalue, etb, tb_offset, number_of_lines_of_context)\u001b[0m\n\u001b[1;32m   1191\u001b[0m         \u001b[0;34m\"\"\"Return a nice text document describing the traceback.\"\"\"\u001b[0m\u001b[0;34m\u001b[0m\u001b[0;34m\u001b[0m\u001b[0m\n\u001b[1;32m   1192\u001b[0m \u001b[0;34m\u001b[0m\u001b[0m\n\u001b[0;32m-> 1193\u001b[0;31m         formatted_exception = self.format_exception_as_a_whole(etype, evalue, etb, number_of_lines_of_context,\n\u001b[0m\u001b[1;32m   1194\u001b[0m                                                                tb_offset)\n\u001b[1;32m   1195\u001b[0m \u001b[0;34m\u001b[0m\u001b[0m\n",
      "\u001b[0;32m~/anaconda3/lib/python3.8/site-packages/IPython/core/ultratb.py\u001b[0m in \u001b[0;36mformat_exception_as_a_whole\u001b[0;34m(self, etype, evalue, etb, number_of_lines_of_context, tb_offset)\u001b[0m\n\u001b[1;32m   1149\u001b[0m \u001b[0;34m\u001b[0m\u001b[0m\n\u001b[1;32m   1150\u001b[0m \u001b[0;34m\u001b[0m\u001b[0m\n\u001b[0;32m-> 1151\u001b[0;31m         \u001b[0mlast_unique\u001b[0m\u001b[0;34m,\u001b[0m \u001b[0mrecursion_repeat\u001b[0m \u001b[0;34m=\u001b[0m \u001b[0mfind_recursion\u001b[0m\u001b[0;34m(\u001b[0m\u001b[0morig_etype\u001b[0m\u001b[0;34m,\u001b[0m \u001b[0mevalue\u001b[0m\u001b[0;34m,\u001b[0m \u001b[0mrecords\u001b[0m\u001b[0;34m)\u001b[0m\u001b[0;34m\u001b[0m\u001b[0;34m\u001b[0m\u001b[0m\n\u001b[0m\u001b[1;32m   1152\u001b[0m \u001b[0;34m\u001b[0m\u001b[0m\n\u001b[1;32m   1153\u001b[0m         \u001b[0mframes\u001b[0m \u001b[0;34m=\u001b[0m \u001b[0mself\u001b[0m\u001b[0;34m.\u001b[0m\u001b[0mformat_records\u001b[0m\u001b[0;34m(\u001b[0m\u001b[0mrecords\u001b[0m\u001b[0;34m,\u001b[0m \u001b[0mlast_unique\u001b[0m\u001b[0;34m,\u001b[0m \u001b[0mrecursion_repeat\u001b[0m\u001b[0;34m)\u001b[0m\u001b[0;34m\u001b[0m\u001b[0;34m\u001b[0m\u001b[0m\n",
      "\u001b[0;32m~/anaconda3/lib/python3.8/site-packages/IPython/core/ultratb.py\u001b[0m in \u001b[0;36mfind_recursion\u001b[0;34m(etype, value, records)\u001b[0m\n\u001b[1;32m    449\u001b[0m     \u001b[0;31m# first frame (from in to out) that looks different.\u001b[0m\u001b[0;34m\u001b[0m\u001b[0;34m\u001b[0m\u001b[0;34m\u001b[0m\u001b[0m\n\u001b[1;32m    450\u001b[0m     \u001b[0;32mif\u001b[0m \u001b[0;32mnot\u001b[0m \u001b[0mis_recursion_error\u001b[0m\u001b[0;34m(\u001b[0m\u001b[0metype\u001b[0m\u001b[0;34m,\u001b[0m \u001b[0mvalue\u001b[0m\u001b[0;34m,\u001b[0m \u001b[0mrecords\u001b[0m\u001b[0;34m)\u001b[0m\u001b[0;34m:\u001b[0m\u001b[0;34m\u001b[0m\u001b[0;34m\u001b[0m\u001b[0m\n\u001b[0;32m--> 451\u001b[0;31m         \u001b[0;32mreturn\u001b[0m \u001b[0mlen\u001b[0m\u001b[0;34m(\u001b[0m\u001b[0mrecords\u001b[0m\u001b[0;34m)\u001b[0m\u001b[0;34m,\u001b[0m \u001b[0;36m0\u001b[0m\u001b[0;34m\u001b[0m\u001b[0;34m\u001b[0m\u001b[0m\n\u001b[0m\u001b[1;32m    452\u001b[0m \u001b[0;34m\u001b[0m\u001b[0m\n\u001b[1;32m    453\u001b[0m     \u001b[0;31m# Select filename, lineno, func_name to track frames with\u001b[0m\u001b[0;34m\u001b[0m\u001b[0;34m\u001b[0m\u001b[0;34m\u001b[0m\u001b[0m\n",
      "\u001b[0;31mTypeError\u001b[0m: object of type 'NoneType' has no len()"
     ]
    }
   ],
   "source": [
    "program = \\\n",
    "'''\n",
    "load \"io\".\n",
    "\n",
    "structure Foo with\n",
    "    data name.\n",
    "    function print with self do println (self @name) end\n",
    "    end\n",
    "    \n",
    "let a = Foo@0.\n",
    "let b = a (\"Bert\").\n",
    "b @print().\n",
    "\n",
    "'''\n",
    "interp(program, exceptions=False, tree_dump=False, do_walk=True, prologue=True)"
   ]
  },
  {
   "cell_type": "code",
   "execution_count": 2,
   "metadata": {},
   "outputs": [
    {
     "name": "stdout",
     "output_type": "stream",
     "text": [
      "[1,1,2,2,3,3]\n"
     ]
    }
   ],
   "source": [
    "program = \\\n",
    "'''\n",
    "load \"io\".\n",
    "\n",
    "let digits = \"332211\" @explode() @sort().\n",
    "println digits.\n",
    "'''\n",
    "interp(program, exceptions=False, tree_dump=False, do_walk=True, prologue=True)"
   ]
  },
  {
   "cell_type": "code",
   "execution_count": 3,
   "metadata": {},
   "outputs": [
    {
     "name": "stdout",
     "output_type": "stream",
     "text": [
      "[1,2,3]\n"
     ]
    }
   ],
   "source": [
    "program = \\\n",
    "'''\n",
    "load \"io\".\n",
    "let l:\"\\[.*\\]\" = [1,2,3].\n",
    "println l.\n",
    "'''\n",
    "interp(program, exceptions=True, tree_dump=False, do_walk=True, prologue=True)"
   ]
  },
  {
   "cell_type": "code",
   "execution_count": 4,
   "metadata": {},
   "outputs": [
    {
     "name": "stdout",
     "output_type": "stream",
     "text": [
      "6\n"
     ]
    }
   ],
   "source": [
    "program = \\\n",
    "'''\n",
    "load \"io\".\n",
    "let r = [1,2,3] @reduce (lambda with (x,y) do return x*y).\n",
    "println r.\n",
    "assert (r == 6).\n",
    "'''\n",
    "interp(program, exceptions=False, tree_dump=False, do_walk=True, prologue=True)"
   ]
  },
  {
   "cell_type": "code",
   "execution_count": 5,
   "metadata": {},
   "outputs": [
    {
     "name": "stdout",
     "output_type": "stream",
     "text": [
      "[2,3,4]\n"
     ]
    }
   ],
   "source": [
    "program = \\\n",
    "'''\n",
    "load \"io\".\n",
    "let r = [1,2,3] @map (lambda with x do return x+1).\n",
    "println r.\n",
    "assert (r == [2,3,4]).\n",
    "'''\n",
    "interp(program, exceptions=True, tree_dump=False, do_walk=True, prologue=True)"
   ]
  },
  {
   "cell_type": "code",
   "execution_count": 6,
   "metadata": {},
   "outputs": [
    {
     "name": "stdout",
     "output_type": "stream",
     "text": [
      "Fido does roll over\n",
      "Buddy does roll over\n"
     ]
    }
   ],
   "source": [
    "program = \\\n",
    "'''\n",
    "load \"io\".\n",
    "\n",
    "structure Dog with\n",
    "\n",
    "  data name.\n",
    "  data tricks.\n",
    "\n",
    "  function add_trick\n",
    "    with (self, new_trick) do\n",
    "      let self @tricks = self @tricks + [new_trick].\n",
    "    end\n",
    "\n",
    "  function __init__\n",
    "    with (self, name) do\n",
    "      let self @name = name.\n",
    "      let self @tricks = [].\n",
    "    end\n",
    "\n",
    "  end -- structure\n",
    "\n",
    "-- Fido the dog\n",
    "let fido = Dog(\"Fido\").\n",
    "fido @add_trick(\"roll over\").\n",
    "fido @add_trick(\"play dead\").\n",
    "\n",
    "-- Buddy the dog\n",
    "let buddy = Dog(\"Buddy\").\n",
    "buddy @add_trick(\"roll over\").\n",
    "buddy @add_trick(\"sit stay\").\n",
    "\n",
    "-- Fifi the dog\n",
    "let fifi = Dog(\"Fifi\").\n",
    "fifi @add_trick(\"sit stay\").\n",
    "\n",
    "-- print out all the names of dogs\n",
    "-- whose first trick is 'roll over'.\n",
    "let dogs = [fido, buddy, fifi].\n",
    "\n",
    "for Dog(name, [\"roll over\"|_]) in dogs do\n",
    "    println (name + \" does roll over\").\n",
    "end\n",
    "'''\n",
    "interp(program, exceptions=False, tree_dump=False, do_walk=True, prologue=True)"
   ]
  },
  {
   "cell_type": "code",
   "execution_count": 7,
   "metadata": {},
   "outputs": [
    {
     "name": "stdout",
     "output_type": "stream",
     "text": [
      "Harry\n"
     ]
    }
   ],
   "source": [
    "program = \\\n",
    "'''\n",
    "load \"io\".\n",
    "\n",
    "structure Family with\n",
    "  data parent1.\n",
    "  \n",
    "  function members\n",
    "    with self do\n",
    "        let Parent(n1:%string) = self @parent1.\n",
    "        return n1.\n",
    "    end\n",
    "  end -- structure\n",
    "  \n",
    "let FAMILY = pattern with Family(*PARENT1).\n",
    "\n",
    "structure Parent with\n",
    "  data name.\n",
    "  end\n",
    "  \n",
    "let PARENT1 = pattern with Parent(p1).\n",
    "\n",
    "\n",
    "let p1 = \"Harry\".\n",
    "let family = eval(FAMILY).\n",
    "--raw_print(family).\n",
    "println (family @members()).\n",
    "\n",
    "'''\n",
    "interp(program, exceptions=True, tree_dump=False, do_walk=True, prologue=True)"
   ]
  },
  {
   "cell_type": "code",
   "execution_count": 8,
   "metadata": {},
   "outputs": [
    {
     "name": "stdout",
     "output_type": "stream",
     "text": [
      "hello\n"
     ]
    }
   ],
   "source": [
    "program = \\\n",
    "'''\n",
    "load \"io\".\n",
    "structure A with\n",
    "    data a.\n",
    "    end\n",
    "\n",
    "let A(x:%string) = A(\"hello\").\n",
    "println x.\n",
    "'''\n",
    "interp(program, exceptions=True, tree_dump=False, do_walk=True, prologue=True)"
   ]
  },
  {
   "cell_type": "code",
   "execution_count": 9,
   "metadata": {},
   "outputs": [
    {
     "name": "stdout",
     "output_type": "stream",
     "text": [
      "Harry\n"
     ]
    }
   ],
   "source": [
    "program = \\\n",
    "'''\n",
    "-- load modules\n",
    "load \"io\".\n",
    "\n",
    "structure Family with\n",
    "  data parent1.\n",
    "  \n",
    "  function members\n",
    "    with self do\n",
    "        let Parent(name1) = self @parent1.\n",
    "        let Parent(name1:%string) = self @parent1.\n",
    "        return name1.\n",
    "    end\n",
    "  end -- structure\n",
    "\n",
    "structure Parent with\n",
    "  data name.\n",
    "  end\n",
    "\n",
    "let family = Family(Parent(\"Harry\")).\n",
    "println (family @members()).\n",
    "'''\n",
    "interp(program,exceptions=True,symtab_dump=False, tree_dump=False, do_walk=True, prologue=True)"
   ]
  },
  {
   "cell_type": "code",
   "execution_count": 10,
   "metadata": {},
   "outputs": [
    {
     "name": "stdout",
     "output_type": "stream",
     "text": [
      "cba\n"
     ]
    }
   ],
   "source": [
    "program = \\\n",
    "'''\n",
    "load \"io\".\n",
    "\n",
    "let foo = \"abc\".\n",
    "let l = foo @explode() @reverse() @join(\"\").\n",
    "println l.\n",
    "'''\n",
    "interp(program, exceptions=True, tree_dump=False, do_walk=True, prologue=True)"
   ]
  },
  {
   "cell_type": "code",
   "execution_count": 11,
   "metadata": {},
   "outputs": [
    {
     "name": "stdout",
     "output_type": "stream",
     "text": [
      "true"
     ]
    }
   ],
   "source": [
    "program = \\\n",
    "'''\n",
    "-- Palindrome list filter\n",
    "load \"io\".\n",
    "\n",
    "function filter \n",
    "    with (x:%string) %if x @explode() == x @explode() @reverse() do\n",
    "        return true.\n",
    "    orwith _ do \n",
    "        return false.\n",
    "    end\n",
    "    \n",
    "print (filter \"radar\").\n",
    "'''\n",
    "interp(program, exceptions=False, tree_dump=False, do_walk=True, prologue=True)"
   ]
  },
  {
   "cell_type": "code",
   "execution_count": 12,
   "metadata": {},
   "outputs": [
    {
     "name": "stdout",
     "output_type": "stream",
     "text": [
      "1"
     ]
    }
   ],
   "source": [
    "program = \\\n",
    "'''\n",
    "load \"io\".\n",
    "let i:%integer = 1.\n",
    "print i.\n",
    "'''\n",
    "interp(program, exceptions=False, tree_dump=False, do_walk=True, prologue=True)"
   ]
  },
  {
   "cell_type": "code",
   "execution_count": 13,
   "metadata": {},
   "outputs": [
    {
     "name": "stdout",
     "output_type": "stream",
     "text": [
      "(PatternMatchFailed,pattern match failed: variable 'x' in term not allowed)\n"
     ]
    }
   ],
   "source": [
    "program = \\\n",
    "'''\n",
    "load \"io\".\n",
    "\n",
    "try\n",
    "    let (1,y) = '(1,x).\n",
    "catch e do\n",
    "    println e.\n",
    "end\n",
    "'''\n",
    "interp(program, exceptions=False, tree_dump=False, do_walk=True, prologue=True)"
   ]
  },
  {
   "cell_type": "code",
   "execution_count": 14,
   "metadata": {},
   "outputs": [
    {
     "name": "stdout",
     "output_type": "stream",
     "text": [
      "2\n"
     ]
    }
   ],
   "source": [
    "program = \\\n",
    "'''\n",
    "load \"io\".\n",
    "\n",
    "-- TODO: this is NOT correct see issue #27\n",
    "let (x,x) = (1,2).\n",
    "println x.\n",
    "'''\n",
    "interp(program, exceptions=False, tree_dump=False, do_walk=True, prologue=True)"
   ]
  },
  {
   "cell_type": "code",
   "execution_count": 15,
   "metadata": {},
   "outputs": [
    {
     "name": "stdout",
     "output_type": "stream",
     "text": [
      "[1]\n"
     ]
    }
   ],
   "source": [
    "program = \\\n",
    "'''\n",
    "load \"io\".\n",
    "\n",
    "let (x,y) %if x is y = ([1],[1]).\n",
    "println x.\n",
    "'''\n",
    "interp(program, exceptions=False, tree_dump=False, do_walk=True, prologue=True)"
   ]
  },
  {
   "cell_type": "code",
   "execution_count": 16,
   "metadata": {},
   "outputs": [],
   "source": [
    "program = \\\n",
    "'''\n",
    "load \"io\".\n",
    "load \"util\".\n",
    "\n",
    "let (l:%list) %if l is \"\\[.*2.*\\]\" = [1,2,3].\n",
    "'''\n",
    "interp(program, exceptions=False, tree_dump=False, do_walk=True, prologue=True)"
   ]
  },
  {
   "cell_type": "code",
   "execution_count": 17,
   "metadata": {},
   "outputs": [
    {
     "name": "stdout",
     "output_type": "stream",
     "text": [
      "A(1,2)\n",
      "hello\n"
     ]
    }
   ],
   "source": [
    "program = \\\n",
    "'''\n",
    "load \"io\".\n",
    "structure A with\n",
    "    data a.\n",
    "    data b.\n",
    "    end\n",
    "\n",
    "let a = A(1,2).\n",
    "let (v:%A) %if v @a + 1 > 1 = a.\n",
    "let A(x:%string,_) = A(\"hello\",2).\n",
    "println v.\n",
    "println x.\n",
    "'''\n",
    "interp(program, exceptions=False, tree_dump=False, do_walk=True, prologue=True)"
   ]
  },
  {
   "cell_type": "code",
   "execution_count": 18,
   "metadata": {},
   "outputs": [
    {
     "name": "stdout",
     "output_type": "stream",
     "text": [
      "The factorial of 3 is: 6\n"
     ]
    }
   ],
   "source": [
    "program = \\\n",
    "'''\n",
    "-- Factorial\n",
    "\n",
    "load \"io\".\n",
    "load \"util\".\n",
    "\n",
    "function fact \n",
    "    with 0 do\n",
    "        return 1\n",
    "    orwith (n:%integer) %if n > 0 do\n",
    "        return n * fact (n-1).\n",
    "    orwith (n:%integer) %if n < 0 do\n",
    "        throw Error(\"factorial is not defined for \"+n).\n",
    "    end \n",
    "\n",
    "println (\"The factorial of 3 is: \" + fact (3)).\n",
    "assert (fact(3) == 6).\n",
    "\n",
    "'''\n",
    "interp(program, exceptions=False, symtab_dump=False)"
   ]
  },
  {
   "cell_type": "code",
   "execution_count": 19,
   "metadata": {},
   "outputs": [
    {
     "name": "stdout",
     "output_type": "stream",
     "text": [
      "2\n"
     ]
    }
   ],
   "source": [
    "program = \\\n",
    "'''\n",
    "load \"io\".\n",
    "\n",
    "let (x:%integer) %if x > 0 = 2.\n",
    "println x.\n",
    "'''\n",
    "interp(program, exceptions=False, tree_dump=False, do_walk=True, prologue=True)"
   ]
  },
  {
   "cell_type": "code",
   "execution_count": 20,
   "metadata": {},
   "outputs": [
    {
     "name": "stdout",
     "output_type": "stream",
     "text": [
      "[1,2]\n"
     ]
    }
   ],
   "source": [
    "program = \\\n",
    "'''\n",
    "load \"io\".\n",
    "\n",
    "let a:%list = [1,2] .\n",
    "println a.\n",
    "'''\n",
    "interp(program, exceptions=False, tree_dump=False, do_walk=True, prologue=True)"
   ]
  },
  {
   "cell_type": "code",
   "execution_count": 21,
   "metadata": {},
   "outputs": [
    {
     "name": "stdout",
     "output_type": "stream",
     "text": [
      "A(1,2)\n"
     ]
    }
   ],
   "source": [
    "program = \\\n",
    "'''\n",
    "load \"io\".\n",
    "structure A with\n",
    "    data a.\n",
    "    data b.\n",
    "    end\n",
    "\n",
    "let a = A(1,2).\n",
    "let v:%A = a.\n",
    "println v.\n",
    "'''\n",
    "interp(program, exceptions=False, tree_dump=False, do_walk=True, prologue=True)"
   ]
  },
  {
   "cell_type": "code",
   "execution_count": 22,
   "metadata": {},
   "outputs": [],
   "source": [
    "program = \\\n",
    "'''\n",
    "-- load \"io\".\n",
    "structure A with\n",
    "    data a.\n",
    "    data b.\n",
    "    end\n",
    "\n",
    "let a = A(1,2).\n",
    "assert((a @a is 1) and (a @b is 2)).\n",
    "'''\n",
    "interp(program, exceptions=False, tree_dump=False, do_walk=True, prologue=True)"
   ]
  },
  {
   "cell_type": "code",
   "execution_count": 23,
   "metadata": {},
   "outputs": [
    {
     "name": "stdout",
     "output_type": "stream",
     "text": [
      "false\n"
     ]
    }
   ],
   "source": [
    "program = \\\n",
    "'''\n",
    "load \"io\".\n",
    "\n",
    "function ident with i do return i end\n",
    "\n",
    "try\n",
    "    let p = not ident(1).\n",
    "    println p.\n",
    "catch e do\n",
    "    println e.\n",
    "end\n",
    "'''\n",
    "interp(program, exceptions=False, tree_dump=False, do_walk=True, prologue=True)"
   ]
  },
  {
   "cell_type": "code",
   "execution_count": 24,
   "metadata": {},
   "outputs": [
    {
     "name": "stdout",
     "output_type": "stream",
     "text": [
      "3\n"
     ]
    }
   ],
   "source": [
    "program = \\\n",
    "'''\n",
    "load \"io\".\n",
    "\n",
    "let q:%integer = 3.\n",
    "println q.\n",
    "'''\n",
    "interp(program, exceptions=False, tree_dump=False, do_walk=True, prologue=True)"
   ]
  },
  {
   "cell_type": "code",
   "execution_count": 25,
   "metadata": {},
   "outputs": [
    {
     "name": "stdout",
     "output_type": "stream",
     "text": [
      "-1\n"
     ]
    }
   ],
   "source": [
    "program = \\\n",
    "'''\n",
    "load \"io\".\n",
    "\n",
    "function ident with i do return i end\n",
    "\n",
    "try\n",
    "    let p = - ident(1).\n",
    "    println p.\n",
    "catch e do\n",
    "    println e.\n",
    "end\n",
    "'''\n",
    "interp(program, exceptions=False, tree_dump=False, do_walk=True, prologue=True)"
   ]
  },
  {
   "cell_type": "code",
   "execution_count": 26,
   "metadata": {},
   "outputs": [
    {
     "name": "stdout",
     "output_type": "stream",
     "text": [
      "[1,2,3]\n",
      "3\n",
      "hello: 1\n"
     ]
    }
   ],
   "source": [
    "program = \\\n",
    "'''\n",
    "load \"io\".\n",
    "\n",
    "structure A with\n",
    "    data a.\n",
    "    function hello with self do return \"hello: \"+ self @a end.\n",
    "    end\n",
    "    \n",
    "structure B with\n",
    "    data b.\n",
    "    end\n",
    "    \n",
    "let q = B([1,2,3]).\n",
    "let p = B(A(1)).\n",
    "\n",
    "println (q @ b).\n",
    "println (q @b @length()). \n",
    "println (p @b @hello()).\n",
    "'''\n",
    "interp(program, exceptions=True, tree_dump=False, do_walk=True, prologue=True)"
   ]
  },
  {
   "cell_type": "code",
   "execution_count": 27,
   "metadata": {},
   "outputs": [
    {
     "name": "stdout",
     "output_type": "stream",
     "text": [
      "3\n"
     ]
    }
   ],
   "source": [
    "program = \\\n",
    "'''\n",
    "load \"io\".\n",
    "    \n",
    "structure B with\n",
    "    data b.\n",
    "    function get with self do return self @b end\n",
    "    end\n",
    "    \n",
    "let q = B([1,2,3]).\n",
    "\n",
    "println (q @get() @length()). \n",
    "'''\n",
    "interp(program, exceptions=True, tree_dump=False, do_walk=True, prologue=True)"
   ]
  },
  {
   "cell_type": "code",
   "execution_count": 28,
   "metadata": {},
   "outputs": [
    {
     "name": "stdout",
     "output_type": "stream",
     "text": [
      "there\n"
     ]
    }
   ],
   "source": [
    "program = \\\n",
    "'''\n",
    "load \"io\".\n",
    "load \"hash\".\n",
    "\n",
    "let h = HashTable().\n",
    "h @insert(\"hello\",\"there\").\n",
    "let result = h @get(\"hello\").\n",
    "println (result).\n",
    "assert (result is \"there\").\n",
    "'''\n",
    "interp(program, exceptions=False, tree_dump=False)"
   ]
  },
  {
   "cell_type": "code",
   "execution_count": 29,
   "metadata": {},
   "outputs": [
    {
     "name": "stdout",
     "output_type": "stream",
     "text": [
      "abc\n"
     ]
    }
   ],
   "source": [
    "program = \\\n",
    "'''\n",
    "load \"io\".\n",
    "\n",
    "let name:\"a.*\" = \"abc\".\n",
    "println name.\n",
    "assert (name is \"abc\")\n",
    "'''\n",
    "interp(program, exceptions=True, tree_dump=False)"
   ]
  },
  {
   "cell_type": "code",
   "execution_count": 30,
   "metadata": {},
   "outputs": [
    {
     "name": "stdout",
     "output_type": "stream",
     "text": [
      "Sophie\n"
     ]
    }
   ],
   "source": [
    "program = \\\n",
    "'''\n",
    "load \"io\".\n",
    "load \"util\".\n",
    "\n",
    "structure Person with\n",
    "    data name.\n",
    "    data age.\n",
    "    data gender.\n",
    "    end\n",
    "\n",
    "let people = [\n",
    "    Person(\"George\", 32, \"M\"),\n",
    "    Person(\"Sophie\", 46, \"F\"),\n",
    "    Person(\"Oliver\", 21, \"X\")\n",
    "    ].\n",
    "\n",
    "for Person(name:\".*p.*\",_,_) in people do\n",
    "  println name.\n",
    "end\n",
    "assert(name is \"Sophie\")\n",
    "'''\n",
    "interp(program, exceptions=True, tree_dump=False)"
   ]
  },
  {
   "cell_type": "code",
   "execution_count": 31,
   "metadata": {},
   "outputs": [
    {
     "name": "stdout",
     "output_type": "stream",
     "text": [
      "2\n"
     ]
    }
   ],
   "source": [
    "program = \\\n",
    "'''\n",
    "load \"io\".\n",
    "\n",
    "function addc with x do return lambda with y do return x + y end\n",
    "let a = (addc 1) 1.\n",
    "println a.\n",
    "assert(a is 2).\n",
    "'''\n",
    "interp(program, exceptions=True, tree_dump=False)"
   ]
  },
  {
   "cell_type": "code",
   "execution_count": 32,
   "metadata": {},
   "outputs": [
    {
     "name": "stdout",
     "output_type": "stream",
     "text": [
      "b\n",
      "ace\n",
      "5\n",
      "[a,b,c,d,e]\n"
     ]
    }
   ],
   "source": [
    "program = \\\n",
    "'''\n",
    "load \"io\".\n",
    "let a = \"abcde\".\n",
    "let i = a @1.\n",
    "println i.\n",
    "let b = a @[0,2,4].\n",
    "println b.\n",
    "let i = a @length().\n",
    "println i.\n",
    "let e = a @explode().\n",
    "println e.\n",
    "'''\n",
    "interp(program, exceptions=False, tree_dump=False)"
   ]
  },
  {
   "cell_type": "code",
   "execution_count": 33,
   "metadata": {},
   "outputs": [
    {
     "name": "stdout",
     "output_type": "stream",
     "text": [
      "3\n",
      "[1,2,4,3,3]\n",
      "[4,3,3,2,1]\n"
     ]
    }
   ],
   "source": [
    "program = \\\n",
    "'''\n",
    "load \"io\".\n",
    "let a = [1,2,3].\n",
    "println (a @length()).\n",
    "a @append(3).\n",
    "a @insert(2,4).\n",
    "println a.\n",
    "a @sort(true).\n",
    "println a.\n",
    "'''\n",
    "interp(program, exceptions=True, tree_dump=False)"
   ]
  },
  {
   "cell_type": "code",
   "execution_count": 34,
   "metadata": {},
   "outputs": [],
   "source": [
    "program = \\\n",
    "'''\n",
    "load \"io\".\n",
    "let a = [].\n",
    "\n",
    "if a is [b|rest] do\n",
    "    println \"yes\".\n",
    "end\n",
    "'''\n",
    "interp(program, exceptions=True)"
   ]
  },
  {
   "cell_type": "code",
   "execution_count": 35,
   "metadata": {},
   "outputs": [],
   "source": [
    "program = \\\n",
    "'''\n",
    "load \"io\".\n",
    "let a = [1,2].\n",
    "\n",
    "if a is [b|c|d|rest] do\n",
    "    println \"yes\".\n",
    "end\n",
    "'''\n",
    "interp(program, exceptions=False)"
   ]
  },
  {
   "cell_type": "code",
   "execution_count": 36,
   "metadata": {},
   "outputs": [
    {
     "name": "stdout",
     "output_type": "stream",
     "text": [
      "1\n"
     ]
    }
   ],
   "source": [
    "program = \\\n",
    "'''\n",
    "load \"io\".\n",
    "let fst = (1,2)@0.\n",
    "println fst.\n",
    "'''\n",
    "interp(program, exceptions=False)"
   ]
  },
  {
   "cell_type": "code",
   "execution_count": 37,
   "metadata": {},
   "outputs": [
    {
     "name": "stdout",
     "output_type": "stream",
     "text": [
      "tuple = (1,2)\n"
     ]
    }
   ],
   "source": [
    "program = \\\n",
    "'''\n",
    "load \"io\".\n",
    "let t = (1,2).\n",
    "println (\"tuple = \" + t).\n",
    "'''\n",
    "interp(program, exceptions=True)"
   ]
  },
  {
   "cell_type": "code",
   "execution_count": 38,
   "metadata": {},
   "outputs": [],
   "source": [
    "program = \\\n",
    "'''\n",
    "let () = none.\n",
    "'''\n",
    "interp(program, exceptions=False)"
   ]
  },
  {
   "cell_type": "code",
   "execution_count": 39,
   "metadata": {},
   "outputs": [
    {
     "name": "stdout",
     "output_type": "stream",
     "text": [
      "Fido: [roll over,play dead]\n",
      "Buddy: [roll over,sit stay]\n"
     ]
    }
   ],
   "source": [
    "program = \\\n",
    "'''\n",
    "load \"io\".\n",
    "load \"util\".\n",
    "\n",
    "structure Dog with\n",
    "\n",
    "  data name.\n",
    "  data tricks.\n",
    "\n",
    "  function add_trick\n",
    "    with (self, new_trick) do\n",
    "      let self @tricks = self @tricks + [new_trick].\n",
    "    end \n",
    "    \n",
    "  function __init__\n",
    "    with (self, name) do \n",
    "      let self @name = name.\n",
    "      let self @tricks = [].\n",
    "    end \n",
    "    \n",
    "  end \n",
    "\n",
    "-- Fido the dog\n",
    "let fido = Dog(\"Fido\").\n",
    "\n",
    "fido @add_trick(\"roll over\").\n",
    "fido @add_trick(\"play dead\").\n",
    "\n",
    "-- Buddy the dog\n",
    "let buddy = Dog(\"Buddy\").\n",
    "\n",
    "buddy @add_trick(\"roll over\").\n",
    "buddy @add_trick(\"sit stay\").\n",
    "\n",
    "-- println out the tricks\n",
    "println (\"Fido: \" + fido @tricks).\n",
    "println (\"Buddy: \" + buddy @tricks).\n",
    "\n",
    "assert(fido @tricks is [\"roll over\", \"play dead\"]).\n",
    "assert(buddy @tricks is [\"roll over\", \"sit stay\"]).\n",
    "'''\n",
    "interp(program, exceptions=False)"
   ]
  },
  {
   "cell_type": "code",
   "execution_count": 40,
   "metadata": {},
   "outputs": [
    {
     "name": "stdout",
     "output_type": "stream",
     "text": [
      "2\n",
      "2\n"
     ]
    }
   ],
   "source": [
    "\n",
    "program = \\\n",
    "'''\n",
    "load \"io\".\n",
    "\n",
    "structure A with\n",
    "    data x.\n",
    "    function dump with self do println (self@x) end .\n",
    "    end \n",
    "\n",
    "let obj = A(2).\n",
    "obj @dump().\n",
    "\n",
    "let A(x) = obj.\n",
    "println x.\n",
    "\n",
    "assert(x is 2).\n",
    "\n",
    "'''\n",
    "interp(program, tree_dump=False, symtab_dump=False, exceptions=False, do_walk=True)"
   ]
  },
  {
   "cell_type": "code",
   "execution_count": 41,
   "metadata": {},
   "outputs": [
    {
     "name": "stdout",
     "output_type": "stream",
     "text": [
      "A(hello,world)\n",
      "A(1,2)\n"
     ]
    }
   ],
   "source": [
    "program = \\\n",
    "'''\n",
    "load \"io\".\n",
    "load \"util\".\n",
    "\n",
    "structure A with\n",
    "\n",
    "    data x.\n",
    "    data y.\n",
    "\n",
    "    function __init__\n",
    "      with (self, a, b) do\n",
    "        let self @x = a.\n",
    "        let self @y = b.\n",
    "      orwith self do\n",
    "        let self @x = 1.\n",
    "        let self @y = 2.\n",
    "      end \n",
    "    end \n",
    "\n",
    "let obj1 = A(\"hello\",\"world\").\n",
    "println obj1.\n",
    "let obj2 = A().\n",
    "println obj2.\n",
    "\n",
    "assert((obj1 @x is \"hello\") and (obj1 @y is \"world\")).\n",
    "assert((obj2 @x is 1) and (obj2 @y is 2)).\n",
    "\n",
    "'''\n",
    "interp(program, tree_dump=False, symtab_dump=False, exceptions=True, do_walk=True)"
   ]
  },
  {
   "cell_type": "code",
   "execution_count": 42,
   "metadata": {},
   "outputs": [
    {
     "name": "stdout",
     "output_type": "stream",
     "text": [
      "Sophie is 46 years old and is female.\n"
     ]
    }
   ],
   "source": [
    "program = \\\n",
    "'''\n",
    "load \"io\".\n",
    "load \"util\".\n",
    "\n",
    "structure Person with\n",
    "    data name.\n",
    "    data age.\n",
    "    data sex.\n",
    "    end \n",
    "\n",
    "let people = [\n",
    "    Person(\"George\", 32, \"M\"),\n",
    "    Person(\"Sophie\", 46, \"F\"),\n",
    "    Person(\"Oliver\", 21, \"M\")\n",
    "    ].\n",
    "    \n",
    "let Person(name,age,sex) = people @1.\n",
    "let output_str = name + \" is \" + age + \" years old and is \" + (\"male\" if sex is \"M\" else \"female\") + \".\".\n",
    "println output_str.\n",
    "assert(output_str is \"Sophie is 46 years old and is female.\")\n",
    "'''\n",
    "interp(program, tree_dump=False, symtab_dump=False, exceptions=False, do_walk=True)"
   ]
  },
  {
   "cell_type": "code",
   "execution_count": 43,
   "metadata": {},
   "outputs": [
    {
     "name": "stdout",
     "output_type": "stream",
     "text": [
      "[4,3,2,1,0]\n"
     ]
    }
   ],
   "source": [
    "program = \\\n",
    "\"\"\"\n",
    "load \"io\".      \n",
    "load \"util\".\n",
    "let slice = [4 to 0 step -1].\n",
    "println slice.\n",
    "assert(slice is [4,3,2,1,0]).\n",
    "\"\"\"\n",
    "interp(program, tree_dump=False, symtab_dump=False, exceptions=False, do_walk=True)"
   ]
  },
  {
   "cell_type": "code",
   "execution_count": 44,
   "metadata": {},
   "outputs": [
    {
     "name": "stdout",
     "output_type": "stream",
     "text": [
      "[1,2]\n"
     ]
    }
   ],
   "source": [
    "program = \\\n",
    "'''\n",
    "load \"io\".\n",
    "load \"util\".\n",
    "\n",
    "let a = [[1,2],[3,4],[5,6]].\n",
    "let l = (a @0).\n",
    "println l.\n",
    "assert(l is [1,2]).\n",
    "'''\n",
    "interp(program, tree_dump=False, symtab_dump=False, exceptions=False, do_walk=True)"
   ]
  },
  {
   "cell_type": "code",
   "execution_count": 45,
   "metadata": {},
   "outputs": [
    {
     "name": "stdout",
     "output_type": "stream",
     "text": [
      "20\n",
      "[20]\n"
     ]
    }
   ],
   "source": [
    "program = \\\n",
    "'''\n",
    "load \"io\".\n",
    "load \"util\".\n",
    "\n",
    "let a = [10,20,30].\n",
    "let x = a @(1).\n",
    "let y = a @[1].\n",
    "\n",
    "println x. -- prints out a scalar \n",
    "println y. -- prints out a list\n",
    "assert((x is 20) and (y is [20])).\n",
    "'''\n",
    "interp(program, tree_dump=False, symtab_dump=False, exceptions=False, do_walk=True)"
   ]
  },
  {
   "cell_type": "code",
   "execution_count": 46,
   "metadata": {},
   "outputs": [
    {
     "name": "stdout",
     "output_type": "stream",
     "text": [
      "0.4755968172115038\n"
     ]
    }
   ],
   "source": [
    "program = \\\n",
    "'''\n",
    "load \"random\".\n",
    "load \"io\".\n",
    "\n",
    "let v = random().\n",
    "\n",
    "println v.\n",
    "assert(v <= 1.0 and v >= 0.0).\n",
    "\n",
    "'''\n",
    "interp(program, tree_dump=False, symtab_dump=False, exceptions=False, do_walk=True)"
   ]
  },
  {
   "cell_type": "code",
   "execution_count": 47,
   "metadata": {},
   "outputs": [
    {
     "name": "stdout",
     "output_type": "stream",
     "text": [
      "2\n"
     ]
    }
   ],
   "source": [
    "program = \\\n",
    "'''\n",
    "load \"io\".\n",
    "load \"util\".\n",
    "\n",
    "let inc = (lambda with n do return n+1).\n",
    "\n",
    "\n",
    "println (eval ('inc 1)).\n",
    "\n",
    "assert(eval ('inc 1) is 2).\n",
    "'''\n",
    "interp(program, tree_dump=False, symtab_dump=False, exceptions=True)"
   ]
  },
  {
   "cell_type": "code",
   "execution_count": 48,
   "metadata": {},
   "outputs": [
    {
     "name": "stdout",
     "output_type": "stream",
     "text": [
      "(2,2)\n"
     ]
    }
   ],
   "source": [
    "\n",
    "program = \\\n",
    "'''\n",
    "load \"io\".\n",
    "load \"util\".\n",
    "let (f,g) = (1,2).\n",
    "\n",
    "function foobar \n",
    "    with none do\n",
    "        global f, g.\n",
    "        let f = 2.\n",
    "    end \n",
    "    \n",
    "foobar(none).\n",
    "println (f,g).\n",
    "\n",
    "assert((f,g) is (2,2)).\n",
    "'''\n",
    "interp(program, tree_dump=False, do_walk=True, exceptions=False, symtab_dump=False)"
   ]
  },
  {
   "cell_type": "code",
   "execution_count": 49,
   "metadata": {},
   "outputs": [],
   "source": [
    "program = \\\n",
    "'''\n",
    "load \"io\".\n",
    "\n",
    "try \n",
    "    let 2 = 1 + 1. \n",
    "catch _ do\n",
    "    println \"pattern match failed\".\n",
    "end \n",
    "\n",
    "'''\n",
    "interp(program, tree_dump=False, do_walk=True, exceptions=False, symtab_dump=False)"
   ]
  },
  {
   "cell_type": "code",
   "execution_count": 50,
   "metadata": {},
   "outputs": [
    {
     "name": "stdout",
     "output_type": "stream",
     "text": [
      "pattern match failed\n"
     ]
    }
   ],
   "source": [
    "program = \\\n",
    "'''\n",
    "load \"io\".\n",
    "\n",
    "let 2 = 1 + 1. -- (*@\\label{patternmatching-models:let1a}@*)\n",
    "\n",
    "try \n",
    "    let 1 + 1 = 1 + 1. -- throws an exception (*@\\label{patternmatching-models:let3}@*)\n",
    "catch _ do\n",
    "    println \"pattern match failed\".\n",
    "end \n",
    "\n",
    "'''\n",
    "interp(program, tree_dump=False, do_walk=True, exceptions=True, symtab_dump=False)"
   ]
  },
  {
   "cell_type": "code",
   "execution_count": 51,
   "metadata": {},
   "outputs": [],
   "source": [
    "program = \\\n",
    "'''\n",
    "load \"io\".\n",
    "\n",
    "try\n",
    "    let -1 = -1 .\n",
    "catch e do\n",
    "    println e.\n",
    "end \n",
    "'''\n",
    "interp(program, tree_dump=False, do_walk=True, exceptions=False, symtab_dump=False)"
   ]
  },
  {
   "cell_type": "code",
   "execution_count": 52,
   "metadata": {},
   "outputs": [
    {
     "name": "stdout",
     "output_type": "stream",
     "text": [
      "(-1,-2,[-1])\n"
     ]
    }
   ],
   "source": [
    "program = \\\n",
    "'''\n",
    "load \"io\".\n",
    "load \"util\".\n",
    "let p = -1.\n",
    "let w = p - 1.\n",
    "let q = [-1].\n",
    "println (p,w,q).\n",
    "\n",
    "-- NOTE: workaround, pattern matching does not work on negative constants.\n",
    "assert(p == -1).\n",
    "assert(w == -2).\n",
    "assert(q == [-1]).\n",
    "\n",
    "'''\n",
    "interp(program, tree_dump=False, do_walk=True, exceptions=False, symtab_dump=False)"
   ]
  },
  {
   "cell_type": "code",
   "execution_count": 53,
   "metadata": {},
   "outputs": [
    {
     "name": "stdout",
     "output_type": "stream",
     "text": [
      "S(S(S(S S 0)))\n"
     ]
    }
   ],
   "source": [
    "program = \\\n",
    "'''\n",
    "-- implements Peano addition using a lookup table for the rewrite rules\n",
    "\n",
    "load \"util\".\n",
    "load \"io\".\n",
    "\n",
    "structure S with\n",
    "    data x.\n",
    "    end \n",
    "    \n",
    "structure add with\n",
    "    data left.\n",
    "    data right.\n",
    "    end .\n",
    "\n",
    "let rule_table = [\n",
    "    ('add(x,0), 'reduce(x)),\n",
    "    ('add(x,S(y)), 'S(reduce(add(x,y))))\n",
    "    ].\n",
    "\n",
    "function reduce \n",
    "    with term do\n",
    "        for i in 0 to rule_table @length()-1 do\n",
    "            -- limit visibility of free variables of the rewrite rules\n",
    "            -- to the with block scope\n",
    "            let (lhs, rhs) = rule_table@i.\n",
    "            if term is *lhs do\n",
    "                return eval rhs.\n",
    "            end \n",
    "        end \n",
    "        return term.\n",
    "    end \n",
    "\n",
    "println (reduce('add(S(S(0)),S(S(S(0)))))).\n",
    "assert (reduce('add(S(S(0)),S(S(S(0))))) is S(S(S(S(S(0)))))).\n",
    "'''\n",
    "\n",
    "interp(program,exceptions=False,symtab_dump=False, tree_dump=False, do_walk=True)"
   ]
  },
  {
   "cell_type": "code",
   "execution_count": 54,
   "metadata": {},
   "outputs": [
    {
     "name": "stdout",
     "output_type": "stream",
     "text": [
      "true\n"
     ]
    }
   ],
   "source": [
    "program = \\\n",
    "'''\n",
    "load \"io\".\n",
    "load \"util\".\n",
    "\n",
    "let cl = 1 + 2.\n",
    "let cr = 3.\n",
    "let p = cl + cr.\n",
    "\n",
    "println (1+2+3 is *p).\n",
    "assert ((1+2+3 is *p) is true).\n",
    "'''\n",
    "interp(program, tree_dump=False, exceptions=False)"
   ]
  },
  {
   "cell_type": "code",
   "execution_count": 55,
   "metadata": {},
   "outputs": [
    {
     "name": "stdout",
     "output_type": "stream",
     "text": [
      "true\n"
     ]
    }
   ],
   "source": [
    "program = \\\n",
    "'''\n",
    "load \"io\".\n",
    "load \"util\".\n",
    "\n",
    "function match\n",
    "    with (subject, p) do\n",
    "        return subject is *p.\n",
    "    end \n",
    "    \n",
    "println (match('1+1, '_+_)).\n",
    "assert (match('1+1, '_+_) is true).\n",
    "'''\n",
    "interp(program, tree_dump=False, exceptions=False)"
   ]
  },
  {
   "cell_type": "code",
   "execution_count": 56,
   "metadata": {},
   "outputs": [
    {
     "name": "stdout",
     "output_type": "stream",
     "text": [
      "Hello There!\n"
     ]
    }
   ],
   "source": [
    "program = \\\n",
    "'''\n",
    "load \"io\".\n",
    "\n",
    "structure MyException with \n",
    "    data e.\n",
    "    end \n",
    "\n",
    "try\n",
    "    throw MyException(\"Hello There!\").\n",
    "catch MyException(v) do\n",
    "    println v.\n",
    "end \n",
    "'''\n",
    "interp(program, tree_dump=False, exceptions=False)"
   ]
  },
  {
   "cell_type": "code",
   "execution_count": 57,
   "metadata": {},
   "outputs": [
    {
     "name": "stdout",
     "output_type": "stream",
     "text": [
      "(Exception,integer division or modulo by zero)\n"
     ]
    }
   ],
   "source": [
    "program = \\\n",
    "'''\n",
    "load \"io\".\n",
    "\n",
    "try\n",
    "    let i = 10/0.\n",
    "    println i.\n",
    "catch e do\n",
    "    println e.\n",
    "end \n",
    "'''\n",
    "interp(program, tree_dump=False, exceptions=False)"
   ]
  },
  {
   "cell_type": "code",
   "execution_count": 58,
   "metadata": {},
   "outputs": [
    {
     "name": "stdout",
     "output_type": "stream",
     "text": [
      "integer division or modulo by zero\n"
     ]
    }
   ],
   "source": [
    "program = \\\n",
    "'''\n",
    "load \"io\".\n",
    "\n",
    "try\n",
    "    let i = 10/0.\n",
    "    println i.\n",
    "catch (\"Exception\", v) do\n",
    "    println v.\n",
    "end \n",
    "'''\n",
    "interp(program, tree_dump=False, exceptions=False)"
   ]
  },
  {
   "cell_type": "code",
   "execution_count": 59,
   "metadata": {},
   "outputs": [
    {
     "name": "stdout",
     "output_type": "stream",
     "text": [
      "Average Age: 33\n",
      "George\n",
      "Oliver\n"
     ]
    }
   ],
   "source": [
    "program = \\\n",
    "'''\n",
    "load \"io\".\n",
    "load \"util\".\n",
    "\n",
    "structure Person with\n",
    "    data name.\n",
    "    data age.\n",
    "    data sex.\n",
    "    end \n",
    "    \n",
    "let people = [\n",
    "    Person(\"George\", 32, \"M\"),\n",
    "    Person(\"Sophie\", 46, \"F\"),\n",
    "    Person(\"Oliver\", 21, \"M\")\n",
    "    ].\n",
    "    \n",
    "let n = people @length().\n",
    "let sum = 0.\n",
    "\n",
    "for Person(_,age,_) in people do\n",
    "    let sum = sum + age.\n",
    "end \n",
    "\n",
    "println (\"Average Age: \" + (sum/n)).\n",
    "assert ((sum/n) == 33).\n",
    "\n",
    "for Person(name,_,\"M\") in people do\n",
    "    println name.\n",
    "end \n",
    "'''\n",
    "interp(program, tree_dump=False, exceptions=False)"
   ]
  },
  {
   "cell_type": "code",
   "execution_count": 60,
   "metadata": {},
   "outputs": [
    {
     "name": "stdout",
     "output_type": "stream",
     "text": [
      "1\n",
      "2\n",
      "3\n"
     ]
    }
   ],
   "source": [
    "program = \\\n",
    "'''\n",
    "load \"io\".\n",
    "\n",
    "let l = [1,2,3].\n",
    "\n",
    "repeat do\n",
    "    let [head|l] = l.\n",
    "    println head.\n",
    "until l is [].\n",
    "'''\n",
    "interp(program, tree_dump=False, exceptions=False)"
   ]
  },
  {
   "cell_type": "code",
   "execution_count": 61,
   "metadata": {},
   "outputs": [
    {
     "name": "stdout",
     "output_type": "stream",
     "text": [
      "(1,2)\n"
     ]
    }
   ],
   "source": [
    "program = \\\n",
    "'''\n",
    "load \"io\".\n",
    "load \"util\".\n",
    "\n",
    "let true = ('1 + 2) is x + y.\n",
    "println (x,y).\n",
    "assert ((x,y) is (1,2)).\n",
    "'''\n",
    "interp(program, tree_dump=False, exceptions=False)"
   ]
  },
  {
   "cell_type": "code",
   "execution_count": 62,
   "metadata": {},
   "outputs": [],
   "source": [
    "program = \\\n",
    "'''\n",
    "load \"util\".\n",
    "structure S with\n",
    "    data x.\n",
    "    end \n",
    "    \n",
    "let v = S(S(S(0))).\n",
    "assert(v is S(S(S(0)))).\n",
    "'''\n",
    "interp(program, tree_dump=False, exceptions=False)"
   ]
  },
  {
   "cell_type": "code",
   "execution_count": 63,
   "metadata": {},
   "outputs": [
    {
     "name": "stdout",
     "output_type": "stream",
     "text": [
      "S(S(S(S(S(S(S(0)))))))\n"
     ]
    }
   ],
   "source": [
    "program = \\\n",
    "'''\n",
    "-- implements Peano addition on terms\n",
    "load \"io\".\n",
    "load \"util\".\n",
    "\n",
    "structure S with\n",
    "    data x.\n",
    "    end \n",
    "    \n",
    "structure add with\n",
    "    data left.\n",
    "    data right.\n",
    "    end\n",
    "\n",
    "function reduce\n",
    "    with add(x,0) do      \n",
    "        return reduce(x).\n",
    "    orwith add(x,S(y))  do\n",
    "        return S(reduce(add(x,y))).\n",
    "    orwith term do     \n",
    "        return term.\n",
    "    end \n",
    "\n",
    "println(reduce(add(add(add(S(S(0)),S(S(S(0)))),S(0)),S(0)))).\n",
    "assert(reduce(add(add(add(S(S(0)),S(S(S(0)))),S(0)),S(0))) is S(S(S(S(S(S(S(0)))))))).\n",
    "'''\n",
    "interp(program, tree_dump=False, exceptions=False)"
   ]
  },
  {
   "cell_type": "code",
   "execution_count": 64,
   "metadata": {},
   "outputs": [
    {
     "name": "stdout",
     "output_type": "stream",
     "text": [
      "[0,1,2,3]\n"
     ]
    }
   ],
   "source": [
    "from asteroid_interp import interp\n",
    "program = \\\n",
    "'''\n",
    "-- Quicksort\n",
    "\n",
    "load \"io\".\n",
    "load \"util\".\n",
    "\n",
    "function qsort\n",
    "    with [] do\n",
    "        return [].\n",
    "    orwith [a] do\n",
    "        return [a].\n",
    "    orwith [pivot|rest] do\n",
    "        let less=[].\n",
    "        let more=[].\n",
    "            \n",
    "        for e in rest do  \n",
    "            if e < pivot do\n",
    "                let less = less + [e].\n",
    "            else\n",
    "                let more = more + [e].\n",
    "            end \n",
    "        end \n",
    "                     \n",
    "        return qsort less + [pivot] + qsort more.\n",
    "    end \n",
    "    \n",
    "println (qsort [3,2,1,0]).\n",
    "assert (qsort [3,2,1,0] == [0,1,2,3]).\n",
    "'''\n",
    "interp(program, symtab_dump=False)"
   ]
  },
  {
   "cell_type": "code",
   "execution_count": 65,
   "metadata": {},
   "outputs": [
    {
     "name": "stdout",
     "output_type": "stream",
     "text": [
      "((1,),(2,),+)\n"
     ]
    }
   ],
   "source": [
    "program = \\\n",
    "'''\n",
    "load \"io\".\n",
    "load \"util\".\n",
    "\n",
    "function postfix\n",
    "    with (op, cl, cr) do \n",
    "        return (postfix cl, postfix cr, op)\n",
    "    orwith (op, c) do \n",
    "        return (postfix c, op)\n",
    "    orwith (v,) do \n",
    "        return (v,)\n",
    "end \n",
    "\n",
    "println (postfix (\"+\", (1,), (2,))).\n",
    "assert ((postfix (\"+\", (1,), (2,))) is ((1,),(2,),\"\\+\")). -- strings in patterns are REs!\n",
    "'''\n",
    "interp(program, tree_dump=False, do_walk=True, exceptions=True, symtab_dump=False)"
   ]
  },
  {
   "cell_type": "code",
   "execution_count": 66,
   "metadata": {},
   "outputs": [
    {
     "name": "stdout",
     "output_type": "stream",
     "text": [
      "Please enter an integer value: 3\n",
      "1\n",
      "2\n",
      "3\n"
     ]
    }
   ],
   "source": [
    "program =\\\n",
    "'''\n",
    "load \"util\".\n",
    "load \"io\".\n",
    "\n",
    "let cnt = tointeger(input(\"Please enter an integer value: \")).\n",
    "\n",
    "for i in 1 to cnt do\n",
    "    println i.\n",
    "end \n",
    "assert (i is cnt).\n",
    "'''\n",
    "\n",
    "interp(program)"
   ]
  },
  {
   "cell_type": "code",
   "execution_count": 67,
   "metadata": {},
   "outputs": [
    {
     "name": "stdout",
     "output_type": "stream",
     "text": [
      "Please enter your name: Leo\n",
      "Hello Leo!\n"
     ]
    }
   ],
   "source": [
    "program =\\\n",
    "'''\n",
    "load \"io\".\n",
    "\n",
    "let name = input(\"Please enter your name: \").\n",
    "println(\"Hello \" + name + \"!\").\n",
    "'''\n",
    "\n",
    "interp(program)"
   ]
  },
  {
   "cell_type": "code",
   "execution_count": 68,
   "metadata": {},
   "outputs": [
    {
     "name": "stdout",
     "output_type": "stream",
     "text": [
      "S S x\n",
      "S S x\n",
      "S(S(S S 0))\n"
     ]
    }
   ],
   "source": [
    "from asteroid_interp import interp\n",
    "program = \\\n",
    "'''\n",
    "load \"util\".\n",
    "load \"io\".\n",
    "\n",
    "structure S with\n",
    "    data x.\n",
    "    end \n",
    "    \n",
    "let x = 'S(S(0)).\n",
    "let y = 'S(S(x)).\n",
    "let z = y.\n",
    "\n",
    "println y.\n",
    "println z.\n",
    "println (eval (z)).\n",
    "assert ((eval (z)) is S(S(S(S(0))))).\n",
    "'''\n",
    "interp(program, tree_dump=False, symtab_dump=False, do_walk=True, exceptions=False)"
   ]
  },
  {
   "cell_type": "code",
   "execution_count": 69,
   "metadata": {},
   "outputs": [
    {
     "name": "stdout",
     "output_type": "stream",
     "text": [
      "0\n"
     ]
    }
   ],
   "source": [
    "program = \\\n",
    "'''\n",
    "load \"io\".\n",
    "load \"util\".\n",
    "\n",
    "function ident \n",
    "    with n do \n",
    "        return n \n",
    "    end  \n",
    "\n",
    "let y = ident ident  0.\n",
    "\n",
    "println y.\n",
    "assert (y is 0).\n",
    "'''\n",
    "interp(program, tree_dump=False, symtab_dump=False, do_walk=True, exceptions=True)"
   ]
  },
  {
   "cell_type": "code",
   "execution_count": 70,
   "metadata": {},
   "outputs": [
    {
     "name": "stdout",
     "output_type": "stream",
     "text": [
      "(0,0)\n"
     ]
    }
   ],
   "source": [
    "program = \\\n",
    "'''\n",
    "load \"io\".\n",
    "load \"util\".\n",
    "\n",
    "function ident \n",
    "    with n do \n",
    "        return n \n",
    "    end  \n",
    "\n",
    "let y = ident(ident (0)).\n",
    "let x = ident ident 0.\n",
    "\n",
    "println (x,y).\n",
    "assert ((x,y) is (0,0)).\n",
    "'''\n",
    "interp(program, tree_dump=False, symtab_dump=False, do_walk=True, exceptions=False)"
   ]
  },
  {
   "cell_type": "code",
   "execution_count": 71,
   "metadata": {},
   "outputs": [
    {
     "name": "stdout",
     "output_type": "stream",
     "text": [
      "The factorial of 3 is: 6\n"
     ]
    }
   ],
   "source": [
    "program = \\\n",
    "'''\n",
    "-- Factorial\n",
    "\n",
    "load \"io\".\n",
    "load \"util\".\n",
    "\n",
    "function fact \n",
    "    with 0 do\n",
    "        return 1\n",
    "    orwith n do\n",
    "        return n * fact (n-1).\n",
    "    end \n",
    "\n",
    "println (\"The factorial of 3 is: \" + fact (3)).\n",
    "assert (fact(3) == 6).\n",
    "'''\n",
    "interp(program, exceptions=False, symtab_dump=False)"
   ]
  },
  {
   "cell_type": "code",
   "execution_count": 72,
   "metadata": {},
   "outputs": [],
   "source": [
    "program = \\\n",
    "'''\n",
    "-- show that the value constructed by head-tail is a list\n",
    "let [1,2,3] = [1 | [2,3]].\n",
    "\n",
    "-- show that a list can be decomposed with head-tail\n",
    "let [1 | [2,3]] = [1,2,3].\n",
    "\n",
    "-- show that we can nest head-tail operators\n",
    "let [1,2,3] = [1 | [2 | [3 | []]]].\n",
    "\n",
    "'''\n",
    "interp(program, tree_dump=False, symtab_dump=False, do_walk=True, exceptions=False)"
   ]
  },
  {
   "cell_type": "code",
   "execution_count": 73,
   "metadata": {},
   "outputs": [
    {
     "name": "stdout",
     "output_type": "stream",
     "text": [
      "--- error ---\n"
     ]
    }
   ],
   "source": [
    "program = \\\n",
    "'''\n",
    "load \"util\".\n",
    "load \"io\".\n",
    "\n",
    "structure MyError with \n",
    "    data e.\n",
    "    end \n",
    "\n",
    "try\n",
    "\n",
    "    throw Error \"--- error ---\".\n",
    "    \n",
    "catch Error(msg) do\n",
    "    println msg.\n",
    "    assert (msg == \"--- error ---\")\n",
    "end \n",
    "\n",
    "'''\n",
    "interp(program, tree_dump=False, symtab_dump=False, do_walk=True, exceptions=False)"
   ]
  },
  {
   "cell_type": "code",
   "execution_count": 74,
   "metadata": {},
   "outputs": [
    {
     "name": "stdout",
     "output_type": "stream",
     "text": [
      "head: 1 tail: [2,3]\n"
     ]
    }
   ],
   "source": [
    "program = \\\n",
    "'''\n",
    "load \"io\".\n",
    "load \"util\".\n",
    "\n",
    "let [h|t] = [1,2,3].\n",
    "println (\"head: \" + h + \" tail: \" + t).\n",
    "assert(h == 1 and t == [2,3]).\n",
    "'''\n",
    "interp(program, tree_dump=False, symtab_dump=False, do_walk=True, exceptions=False)"
   ]
  },
  {
   "cell_type": "code",
   "execution_count": 75,
   "metadata": {},
   "outputs": [
    {
     "name": "stdout",
     "output_type": "stream",
     "text": [
      "0\n"
     ]
    }
   ],
   "source": [
    "program = \\\n",
    "'''\n",
    "load \"io\".\n",
    "load \"util\".\n",
    "\n",
    "let y = -1.\n",
    "let x = 4 if y == 3 else 0.\n",
    "println x.\n",
    "assert (x == 0).\n",
    "'''\n",
    "interp(program, tree_dump=False, symtab_dump=False, do_walk=True, exceptions=False)"
   ]
  },
  {
   "cell_type": "code",
   "execution_count": 76,
   "metadata": {},
   "outputs": [
    {
     "name": "stdout",
     "output_type": "stream",
     "text": [
      "0\n",
      "1\n",
      "2\n",
      "3\n",
      "4\n",
      "5\n"
     ]
    }
   ],
   "source": [
    "program = \\\n",
    "'''\n",
    "load \"io\".\n",
    "load \"util\".\n",
    "\n",
    "for x in 0 to 10 do\n",
    "    println x.\n",
    "    if x == 5 do\n",
    "        break.\n",
    "    end \n",
    "end \n",
    "assert (x == 5).\n",
    "'''\n",
    "interp(program, tree_dump=False, do_walk=True, exceptions=False)"
   ]
  },
  {
   "cell_type": "code",
   "execution_count": 77,
   "metadata": {},
   "outputs": [
    {
     "name": "stdout",
     "output_type": "stream",
     "text": [
      "(1,1)\n",
      "(2,2)\n",
      "(3,3)\n",
      "21\n",
      "22\n",
      "23\n"
     ]
    }
   ],
   "source": [
    "program = \\\n",
    "'''\n",
    "load \"io\".\n",
    "\n",
    "for (x,y) in [(1,1), (2,2), (3,3)]  do\n",
    "    println (x,y).\n",
    "end \n",
    "\n",
    "-- use unification as a filter\n",
    "for (2,y) in [(1,11), (1,12), (1,13), (2,21), (2,22), (2,23)]  do\n",
    "    println y.\n",
    "end \n",
    "'''\n",
    "interp(program, tree_dump=False, do_walk=True, symtab_dump=False)"
   ]
  },
  {
   "cell_type": "code",
   "execution_count": 78,
   "metadata": {},
   "outputs": [
    {
     "name": "stdout",
     "output_type": "stream",
     "text": [
      "1\n",
      "2\n",
      "3\n",
      "4\n",
      "5\n",
      "6\n",
      "7\n",
      "8\n",
      "9\n",
      "10\n"
     ]
    }
   ],
   "source": [
    "program = \\\n",
    "'''\n",
    "load \"io\".\n",
    "\n",
    "for x in 1 to 10 do\n",
    "    println x.\n",
    "end \n",
    "'''\n",
    "interp(program, tree_dump=False, do_walk=True, symtab_dump=False)"
   ]
  },
  {
   "cell_type": "code",
   "execution_count": 79,
   "metadata": {},
   "outputs": [
    {
     "name": "stdout",
     "output_type": "stream",
     "text": [
      "turkey\n",
      "duck\n",
      "chicken\n"
     ]
    }
   ],
   "source": [
    "program = \\\n",
    "'''\n",
    "load \"io\".\n",
    "\n",
    "for bird in [\"turkey\",\"duck\",\"chicken\"] do\n",
    "    println bird.\n",
    "end \n",
    "'''\n",
    "interp(program, tree_dump=False, do_walk=True, symtab_dump=False)"
   ]
  },
  {
   "cell_type": "code",
   "execution_count": 80,
   "metadata": {},
   "outputs": [
    {
     "name": "stdout",
     "output_type": "stream",
     "text": [
      "More\n"
     ]
    }
   ],
   "source": [
    "program = \\\n",
    "'''\n",
    "load \"io\".\n",
    "\n",
    "let x = 42.\n",
    "\n",
    "if x < 0 do\n",
    "    let x = 0.\n",
    "    println(\"Negative changed to zero\").\n",
    "\n",
    "elif x == 0 do\n",
    "    println(\"Zero\").\n",
    "\n",
    "elif x == 1 do\n",
    "    println(\"Single\").\n",
    "\n",
    "else do\n",
    "    println(\"More\").\n",
    "    \n",
    "end \n",
    "\n",
    "'''\n",
    "interp(program, tree_dump=False, do_walk=True, exceptions=False)"
   ]
  },
  {
   "cell_type": "code",
   "execution_count": 81,
   "metadata": {},
   "outputs": [
    {
     "name": "stdout",
     "output_type": "stream",
     "text": [
      "1\n",
      "2\n",
      "3\n",
      "4\n",
      "5\n",
      "6\n",
      "7\n",
      "8\n",
      "9\n",
      "10\n"
     ]
    }
   ],
   "source": [
    "program = \\\n",
    "'''\n",
    "load \"io\".\n",
    "load \"util\".\n",
    "\n",
    "let x = 1.\n",
    "while x <= 10 do\n",
    "    println x.\n",
    "    let x = x + 1.\n",
    "end \n",
    "assert (x == 11).\n",
    "'''\n",
    "interp(program, exceptions=True)"
   ]
  },
  {
   "cell_type": "code",
   "execution_count": 82,
   "metadata": {},
   "outputs": [
    {
     "name": "stdout",
     "output_type": "stream",
     "text": [
      "1\n",
      "2\n",
      "3\n",
      "4\n",
      "5\n",
      "6\n",
      "7\n",
      "8\n",
      "9\n",
      "10\n"
     ]
    }
   ],
   "source": [
    "program = \\\n",
    "'''\n",
    "load \"io\".\n",
    "load \"util\".\n",
    "\n",
    "let x = 1.\n",
    "loop\n",
    "    if x > 10 do\n",
    "        break.\n",
    "    end\n",
    "    println x.\n",
    "    let x = x + 1.\n",
    "end \n",
    "assert (x == 11).\n",
    "'''\n",
    "interp(program, exceptions=True)"
   ]
  },
  {
   "cell_type": "code",
   "execution_count": 83,
   "metadata": {},
   "outputs": [],
   "source": [
    "program = \\\n",
    "'''\n",
    "let 1 = 1.\n",
    "'''\n",
    "interp(program, exceptions=False, tree_dump=False)"
   ]
  },
  {
   "cell_type": "code",
   "execution_count": 84,
   "metadata": {},
   "outputs": [
    {
     "name": "stdout",
     "output_type": "stream",
     "text": [
      "Hello World!\n"
     ]
    }
   ],
   "source": [
    "program = \\\n",
    "'''\n",
    "load \"io\".\n",
    "load \"util\".\n",
    "\n",
    "structure A with\n",
    "    data x.\n",
    "    data y.\n",
    "    end \n",
    "\n",
    "let a = A(999, (lambda with (self) do return \"Hello World!\")).\n",
    "println (a@1()).\n",
    "\n",
    "assert(a@1() is \"Hello World!\").\n",
    "\n",
    "'''\n",
    "interp(program, tree_dump=False, symtab_dump=False, exceptions=True, do_walk=True)"
   ]
  },
  {
   "cell_type": "code",
   "execution_count": 85,
   "metadata": {},
   "outputs": [
    {
     "name": "stdout",
     "output_type": "stream",
     "text": [
      "(1,2,3)\n"
     ]
    }
   ],
   "source": [
    "program = \\\n",
    "'''\n",
    "load \"io\".\n",
    "\n",
    "println (1,2,3).\n",
    "'''\n",
    "interp(program)"
   ]
  },
  {
   "cell_type": "code",
   "execution_count": 86,
   "metadata": {},
   "outputs": [
    {
     "name": "stdout",
     "output_type": "stream",
     "text": [
      "[[1,2,3,4,5]]\n"
     ]
    }
   ],
   "source": [
    "program = \\\n",
    "'''\n",
    "load \"io\".\n",
    "load \"util\".\n",
    "let nl = [[1 to 5]].\n",
    "println nl.\n",
    "assert (nl is [[1,2,3,4,5]]).\n",
    "'''\n",
    "interp(program, tree_dump=False, symtab_dump=False)"
   ]
  },
  {
   "cell_type": "code",
   "execution_count": 87,
   "metadata": {},
   "outputs": [
    {
     "name": "stdout",
     "output_type": "stream",
     "text": [
      "pattern match failed: pattern of type 'to-list' not allowed in pattern matching\n"
     ]
    }
   ],
   "source": [
    "program = \\\n",
    "'''\n",
    "-- TODO: should this work similar to Rust?\n",
    "load \"io\".\n",
    "load \"util\".\n",
    "try \n",
    "    let [1 to 3] = [1,2,3].\n",
    "catch (_, v) do\n",
    "    println v.\n",
    "    assert (v is \"pattern match failed: pattern of type 'to-list' not allowed in pattern matching\").\n",
    "end \n",
    "\n",
    "let [1,2,3] = [1 to 3].\n",
    "'''\n",
    "interp(program, symtab_dump=False, tree_dump=False, exceptions=True)"
   ]
  },
  {
   "cell_type": "code",
   "execution_count": 88,
   "metadata": {},
   "outputs": [
    {
     "name": "stdout",
     "output_type": "stream",
     "text": [
      "[1,2,3]\n"
     ]
    }
   ],
   "source": [
    "program = \\\n",
    "'''\n",
    "load \"io\".\n",
    "load \"util\".\n",
    "\n",
    "structure A with\n",
    "    data x.\n",
    "    data y.\n",
    "    data z.\n",
    "    end \n",
    "\n",
    "let a = A(1,2,3).\n",
    "let b = a@[0 to 2].\n",
    "println b.\n",
    "assert (b is [1,2,3]).\n",
    "'''\n",
    "interp(program, symtab_dump=False, tree_dump=False, exceptions=True)"
   ]
  },
  {
   "cell_type": "code",
   "execution_count": 89,
   "metadata": {},
   "outputs": [
    {
     "name": "stdout",
     "output_type": "stream",
     "text": [
      "[0,2]\n"
     ]
    }
   ],
   "source": [
    "program = \\\n",
    "'''\n",
    "load \"io\".\n",
    "load \"util\".\n",
    "\n",
    "let a = [0,1,2,3].\n",
    "let b = a@[0 to 3 step 2].\n",
    "println b.\n",
    "assert (b is [0,2]).\n",
    "'''\n",
    "interp(program, symtab_dump=False, tree_dump=False, exceptions=True)"
   ]
  },
  {
   "cell_type": "code",
   "execution_count": 90,
   "metadata": {},
   "outputs": [
    {
     "name": "stdout",
     "output_type": "stream",
     "text": [
      "true\n"
     ]
    }
   ],
   "source": [
    "program = \\\n",
    "'''\n",
    "load \"io\".\n",
    "load \"util\".\n",
    "\n",
    "let y = [0 to 10 step 2].\n",
    "let z = 4 in y.\n",
    "println z.\n",
    "assert z.\n",
    "'''\n",
    "interp(program, symtab_dump=False, tree_dump=False)"
   ]
  },
  {
   "cell_type": "code",
   "execution_count": 91,
   "metadata": {},
   "outputs": [],
   "source": [
    "program = \\\n",
    "'''\n",
    "let true = 3 in [1,2,3].\n",
    "'''\n",
    "interp(program, symtab_dump=False)"
   ]
  },
  {
   "cell_type": "code",
   "execution_count": 92,
   "metadata": {},
   "outputs": [],
   "source": [
    "program = \\\n",
    "'''\n",
    "let true = (1,2) is (1,x).\n",
    "let true = (1,3) is (1,x).\n",
    "\n",
    "'''\n",
    "interp(program, symtab_dump=False)"
   ]
  },
  {
   "cell_type": "code",
   "execution_count": 93,
   "metadata": {},
   "outputs": [
    {
     "name": "stdout",
     "output_type": "stream",
     "text": [
      "[[1,2,3],[4,0,6],[7,8,9]]\n"
     ]
    }
   ],
   "source": [
    "program = \\\n",
    "'''\n",
    "load \"io\".\n",
    "load \"util\".\n",
    "\n",
    "let b = [[1,2,3],\n",
    "         [4,5,6],\n",
    "         [7,8,9]].\n",
    "let b@1@1 = 0.\n",
    "println b.\n",
    "assert (b is [[1,2,3],[4,0,6],[7,8,9]]).\n",
    "'''\n",
    "interp(program, tree_dump=False, exceptions=False)"
   ]
  },
  {
   "cell_type": "code",
   "execution_count": 94,
   "metadata": {},
   "outputs": [
    {
     "name": "stdout",
     "output_type": "stream",
     "text": [
      "(PatternMatchFailed,pattern match failed: term and pattern disagree on 'apply' node)\n"
     ]
    }
   ],
   "source": [
    "program = \\\n",
    "'''\n",
    "load \"io\".\n",
    "-- -1 is a value\n",
    "try\n",
    "    let -1 = -1.\n",
    "catch e do\n",
    "    println e.\n",
    "end \n",
    "\n",
    "-- not true is a computation\n",
    "try\n",
    "    let not true = not true.\n",
    "catch e do\n",
    "    println e.\n",
    "end \n",
    "'''\n",
    "interp(program, tree_dump=False, symtab_dump=False)"
   ]
  },
  {
   "cell_type": "code",
   "execution_count": 95,
   "metadata": {},
   "outputs": [
    {
     "name": "stdout",
     "output_type": "stream",
     "text": [
      "A([1,0,3])\n"
     ]
    }
   ],
   "source": [
    "program = \\\n",
    "'''\n",
    "load \"io\".\n",
    "load \"util\".\n",
    "\n",
    "structure A with\n",
    "    data x.\n",
    "    end \n",
    "    \n",
    "let a = A([1,2,3]).\n",
    "let a@0@1 = 0.\n",
    "println a.\n",
    "assert (a is A([1,0,3])).\n",
    "'''\n",
    "interp(program, tree_dump=False, symtab_dump=False, exceptions=False)"
   ]
  },
  {
   "cell_type": "code",
   "execution_count": 96,
   "metadata": {},
   "outputs": [
    {
     "name": "stdout",
     "output_type": "stream",
     "text": [
      "[3,2,1]\n"
     ]
    }
   ],
   "source": [
    "program = \\\n",
    "'''\n",
    "load \"io\".\n",
    "load \"util\".\n",
    "\n",
    "let a = [1,2,3].\n",
    "let b = [0,0,0].\n",
    "let [b@2,b@1,b@0] = a.\n",
    "println b.\n",
    "assert (b is [3,2,1]).\n",
    "'''\n",
    "interp(program, tree_dump=False, symtab_dump=False, do_walk=True, exceptions=False)"
   ]
  },
  {
   "cell_type": "code",
   "execution_count": 97,
   "metadata": {},
   "outputs": [
    {
     "name": "stdout",
     "output_type": "stream",
     "text": [
      "(A(1),B(1,2),1,[1,2])\n"
     ]
    }
   ],
   "source": [
    "program = \\\n",
    "'''\n",
    "load \"io\".\n",
    "load \"util\".\n",
    "\n",
    "structure A with \n",
    "    data a.\n",
    "    end \n",
    "    \n",
    "structure B with \n",
    "    data x.\n",
    "    data y.\n",
    "    end \n",
    "\n",
    "let x = A(1).\n",
    "let y = B(1,2).\n",
    "\n",
    "let A(z) = x.\n",
    "let B(v,w) = y.\n",
    "\n",
    "let xx = x@0.\n",
    "let yy = y@[0,1].\n",
    "\n",
    "println (x,y,xx,yy).\n",
    "assert ((x,y,xx,yy) is (A(1),B(1,2),1,[1,2])).\n",
    "'''\n",
    "interp(program, tree_dump=False, symtab_dump=False, exceptions=False)"
   ]
  },
  {
   "cell_type": "code",
   "execution_count": 98,
   "metadata": {},
   "outputs": [
    {
     "name": "stdout",
     "output_type": "stream",
     "text": [
      "('quote', ('index', ('id', 'a'), ('list', [('integer', 3)])))\n"
     ]
    }
   ],
   "source": [
    "program = \\\n",
    "'''\n",
    "load \"io\".\n",
    "\n",
    "let v = 'a@[3].\n",
    "raw_print v.\n",
    "'''\n",
    "interp(program)"
   ]
  },
  {
   "cell_type": "code",
   "execution_count": 99,
   "metadata": {},
   "outputs": [
    {
     "name": "stdout",
     "output_type": "stream",
     "text": [
      "(2,3)\n"
     ]
    }
   ],
   "source": [
    "program = \\\n",
    "'''\n",
    "load \"io\".\n",
    "load \"util\".\n",
    "\n",
    "function inc with n do return n+1 end \n",
    "\n",
    "let v = inc(inc(0)).\n",
    "let q = 1 + 1 + 1.\n",
    "println (v, q).\n",
    "assert ((v, q) is (2,3)).\n",
    "'''\n",
    "interp(program, tree_dump=False, symtab_dump=False)"
   ]
  },
  {
   "cell_type": "code",
   "execution_count": 100,
   "metadata": {},
   "outputs": [
    {
     "name": "stdout",
     "output_type": "stream",
     "text": [
      "2\n",
      "hello world!\n",
      "[1,2,3,4,5,6]\n"
     ]
    }
   ],
   "source": [
    "program = \\\n",
    "'''\n",
    "-- show off our overloaded '+' operator\n",
    "load \"io\".\n",
    "load \"util\".\n",
    "\n",
    "println (1 + 1).\n",
    "assert ((1+1) == 2).\n",
    "\n",
    "let s1 = \"hello\".\n",
    "let s2 = \"world\".\n",
    "let s3 = s1 + \" \" + s2 +\"!\".\n",
    "println s3.\n",
    "assert (s3 == \"hello world!\").\n",
    "\n",
    "let l1 = [1,2,3].\n",
    "let l2 = [4,5,6].\n",
    "let l3 = l1 + l2.\n",
    "println l3.\n",
    "assert (l3 == [1,2,3,4,5,6]).\n",
    "'''\n",
    "interp(program, tree_dump=False, symtab_dump=False, exceptions=False)"
   ]
  },
  {
   "cell_type": "code",
   "execution_count": 101,
   "metadata": {},
   "outputs": [
    {
     "name": "stdout",
     "output_type": "stream",
     "text": [
      "[3,2,1]\n"
     ]
    }
   ],
   "source": [
    "program = \\\n",
    "'''\n",
    "load \"io\".\n",
    "load \"util\".\n",
    "\n",
    "-- reverse the list\n",
    "let a = [1,2,3].\n",
    "let a = a@[2,1,0].\n",
    "println a.\n",
    "assert (a is [3,2,1]).\n",
    "'''\n",
    "interp(program, tree_dump=False, do_walk=True, symtab_dump=False, exceptions=False)"
   ]
  },
  {
   "cell_type": "code",
   "execution_count": 102,
   "metadata": {},
   "outputs": [
    {
     "name": "stdout",
     "output_type": "stream",
     "text": [
      "[3,2,1]\n",
      "5\n"
     ]
    }
   ],
   "source": [
    "program = \\\n",
    "'''\n",
    "load \"io\".\n",
    "load \"util\".\n",
    "\n",
    "-- reverse the list\n",
    "let a = [1,2,3].\n",
    "let a = a@[2,1,0].\n",
    "println a.\n",
    "assert (a is [3,2,1]).\n",
    "\n",
    "-- access multidim array\n",
    "let b = [[1,2,3],\n",
    "         [4,5,6],\n",
    "         [7,8,9]].\n",
    "let e = b@1@1.\n",
    "println e.\n",
    "assert (e is 5).\n",
    "'''\n",
    "interp(program, tree_dump=False, do_walk=True, symtab_dump=False, exceptions=False)"
   ]
  },
  {
   "cell_type": "code",
   "execution_count": 103,
   "metadata": {},
   "outputs": [
    {
     "name": "stdout",
     "output_type": "stream",
     "text": [
      "1.3\n"
     ]
    }
   ],
   "source": [
    "interp('load \"io\". load \"util\". let x = 1.3 . println x. assert(x is 1.3).', exceptions=False)"
   ]
  },
  {
   "cell_type": "code",
   "execution_count": 104,
   "metadata": {},
   "outputs": [
    {
     "name": "stdout",
     "output_type": "stream",
     "text": [
      "pattern match failed: nodes 'real' and 'integer' are not the same\n"
     ]
    }
   ],
   "source": [
    "program =\\\n",
    "'''\n",
    "load \"io\".\n",
    "load \"util\".\n",
    "\n",
    "try\n",
    "    let 1 = 1.0 .\n",
    "catch (_,v) do\n",
    "    println v.\n",
    "    assert(v is \"pattern match failed: nodes 'real' and 'integer' are not the same\").\n",
    "end \n",
    "'''\n",
    "\n",
    "interp(program)"
   ]
  },
  {
   "cell_type": "code",
   "execution_count": 105,
   "metadata": {},
   "outputs": [
    {
     "name": "stdout",
     "output_type": "stream",
     "text": [
      "(1,2)\n"
     ]
    }
   ],
   "source": [
    "interp('load \"io\". load \"util\". let (1,y) = (1,2). println (1,y). assert((1,y) is (1,2)).')"
   ]
  },
  {
   "cell_type": "code",
   "execution_count": 106,
   "metadata": {},
   "outputs": [
    {
     "name": "stdout",
     "output_type": "stream",
     "text": [
      "(1,2)\n"
     ]
    }
   ],
   "source": [
    "interp('load \"io\". load \"util\". let (x,2) = (1,2). println (x,2). assert((x,2) is (1,2)).')"
   ]
  },
  {
   "cell_type": "code",
   "execution_count": 107,
   "metadata": {},
   "outputs": [
    {
     "name": "stdout",
     "output_type": "stream",
     "text": [
      "(1,2)\n"
     ]
    }
   ],
   "source": [
    "interp('load \"io\". load \"util\". let s = (1,2). let (x,y) = s. println (x,y). assert((x,y) is (1,2))')"
   ]
  },
  {
   "cell_type": "code",
   "execution_count": 108,
   "metadata": {},
   "outputs": [
    {
     "name": "stdout",
     "output_type": "stream",
     "text": [
      "2\n"
     ]
    }
   ],
   "source": [
    "program = \\\n",
    "'''\n",
    "load \"io\".\n",
    "load \"util\".\n",
    "\n",
    "function ident with n do return n end \n",
    "println (ident(2)).\n",
    "assert (ident(2) is 2).\n",
    "'''\n",
    "interp(program)"
   ]
  },
  {
   "cell_type": "code",
   "execution_count": 109,
   "metadata": {},
   "outputs": [
    {
     "name": "stdout",
     "output_type": "stream",
     "text": [
      "1\n"
     ]
    }
   ],
   "source": [
    "program = \\\n",
    "'''\n",
    "load \"io\".\n",
    "load \"util\".\n",
    "let x = 1. \n",
    "function ident with n do return n end.\n",
    "println (ident( ident (x))) .\n",
    "assert (ident( ident (x)) is 1) .\n",
    "'''\n",
    "interp(program)"
   ]
  },
  {
   "cell_type": "code",
   "execution_count": 110,
   "metadata": {},
   "outputs": [],
   "source": [
    "interp('load \"util\". let (_, x) = ([1], 2). assert (x is 2).', symtab_dump=False)"
   ]
  },
  {
   "cell_type": "code",
   "execution_count": 111,
   "metadata": {},
   "outputs": [
    {
     "name": "stdout",
     "output_type": "stream",
     "text": [
      "2\n"
     ]
    }
   ],
   "source": [
    "program = \\\n",
    "'''\n",
    "load \"io\".\n",
    "load \"util\".\n",
    "\n",
    "println ((lambda with n do return n+1) 1).\n",
    "assert ((lambda with n do return n+1) 1 is 2).\n",
    "'''\n",
    "interp(program, tree_dump=False, symtab_dump=False)"
   ]
  },
  {
   "cell_type": "code",
   "execution_count": null,
   "metadata": {},
   "outputs": [],
   "source": []
  }
 ],
 "metadata": {
  "kernelspec": {
   "display_name": "Python 3",
   "language": "python",
   "name": "python3"
  },
  "language_info": {
   "codemirror_mode": {
    "name": "ipython",
    "version": 3
   },
   "file_extension": ".py",
   "mimetype": "text/x-python",
   "name": "python",
   "nbconvert_exporter": "python",
   "pygments_lexer": "ipython3",
   "version": "3.8.5"
  }
 },
 "nbformat": 4,
 "nbformat_minor": 2
}

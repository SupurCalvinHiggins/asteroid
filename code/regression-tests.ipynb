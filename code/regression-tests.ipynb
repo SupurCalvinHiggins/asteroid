{
 "cells": [
  {
   "cell_type": "markdown",
   "metadata": {},
   "source": [
    "# Regression Tests"
   ]
  },
  {
   "cell_type": "markdown",
   "metadata": {},
   "source": [
    "This is the regression test suite for Asteroid.  All the programs in this notebook should execute.  \n",
    "\n",
    "You can turn this into an executable Python script with:\n",
    "```\n",
    "jupyter nbconvert --to script regression-tests.ipynb \n",
    "```"
   ]
  },
  {
   "cell_type": "code",
   "execution_count": 1,
   "metadata": {},
   "outputs": [],
   "source": [
    "from asteroid_interp import interp"
   ]
  },
  {
   "cell_type": "code",
   "execution_count": 2,
   "metadata": {},
   "outputs": [
    {
     "name": "stdout",
     "output_type": "stream",
     "text": [
      "b\n",
      "ace\n",
      "5\n",
      "[a,b,c,d,e]\n",
      "abcde\n"
     ]
    }
   ],
   "source": [
    "program = \\\n",
    "'''\n",
    "load \"io\".\n",
    "let a = \"abcde\".\n",
    "let i = a@1.\n",
    "print i.\n",
    "let b = a@[0,2,4].\n",
    "print b.\n",
    "let i = a@length().\n",
    "print i.\n",
    "let e = a@explode().\n",
    "print e.\n",
    "let c = \"\"@join(e).\n",
    "print c.\n",
    "'''\n",
    "interp(program, exceptions=True, tree_dump=False)"
   ]
  },
  {
   "cell_type": "code",
   "execution_count": 3,
   "metadata": {},
   "outputs": [
    {
     "name": "stdout",
     "output_type": "stream",
     "text": [
      "3\n",
      "[1,2,4,3,3]\n",
      "[4,3,3,2,1]\n"
     ]
    }
   ],
   "source": [
    "program = \\\n",
    "'''\n",
    "load \"io\".\n",
    "let a = [1,2,3].\n",
    "print (a@length()).\n",
    "a@append(3).\n",
    "a@insert(2,4).\n",
    "print a.\n",
    "a@sort(true).\n",
    "print a.\n",
    "'''\n",
    "interp(program, exceptions=True, tree_dump=False)"
   ]
  },
  {
   "cell_type": "code",
   "execution_count": 4,
   "metadata": {
    "collapsed": true
   },
   "outputs": [],
   "source": [
    "program = \\\n",
    "'''\n",
    "load \"io\".\n",
    "let a = [].\n",
    "\n",
    "if a is [b|rest] do\n",
    "    print \"yes\".\n",
    "end if\n",
    "'''\n",
    "interp(program, exceptions=True)"
   ]
  },
  {
   "cell_type": "code",
   "execution_count": 5,
   "metadata": {
    "collapsed": true
   },
   "outputs": [],
   "source": [
    "program = \\\n",
    "'''\n",
    "load \"io\".\n",
    "let a = [1,2].\n",
    "\n",
    "if a is [b|c|d|rest] do\n",
    "    print \"yes\".\n",
    "end if\n",
    "'''\n",
    "interp(program, exceptions=True)"
   ]
  },
  {
   "cell_type": "code",
   "execution_count": 6,
   "metadata": {},
   "outputs": [
    {
     "name": "stdout",
     "output_type": "stream",
     "text": [
      "1\n"
     ]
    }
   ],
   "source": [
    "program = \\\n",
    "'''\n",
    "load \"io\".\n",
    "let fst = (1,2)@0.\n",
    "print fst.\n",
    "'''\n",
    "interp(program, exceptions=False)"
   ]
  },
  {
   "cell_type": "code",
   "execution_count": 7,
   "metadata": {},
   "outputs": [
    {
     "name": "stdout",
     "output_type": "stream",
     "text": [
      "tuple = (1,2)\n"
     ]
    }
   ],
   "source": [
    "program = \\\n",
    "'''\n",
    "load \"standard\".\n",
    "load \"io\".\n",
    "let t = (1,2).\n",
    "print (\"tuple = \" + t).\n",
    "'''\n",
    "interp(program, exceptions=True)"
   ]
  },
  {
   "cell_type": "code",
   "execution_count": 8,
   "metadata": {
    "collapsed": true
   },
   "outputs": [],
   "source": [
    "program = \\\n",
    "'''\n",
    "let () = none.\n",
    "'''\n",
    "interp(program, exceptions=False)"
   ]
  },
  {
   "cell_type": "code",
   "execution_count": 9,
   "metadata": {},
   "outputs": [
    {
     "name": "stdout",
     "output_type": "stream",
     "text": [
      "Fido: [roll over,play dead]\n",
      "Buddy: [roll over,sit stay]\n"
     ]
    }
   ],
   "source": [
    "program = \\\n",
    "'''\n",
    "load \"standard\".\n",
    "load \"io\".\n",
    "load \"util\".\n",
    "\n",
    "class Dog with\n",
    "\n",
    "  data name = \"\".\n",
    "  data tricks = [].\n",
    "\n",
    "  function add_trick\n",
    "    with (self, new_trick) do\n",
    "      let self@tricks = self@tricks + [new_trick].\n",
    "    end function\n",
    "    \n",
    "  function __init__\n",
    "    with (self, name) do \n",
    "      let self@name = name.\n",
    "    end function\n",
    "    \n",
    "  end class\n",
    "\n",
    "-- Fido the dog\n",
    "let fido = Dog(\"Fido\").\n",
    "\n",
    "fido@add_trick(\"roll over\").\n",
    "fido@add_trick(\"play dead\").\n",
    "\n",
    "-- Buddy the dog\n",
    "let buddy = Dog(\"Buddy\").\n",
    "\n",
    "buddy@add_trick(\"roll over\").\n",
    "buddy@add_trick(\"sit stay\").\n",
    "\n",
    "-- print out the tricks\n",
    "print (\"Fido: \" + fido@tricks).\n",
    "print (\"Buddy: \" + buddy@tricks).\n",
    "\n",
    "assert(fido@tricks is [\"roll over\", \"play dead\"]).\n",
    "assert(buddy@tricks is [\"roll over\", \"sit stay\"]).\n",
    "'''\n",
    "interp(program, exceptions=False)"
   ]
  },
  {
   "cell_type": "code",
   "execution_count": 10,
   "metadata": {},
   "outputs": [
    {
     "name": "stdout",
     "output_type": "stream",
     "text": [
      "Fido: [roll over,play dead]\n",
      "Buddy: [roll over,sit stay]\n"
     ]
    }
   ],
   "source": [
    "program = \\\n",
    "'''\n",
    "load \"standard\".\n",
    "load \"io\".\n",
    "load \"util\".\n",
    "\n",
    "class Dog with\n",
    "\n",
    "  data name = \"\".\n",
    "  data tricks = [].\n",
    "  data add_trick = lambda with (self, new_trick) do let self@tricks = self@tricks + [new_trick].\n",
    "  data __init__ = lambda with (self, name) do let self@name = name.\n",
    "\n",
    "  end class\n",
    "\n",
    "-- Fido the dog\n",
    "let fido = Dog(\"Fido\").\n",
    "\n",
    "fido@add_trick \"roll over\".\n",
    "fido@add_trick \"play dead\".\n",
    "\n",
    "-- Buddy the dog\n",
    "let buddy = Dog(\"Buddy\").\n",
    "\n",
    "buddy@add_trick \"roll over\".\n",
    "buddy@add_trick \"sit stay\".\n",
    "\n",
    "-- print out the tricks\n",
    "print (\"Fido: \" + fido@tricks).\n",
    "print (\"Buddy: \" + buddy@tricks).\n",
    "\n",
    "assert(fido@tricks is [\"roll over\", \"play dead\"]).\n",
    "assert(buddy@tricks is [\"roll over\", \"sit stay\"]).\n",
    "\n",
    "'''\n",
    "interp(program)"
   ]
  },
  {
   "cell_type": "code",
   "execution_count": 11,
   "metadata": {},
   "outputs": [
    {
     "name": "stdout",
     "output_type": "stream",
     "text": [
      "2\n",
      "2\n"
     ]
    }
   ],
   "source": [
    "\n",
    "program = \\\n",
    "'''\n",
    "load \"io\".\n",
    "load \"util\".\n",
    "\n",
    "class A \n",
    "  with\n",
    "    data x = 2.\n",
    "    function dump with self do print self@x end function\n",
    "  end class\n",
    "\n",
    "let obj = A().\n",
    "obj@dump().\n",
    "\n",
    "let A(x,y) = obj.\n",
    "print x.\n",
    "\n",
    "assert(x is 2).\n",
    "\n",
    "'''\n",
    "interp(program, tree_dump=False, symtab_dump=False, exceptions=False, do_walk=True)"
   ]
  },
  {
   "cell_type": "code",
   "execution_count": 12,
   "metadata": {},
   "outputs": [
    {
     "name": "stdout",
     "output_type": "stream",
     "text": [
      "3\n"
     ]
    }
   ],
   "source": [
    "program = \\\n",
    "'''\n",
    "load \"io\".\n",
    "load \"standard\".\n",
    "load \"util\".\n",
    "\n",
    "\n",
    "constructor A with arity 1.\n",
    "\n",
    "let a = A(lambda with (a,b) do return a+b).\n",
    "\n",
    "print a@0 (1,2).\n",
    "\n",
    "assert(a@0(1,2) is 3).\n",
    "\n",
    "'''\n",
    "interp(program, tree_dump=False, symtab_dump=False, exceptions=False, do_walk=True)"
   ]
  },
  {
   "cell_type": "code",
   "execution_count": 13,
   "metadata": {},
   "outputs": [
    {
     "name": "stdout",
     "output_type": "stream",
     "text": [
      "A(hello, world, (function ...))\n",
      "A(1, 2, (function ...))\n"
     ]
    }
   ],
   "source": [
    "program = \\\n",
    "'''\n",
    "load \"io\".\n",
    "load \"util\".\n",
    "\n",
    "class A with\n",
    "\n",
    "    data x.\n",
    "    data y.\n",
    "\n",
    "    function __init__\n",
    "      with (self, a, b) do\n",
    "        let self@x = a.\n",
    "        let self@y = b.\n",
    "      orwith self do\n",
    "        let self@x = 1.\n",
    "        let self@y = 2.\n",
    "      end function\n",
    "    end class\n",
    "\n",
    "let obj1 = A(\"hello\",\"world\").\n",
    "print obj1.\n",
    "let obj2 = A(none).\n",
    "print obj2.\n",
    "\n",
    "assert((obj1@x is \"hello\") and (obj1@y is \"world\")).\n",
    "assert((obj2@x is 1) and (obj2@y is 2)).\n",
    "\n",
    "'''\n",
    "interp(program, tree_dump=False, symtab_dump=False, exceptions=True, do_walk=True)"
   ]
  },
  {
   "cell_type": "code",
   "execution_count": 14,
   "metadata": {},
   "outputs": [
    {
     "name": "stdout",
     "output_type": "stream",
     "text": [
      "Sophie is 46 years old and is female.\n"
     ]
    }
   ],
   "source": [
    "program = \\\n",
    "'''\n",
    "load \"standard\".\n",
    "load \"io\".\n",
    "load \"util\".\n",
    "\n",
    "constructor Person with arity 3.\n",
    "\n",
    "let people = [\n",
    "    Person(\"George\", 32, \"M\"),\n",
    "    Person(\"Sophie\", 46, \"F\"),\n",
    "    Person(\"Oliver\", 21, \"M\")\n",
    "    ].\n",
    "    \n",
    "let Person(name,age,sex) = people@1.\n",
    "let output_str = name + \" is \" + age + \" years old and is \" + \"male\" if sex is \"M\" else \"female\" + \".\".\n",
    "print output_str.\n",
    "assert(output_str is \"Sophie is 46 years old and is female.\")\n",
    "'''\n",
    "interp(program, tree_dump=False, symtab_dump=False, exceptions=False, do_walk=True)"
   ]
  },
  {
   "cell_type": "code",
   "execution_count": 15,
   "metadata": {},
   "outputs": [
    {
     "name": "stdout",
     "output_type": "stream",
     "text": [
      "[4,3,2,1,0]\n"
     ]
    }
   ],
   "source": [
    "from asteroid_interp import interp\n",
    "program = \\\n",
    "\"\"\"\n",
    "load \"standard\".\n",
    "load \"io\".      \n",
    "load \"util\".\n",
    "let slice = [4 to 0 step -1].\n",
    "print slice.\n",
    "assert(slice is [4,3,2,1,0]).\n",
    "\"\"\"\n",
    "interp(program, tree_dump=False, symtab_dump=False, exceptions=False, do_walk=True)"
   ]
  },
  {
   "cell_type": "code",
   "execution_count": 16,
   "metadata": {},
   "outputs": [
    {
     "name": "stdout",
     "output_type": "stream",
     "text": [
      "[1,2]\n"
     ]
    }
   ],
   "source": [
    "program = \\\n",
    "'''\n",
    "load \"standard\".\n",
    "load \"io\".\n",
    "load \"util\".\n",
    "\n",
    "let a = [[1,2],[3,4],[5,6]].\n",
    "let l = (a@0).\n",
    "print l.\n",
    "assert(l is [1,2]).\n",
    "'''\n",
    "interp(program, tree_dump=False, symtab_dump=False, exceptions=False, do_walk=True)"
   ]
  },
  {
   "cell_type": "code",
   "execution_count": 17,
   "metadata": {},
   "outputs": [
    {
     "name": "stdout",
     "output_type": "stream",
     "text": [
      "20\n",
      "[20]\n"
     ]
    }
   ],
   "source": [
    "program = \\\n",
    "'''\n",
    "load \"io\".\n",
    "load \"util\".\n",
    "\n",
    "let a = [10,20,30].\n",
    "let x = a@(1).\n",
    "let y = a@[1].\n",
    "\n",
    "print x. -- prints out a scalar \n",
    "print y. -- prints out a list\n",
    "assert((x is 20) and (y is [20])).\n",
    "'''\n",
    "interp(program, tree_dump=False, symtab_dump=False, exceptions=False, do_walk=True)"
   ]
  },
  {
   "cell_type": "code",
   "execution_count": 18,
   "metadata": {},
   "outputs": [
    {
     "name": "stdout",
     "output_type": "stream",
     "text": [
      "0.3131355517243962\n"
     ]
    }
   ],
   "source": [
    "program = \\\n",
    "'''\n",
    "load \"standard\"\n",
    "load \"util\".\n",
    "load \"io\".\n",
    "\n",
    "let v = random none.\n",
    "\n",
    "print v.\n",
    "assert(v <= 1.0 and v >= 0.0).\n",
    "\n",
    "'''\n",
    "interp(program, tree_dump=False, symtab_dump=False, exceptions=False, do_walk=True)"
   ]
  },
  {
   "cell_type": "code",
   "execution_count": 19,
   "metadata": {},
   "outputs": [
    {
     "name": "stdout",
     "output_type": "stream",
     "text": [
      "2\n"
     ]
    }
   ],
   "source": [
    "program = \\\n",
    "'''\n",
    "load \"standard\"\n",
    "load \"io\".\n",
    "load \"util\".\n",
    "\n",
    "let inc = (lambda with n do return n+1).\n",
    "\n",
    "\n",
    "print (eval ('inc 1)).\n",
    "\n",
    "assert(eval ('inc 1) is 2).\n",
    "'''\n",
    "interp(program, tree_dump=False, symtab_dump=False, exceptions=True)"
   ]
  },
  {
   "cell_type": "code",
   "execution_count": 20,
   "metadata": {},
   "outputs": [
    {
     "name": "stdout",
     "output_type": "stream",
     "text": [
      "(2,2)\n"
     ]
    }
   ],
   "source": [
    "\n",
    "program = \\\n",
    "'''\n",
    "load \"io\".\n",
    "load \"util\".\n",
    "let (f,g) = (1,2).\n",
    "\n",
    "function foobar \n",
    "    with none do\n",
    "        global f, g.\n",
    "        let f = 2.\n",
    "    end function\n",
    "    \n",
    "foobar(none).\n",
    "print (f,g).\n",
    "\n",
    "assert((f,g) is (2,2)).\n",
    "'''\n",
    "interp(program, tree_dump=False, do_walk=True, exceptions=False, symtab_dump=False)"
   ]
  },
  {
   "cell_type": "code",
   "execution_count": 21,
   "metadata": {},
   "outputs": [
    {
     "name": "stdout",
     "output_type": "stream",
     "text": [
      "pattern match failed\n"
     ]
    }
   ],
   "source": [
    "program = \\\n",
    "'''\n",
    "load \"io\".\n",
    "\n",
    "try \n",
    "    let 2 = 1 + 1. \n",
    "catch _ do\n",
    "    print \"pattern match failed\".\n",
    "end try\n",
    "\n",
    "'''\n",
    "interp(program, tree_dump=False, do_walk=True, exceptions=False, symtab_dump=False)"
   ]
  },
  {
   "cell_type": "code",
   "execution_count": 22,
   "metadata": {},
   "outputs": [
    {
     "name": "stdout",
     "output_type": "stream",
     "text": [
      "pattern match failed\n",
      "pattern match failed\n"
     ]
    }
   ],
   "source": [
    "program = \\\n",
    "'''\n",
    "load \"io\".\n",
    "\n",
    "load \"default\". -- load default term model\n",
    "let 1 + 1 = 1 + 1. -- (*@\\label{patternmatching-models:let1}@*)\n",
    "try \n",
    "    let 2 = 1 + 1. -- (*@\\label{patternmatching-models:let1a}@*)\n",
    "catch _ do\n",
    "    print \"pattern match failed\".\n",
    "end try\n",
    "\n",
    "load \"standard\". -- load standard model (*@\\label{patternmatching-models:load}@*)\n",
    "let 2 = 1 + 1. -- (*@\\label{patternmatching-models:let2}@*)\n",
    "try \n",
    "    let 1 + 1 = 1 + 1. -- throws an exception (*@\\label{patternmatching-models:let3}@*)\n",
    "catch _ do\n",
    "    print \"pattern match failed\".\n",
    "end try\n",
    "\n",
    "'''\n",
    "interp(program, tree_dump=False, do_walk=True, exceptions=True, symtab_dump=False)"
   ]
  },
  {
   "cell_type": "code",
   "execution_count": 23,
   "metadata": {
    "collapsed": true
   },
   "outputs": [],
   "source": [
    "program = \\\n",
    "'''\n",
    "-- TODO: this pattern match fails under the standard model\n",
    "--load \"standard\".\n",
    "let -1 = -1 .\n",
    "'''\n",
    "interp(program, tree_dump=False, do_walk=True, exceptions=False, symtab_dump=False)"
   ]
  },
  {
   "cell_type": "code",
   "execution_count": 24,
   "metadata": {},
   "outputs": [
    {
     "name": "stdout",
     "output_type": "stream",
     "text": [
      "(-1,-2,[-1])\n"
     ]
    }
   ],
   "source": [
    "program = \\\n",
    "'''\n",
    "load \"standard\".\n",
    "load \"io\".\n",
    "load \"util\".\n",
    "let p = -1.\n",
    "let w = p - 1.\n",
    "let q = [-1].\n",
    "print (p,w,q).\n",
    "\n",
    "-- NOTE: workaround, pattern matching does not work on negative constants.\n",
    "assert(p == -1).\n",
    "assert(w == -2).\n",
    "assert(q == [-1]).\n",
    "\n",
    "'''\n",
    "interp(program, tree_dump=False, do_walk=True, exceptions=False, symtab_dump=False)"
   ]
  },
  {
   "cell_type": "code",
   "execution_count": 25,
   "metadata": {},
   "outputs": [
    {
     "name": "stdout",
     "output_type": "stream",
     "text": [
      "[2,2,2]*[2,2,2]=12\n",
      "2*2=4\n"
     ]
    }
   ],
   "source": [
    "program = \\\n",
    "'''\n",
    "-- overload the model\n",
    "load \"math\". -- defines mult_op\n",
    "load \"standard\".\n",
    "load \"io\".    \n",
    "load \"util\".\n",
    "\n",
    "function dot_op\n",
    "    with ([a],[b]) do\n",
    "        return mult_op(a,b).\n",
    "    orwith ([h1|t1],[h2|t2]) do\n",
    "        return mult_op(h1,h2) + dot_op(t1,t2).\n",
    "    end function\n",
    "    \n",
    "function mult_op_overloaded\n",
    "    with (v1,v2) do\n",
    "        if is_list(v1) and is_list(v2) do\n",
    "            return dot_op(v1,v2).\n",
    "        else do\n",
    "            return mult_op(v1,v2).\n",
    "        end if\n",
    "    end function\n",
    "\n",
    "detach from __times__.\n",
    "attach  mult_op_overloaded to __times__.\n",
    "\n",
    "print (\"[2,2,2]*[2,2,2]=\" + [2,2,2]*[2,2,2]).\n",
    "print (\"2*2=\" + 2*2).\n",
    "\n",
    "assert([2,2,2]*[2,2,2] == 12 and 2*2 == 4).\n",
    "'''\n",
    "interp(program, symtab_dump=False, exceptions=True)"
   ]
  },
  {
   "cell_type": "code",
   "execution_count": 26,
   "metadata": {},
   "outputs": [
    {
     "name": "stdout",
     "output_type": "stream",
     "text": [
      "S(S(S(0)))\n",
      "__plus__(1,__plus__(1,__plus__(1,0)))\n"
     ]
    }
   ],
   "source": [
    "program = \\\n",
    "'''\n",
    "load \"io\".\n",
    "load \"util\".\n",
    "\n",
    "constructor S with arity 1.\n",
    "\n",
    "function inc \n",
    "    with n do\n",
    "        return 1 + n.\n",
    "    end function\n",
    "\n",
    "print (S(S(S(0)))).\n",
    "assert (S(S(S(0))) is S(S(S(0)))).\n",
    "\n",
    "attach inc to S.\n",
    "print (S(S(S(0)))).\n",
    "assert (S(S(S(0))) is __plus__(1,__plus__(1,__plus__(1,0)))).\n",
    "'''\n",
    "interp(program,exceptions=False)"
   ]
  },
  {
   "cell_type": "code",
   "execution_count": 27,
   "metadata": {},
   "outputs": [
    {
     "name": "stdout",
     "output_type": "stream",
     "text": [
      "S(S(S(0)))\n",
      "3\n",
      "S(S(S(0)))\n"
     ]
    }
   ],
   "source": [
    "program = \\\n",
    "'''\n",
    "load \"standard\".\n",
    "load \"io\".\n",
    "load \"util\".\n",
    "\n",
    "constructor S with arity 1.\n",
    "\n",
    "function inc \n",
    "    with n do\n",
    "        return 1 + n.\n",
    "    end function\n",
    "\n",
    "-- switch between models\n",
    "print (S(S(S(0)))).\n",
    "assert (S(S(S(0))) is S(S(S(0)))).\n",
    "\n",
    "attach inc to S.\n",
    "print (S(S(S(0)))).\n",
    "assert (S(S(S(0))) is 3).\n",
    "\n",
    "detach from S.\n",
    "print (S(S(S(0)))).\n",
    "assert (S(S(S(0))) is S(S(S(0)))).\n",
    "'''\n",
    "interp(program,exceptions=False)"
   ]
  },
  {
   "cell_type": "code",
   "execution_count": 28,
   "metadata": {},
   "outputs": [
    {
     "name": "stdout",
     "output_type": "stream",
     "text": [
      "S(S(S(S(S(0)))))\n"
     ]
    }
   ],
   "source": [
    "program = \\\n",
    "'''\n",
    "-- implements Peano addition using a lookup table for the rewrite rules\n",
    "\n",
    "load \"standard\".\n",
    "load \"util\".\n",
    "load \"io\".\n",
    "\n",
    "detach from __plus__ . -- we want to use '+' as constructor\n",
    "constructor S with arity 1.\n",
    "\n",
    "let rule_table = [\n",
    "    ('x + 0, 'reduce(x)),\n",
    "    ('x + S(y), 'S(reduce(x + y)))\n",
    "    ].\n",
    "\n",
    "function reduce \n",
    "    with term do\n",
    "        for i in 0 to length(rule_table) - 1 do\n",
    "            -- limit visibility of free variables of the rewrite rules\n",
    "            -- to the with block scope\n",
    "            let (lhs, rhs) = rule_table@i.\n",
    "            if term is *lhs do\n",
    "                return eval rhs.\n",
    "            end if\n",
    "        end for\n",
    "        return term.\n",
    "    end function\n",
    "\n",
    "print (reduce(S(S(0)) + S(S(S(0))))).\n",
    "assert (reduce(S(S(0)) + S(S(S(0)))) is S(S(S(S(S(0)))))).\n",
    "'''\n",
    "\n",
    "interp(program,exceptions=False,symtab_dump=False, tree_dump=False, do_walk=True)"
   ]
  },
  {
   "cell_type": "code",
   "execution_count": 29,
   "metadata": {},
   "outputs": [
    {
     "name": "stdout",
     "output_type": "stream",
     "text": [
      "true\n"
     ]
    }
   ],
   "source": [
    "program = \\\n",
    "'''\n",
    "load \"io\".\n",
    "load \"util\".\n",
    "\n",
    "let cl = 1 + 2.\n",
    "let cr = 3.\n",
    "let pattern = cl + cr.\n",
    "\n",
    "print (1+2+3 is *pattern).\n",
    "assert ((1+2+3 is *pattern) is true).\n",
    "'''\n",
    "interp(program, tree_dump=False, exceptions=False)"
   ]
  },
  {
   "cell_type": "code",
   "execution_count": 30,
   "metadata": {},
   "outputs": [
    {
     "name": "stdout",
     "output_type": "stream",
     "text": [
      "true\n"
     ]
    }
   ],
   "source": [
    "program = \\\n",
    "'''\n",
    "load \"io\".\n",
    "load \"util\".\n",
    "\n",
    "function match\n",
    "    with (subject, pattern) do\n",
    "        return subject is *pattern.\n",
    "    end function\n",
    "    \n",
    "print (match(1+1, '_+_)).\n",
    "assert (match(1+1, '_+_) is true).\n",
    "'''\n",
    "interp(program, tree_dump=False, exceptions=False)"
   ]
  },
  {
   "cell_type": "code",
   "execution_count": 31,
   "metadata": {},
   "outputs": [
    {
     "name": "stdout",
     "output_type": "stream",
     "text": [
      "Hello There!\n"
     ]
    }
   ],
   "source": [
    "program = \\\n",
    "'''\n",
    "load \"io\".\n",
    "\n",
    "constructor MyException with arity 1.\n",
    "\n",
    "try\n",
    "    throw MyException(\"Hello There!\").\n",
    "catch MyException(v) do\n",
    "    print v.\n",
    "end try\n",
    "'''\n",
    "interp(program, tree_dump=False, exceptions=False)"
   ]
  },
  {
   "cell_type": "code",
   "execution_count": 32,
   "metadata": {},
   "outputs": [
    {
     "name": "stdout",
     "output_type": "stream",
     "text": [
      "(Exception,integer division or modulo by zero)\n"
     ]
    }
   ],
   "source": [
    "program = \\\n",
    "'''\n",
    "load \"io\".\n",
    "load \"standard\".\n",
    "\n",
    "try\n",
    "    let i = 10/0.\n",
    "    print i.\n",
    "catch e do\n",
    "    print e.\n",
    "end try\n",
    "'''\n",
    "interp(program, tree_dump=False, exceptions=False)"
   ]
  },
  {
   "cell_type": "code",
   "execution_count": 33,
   "metadata": {},
   "outputs": [
    {
     "name": "stdout",
     "output_type": "stream",
     "text": [
      "integer division or modulo by zero\n"
     ]
    }
   ],
   "source": [
    "program = \\\n",
    "'''\n",
    "load \"io\".\n",
    "load \"standard\".\n",
    "\n",
    "try\n",
    "    let i = 10/0.\n",
    "    print i.\n",
    "catch (\"Exception\", v) do\n",
    "    print v.\n",
    "end try\n",
    "'''\n",
    "interp(program, tree_dump=False, exceptions=False)"
   ]
  },
  {
   "cell_type": "code",
   "execution_count": 34,
   "metadata": {},
   "outputs": [
    {
     "name": "stdout",
     "output_type": "stream",
     "text": [
      "Average Age: 33\n",
      "George\n",
      "Oliver\n"
     ]
    }
   ],
   "source": [
    "program = \\\n",
    "'''\n",
    "load \"standard\".\n",
    "load \"io\".\n",
    "load \"util\".\n",
    "\n",
    "constructor Person with arity 3.\n",
    "\n",
    "let people = [\n",
    "    Person(\"George\", 32, \"M\"),\n",
    "    Person(\"Sophie\", 46, \"F\"),\n",
    "    Person(\"Oliver\", 21, \"M\")\n",
    "    ].\n",
    "    \n",
    "let n = length people.\n",
    "let sum = 0.\n",
    "\n",
    "for Person(_,age,_) in people do\n",
    "    let sum = sum + age.\n",
    "end for\n",
    "\n",
    "print (\"Average Age: \" + (sum/n)).\n",
    "assert ((sum/n) == 33).\n",
    "\n",
    "for Person(name,_,\"M\") in people do\n",
    "    print name.\n",
    "end for\n",
    "'''\n",
    "interp(program, tree_dump=False, exceptions=False)"
   ]
  },
  {
   "cell_type": "code",
   "execution_count": 35,
   "metadata": {},
   "outputs": [
    {
     "name": "stdout",
     "output_type": "stream",
     "text": [
      "1\n",
      "2\n"
     ]
    }
   ],
   "source": [
    "program = \\\n",
    "'''\n",
    "load \"io\".\n",
    "\n",
    "let list = [1,2,3].\n",
    "\n",
    "repeat do\n",
    "    let [head|list] = list.\n",
    "    print head.\n",
    "until list is [_].\n",
    "'''\n",
    "interp(program, tree_dump=False, exceptions=False)"
   ]
  },
  {
   "cell_type": "code",
   "execution_count": 36,
   "metadata": {},
   "outputs": [
    {
     "name": "stdout",
     "output_type": "stream",
     "text": [
      "(1,2)\n"
     ]
    }
   ],
   "source": [
    "program = \\\n",
    "'''\n",
    "load \"io\".\n",
    "load \"util\".\n",
    "\n",
    "let true = 1 + 2 is x + y.\n",
    "print (x,y).\n",
    "assert ((x,y) is (1,2)).\n",
    "'''\n",
    "interp(program, tree_dump=False, exceptions=False)"
   ]
  },
  {
   "cell_type": "code",
   "execution_count": 37,
   "metadata": {
    "collapsed": true
   },
   "outputs": [],
   "source": [
    "program = \\\n",
    "'''\n",
    "load \"util\".\n",
    "constructor S with arity 1.\n",
    "\n",
    "let v = S(S(S(0))).\n",
    "assert(v is S(S(S(0)))).\n",
    "'''\n",
    "interp(program, tree_dump=False, exceptions=False)"
   ]
  },
  {
   "cell_type": "code",
   "execution_count": 38,
   "metadata": {},
   "outputs": [
    {
     "name": "stdout",
     "output_type": "stream",
     "text": [
      "S(S(S(S(S(S(S(0)))))))\n"
     ]
    }
   ],
   "source": [
    "program = \\\n",
    "'''\n",
    "-- implements Peano addition on terms\n",
    "load \"io\".\n",
    "load \"util\".\n",
    "\n",
    "constructor S with arity 1.\n",
    "\n",
    "function reduce\n",
    "    with x + 0 do      \n",
    "        return reduce(x).\n",
    "    orwith x + S(y)  do\n",
    "        return S(reduce(x + y)).\n",
    "    orwith term do     \n",
    "        return term.\n",
    "    end function\n",
    "\n",
    "print(reduce(S(S(0)) + S(S(S(0))) + S(0) + S(0))).\n",
    "assert((reduce(S(S(0)) + S(S(S(0))) + S(0) + S(0))) is S(S(S(S(S(S(S(0)))))))).\n",
    "'''\n",
    "interp(program, tree_dump=False, exceptions=False)"
   ]
  },
  {
   "cell_type": "code",
   "execution_count": 39,
   "metadata": {},
   "outputs": [
    {
     "name": "stdout",
     "output_type": "stream",
     "text": [
      "S(S(S(S(S(S(S(0)))))))\n"
     ]
    }
   ],
   "source": [
    "program = \\\n",
    "'''\n",
    "-- implements Peano addition on terms using pattern matching in if statements\n",
    "load \"io\".\n",
    "load \"util\".\n",
    "\n",
    "constructor S with arity 1.\n",
    "\n",
    "function reduce \n",
    "    with term do\n",
    "        if term is x + 0 do      \n",
    "            return reduce(x).\n",
    "        elif term is x + S(y)  do\n",
    "            return S(reduce(x + y)).\n",
    "        else     \n",
    "            return term.\n",
    "        end if\n",
    "    end function\n",
    "\n",
    "print(reduce(S(S(0)) + S(S(S(0))) + S(0) + S(0))).\n",
    "assert((reduce(S(S(0)) + S(S(S(0))) + S(0) + S(0))) is S(S(S(S(S(S(S(0)))))))).\n",
    "'''\n",
    "interp(program, tree_dump=False, exceptions=False)"
   ]
  },
  {
   "cell_type": "code",
   "execution_count": 40,
   "metadata": {},
   "outputs": [
    {
     "name": "stdout",
     "output_type": "stream",
     "text": [
      "[0,1,2,3]\n"
     ]
    }
   ],
   "source": [
    "program = \\\n",
    "'''\n",
    "-- Quicksort\n",
    "\n",
    "load \"standard\".\n",
    "load \"io\".\n",
    "load \"util\".\n",
    "\n",
    "function qsort\n",
    "    with [] do\n",
    "        return [].\n",
    "    orwith [a] do\n",
    "        return [a].\n",
    "    orwith [pivot|rest] do\n",
    "        let less=[].\n",
    "        let more=[].\n",
    "            \n",
    "        for e in rest do  \n",
    "            if e < pivot do\n",
    "                let less = less + [e].\n",
    "            else\n",
    "                let more = more + [e].\n",
    "            end if\n",
    "        end for\n",
    "                     \n",
    "        return qsort less + [pivot] + qsort more.\n",
    "    end function\n",
    "    \n",
    "print (qsort [3,2,1,0]).\n",
    "assert (qsort [3,2,1,0] == [0,1,2,3]).\n",
    "'''\n",
    "interp(program, symtab_dump=False)"
   ]
  },
  {
   "cell_type": "code",
   "execution_count": 41,
   "metadata": {},
   "outputs": [
    {
     "name": "stdout",
     "output_type": "stream",
     "text": [
      "pattern match failed: term and pattern disagree on 'apply-list' node\n"
     ]
    }
   ],
   "source": [
    "program = \\\n",
    "'''\n",
    "load \"standard\".\n",
    "load \"io\".\n",
    "load \"util\".\n",
    "\n",
    "let 1 + 1 = '1 + 1. -- quoted expression\n",
    "let 2 = eval('1 + 1).\n",
    "let 2 = 1 + 1.\n",
    "try\n",
    "    let 1 + 1 = 1 + 1.\n",
    "catch (\"PatternMatchFailed\", v) do\n",
    "    print v.\n",
    "end try\n",
    "\n",
    "'''\n",
    "interp(program, tree_dump=False, do_walk=True, exceptions=False, symtab_dump=False)"
   ]
  },
  {
   "cell_type": "code",
   "execution_count": 42,
   "metadata": {},
   "outputs": [
    {
     "name": "stdout",
     "output_type": "stream",
     "text": [
      "6\n",
      "5\n"
     ]
    }
   ],
   "source": [
    "program = \\\n",
    "'''\n",
    "load \"standard\".\n",
    "load \"io\".\n",
    "load \"util\".\n",
    "\n",
    "attach (lambda with (a, b) do return a * b) to __plus__.\n",
    "\n",
    "print (3 + 2).  \n",
    "assert ((3 + 2) == 6).  \n",
    "\n",
    "detach from __plus__.\n",
    "print (3 + 2).  \n",
    "assert ((3 + 2) == 5).  \n",
    "'''\n",
    "interp(program, symtab_dump=False)"
   ]
  },
  {
   "cell_type": "code",
   "execution_count": 43,
   "metadata": {},
   "outputs": [
    {
     "name": "stdout",
     "output_type": "stream",
     "text": [
      "((1,),(2,),+)\n"
     ]
    }
   ],
   "source": [
    "program = \\\n",
    "'''\n",
    "load \"io\".\n",
    "load \"util\".\n",
    "\n",
    "function postfix\n",
    "    with (op, cl, cr) do \n",
    "        return (postfix cl, postfix cr, op)\n",
    "    orwith (op, c) do \n",
    "        return (postfix c, op)\n",
    "    orwith (v,) do \n",
    "        return (v,)\n",
    "end function\n",
    "\n",
    "print (postfix (\"+\", (1,), (2,))).\n",
    "assert ((postfix (\"+\", (1,), (2,))) is ((1,),(2,),\"+\")).\n",
    "'''\n",
    "interp(program, tree_dump=False, do_walk=True, exceptions=True, symtab_dump=False)"
   ]
  },
  {
   "cell_type": "code",
   "execution_count": 44,
   "metadata": {},
   "outputs": [
    {
     "name": "stdout",
     "output_type": "stream",
     "text": [
      "__minus__(__plus__(4,3),2)\n",
      "5\n",
      "3\n"
     ]
    }
   ],
   "source": [
    "program = \\\n",
    "'''\n",
    "load \"io\". -- load io module\n",
    "load \"util\".\n",
    "\n",
    "-- print out the value using the default term model\n",
    "print (4 + 3 - 2).\n",
    "assert ((4 + 3 - 2) is __minus__(__plus__(4,3),2)).\n",
    "\n",
    "-- load the standard model and print out value of the term\n",
    "load \"standard\".\n",
    "print (4 + 3 - 2).\n",
    "assert ((4 + 3 - 2) == 5).\n",
    "\n",
    "-- manipulate the standard model, switching the interpretations\n",
    "-- of plus and minus.\n",
    "\n",
    "-- save the interpretations\n",
    "let plus_op = __plus__.\n",
    "let minus_op = __minus__.\n",
    "\n",
    "-- detach the interpretations from constructors\n",
    "detach from __plus__.\n",
    "detach from __minus__.\n",
    "\n",
    "-- reattach in opposite order and print the value of the term\n",
    "attach plus_op to __minus__.\n",
    "attach minus_op to __plus__.\n",
    "\n",
    "print (4 + 3 - 2).\n",
    "assert ((4 + 3 - 2) == 3).\n",
    "'''\n",
    "interp(program, tree_dump=False, do_walk=True, exceptions=False, symtab_dump=False)"
   ]
  },
  {
   "cell_type": "code",
   "execution_count": 45,
   "metadata": {
    "collapsed": true
   },
   "outputs": [],
   "source": [
    "program = \\\n",
    "'''\n",
    "-- to see the effect of detach all comment out the second line and look at the symbol table. \n",
    "load \"standard\".\n",
    "load \"default\".\n",
    "'''\n",
    "interp(program, tree_dump=False, do_walk=True, exceptions=False, symtab_dump=False)"
   ]
  },
  {
   "cell_type": "code",
   "execution_count": 46,
   "metadata": {},
   "outputs": [
    {
     "name": "stdout",
     "output_type": "stream",
     "text": [
      "Cannot detach constructor from __plus__.\n"
     ]
    }
   ],
   "source": [
    "program = \\\n",
    "'''\n",
    "load \"io\".\n",
    "load \"util\".\n",
    "\n",
    "try\n",
    "    detach from __plus__.\n",
    "catch (\"Exception\", v) do\n",
    "    print v.\n",
    "    assert (v is \"Cannot detach constructor from __plus__.\").\n",
    "end try\n",
    "'''\n",
    "interp(program, tree_dump=False, do_walk=True, exceptions=True)"
   ]
  },
  {
   "cell_type": "code",
   "execution_count": 47,
   "metadata": {},
   "outputs": [
    {
     "name": "stdout",
     "output_type": "stream",
     "text": [
      "pattern match failed: nodes 'apply-list' and 'integer' are not the same\n"
     ]
    }
   ],
   "source": [
    "program = \\\n",
    "'''\n",
    "load \"io\".\n",
    "load \"util\".\n",
    "\n",
    "try\n",
    "    let 2 = 1 + 1.\n",
    "catch (\"PatternMatchFailed\", v) do\n",
    "    print v.\n",
    "    assert (v is \"pattern match failed: nodes 'apply-list' and 'integer' are not the same\").\n",
    "end try\n",
    "'''\n",
    "interp(program, tree_dump=False, do_walk=True, exceptions=False)"
   ]
  },
  {
   "cell_type": "code",
   "execution_count": 48,
   "metadata": {},
   "outputs": [
    {
     "name": "stdout",
     "output_type": "stream",
     "text": [
      "not a legal unification under the standard model\n"
     ]
    }
   ],
   "source": [
    "program = \\\n",
    "'''\n",
    "load \"io\".\n",
    "\n",
    "let 1 + 1 = 1 + 1.\n",
    "load \"standard\". -- load standard model\n",
    "let 2 = 1 + 1.\n",
    "try\n",
    "    let 1 + 1 = 1 + 1.\n",
    "catch _ do\n",
    "    print \"not a legal unification under the standard model\".\n",
    "end try\n",
    "'''\n",
    "interp(program, tree_dump=False, do_walk=True)"
   ]
  },
  {
   "cell_type": "code",
   "execution_count": 49,
   "metadata": {},
   "outputs": [
    {
     "name": "stdout",
     "output_type": "stream",
     "text": [
      "Please enter an integer value: 5\n",
      "1\n",
      "2\n",
      "3\n",
      "4\n",
      "5\n"
     ]
    }
   ],
   "source": [
    "program =\\\n",
    "'''\n",
    "load \"util\".\n",
    "load \"io\".\n",
    "\n",
    "let cnt = integer(input(\"Please enter an integer value: \")).\n",
    "\n",
    "for i in 1 to cnt do\n",
    "    print i.\n",
    "end for\n",
    "assert (i is cnt).\n",
    "'''\n",
    "\n",
    "interp(program)"
   ]
  },
  {
   "cell_type": "code",
   "execution_count": 50,
   "metadata": {},
   "outputs": [
    {
     "name": "stdout",
     "output_type": "stream",
     "text": [
      "Please enter your name: Fred\n",
      "Hello Fred!\n"
     ]
    }
   ],
   "source": [
    "program =\\\n",
    "'''\n",
    "load \"standard\".\n",
    "load \"io\".\n",
    "\n",
    "let name = input(\"Please enter your name: \").\n",
    "print(\"Hello \" + name + \"!\").\n",
    "'''\n",
    "\n",
    "interp(program)"
   ]
  },
  {
   "cell_type": "code",
   "execution_count": 51,
   "metadata": {},
   "outputs": [
    {
     "name": "stdout",
     "output_type": "stream",
     "text": [
      "'S(S(x))\n",
      "'S(S(x))\n",
      "S(S('S(S(0))))\n"
     ]
    }
   ],
   "source": [
    "program = \\\n",
    "'''\n",
    "load \"util\".\n",
    "load \"io\".\n",
    "\n",
    "constructor S with arity 1.\n",
    "\n",
    "let x = 'S(S(0)).\n",
    "let y = 'S(S(x)).\n",
    "let z = y.\n",
    "\n",
    "print y.\n",
    "print z.\n",
    "print (eval (z)).\n",
    "assert ((eval (z)) is S(S(S(S(0))))).\n",
    "'''\n",
    "interp(program, tree_dump=False, symtab_dump=False, do_walk=True, exceptions=False)"
   ]
  },
  {
   "cell_type": "code",
   "execution_count": 52,
   "metadata": {},
   "outputs": [
    {
     "name": "stdout",
     "output_type": "stream",
     "text": [
      "0\n"
     ]
    }
   ],
   "source": [
    "program = \\\n",
    "'''\n",
    "load \"io\".\n",
    "load \"util\".\n",
    "\n",
    "function ident \n",
    "    with n do \n",
    "        return n \n",
    "    end function \n",
    "\n",
    "let y = ident ident  0.\n",
    "\n",
    "print y.\n",
    "assert (y is 0).\n",
    "'''\n",
    "interp(program, tree_dump=False, symtab_dump=False, do_walk=True, exceptions=True)"
   ]
  },
  {
   "cell_type": "code",
   "execution_count": 53,
   "metadata": {},
   "outputs": [
    {
     "name": "stdout",
     "output_type": "stream",
     "text": [
      "(0,0)\n"
     ]
    }
   ],
   "source": [
    "program = \\\n",
    "'''\n",
    "load \"io\".\n",
    "load \"util\".\n",
    "\n",
    "function ident \n",
    "    with n do \n",
    "        return n \n",
    "    end function \n",
    "\n",
    "let y = ident(ident (0)).\n",
    "let x = ident ident 0.\n",
    "\n",
    "print (x,y).\n",
    "assert ((x,y) is (0,0)).\n",
    "'''\n",
    "interp(program, tree_dump=False, symtab_dump=False, do_walk=True, exceptions=False)"
   ]
  },
  {
   "cell_type": "code",
   "execution_count": 54,
   "metadata": {},
   "outputs": [
    {
     "name": "stdout",
     "output_type": "stream",
     "text": [
      "The factorial of 3 is: 6\n"
     ]
    }
   ],
   "source": [
    "program = \\\n",
    "'''\n",
    "-- Factorial\n",
    "\n",
    "load \"standard\".\n",
    "load \"io\".\n",
    "load \"util\".\n",
    "\n",
    "function fact \n",
    "    with 0 do\n",
    "        return 1\n",
    "    orwith n do\n",
    "        return n * fact (n-1).\n",
    "    end function\n",
    "\n",
    "print (\"The factorial of 3 is: \" + fact (3)).\n",
    "assert (fact(3) == 6).\n",
    "'''\n",
    "interp(program, exceptions=False, symtab_dump=False)"
   ]
  },
  {
   "cell_type": "code",
   "execution_count": 55,
   "metadata": {
    "collapsed": true
   },
   "outputs": [],
   "source": [
    "program = \\\n",
    "'''\n",
    "-- show that the value constructed by head-tail is a list\n",
    "let [1,2,3] = [1 | [2,3]].\n",
    "\n",
    "-- show that a list can be decomposed with head-tail\n",
    "let [1 | [2,3]] = [1,2,3].\n",
    "\n",
    "-- show that we can nest head-tail operators\n",
    "let [1,2,3] = [1 | [2 | [3 | []]]].\n",
    "\n",
    "'''\n",
    "interp(program, tree_dump=False, symtab_dump=False, do_walk=True, exceptions=False)"
   ]
  },
  {
   "cell_type": "code",
   "execution_count": 56,
   "metadata": {},
   "outputs": [
    {
     "name": "stdout",
     "output_type": "stream",
     "text": [
      "--- error ---\n"
     ]
    }
   ],
   "source": [
    "program = \\\n",
    "'''\n",
    "load \"standard\".\n",
    "load \"util\".\n",
    "load \"io\".\n",
    "\n",
    "constructor MyError with arity 1.\n",
    "\n",
    "\n",
    "try\n",
    "\n",
    "    throw Error \"--- error ---\".\n",
    "    \n",
    "catch Error(msg) do\n",
    "    print msg.\n",
    "    assert (msg == \"--- error ---\")\n",
    "end try\n",
    "\n",
    "'''\n",
    "interp(program, tree_dump=False, symtab_dump=False, do_walk=True, exceptions=False)"
   ]
  },
  {
   "cell_type": "code",
   "execution_count": 57,
   "metadata": {},
   "outputs": [
    {
     "name": "stdout",
     "output_type": "stream",
     "text": [
      "head: 1 tail: [2,3]\n"
     ]
    }
   ],
   "source": [
    "program = \\\n",
    "'''\n",
    "load \"standard\".\n",
    "load \"io\".\n",
    "load \"util\".\n",
    "\n",
    "let [h|t] = [1,2,3].\n",
    "print (\"head: \" + h + \" tail: \" + t).\n",
    "assert(h == 1 and t == [2,3]).\n",
    "'''\n",
    "interp(program, tree_dump=False, symtab_dump=False, do_walk=True, exceptions=False)"
   ]
  },
  {
   "cell_type": "code",
   "execution_count": 58,
   "metadata": {},
   "outputs": [
    {
     "name": "stdout",
     "output_type": "stream",
     "text": [
      "0\n"
     ]
    }
   ],
   "source": [
    "program = \\\n",
    "'''\n",
    "load \"standard\".\n",
    "load \"io\".\n",
    "load \"util\".\n",
    "\n",
    "let y = -1.\n",
    "let x = 4 if y == 3 else 0.\n",
    "print x.\n",
    "assert (x == 0).\n",
    "'''\n",
    "interp(program, tree_dump=False, symtab_dump=False, do_walk=True, exceptions=False)"
   ]
  },
  {
   "cell_type": "code",
   "execution_count": 59,
   "metadata": {},
   "outputs": [
    {
     "name": "stdout",
     "output_type": "stream",
     "text": [
      "1\n"
     ]
    }
   ],
   "source": [
    "program = \\\n",
    "'''\n",
    "load \"io\".\n",
    "load \"util\".\n",
    "\n",
    "let y = none.\n",
    "let x = y otherwise 1.\n",
    "print x.\n",
    "assert (x is 1).\n",
    "'''\n",
    "interp(program, tree_dump=False, symtab_dump=False, do_walk=True, exceptions=False)"
   ]
  },
  {
   "cell_type": "code",
   "execution_count": 60,
   "metadata": {},
   "outputs": [
    {
     "name": "stdout",
     "output_type": "stream",
     "text": [
      "0\n",
      "1\n",
      "2\n",
      "3\n",
      "4\n",
      "5\n"
     ]
    }
   ],
   "source": [
    "program = \\\n",
    "'''\n",
    "load \"standard\".\n",
    "load \"io\".\n",
    "load \"util\".\n",
    "\n",
    "for x in 0 to 10 do\n",
    "    print x.\n",
    "    if x == 5 do\n",
    "        break.\n",
    "    end if\n",
    "end for\n",
    "assert (x == 5).\n",
    "'''\n",
    "interp(program, tree_dump=False, do_walk=True, exceptions=False)"
   ]
  },
  {
   "cell_type": "code",
   "execution_count": 61,
   "metadata": {},
   "outputs": [
    {
     "name": "stdout",
     "output_type": "stream",
     "text": [
      "(1,1)\n",
      "(2,2)\n",
      "(3,3)\n",
      "21\n",
      "22\n",
      "23\n"
     ]
    }
   ],
   "source": [
    "program = \\\n",
    "'''\n",
    "load \"io\".\n",
    "\n",
    "for (x,y) in [(1,1), (2,2), (3,3)]  do\n",
    "    print (x,y).\n",
    "end for\n",
    "\n",
    "-- use unification as a filter\n",
    "for (2,y) in [(1,11), (1,12), (1,13), (2,21), (2,22), (2,23)]  do\n",
    "    print y.\n",
    "end for\n",
    "'''\n",
    "interp(program, tree_dump=False, do_walk=True, symtab_dump=False)"
   ]
  },
  {
   "cell_type": "code",
   "execution_count": 62,
   "metadata": {},
   "outputs": [
    {
     "name": "stdout",
     "output_type": "stream",
     "text": [
      "1\n",
      "2\n",
      "3\n",
      "4\n",
      "5\n",
      "6\n",
      "7\n",
      "8\n",
      "9\n",
      "10\n"
     ]
    }
   ],
   "source": [
    "program = \\\n",
    "'''\n",
    "load \"io\".\n",
    "\n",
    "for x in 1 to 10 do\n",
    "    print x.\n",
    "end for\n",
    "'''\n",
    "interp(program, tree_dump=False, do_walk=True, symtab_dump=False)"
   ]
  },
  {
   "cell_type": "code",
   "execution_count": 63,
   "metadata": {},
   "outputs": [
    {
     "name": "stdout",
     "output_type": "stream",
     "text": [
      "turkey\n",
      "duck\n",
      "chicken\n"
     ]
    }
   ],
   "source": [
    "program = \\\n",
    "'''\n",
    "load \"io\".\n",
    "\n",
    "for bird in [\"turkey\",\"duck\",\"chicken\"] do\n",
    "    print bird.\n",
    "end for\n",
    "'''\n",
    "interp(program, tree_dump=False, do_walk=True, symtab_dump=False)"
   ]
  },
  {
   "cell_type": "code",
   "execution_count": 64,
   "metadata": {},
   "outputs": [
    {
     "name": "stdout",
     "output_type": "stream",
     "text": [
      "More\n"
     ]
    }
   ],
   "source": [
    "program = \\\n",
    "'''\n",
    "load \"standard\".\n",
    "load \"io\".\n",
    "\n",
    "let x = 42.\n",
    "\n",
    "if x < 0 do\n",
    "    let x = 0.\n",
    "    print(\"Negative changed to zero\").\n",
    "\n",
    "elif x == 0 do\n",
    "    print(\"Zero\").\n",
    "\n",
    "elif x == 1 do\n",
    "    print(\"Single\").\n",
    "\n",
    "else do\n",
    "    print(\"More\").\n",
    "    \n",
    "end if\n",
    "\n",
    "'''\n",
    "interp(program, tree_dump=False, do_walk=True, exceptions=False)"
   ]
  },
  {
   "cell_type": "code",
   "execution_count": 65,
   "metadata": {},
   "outputs": [
    {
     "name": "stdout",
     "output_type": "stream",
     "text": [
      "1\n",
      "2\n",
      "3\n",
      "4\n",
      "5\n",
      "6\n",
      "7\n",
      "8\n",
      "9\n",
      "10\n"
     ]
    }
   ],
   "source": [
    "program = \\\n",
    "'''\n",
    "load \"standard\".\n",
    "load \"io\".\n",
    "load \"util\".\n",
    "\n",
    "let x = 1.\n",
    "while x <= 10 do\n",
    "    print x.\n",
    "    let x = x + 1.\n",
    "end while\n",
    "assert (x == 11).\n",
    "'''\n",
    "interp(program, exceptions=True)"
   ]
  },
  {
   "cell_type": "code",
   "execution_count": 66,
   "metadata": {
    "collapsed": true
   },
   "outputs": [],
   "source": [
    "program = \\\n",
    "'''\n",
    "let 1 = 1.\n",
    "'''\n",
    "interp(program, exceptions=False, tree_dump=False)"
   ]
  },
  {
   "cell_type": "code",
   "execution_count": 67,
   "metadata": {},
   "outputs": [
    {
     "name": "stdout",
     "output_type": "stream",
     "text": [
      "Hello World!\n"
     ]
    }
   ],
   "source": [
    "program = \\\n",
    "'''\n",
    "load \"io\".\n",
    "load \"util\".\n",
    "\n",
    "constructor A with arity 2.\n",
    "\n",
    "let a = A(999, (lambda with none do return \"Hello World!\")).\n",
    "print a@1 none.\n",
    "\n",
    "assert(a@1 (none) is \"Hello World!\").\n",
    "\n",
    "'''\n",
    "interp(program, tree_dump=False, symtab_dump=False, exceptions=True, do_walk=True)"
   ]
  },
  {
   "cell_type": "code",
   "execution_count": 68,
   "metadata": {},
   "outputs": [
    {
     "name": "stdout",
     "output_type": "stream",
     "text": [
      "(1,2,3)\n"
     ]
    }
   ],
   "source": [
    "program = \\\n",
    "'''\n",
    "load \"io\".\n",
    "\n",
    "print (1,2,3).\n",
    "'''\n",
    "interp(program)"
   ]
  },
  {
   "cell_type": "code",
   "execution_count": 69,
   "metadata": {},
   "outputs": [
    {
     "name": "stdout",
     "output_type": "stream",
     "text": [
      "[[1,2,3,4,5]]\n"
     ]
    }
   ],
   "source": [
    "program = \\\n",
    "'''\n",
    "load \"io\".\n",
    "load \"util\".\n",
    "let nl = [[1 to 5]].\n",
    "print nl.\n",
    "assert (nl is [[1,2,3,4,5]]).\n",
    "'''\n",
    "interp(program, tree_dump=False, symtab_dump=False)"
   ]
  },
  {
   "cell_type": "code",
   "execution_count": 70,
   "metadata": {
    "collapsed": true
   },
   "outputs": [],
   "source": [
    "program = \\\n",
    "'''\n",
    "-- TODO: Not yet implemented\n",
    "-- let l = [2*i where i in [1 to 100]].\n",
    "'''\n",
    "interp(program, symtab_dump=False, tree_dump=False, exceptions=False)"
   ]
  },
  {
   "cell_type": "code",
   "execution_count": 71,
   "metadata": {},
   "outputs": [
    {
     "name": "stdout",
     "output_type": "stream",
     "text": [
      "pattern match failed: pattern of type 'to-list' not allowed in pattern matching\n"
     ]
    }
   ],
   "source": [
    "program = \\\n",
    "'''\n",
    "load \"io\".\n",
    "load \"util\".\n",
    "try \n",
    "    let [1 to 3] = [1,2,3].\n",
    "catch (_, v) do\n",
    "    print v.\n",
    "    assert (v is \"pattern match failed: pattern of type 'to-list' not allowed in pattern matching\").\n",
    "end try\n",
    "\n",
    "let [1,2,3] = [1 to 3].\n",
    "'''\n",
    "interp(program, symtab_dump=False, tree_dump=False, exceptions=True)"
   ]
  },
  {
   "cell_type": "code",
   "execution_count": 72,
   "metadata": {},
   "outputs": [
    {
     "name": "stdout",
     "output_type": "stream",
     "text": [
      "[1,2,3]\n"
     ]
    }
   ],
   "source": [
    "program = \\\n",
    "'''\n",
    "load \"io\".\n",
    "load \"util\".\n",
    "\n",
    "constructor A with arity 3.\n",
    "\n",
    "let a = A(1,2,3).\n",
    "let b = a@[0 to 2].\n",
    "print b.\n",
    "assert (b is [1,2,3]).\n",
    "'''\n",
    "interp(program, symtab_dump=False, tree_dump=False, exceptions=True)"
   ]
  },
  {
   "cell_type": "code",
   "execution_count": 73,
   "metadata": {},
   "outputs": [
    {
     "name": "stdout",
     "output_type": "stream",
     "text": [
      "[0,2]\n"
     ]
    }
   ],
   "source": [
    "program = \\\n",
    "'''\n",
    "load \"io\".\n",
    "load \"util\".\n",
    "\n",
    "let a = [0,1,2,3].\n",
    "let b = a@[0 to 3 step 2].\n",
    "print b.\n",
    "assert (b is [0,2]).\n",
    "'''\n",
    "interp(program, symtab_dump=False, tree_dump=False, exceptions=True)"
   ]
  },
  {
   "cell_type": "code",
   "execution_count": 74,
   "metadata": {},
   "outputs": [
    {
     "name": "stdout",
     "output_type": "stream",
     "text": [
      "true\n"
     ]
    }
   ],
   "source": [
    "program = \\\n",
    "'''\n",
    "load \"io\".\n",
    "load \"util\".\n",
    "\n",
    "let y = [0 to 10 step 2].\n",
    "let z = 4 in y.\n",
    "print z.\n",
    "assert z.\n",
    "'''\n",
    "interp(program, symtab_dump=False, tree_dump=False)"
   ]
  },
  {
   "cell_type": "code",
   "execution_count": 75,
   "metadata": {
    "collapsed": true
   },
   "outputs": [],
   "source": [
    "program = \\\n",
    "'''\n",
    "let true = 3 in [1,2,3].\n",
    "'''\n",
    "interp(program, symtab_dump=False)"
   ]
  },
  {
   "cell_type": "code",
   "execution_count": 76,
   "metadata": {
    "collapsed": true
   },
   "outputs": [],
   "source": [
    "program = \\\n",
    "'''\n",
    "let true = (1,2) is (1,x).\n",
    "let true = (1,3) is (1,x).\n",
    "\n",
    "'''\n",
    "interp(program, symtab_dump=False)"
   ]
  },
  {
   "cell_type": "code",
   "execution_count": 77,
   "metadata": {},
   "outputs": [
    {
     "name": "stdout",
     "output_type": "stream",
     "text": [
      "[[1,2,3],[4,0,6],[7,8,9]]\n"
     ]
    }
   ],
   "source": [
    "program = \\\n",
    "'''\n",
    "load \"io\".\n",
    "load \"util\".\n",
    "\n",
    "let b = [[1,2,3],\n",
    "         [4,5,6],\n",
    "         [7,8,9]].\n",
    "let b@1@1 = 0.\n",
    "print b.\n",
    "assert (b is [[1,2,3],[4,0,6],[7,8,9]]).\n",
    "'''\n",
    "interp(program, tree_dump=False, exceptions=False)"
   ]
  },
  {
   "cell_type": "code",
   "execution_count": 78,
   "metadata": {
    "collapsed": true
   },
   "outputs": [],
   "source": [
    "program = \\\n",
    "'''\n",
    "let -1 = -1.\n",
    "let not true = not true.\n",
    "'''\n",
    "interp(program, tree_dump=False, symtab_dump=False)"
   ]
  },
  {
   "cell_type": "code",
   "execution_count": 79,
   "metadata": {
    "collapsed": true
   },
   "outputs": [],
   "source": [
    "program = \\\n",
    "'''\n",
    "-- infix operators are just a shorthand for prefix terms \n",
    "-- using special names for the operators\n",
    "\n",
    "\n",
    "let 1 + 1 = __plus__ (1,1).\n",
    "'''\n",
    "interp(program, tree_dump=False, symtab_dump=False)"
   ]
  },
  {
   "cell_type": "code",
   "execution_count": 80,
   "metadata": {},
   "outputs": [
    {
     "name": "stdout",
     "output_type": "stream",
     "text": [
      "A([1,0,3])\n"
     ]
    }
   ],
   "source": [
    "program = \\\n",
    "'''\n",
    "load \"io\".\n",
    "load \"util\".\n",
    "\n",
    "constructor A with arity 1.\n",
    "let a = A[1,2,3].\n",
    "let a@0@1 = 0.\n",
    "print a.\n",
    "assert (a is A([1,0,3])).\n",
    "'''\n",
    "interp(program, tree_dump=False, symtab_dump=False, exceptions=False)"
   ]
  },
  {
   "cell_type": "code",
   "execution_count": 81,
   "metadata": {},
   "outputs": [
    {
     "name": "stdout",
     "output_type": "stream",
     "text": [
      "[3,2,1]\n"
     ]
    }
   ],
   "source": [
    "program = \\\n",
    "'''\n",
    "load \"io\".\n",
    "load \"util\".\n",
    "\n",
    "let a = [1,2,3].\n",
    "let b = [0,0,0].\n",
    "let [b@2,b@1,b@0] = a.\n",
    "print b.\n",
    "assert (b is [3,2,1]).\n",
    "'''\n",
    "interp(program, tree_dump=False, symtab_dump=False, do_walk=True, exceptions=False)"
   ]
  },
  {
   "cell_type": "code",
   "execution_count": 82,
   "metadata": {},
   "outputs": [
    {
     "name": "stdout",
     "output_type": "stream",
     "text": [
      "(A(1,),B(1,2),1,[1,2])\n"
     ]
    }
   ],
   "source": [
    "program = \\\n",
    "'''\n",
    "load \"io\".\n",
    "load \"util\".\n",
    "\n",
    "constructor A with arity 1.\n",
    "constructor B with arity 2.\n",
    "\n",
    "let x = A(1,).\n",
    "let y = B(1,2).\n",
    "\n",
    "let A(z,) = x.\n",
    "let B(v,w) = y.\n",
    "\n",
    "let xx = x@0.\n",
    "let yy = y@[0,1].\n",
    "\n",
    "print (x,y,xx,yy).\n",
    "assert ((x,y,xx,yy) is (A(1,),B(1,2),1,[1,2])).\n",
    "'''\n",
    "interp(program, tree_dump=False, symtab_dump=False, exceptions=False)"
   ]
  },
  {
   "cell_type": "code",
   "execution_count": 83,
   "metadata": {},
   "outputs": [
    {
     "name": "stdout",
     "output_type": "stream",
     "text": [
      "('quote',\n",
      " ('structure-ix',\n",
      "  ('id', 'a'),\n",
      "  ('index-list', ('list', [('index', ('list', [('integer', 3)]))]))))\n"
     ]
    }
   ],
   "source": [
    "program = \\\n",
    "'''\n",
    "load \"io\".\n",
    "\n",
    "let v = 'a@[3].\n",
    "raw_print v.\n",
    "'''\n",
    "interp(program)"
   ]
  },
  {
   "cell_type": "code",
   "execution_count": 84,
   "metadata": {},
   "outputs": [
    {
     "name": "stdout",
     "output_type": "stream",
     "text": [
      "(2,3)\n"
     ]
    }
   ],
   "source": [
    "program = \\\n",
    "'''\n",
    "load \"standard\".\n",
    "load \"io\".\n",
    "load \"util\".\n",
    "\n",
    "function inc with n do return n+1 end function\n",
    "\n",
    "let v = inc(inc(0)).\n",
    "let q = 1 + 1 + 1.\n",
    "print (v, q).\n",
    "assert ((v, q) is (2,3)).\n",
    "'''\n",
    "interp(program, tree_dump=False, symtab_dump=False)"
   ]
  },
  {
   "cell_type": "code",
   "execution_count": 85,
   "metadata": {},
   "outputs": [
    {
     "name": "stdout",
     "output_type": "stream",
     "text": [
      "'S(S(0))\n",
      "2\n",
      "0\n",
      "0\n"
     ]
    }
   ],
   "source": [
    "constr = \\\n",
    "'''\n",
    "-- constructors and pattern matching\n",
    "\n",
    "load \"standard\".\n",
    "load \"io\".\n",
    "load \"util\".\n",
    "\n",
    "constructor S with arity 1.\n",
    "attach (lambda with n do return 1+n) to S.\n",
    "\n",
    "let v = 'S(S(0)).\n",
    "print v.\n",
    "assert (v is S(S(0))).\n",
    "\n",
    "let v = S(S(0)).\n",
    "print v.\n",
    "assert (v == 2).\n",
    "\n",
    "let S (S (v))  = 'S(S(0)).\n",
    "print v.\n",
    "assert (v is 0).\n",
    "\n",
    "let S (S (0))  = 'S(S(0)).\n",
    "\n",
    "\n",
    "let [[v]] = [[0]].\n",
    "print v.\n",
    "assert (v is 0).\n",
    "\n",
    "'''\n",
    "interp(constr, tree_dump=False, symtab_dump=False, exceptions=False)"
   ]
  },
  {
   "cell_type": "code",
   "execution_count": 86,
   "metadata": {},
   "outputs": [
    {
     "name": "stdout",
     "output_type": "stream",
     "text": [
      "2\n",
      "hello world!\n",
      "[1,2,3,4,5,6]\n"
     ]
    }
   ],
   "source": [
    "program = \\\n",
    "'''\n",
    "-- show off our overloaded '+' operator\n",
    "load \"standard\".\n",
    "load \"io\".\n",
    "load \"util\".\n",
    "\n",
    "print (1 + 1).\n",
    "assert ((1+1) == 2).\n",
    "\n",
    "let s1 = \"hello\".\n",
    "let s2 = \"world\".\n",
    "let s3 = s1 + \" \" + s2 +\"!\".\n",
    "print s3.\n",
    "assert (s3 == \"hello world!\").\n",
    "\n",
    "let l1 = [1,2,3].\n",
    "let l2 = [4,5,6].\n",
    "let l3 = l1 + l2.\n",
    "print l3.\n",
    "assert (l3 == [1,2,3,4,5,6]).\n",
    "'''\n",
    "interp(program, tree_dump=False, symtab_dump=False, exceptions=False)"
   ]
  },
  {
   "cell_type": "code",
   "execution_count": 87,
   "metadata": {},
   "outputs": [
    {
     "name": "stdout",
     "output_type": "stream",
     "text": [
      "[3,2,1]\n"
     ]
    }
   ],
   "source": [
    "program = \\\n",
    "'''\n",
    "load \"io\".\n",
    "load \"util\".\n",
    "\n",
    "-- reverse the list\n",
    "let a = [1,2,3].\n",
    "let a = a@[2,1,0].\n",
    "print a.\n",
    "assert (a is [3,2,1]).\n",
    "'''\n",
    "interp(program, tree_dump=False, do_walk=True, symtab_dump=False, exceptions=False)"
   ]
  },
  {
   "cell_type": "code",
   "execution_count": 88,
   "metadata": {},
   "outputs": [
    {
     "name": "stdout",
     "output_type": "stream",
     "text": [
      "[3,2,1]\n",
      "5\n"
     ]
    }
   ],
   "source": [
    "program = \\\n",
    "'''\n",
    "load \"io\".\n",
    "load \"util\".\n",
    "\n",
    "-- reverse the list\n",
    "let a = [1,2,3].\n",
    "let a = a@[2,1,0].\n",
    "print a.\n",
    "assert (a is [3,2,1]).\n",
    "\n",
    "-- access multidim array\n",
    "let b = [[1,2,3],\n",
    "         [4,5,6],\n",
    "         [7,8,9]].\n",
    "let e = b@1@1.\n",
    "print e.\n",
    "assert (e is 5).\n",
    "'''\n",
    "interp(program, tree_dump=False, do_walk=True, symtab_dump=False, exceptions=False)"
   ]
  },
  {
   "cell_type": "code",
   "execution_count": 89,
   "metadata": {},
   "outputs": [
    {
     "name": "stdout",
     "output_type": "stream",
     "text": [
      "3.2\n"
     ]
    }
   ],
   "source": [
    "program = \\\n",
    "'''\n",
    "-- the 'add' function implements the behavior for \n",
    "-- the '+' operator for ints, reals, and strings.\n",
    "\n",
    "load \"io\".\n",
    "load \"util\".\n",
    "\n",
    "function add with (a, b) do return escape \n",
    "\"\n",
    "###################################################################\n",
    "# return register from 'escape' calls\n",
    "global __retval__ \n",
    "from asteroid_support import promote\n",
    "\n",
    "# 'promote' is the type promotion table for primitive\n",
    "# builtin types which implement the type hierarchy:\n",
    "#    integer < real < string\n",
    "type = promote(state.symbol_table.lookup_sym('a')[0], \n",
    "               state.symbol_table.lookup_sym('b')[0])\n",
    "\n",
    "# select the correct add according to type\n",
    "if type == 'integer':\n",
    "    __retval__ = ('integer', \n",
    "            int(state.symbol_table.lookup_sym('a')[1]) + \n",
    "            int(state.symbol_table.lookup_sym('b')[1]))\n",
    "\n",
    "elif type == 'real':\n",
    "    __retval__ = ('real', \n",
    "            float(state.symbol_table.lookup_sym('a')[1]) + \n",
    "            float(state.symbol_table.lookup_sym('b')[1]))\n",
    "\n",
    "elif type == 'string':\n",
    "    __retval__ = ('string', \n",
    "            str(state.symbol_table.lookup_sym('a')[1])+\n",
    "            str(state.symbol_table.lookup_sym('b')[1]))\n",
    "\n",
    "else:\n",
    "    raise ValueError('unsupported type in add')\n",
    "###################################################################\n",
    "\"     \n",
    "end function\n",
    "\n",
    "-- attach the behavior to the '+' constructor\n",
    "attach add to __plus__.\n",
    "\n",
    "-- test the '+' operator with different data types\n",
    "let x = 1.2 + 2 .\n",
    "print x.\n",
    "assert (x == 3.2).\n",
    "'''\n",
    "interp(program, tree_dump=False, symtab_dump=False, exceptions=False)"
   ]
  },
  {
   "cell_type": "code",
   "execution_count": 90,
   "metadata": {},
   "outputs": [
    {
     "name": "stdout",
     "output_type": "stream",
     "text": [
      "(1,2)\n"
     ]
    }
   ],
   "source": [
    "interp('load \"io\". load \"util\". let x + y = 1 + 2. print (x,y). assert ((x,y) is (1,2)).')"
   ]
  },
  {
   "cell_type": "code",
   "execution_count": 91,
   "metadata": {},
   "outputs": [
    {
     "name": "stdout",
     "output_type": "stream",
     "text": [
      "__plus__(1,2)\n"
     ]
    }
   ],
   "source": [
    "\n",
    "interp('load \"io\". load \"util\". let x = 1 + 2. print x. assert(x is __plus__(1,2))')"
   ]
  },
  {
   "cell_type": "code",
   "execution_count": 92,
   "metadata": {},
   "outputs": [
    {
     "name": "stdout",
     "output_type": "stream",
     "text": [
      "1.3\n"
     ]
    }
   ],
   "source": [
    "interp('load \"io\". load \"util\". let x = 1.3 . print x. assert(x is 1.3).', exceptions=False)"
   ]
  },
  {
   "cell_type": "code",
   "execution_count": 93,
   "metadata": {},
   "outputs": [
    {
     "name": "stdout",
     "output_type": "stream",
     "text": [
      "pattern match failed: nodes 'real' and 'integer' are not the same\n"
     ]
    }
   ],
   "source": [
    "program =\\\n",
    "'''\n",
    "load \"io\".\n",
    "load \"util\".\n",
    "\n",
    "try\n",
    "    let 1 = 1.0 .\n",
    "catch (_,v) do\n",
    "    print v.\n",
    "    assert(v is \"pattern match failed: nodes 'real' and 'integer' are not the same\").\n",
    "end try\n",
    "'''\n",
    "\n",
    "interp(program)"
   ]
  },
  {
   "cell_type": "code",
   "execution_count": 94,
   "metadata": {},
   "outputs": [
    {
     "name": "stdout",
     "output_type": "stream",
     "text": [
      "(1,2)\n"
     ]
    }
   ],
   "source": [
    "interp('load \"io\". load \"util\". let (1,y) = (1,2). print (1,y). assert((1,y) is (1,2)).')"
   ]
  },
  {
   "cell_type": "code",
   "execution_count": 95,
   "metadata": {},
   "outputs": [
    {
     "name": "stdout",
     "output_type": "stream",
     "text": [
      "(1,2)\n"
     ]
    }
   ],
   "source": [
    "interp('load \"io\". load \"util\". let (x,2) = (1,2). print (x,2). assert((x,2) is (1,2)).')"
   ]
  },
  {
   "cell_type": "code",
   "execution_count": 96,
   "metadata": {},
   "outputs": [
    {
     "name": "stdout",
     "output_type": "stream",
     "text": [
      "(1,2)\n"
     ]
    }
   ],
   "source": [
    "interp('load \"io\". load \"util\". let s = (1,2). let (x,y) = s. print (x,y). assert((x,y) is (1,2))')"
   ]
  },
  {
   "cell_type": "code",
   "execution_count": 97,
   "metadata": {},
   "outputs": [
    {
     "name": "stdout",
     "output_type": "stream",
     "text": [
      "2\n"
     ]
    }
   ],
   "source": [
    "program = \\\n",
    "'''\n",
    "load \"io\".\n",
    "load \"util\".\n",
    "\n",
    "function ident with n do return n end function.\n",
    "print (ident(2)).\n",
    "assert (ident(2) is 2).\n",
    "'''\n",
    "interp(program)"
   ]
  },
  {
   "cell_type": "code",
   "execution_count": 98,
   "metadata": {},
   "outputs": [
    {
     "name": "stdout",
     "output_type": "stream",
     "text": [
      "1\n"
     ]
    }
   ],
   "source": [
    "program = \\\n",
    "'''\n",
    "load \"io\".\n",
    "load \"util\".\n",
    "let x = 1. \n",
    "function ident with n do return n end function.\n",
    "print (ident( ident (x))) .\n",
    "assert (ident( ident (x)) is 1) .\n",
    "'''\n",
    "interp(program)"
   ]
  },
  {
   "cell_type": "code",
   "execution_count": 99,
   "metadata": {
    "collapsed": true
   },
   "outputs": [],
   "source": [
    "interp('load \"util\". let (_, x) = ([1], 2). assert (x is 2).', symtab_dump=False)"
   ]
  },
  {
   "cell_type": "code",
   "execution_count": 100,
   "metadata": {},
   "outputs": [
    {
     "name": "stdout",
     "output_type": "stream",
     "text": [
      "2\n"
     ]
    }
   ],
   "source": [
    "program = \\\n",
    "'''\n",
    "load \"standard\"\n",
    "load \"io\".\n",
    "load \"util\".\n",
    "\n",
    "print ((lambda with n do return n+1) 1).\n",
    "assert ((lambda with n do return n+1) 1 is 2).\n",
    "'''\n",
    "interp(program, tree_dump=False, symtab_dump=False)"
   ]
  },
  {
   "cell_type": "code",
   "execution_count": null,
   "metadata": {
    "collapsed": true
   },
   "outputs": [],
   "source": []
  }
 ],
 "metadata": {
  "kernelspec": {
   "display_name": "Python 3",
   "language": "python",
   "name": "python3"
  },
  "language_info": {
   "codemirror_mode": {
    "name": "ipython",
    "version": 3
   },
   "file_extension": ".py",
   "mimetype": "text/x-python",
   "name": "python",
   "nbconvert_exporter": "python",
   "pygments_lexer": "ipython3",
   "version": "3.7.6"
  }
 },
 "nbformat": 4,
 "nbformat_minor": 2
}

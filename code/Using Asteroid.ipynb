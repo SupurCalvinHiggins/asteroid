{
 "cells": [
  {
   "cell_type": "markdown",
   "metadata": {},
   "source": [
    "# Using Asteroid\n",
    "\n",
    "This notebook was inspired by Andrew Shitov's excellent book [Using Raku: 100 Programming Challenges Solved with the Brand-New Raku Programming Language](https://andrewshitov.com/wp-content/uploads/2020/01/Using-Raku.pdf).  Here of course we use Asteroid to solve these programming challenges."
   ]
  },
  {
   "cell_type": "code",
   "execution_count": 1,
   "metadata": {},
   "outputs": [],
   "source": [
    "# make the Asteroid interpreter available in this notebook\n",
    "import sys\n",
    "sys.path[0] = '/home/ec2-user/SageMaker/asteroid/code'\n",
    "from asteroid_interp import interp"
   ]
  },
  {
   "cell_type": "markdown",
   "metadata": {},
   "source": [
    "**Note**: We use program as strings in this notebook so that we can run them right here in this notebook.\n",
    "\n",
    "**Note**: There is a bug in the parser that does not allow for successive applications of member functions.  Those expressions need to be explicitly parenthesized."
   ]
  },
  {
   "cell_type": "markdown",
   "metadata": {},
   "source": [
    "# Part I\n",
    "# Chapter 1: Strings\n",
    "## 1.1 Using Strings\n"
   ]
  },
  {
   "cell_type": "markdown",
   "metadata": {},
   "source": [
    "### 1. Hello, World!\n",
    "\n",
    "> Print ‘Hello, World!’\n",
    "\n",
    "The canonical `Hello, World!` program.  The easiest way to write this in Asteroid is,"
   ]
  },
  {
   "cell_type": "code",
   "execution_count": 2,
   "metadata": {},
   "outputs": [
    {
     "name": "stdout",
     "output_type": "stream",
     "text": [
      "Hello, World!\n"
     ]
    }
   ],
   "source": [
    "program = \\\n",
    "'''\n",
    "load \"io\".\n",
    "println \"Hello, World!\".\n",
    "'''\n",
    "interp(program,prologue=True)"
   ]
  },
  {
   "cell_type": "markdown",
   "metadata": {},
   "source": [
    "Two other print functions exists: \n",
    "- `print` - print without appending a new line character.\n",
    "- `raw_print` - print internal term structure. "
   ]
  },
  {
   "cell_type": "code",
   "execution_count": 3,
   "metadata": {},
   "outputs": [
    {
     "name": "stdout",
     "output_type": "stream",
     "text": [
      "('string', 'Hello, World!')\n"
     ]
    }
   ],
   "source": [
    "program = \\\n",
    "'''\n",
    "load \"io\".\n",
    "raw_print \"Hello, World!\".\n",
    "'''\n",
    "interp(program)"
   ]
  },
  {
   "cell_type": "markdown",
   "metadata": {},
   "source": [
    "Here we can see that an Asteroid string is tuple consisting of a type field and a value field."
   ]
  },
  {
   "cell_type": "markdown",
   "metadata": {},
   "source": [
    "### 2. Greet a person\n",
    "\n",
    "> Ask a user for their name and greet them by printing ‘Hello, <Name\\>!’\n",
    "\n",
    "Here is our first solution using a separate function for each of the steps,   "
   ]
  },
  {
   "cell_type": "code",
   "execution_count": 4,
   "metadata": {},
   "outputs": [],
   "source": [
    "program = \\\n",
    "'''\n",
    "load \"io\".\n",
    "print (\"Enter your name: \").\n",
    "let name = input().\n",
    "print (\"Hello, \"+name+\"!\").\n",
    "'''\n",
    "# Note: uncomment in order to run the program\n",
    "#interp(program)"
   ]
  },
  {
   "cell_type": "markdown",
   "metadata": {},
   "source": [
    "Letting the function `input` do the prompting,"
   ]
  },
  {
   "cell_type": "code",
   "execution_count": 5,
   "metadata": {},
   "outputs": [],
   "source": [
    "program = \\\n",
    "'''\n",
    "load \"io\".\n",
    "let name = input(\"Enter your name: \").\n",
    "print (\"Hello, \"+name+\"!\").\n",
    "'''\n",
    "# Note: uncomment in order to run the program\n",
    "#interp(program)"
   ]
  },
  {
   "cell_type": "markdown",
   "metadata": {},
   "source": [
    "Doing everything in one step,"
   ]
  },
  {
   "cell_type": "code",
   "execution_count": 6,
   "metadata": {},
   "outputs": [],
   "source": [
    "program = \\\n",
    "'''\n",
    "load \"io\".\n",
    "print (\"Hello, \"+input(\"Enter your name: \")+\"!\").\n",
    "'''\n",
    "# Note: uncomment in order to run the program\n",
    "#interp(program)"
   ]
  },
  {
   "cell_type": "markdown",
   "metadata": {},
   "source": [
    "### 3. String length\n",
    "\n",
    "> Print the length of a string.\n",
    "\n",
    "In order to print the length of a string we can use the function `len` available in the `util` module,"
   ]
  },
  {
   "cell_type": "code",
   "execution_count": 7,
   "metadata": {},
   "outputs": [
    {
     "name": "stdout",
     "output_type": "stream",
     "text": [
      "6\n"
     ]
    }
   ],
   "source": [
    "program = \\\n",
    "'''\n",
    "load \"io\".\n",
    "load \"util\".\n",
    "println (len(\"Hello!\")).\n",
    "'''\n",
    "interp(program)"
   ]
  },
  {
   "cell_type": "markdown",
   "metadata": {},
   "source": [
    "We can also use the string member function `length` in order to compute the length of the string,"
   ]
  },
  {
   "cell_type": "code",
   "execution_count": 8,
   "metadata": {},
   "outputs": [
    {
     "name": "stdout",
     "output_type": "stream",
     "text": [
      "6\n"
     ]
    }
   ],
   "source": [
    "program = \\\n",
    "'''\n",
    "load \"io\".\n",
    "println (\"Hello!\" @length()).\n",
    "'''\n",
    "interp(program)"
   ]
  },
  {
   "cell_type": "markdown",
   "metadata": {},
   "source": [
    "### 4. Unique digits\n",
    "\n",
    "> Print unique digits from a given integer number.\n",
    "\n",
    "In order to accomplish this we take advantage of the string `explode` function and the `sort` function on lists.\n",
    "Finally we use the `reduce` function to map a list with repeated digits to a list with unique digits,"
   ]
  },
  {
   "cell_type": "code",
   "execution_count": 9,
   "metadata": {},
   "outputs": [
    {
     "name": "stdout",
     "output_type": "stream",
     "text": [
      "[1,2,3]\n"
     ]
    }
   ],
   "source": [
    "program = \\\n",
    "'''\n",
    "load \"io\".\n",
    "\n",
    "function unique with (x,y) do\n",
    "    if not (x @member(y)) do\n",
    "        return x @append(y).\n",
    "    else do\n",
    "        return x.\n",
    "    end\n",
    "end\n",
    "        \n",
    "let digits = \"332211\" @explode() \n",
    "                      @sort() \n",
    "                      @reduce(unique,[]).\n",
    "println digits.\n",
    "assert(digits == [\"1\",\"2\",\"3\"]).\n",
    "'''\n",
    "interp(program)"
   ]
  },
  {
   "cell_type": "markdown",
   "metadata": {},
   "source": [
    "Probably the most noteworthy characteric about this program is the `reduce` function.  The `reduce` function applies a binary function to a list.  The first argument of the binary function acts like an accumulator and the second argument get instantiated with the elements of the list to be processed.  In our function `unique` the variable `x` is the accumulator with an initial value of `[]`.  The function tests whether the element `y` is on the list.  If it is not then it adds it to the list otherwise it just returns the accumulator unchanged."
   ]
  },
  {
   "cell_type": "markdown",
   "metadata": {},
   "source": [
    "## 1.2 Modifying string data\n",
    "\n",
    "### 5. Reverse a string\n",
    "\n",
    "> Print a string in the reversed order from right to left.\n",
    "\n",
    "We use the `explode` function to turn a string into a list of characters, then we reverse the list and turn it back into a string using the `join` function,"
   ]
  },
  {
   "cell_type": "code",
   "execution_count": 10,
   "metadata": {},
   "outputs": [
    {
     "name": "stdout",
     "output_type": "stream",
     "text": [
      "!dlroW ,olleH\n"
     ]
    }
   ],
   "source": [
    "program = \\\n",
    "'''\n",
    "load \"io\".\n",
    "let str = \"Hello, World!\" @explode() \n",
    "                          @reverse() \n",
    "                          @join(\"\").\n",
    "println str.\n",
    "assert(str == \"!dlroW ,olleH\").\n",
    "'''\n",
    "interp(program)"
   ]
  },
  {
   "cell_type": "markdown",
   "metadata": {},
   "source": [
    "### 6. Removing blanks from a string\n",
    "\n",
    "> Remove leading, trailing and double spaces from a given string."
   ]
  },
  {
   "cell_type": "code",
   "execution_count": 11,
   "metadata": {},
   "outputs": [
    {
     "name": "stdout",
     "output_type": "stream",
     "text": [
      "Hello, World!\n"
     ]
    }
   ],
   "source": [
    "program = \\\n",
    "'''\n",
    "load \"io\".\n",
    "let str = \"   Hello  ,   World    !   \" @trim() \n",
    "                                        @replace(\"  \",\"\").\n",
    "println str.\n",
    "assert(str == \"Hello, World!\").\n",
    "'''\n",
    "interp(program)"
   ]
  },
  {
   "cell_type": "markdown",
   "metadata": {},
   "source": [
    "### 7. Camel case\n",
    "\n",
    "> Create a camel-case identifier from a given phrase.\n",
    "\n",
    "In this task, we will form the `CamelCase` variable names from a given phrase.\n",
    "Names created in this style are built of several words; each of which starts\n",
    "with a capital letter."
   ]
  },
  {
   "cell_type": "code",
   "execution_count": 12,
   "metadata": {},
   "outputs": [
    {
     "name": "stdout",
     "output_type": "stream",
     "text": [
      "OnceUponATime\n"
     ]
    }
   ],
   "source": [
    "program = \\\n",
    "'''\n",
    "load \"io\".\n",
    "\n",
    "function title with w do\n",
    "    let letter_list = w @tolower() \n",
    "                        @explode().\n",
    "    let first_letter = letter_list @0 \n",
    "                                   @toupper().\n",
    "    if letter_list @length() > 1 do\n",
    "        let title_case = ([first_letter] + letter_list @[1 to letter_list@length()-1]) @join(\"\").\n",
    "    else\n",
    "        let title_case = first_letter.\n",
    "    end\n",
    "    return title_case.\n",
    "end\n",
    "\n",
    "let str = \"once upon a time\".\n",
    "let camel_str = str @split() \n",
    "                    @map(title) \n",
    "                    @join(\"\").\n",
    "println camel_str.\n",
    "assert(camel_str == \"OnceUponATime\").\n",
    "'''\n",
    "interp(program)"
   ]
  },
  {
   "cell_type": "markdown",
   "metadata": {},
   "source": [
    "### 8. Incrementing filenames\n",
    "\n",
    "> Generate a list of filenames like file1.txt, file2.txt, etc."
   ]
  },
  {
   "cell_type": "code",
   "execution_count": 13,
   "metadata": {},
   "outputs": [
    {
     "name": "stdout",
     "output_type": "stream",
     "text": [
      "file1.txt\n",
      "file2.txt\n",
      "file3.txt\n",
      "file4.txt\n",
      "file5.txt\n"
     ]
    }
   ],
   "source": [
    "program = \\\n",
    "'''\n",
    "load \"io\".\n",
    "\n",
    "let root = \"file\".\n",
    "let ext = \".txt\".\n",
    "\n",
    "for i in 1 to 5 do\n",
    "    println (root+i+ext).\n",
    "end\n",
    "'''\n",
    "interp(program)"
   ]
  },
  {
   "cell_type": "markdown",
   "metadata": {},
   "source": [
    "### 9. Random passwords\n",
    "\n",
    "> Generate a random string that can be used as a password.\n",
    "\n",
    "In our solution we take advantage of Asteroid's `Pick` object.  The `Pick` object maintains a list of items that we can randomly select from using the `pick` member function.  As input to the `Pick` object we compute a bunch of lists of characters that are useful for password construction.  The function `achar` converts a decimal ASCII code to a single character string."
   ]
  },
  {
   "cell_type": "code",
   "execution_count": 14,
   "metadata": {},
   "outputs": [
    {
     "name": "stdout",
     "output_type": "stream",
     "text": [
      "e3zvshdbS43brt#\n"
     ]
    }
   ],
   "source": [
    "program = \\\n",
    "'''\n",
    "load \"io\".\n",
    "load \"util\".\n",
    "load \"pick\".\n",
    "\n",
    "seed(42).\n",
    "\n",
    "-- make up lists of symbols useful for password construction\n",
    "let int_list = [0 to 9] @map(tostring).\n",
    "let lc_list = [97 to 122] @map(achar). -- lower case characters\n",
    "let uc_list = [65 to 90] @map(achar). --upper case characters\n",
    "let sp_list = [\"!\",\"_\",\"#\",\"$\",\"%\",\"*\"].\n",
    "-- build the overall pick list of symbols\n",
    "let pick_list = int_list+lc_list+uc_list+sp_list.\n",
    "\n",
    "-- generate the password and print it.\n",
    "let pwd = Pick pick_list @pick(15)\n",
    "                         @join(\"\").\n",
    "println pwd.\n",
    "\n",
    "assert (pwd == \"e3zvshdbS43brt#\")\n",
    "'''\n",
    "interp(program)"
   ]
  },
  {
   "cell_type": "markdown",
   "metadata": {},
   "source": [
    "### 10. DNA-to-RNA transcription\n",
    "\n",
    "> Convert the given DNA sequence to a compliment RNA.\n",
    "\n",
    "We’ll not dig deep into the biology aspect of the problem. For us, it is important that the DNA is a string containing the four letters A, C, G, and T,\n",
    "and the RNA is a string of A, C, G, and U. The transformation from DNA\n",
    "to RNA happens according to the following table:\n",
    "```\n",
    "DNA: A C G T\n",
    "RNA: U G C A\n",
    "```\n",
    "We will solve this programming problem using Asteroid's first-class patterns. We could have solved this with just testing equality on DNA characters but using first-class patterns in more general and can be applied to problems with a more structured mapping relationship."
   ]
  },
  {
   "cell_type": "code",
   "execution_count": 15,
   "metadata": {},
   "outputs": [
    {
     "name": "stdout",
     "output_type": "stream",
     "text": [
      "UGGUAGUCAG\n"
     ]
    }
   ],
   "source": [
    "program = \\\n",
    "'''\n",
    "load \"io\".\n",
    "\n",
    "let dna2rna_table = \n",
    "    [\n",
    "    (\"A\",\"U\"),\n",
    "    (\"C\",\"G\"),\n",
    "    (\"G\",\"C\"),\n",
    "    (\"T\",\"A\")\n",
    "    ].\n",
    "\n",
    "function dna2rna with x do\n",
    "    for (dna,rna) in dna2rna_table do\n",
    "        if x is *dna do\n",
    "            return rna.\n",
    "        end\n",
    "    end\n",
    "    throw Error(\"unknown dna char \"+x).\n",
    "end\n",
    "\n",
    "let dna_seq = \"ACCATCAGTC\".\n",
    "let rna_seq = dna_seq @explode() \n",
    "                      @map(dna2rna) \n",
    "                      @join(\"\").\n",
    "println rna_seq.\n",
    "\n",
    "assert(rna_seq == \"UGGUAGUCAG\").\n",
    "'''\n",
    "interp(program)"
   ]
  },
  {
   "cell_type": "markdown",
   "metadata": {},
   "source": [
    "### 11. Caesar cipher\n",
    "\n",
    "> Encode a message using the Caesar cipher technique.\n",
    "\n",
    "The Caesar code is a simple method of transcoding the letters of the message\n",
    "so that each letter is replaced with the letter that occurs in the alphabet N\n",
    "positions earlier or later.\n",
    "For example, if N is 4, then the letter e becomes a, f is transformed to b,\n",
    "etc. The alphabet is looped so that z becomes v, and letters a to d become\n",
    "w to z."
   ]
  },
  {
   "cell_type": "code",
   "execution_count": 16,
   "metadata": {},
   "outputs": [
    {
     "name": "stdout",
     "output_type": "stream",
     "text": [
      "dahhk, sknhz!\n",
      "hello, world!\n"
     ]
    }
   ],
   "source": [
    "program = \\\n",
    "'''\n",
    "load \"io\".\n",
    "load \"util\".\n",
    "\n",
    "let encode_table = [119 to 122] @map(achar) + [97 to 118] @map(achar).\n",
    "\n",
    "function encode with (v:%string) %if len(v) == 1 do\n",
    "    -- only lowercase letters are encoded\n",
    "    if not (ascii(v) in [97 to 122]) do\n",
    "        return v.\n",
    "    else \n",
    "        return encode_table @(ascii(v)-ascii(\"a\")).\n",
    "    end\n",
    "end\n",
    "\n",
    "function decode with (v:%string) %if len(v) == 1 do\n",
    "    -- only lowercase letters are decoded\n",
    "    if not (ascii(v) in [97 to 122]) do\n",
    "        return v.\n",
    "    else \n",
    "        return encode_table @(ascii(v)-ascii(\"w\")+4).\n",
    "    end\n",
    "end\n",
    "\n",
    "let message = \"hello, world!\"\n",
    "let secret = message @explode() \n",
    "                     @map(encode) \n",
    "                     @join(\"\").\n",
    "println secret.\n",
    "\n",
    "assert (secret == \"dahhk, sknhz!\")\n",
    "\n",
    "let decoded_msg = secret @explode()\n",
    "                         @map(decode)\n",
    "                         @join(\"\").\n",
    "println decoded_msg.\n",
    "\n",
    "assert (decoded_msg == \"hello, world!\")\n",
    "'''\n",
    "interp(program)"
   ]
  },
  {
   "cell_type": "markdown",
   "metadata": {},
   "source": [
    "## 1.3 Text Analysis\n",
    "\n",
    "### 12. Plural Endings\n",
    "\n",
    "> Put a noun in the correct form — singular or plural — depending on the number next to it.\n",
    "\n",
    "In program outputs, it is often required to print some number followed by a noun, for example:\n",
    "```\n",
    "10 files found\n",
    "```\n",
    "If there is only one file, then the phrase should be `1 file found` instead."
   ]
  },
  {
   "cell_type": "code",
   "execution_count": 17,
   "metadata": {},
   "outputs": [
    {
     "name": "stdout",
     "output_type": "stream",
     "text": [
      "0 files found\n",
      "1 file found\n",
      "2 files found\n",
      "3 files found\n",
      "4 files found\n",
      "5 files found\n"
     ]
    }
   ],
   "source": [
    "program = \\\n",
    "'''\n",
    "load \"io\".\n",
    "\n",
    "for n in 0 to 5 do\n",
    "    println (n+\" file\"+(\"s \" if n>1 or n==0 else \" \")+\"found\").\n",
    "end\n",
    "'''\n",
    "interp(program)"
   ]
  },
  {
   "cell_type": "markdown",
   "metadata": {},
   "source": [
    "### 13. The most frequent word\n",
    "\n",
    "> Find the most frequent word in the given text.\n",
    "\n",
    "In our solution we use a hash table to count the number of word occurances."
   ]
  },
  {
   "cell_type": "code",
   "execution_count": 18,
   "metadata": {},
   "outputs": [
    {
     "name": "stdout",
     "output_type": "stream",
     "text": [
      "sed\n"
     ]
    }
   ],
   "source": [
    "program = \\\n",
    "'''\n",
    "load \"io\".\n",
    "load \"util\".\n",
    "load \"hash\".\n",
    "\n",
    "-- text generated at 'https://www.lipsum.com/'\n",
    "let text = \"Lorem ipsum dolor sit amet, consectetur adipiscing elit. Sed accumsan magna quis risus commodo, et pellentesque dui cursus. Sed quis risus libero. Cras et mattis libero, eget varius nisi. Phasellus ultrices, augue non dictum eleifend, nunc elit blandit velit, a viverra risus enim in tellus. Maecenas quis ante eget turpis rhoncus rhoncus eget ut mauris. Suspendisse nec erat sed nunc tempus hendrerit. Nunc dictum nunc molestie eleifend tempus. Praesent cursus lorem diam, sed mattis velit vehicula scelerisque. Nunc iaculis rhoncus ante. Etiam quam nisi, fermentum et euismod a, vulputate eu elit. Suspendisse tincidunt ligula quis interdum blandit. Quisque sed aliquam tellus. Pellentesque ac lacus pulvinar, ornare purus ac, viverra ex. Donec quis pharetra dolor.\n",
    "\n",
    "In ac massa tortor. Cras sagittis luctus scelerisque. Morbi a neque sed tortor ultrices dapibus. Mauris pretium vitae massa non auctor. Cras egestas ex ante, ac ullamcorper ante dignissim eget. Fusce bibendum justo ut enim luctus, id volutpat diam lacinia. Mauris sit amet ante risus.\n",
    "\n",
    "Nullam rhoncus ultricies dui. Etiam vel metus vehicula, pellentesque felis ut, suscipit nunc. Sed nec interdum lorem. Maecenas odio erat, vestibulum nec dapibus id, commodo vitae libero. Nulla sed urna sit amet nunc commodo finibus sed vel elit. Aliquam euismod feugiat nisi quis placerat. Aliquam libero nisl, ultrices non est at, sagittis hendrerit dui. Quisque id sem lorem. Nam ultricies metus id ultrices molestie. Pellentesque elementum consequat nibh, nec convallis lorem ullamcorper in. Etiam vitae mi tellus. Etiam accumsan massa sit amet dolor tincidunt iaculis. Nam ullamcorper blandit sem id bibendum. Quisque elementum ipsum ac sapien blandit vehicula.\"\n",
    "\n",
    "-- get rid of punctuation, turn to lower case, and split into words.\n",
    "-- Note: we could have employed richer regular expressions to clean up the text here\n",
    "let wl = text @replace(\"\\.\",\"\")\n",
    "              @replace(\",\",\"\")\n",
    "              @tolower()\n",
    "              @split().\n",
    "\n",
    "-- put the words into a hash table, the value is the count of the words\n",
    "let ht = HashTable().\n",
    "for w in wl do\n",
    "    if not ht @get(w) do\n",
    "        ht @insert(w,1).\n",
    "    else do\n",
    "        ht @insert(w,ht @get(w)+1).\n",
    "    end\n",
    "end\n",
    "\n",
    "-- get the contents of hash table and find the most frequent word\n",
    "let (keys,values) = unzip(ht@aslist()).\n",
    "let values_sorted = values @copy()\n",
    "                           @sort(true).\n",
    "let most_frequent_word = keys @(values @index(values_sorted @0)).\n",
    "println most_frequent_word.\n",
    "\n",
    "assert (most_frequent_word == \"sed\").\n",
    "'''\n",
    "interp(program)"
   ]
  },
  {
   "cell_type": "markdown",
   "metadata": {},
   "source": [
    "### 14. The longest common substring\n",
    "\n",
    "> Find the longest common substring in the given two strings.\n",
    "\n",
    "Let us limit ourselves with finding only the first longest substring. If there\n",
    "are more common substrings of the same length, then the rest are ignored.\n",
    "There are two loops (see also Task 17, The longest palindrome) over the first\n",
    "string (`stra`), and they use the index method to search for the substring in the\n",
    "second string (`strb`)."
   ]
  },
  {
   "cell_type": "code",
   "execution_count": 19,
   "metadata": {},
   "outputs": [
    {
     "name": "stdout",
     "output_type": "stream",
     "text": [
      "The longest common substring is ' fox '.\n"
     ]
    }
   ],
   "source": [
    "program = \\\n",
    "'''\n",
    "load \"io\".\n",
    "\n",
    "let stra = \"the quick brown fox jumps over the lazy dog\".\n",
    "let strb = \"what does the fox say?\".\n",
    "let common = \"\".\n",
    "\n",
    "for startix in 0 to stra @length()-1 do\n",
    "    for endix in startix to stra @length()-1 do\n",
    "        let s = stra @[startix to endix].\n",
    "        if strb @index(s) and s @length() > common @length() do\n",
    "            let common = s.\n",
    "        end\n",
    "    end\n",
    "end\n",
    "\n",
    "if common do\n",
    "    println (\"The longest common substring is '\"+common+\"'.\").\n",
    "else do\n",
    "    println (\"There are no common substrings.\").\n",
    "end\n",
    "\n",
    "assert (common == \" fox \").\n",
    "'''\n",
    "interp(program)"
   ]
  },
  {
   "cell_type": "markdown",
   "metadata": {},
   "source": [
    "### 15. Anagram test\n",
    "\n",
    "> Tell if the two words are anagrams of each other.\n",
    "\n",
    "An anagram is a word, phrase, or name formed by rearranging the letters of another, such as `cinema`, formed from `iceman`."
   ]
  },
  {
   "cell_type": "code",
   "execution_count": 20,
   "metadata": {},
   "outputs": [
    {
     "name": "stdout",
     "output_type": "stream",
     "text": [
      "Anagrams\n"
     ]
    }
   ],
   "source": [
    "program = \\\n",
    "'''\n",
    "load \"io\".\n",
    "\n",
    "let str1 = \"cinema\".\n",
    "let str2 = \"iceman\".\n",
    "\n",
    "function normalize with str do\n",
    "    return str @explode()\n",
    "               @sort() \n",
    "               @join(\"\").\n",
    "end\n",
    "\n",
    "if normalize(str1) == normalize(str2) do\n",
    "    println \"Anagrams\".\n",
    "else do\n",
    "    println \"Not anagrams\".\n",
    "end\n",
    "\n",
    "assert (normalize(str1) == normalize(str2)).\n",
    "'''\n",
    "interp(program)"
   ]
  },
  {
   "cell_type": "markdown",
   "metadata": {},
   "source": [
    "### 16. Palindrome test\n",
    "\n",
    "> Check if the entered string is palindromic.\n",
    "\n",
    "A palindrome is a string that can be read from both ends: left to right or right\n",
    "to left."
   ]
  },
  {
   "cell_type": "code",
   "execution_count": 21,
   "metadata": {},
   "outputs": [
    {
     "name": "stdout",
     "output_type": "stream",
     "text": [
      "Palindromic\n"
     ]
    }
   ],
   "source": [
    "program = \\\n",
    "'''\n",
    "load \"io\".\n",
    "\n",
    "let str = \"Was it a rat I saw?\".\n",
    "\n",
    "function clean with str:%string do\n",
    "    return str @tolower()\n",
    "               @replace(\"[^a-z]\",\"\").\n",
    "end\n",
    "\n",
    "-- only keep lower case letters\n",
    "let clean_str = clean(str).\n",
    "\n",
    "-- check if it is palidromic\n",
    "if clean_str == clean_str @flip() do\n",
    "    println \"Palindromic\".\n",
    "else do\n",
    "    println \"Not palindromic\".\n",
    "end\n",
    "\n",
    "assert (clean_str == clean_str @flip()).\n",
    "'''\n",
    "interp(program)"
   ]
  },
  {
   "cell_type": "markdown",
   "metadata": {},
   "source": [
    "### 17. The longest palindrome\n",
    "\n",
    "> Find the longest palindromic substring in the given string.\n",
    "\n",
    "The main idea behind the solution is to scan the string with a window of\n",
    "varying width. In other words, starting from a given character, test all the\n",
    "substrings of any length possible at that position. \n",
    "Now, extract the substring and do the check similar to the solution of Task\n",
    "16, Palindrome test. Here, we have to be careful to check the palindrome\n",
    "without taking into account the non-letter characters but saving the result as\n",
    "part of the original string. "
   ]
  },
  {
   "cell_type": "code",
   "execution_count": 22,
   "metadata": {},
   "outputs": [
    {
     "name": "stdout",
     "output_type": "stream",
     "text": [
      "o, Wo\n"
     ]
    }
   ],
   "source": [
    "program = \\\n",
    "'''\n",
    "load \"io\".\n",
    "\n",
    "let str = \"Hello, World!\".\n",
    "\n",
    "function clean with str:%string do\n",
    "    return str @tolower()\n",
    "               @replace(\"[^a-z]\",\"\").\n",
    "end\n",
    "\n",
    "function palindrome_test with str:%string do\n",
    "    let clean_str = clean(str).\n",
    "    if clean_str == clean_str @flip() do\n",
    "        return true.\n",
    "    else do\n",
    "        return false.\n",
    "    end\n",
    "end\n",
    "\n",
    "-- create the moving window over the string\n",
    "let longest_palindrome = \"\".\n",
    "\n",
    "for i in 0 to str @length()-2 do\n",
    "    for j in i+1 to str @length()-1 do\n",
    "        let str1 = str @[i to j].\n",
    "        if palindrome_test(str1) and \n",
    "           str1 @length() > longest_palindrome @length() do \n",
    "            let longest_palindrome = str1.\n",
    "        end\n",
    "    end\n",
    "end\n",
    "\n",
    "println longest_palindrome.\n",
    "\n",
    "'''\n",
    "interp(program)"
   ]
  },
  {
   "cell_type": "markdown",
   "metadata": {},
   "source": [
    "### 18. Finding duplicate texts\n",
    "\n",
    "> Find duplicate fragments in the same text.\n",
    "\n",
    "We do this by finding and hashing N-grams after the appropriate preprocessing.  We will use `N=3`."
   ]
  },
  {
   "cell_type": "code",
   "execution_count": 23,
   "metadata": {},
   "outputs": [
    {
     "name": "stdout",
     "output_type": "stream",
     "text": [
      "lorem ipsum dolor: 2\n",
      "ipsum dolor sit: 2\n",
      "dolor sit amet: 3\n",
      "sit amet consectetur: 2\n",
      "amet consectetur adipiscing: 2\n",
      "consectetur adipiscing elit: 2\n",
      "in hac habitasse: 2\n",
      "hac habitasse platea: 2\n",
      "habitasse platea dictumst: 2\n",
      "aliquet quam purus: 2\n",
      "diam sed nulla: 2\n",
      "sit amet condimentum: 2\n"
     ]
    }
   ],
   "source": [
    "program = \\\n",
    "'''\n",
    "load \"io\".\n",
    "load \"hash\".\n",
    "\n",
    "-- text from \"www.lipsum.com\"\n",
    "\n",
    "let str = \"Lorem ipsum dolor sit amet, consectetur adipiscing elit. Sed malesuada sapien nec neque suscipit, non rutrum arcu scelerisque. Nam feugiat sapien porta ipsum accumsan, eget maximus diam volutpat. Pellentesque elementum in orci quis pretium. Donec dignissim nunc lectus, id ornare urna varius ut. Praesent semper faucibus vehicula. Aliquam luctus sapien at lorem malesuada, eget suscipit felis facilisis. Suspendisse velit lectus, mollis sit amet tempor eget, faucibus ut nulla. Vestibulum et elementum dolor, a vehicula ipsum. Morbi ut fringilla nisi. Fusce congue rutrum orci nec porta. Ut laoreet justo vel turpis sodales vehicula. Nulla porttitor nisl id odio eleifend sodales.\n",
    "\n",
    "Suspendisse blandit tristique enim id laoreet. Etiam vel aliquet dui, quis tempus magna. Donec blandit volutpat felis egestas tincidunt. Integer placerat luctus mi non pharetra. Donec aliquet nisl orci, egestas elementum nunc bibendum a. Morbi nec risus aliquet, viverra nunc in, molestie odio. Curabitur pellentesque, ante eget dictum aliquam, felis leo bibendum libero, vel bibendum lorem velit eget ex. Lorem ipsum dolor sit amet, consectetur adipiscing elit. Vestibulum pretium tellus quis ante vulputate, pretium tincidunt ipsum dapibus. Praesent congue, ipsum ut sagittis tempus, lacus nisi dapibus dui, aliquam porta metus odio ut neque. Aliquam vitae faucibus dolor. Nulla iaculis lorem non mauris viverra, ut malesuada nibh aliquam. Nam bibendum sit amet massa in dignissim. Nam posuere nunc ante, at viverra diam rhoncus vel.\n",
    "\n",
    "Aliquam mollis sagittis nulla. Maecenas faucibus eu dui eget accumsan. Suspendisse sit amet fermentum sapien. Nunc vitae mi nibh. Mauris condimentum vestibulum imperdiet. Quisque at vehicula dui. Integer sit amet volutpat arcu. Maecenas efficitur leo tortor, non ullamcorper magna tempor non. Sed efficitur quis metus ut pulvinar. Proin nunc felis, congue sit amet nibh placerat, tincidunt mattis nunc. Duis efficitur lacus a orci porttitor, sed molestie risus tempor.\n",
    "\n",
    "Sed tincidunt ipsum at urna sollicitudin feugiat. Ut mollis orci quis massa dictum facilisis. Maecenas non elementum mauris. Sed rutrum orci faucibus, tristique nunc nec, mattis ante. Pellentesque habitant morbi tristique senectus et netus et malesuada fames ac turpis egestas. In hac habitasse platea dictumst. Morbi pellentesque dolor sit amet nunc tincidunt, ut rutrum ante vulputate. Nullam pretium, mi sed condimentum luctus, ipsum nunc dictum lorem, vel ultricies nibh mi ut sem. Nam volutpat id libero eget mollis.\n",
    "\n",
    "Vestibulum eget velit eros. Phasellus sit amet vestibulum odio, vel malesuada quam. Mauris dictum erat eu ligula mollis laoreet. Phasellus ut ante auctor, hendrerit ipsum et, fermentum magna. Etiam nec eros elementum, consectetur nibh ac, ullamcorper ligula. Aliquam sed porttitor sapien. Nulla tincidunt, turpis vitae venenatis aliquet, quam purus elementum diam, in tincidunt orci diam sed nulla. Cras pellentesque non diam quis sollicitudin. Duis suscipit lectus dui, eu varius metus pretium sit amet.\n",
    "\n",
    "Nulla eu ex velit. Ut non justo semper, gravida erat quis, vehicula est. Suspendisse nunc dui, iaculis id purus sit amet, rutrum commodo lacus. Aenean consequat turpis a est vestibulum, ac accumsan nibh dapibus. Nam blandit scelerisque lectus, eu pellentesque arcu ornare non. Fusce ac gravida diam. Ut in fringilla eros. Sed metus augue, porta quis vehicula at, pellentesque et mauris. Duis sodales lacus sit amet condimentum placerat. In blandit tristique nulla eget malesuada. Sed congue finibus neque at semper. Etiam pellentesque egestas urna, ut lobortis odio euismod et. Phasellus aliquet quam purus, quis ullamcorper sem mollis eu.\n",
    "\n",
    "Mauris quis ullamcorper nisi. Aenean quam nulla, sodales eu faucibus in, mattis a nulla. Nullam pulvinar pretium justo eu mattis. Aliquam rutrum ipsum vitae leo maximus ultrices. Donec ut pulvinar nisi. Sed pharetra, turpis dictum lobortis egestas, quam massa venenatis enim, dapibus efficitur dolor mauris eu felis. Donec vulputate ultrices justo sit amet condimentum. Donec id posuere nulla. In vestibulum mi in lectus commodo dignissim. Quisque vestibulum egestas arcu sit amet finibus. Proin commodo aliquet neque quis maximus.\n",
    "\n",
    "Nulla facilisi. Sed gravida aliquet diam in congue. Mauris vehicula justo ac sollicitudin laoreet. Mauris enim mi, auctor id magna eget, feugiat sollicitudin leo. Vivamus ornare ornare commodo. Suspendisse ut dui quis enim porta pretium. Praesent vitae lacus fermentum, posuere orci ac, imperdiet massa. Nulla hendrerit id nisl sed maximus. Vivamus commodo lacus eu condimentum bibendum. Suspendisse porttitor sem eget dolor aliquet congue. Pellentesque tristique augue at quam hendrerit dignissim. Aenean a congue dui. Vestibulum ante ipsum primis in faucibus orci luctus et ultrices posuere cubilia curae; Integer ante lacus, commodo et enim sed, auctor egestas metus.\n",
    "\n",
    "Aliquam a urna id risus tincidunt rutrum. Nunc facilisis, tortor ac suscipit aliquam, ante neque tincidunt mi, nec ullamcorper lectus ligula vel urna. Suspendisse lobortis at felis sit amet facilisis. Pellentesque velit lacus, porttitor vitae eros rutrum, convallis blandit erat. Pellentesque nec mi viverra, volutpat dui in, rutrum lacus. Ut non venenatis leo. Praesent sollicitudin magna porttitor lorem elementum molestie non a turpis. Suspendisse potenti.\n",
    "\n",
    "Donec malesuada iaculis laoreet. Nunc ut volutpat ante, ut consequat tortor. Phasellus posuere, ipsum quis dignissim iaculis, nisl felis ullamcorper ligula, quis placerat sem sapien nec ante. Cras suscipit ut magna nec lacinia. Donec ipsum nibh, imperdiet non aliquam eu, maximus id ante. Pellentesque vitae felis felis. Aliquam et diam sed nulla volutpat vestibulum molestie non lacus. Praesent porta et lacus auctor fermentum. In hac habitasse platea dictumst. Aliquam erat volutpat. Etiam at ligula orci. Class aptent taciti sociosqu ad litora torquent per conubia nostra, per inceptos himenaeos.\"\n",
    "\n",
    "\n",
    "let word_list = str @tolower()\n",
    "                    @replace(\"[^a-z0-9_]\",\" \")\n",
    "                    @split().\n",
    "let ht = HashTable().\n",
    "\n",
    "-- create N-grams\n",
    "for i in 0 to word_list @length()-3 do\n",
    "    -- Note: make this code more general\n",
    "    let n_gram = [word_list@i, word_list@(i+1), word_list @(i+2)] @join(\" \").\n",
    "    -- put the N-gram into a hash table, the value is the count of the N-gram in the text.\n",
    "    if not ht @get(n_gram) do\n",
    "        ht @insert(n_gram,1).\n",
    "    else do\n",
    "        ht @insert(n_gram,ht @get(n_gram)+1).\n",
    "    end\n",
    "end\n",
    "\n",
    "for ((n_gram,cnt) %if cnt > 1) in ht @aslist() do\n",
    "    println (n_gram+\": \"+cnt).\n",
    "end\n",
    "'''\n",
    "interp(program)"
   ]
  },
  {
   "cell_type": "markdown",
   "metadata": {},
   "source": [
    "# Chapter 2: Numbers\n",
    "## 1.1 Using numbers\n",
    "\n"
   ]
  },
  {
   "cell_type": "markdown",
   "metadata": {},
   "source": [
    "### 19. $\\pi$\n",
    "\n",
    "> Print the value of $\\pi$.\n"
   ]
  },
  {
   "cell_type": "code",
   "execution_count": 24,
   "metadata": {},
   "outputs": [
    {
     "name": "stdout",
     "output_type": "stream",
     "text": [
      "3.141592653589793\n"
     ]
    }
   ],
   "source": [
    "program = \\\n",
    "'''\n",
    "load \"io\".\n",
    "load \"math\". -- definition of pi\n",
    "\n",
    "println pi.\n",
    "'''\n",
    "interp(program)"
   ]
  },
  {
   "cell_type": "markdown",
   "metadata": {},
   "source": [
    "Other constants are also available."
   ]
  },
  {
   "cell_type": "code",
   "execution_count": 25,
   "metadata": {},
   "outputs": [
    {
     "name": "stdout",
     "output_type": "stream",
     "text": [
      "2.718281828459045\n",
      "6.283185307179586\n"
     ]
    }
   ],
   "source": [
    "program = \\\n",
    "'''\n",
    "load \"io\".\n",
    "load \"math\". \n",
    "\n",
    "println e.\n",
    "println tau. -- tau=2*pi\n",
    "'''\n",
    "interp(program)"
   ]
  },
  {
   "cell_type": "markdown",
   "metadata": {},
   "source": [
    "### 20. Factorial!\n",
    "\n",
    "> Print the factorial of a given number.\n",
    "\n",
    "By definition, the factorial of a positive integer number N is a product of all the integers numbering from 1 to N, including N. Our first solution is based on the direct implementation of the definition above using the list `reduce` function. "
   ]
  },
  {
   "cell_type": "code",
   "execution_count": 26,
   "metadata": {},
   "outputs": [
    {
     "name": "stdout",
     "output_type": "stream",
     "text": [
      "6\n"
     ]
    }
   ],
   "source": [
    "program = \\\n",
    "'''\n",
    "load \"io\".\n",
    "\n",
    "let n = 3.\n",
    "let fact = [1 to n] @reduce(lambda with (a,b) do return a*b).\n",
    "println fact.\n",
    "assert (fact == 6).\n",
    "'''\n",
    "interp(program)"
   ]
  },
  {
   "cell_type": "markdown",
   "metadata": {},
   "source": [
    "Our second solutions uses the recursive definition of factorial,\n",
    "\n",
    "$\n",
    "    x!=\n",
    "\\begin{cases}\n",
    "    1 &\\text{if } x = 0,\\\\\n",
    "    x(x-1)! &\\text{if } x > 0,\\\\\n",
    "    \\perp &\\text{if } x < 0,\n",
    "\\end{cases}\n",
    "$\n",
    "\n",
    "where $x \\in \\text{Int}$.\n",
    "Here, each case specifies what value the function should return if\n",
    "the predicate applied to the input is true.  The last case is of some interest because it states that the function is undefined for negative integers."
   ]
  },
  {
   "cell_type": "code",
   "execution_count": 27,
   "metadata": {},
   "outputs": [
    {
     "name": "stdout",
     "output_type": "stream",
     "text": [
      "The factorial of 3 is: 6\n"
     ]
    }
   ],
   "source": [
    "program = \\\n",
    "'''\n",
    "load \"io\".\n",
    "\n",
    "let POS_INT = pattern with (x:%integer) %if x > 0.\n",
    "let NEG_INT = pattern with (x:%integer) %if x < 0.\n",
    "\n",
    "function fact\n",
    "    with 0 do \n",
    "        return 1\n",
    "    orwith n:*POS_INT do\n",
    "        return n * fact (n-1).\n",
    "    orwith n:*NEG_INT do\n",
    "        throw Error(\"factorial is not defined for \"+n).\n",
    "    end\n",
    "\n",
    "println (\"The factorial of 3 is: \" + fact (3)).\n",
    "assert (fact(3) == 6).\n",
    "'''\n",
    "interp(program)"
   ]
  },
  {
   "cell_type": "markdown",
   "metadata": {},
   "source": [
    "### 21. Fibonacci numbers\n",
    "\n",
    "> Print the $N^{th}$ Fibonacci number.\n",
    "\n",
    "Fibonacci numbers are defined by the recurring formula:\n",
    "\n",
    "$\n",
    "f_n = f_{n-1} + f_{n-2}\n",
    "$\n",
    "\n",
    "You can assign two values at a time (see Task 48, Swap two values). You can use that technique for calculating the next Fibonacci number from the pre- vious two. To bootstrap the algorithm, the two first values are needed. In one of the definitions of the Fibonacci row, the first two values are both 1.\n",
    "\n",
    "Here we give an iterative solutions.  It is clear that there exists a trival recursive solution by implementing the above formula.\n"
   ]
  },
  {
   "cell_type": "code",
   "execution_count": 28,
   "metadata": {},
   "outputs": [
    {
     "name": "stdout",
     "output_type": "stream",
     "text": [
      "55\n"
     ]
    }
   ],
   "source": [
    "program = \\\n",
    "'''\n",
    "load \"io\".\n",
    "\n",
    "let n = 10. -- compute the 10th Fib number\n",
    "\n",
    "let (f_1,f_2) = (1,1).\n",
    "for i in 3 to n do\n",
    "    let (f_1,f_2) = (f_1+f_2,f_1).\n",
    "end\n",
    "\n",
    "println f_1.\n",
    "assert (f_1 == 55)\n",
    "'''\n",
    "interp(program)"
   ]
  },
  {
   "cell_type": "markdown",
   "metadata": {},
   "source": [
    "### 22. Print squares\n",
    "\n",
    "> Print the squares of the numbers from 1 to 10.\n",
    "\n",
    "Of course this is straight forward with a for-loop over a list.  Here we show another solution using the list `map` function."
   ]
  },
  {
   "cell_type": "code",
   "execution_count": 29,
   "metadata": {},
   "outputs": [
    {
     "name": "stdout",
     "output_type": "stream",
     "text": [
      "[1,4,9,16,25,36,49,64,81,100]\n"
     ]
    }
   ],
   "source": [
    "program = \\\n",
    "'''\n",
    "load \"io\".\n",
    "\n",
    "let sq = [1 to 10] @map(lambda with x do return x*x).\n",
    "\n",
    "println sq.\n",
    "\n",
    "assert (sq == [1,4,9,16,25,36,49,64,81,100])\n",
    "'''\n",
    "interp(program)"
   ]
  },
  {
   "cell_type": "markdown",
   "metadata": {},
   "source": [
    "### 23. Powers of two\n",
    "\n",
    "> Print the first ten powers of two.\n",
    "\n",
    "Just as in the previous challenge we skip the naive loop solution and give a solution using the `map` function."
   ]
  },
  {
   "cell_type": "code",
   "execution_count": 30,
   "metadata": {},
   "outputs": [
    {
     "name": "stdout",
     "output_type": "stream",
     "text": [
      "[1,2,4,8,16,32,64,128,256,512]\n"
     ]
    }
   ],
   "source": [
    "program = \\\n",
    "'''\n",
    "load \"io\".\n",
    "load \"math\".\n",
    "\n",
    "let p2 = [0 to 9] @map(lambda with x do return pow(2,x)).\n",
    "\n",
    "println p2.\n",
    "\n",
    "assert (p2 == [1,2,4,8,16,32,64,128,256,512])\n",
    "'''\n",
    "interp(program)"
   ]
  },
  {
   "cell_type": "markdown",
   "metadata": {},
   "source": [
    "### 24. Odd and even numbers\n",
    "\n",
    "> Print the first ten odd numbers. Print the first ten even numbers.\n",
    "\n",
    "We start with printing the first ten odd numbers."
   ]
  },
  {
   "cell_type": "code",
   "execution_count": 31,
   "metadata": {},
   "outputs": [
    {
     "name": "stdout",
     "output_type": "stream",
     "text": [
      "[1,3,5,7,9]\n"
     ]
    }
   ],
   "source": [
    "program = \\\n",
    "'''\n",
    "load \"io\".\n",
    "load \"math\".\n",
    "\n",
    "let odd = []\n",
    "for (n %if mod(n,2) =/= 0) in 1 to 10 do\n",
    "    let odd = odd + [n].\n",
    "end\n",
    "\n",
    "println odd.\n",
    "assert(odd == [1,3,5,7,9])\n",
    "'''\n",
    "interp(program)"
   ]
  },
  {
   "cell_type": "markdown",
   "metadata": {},
   "source": [
    "Now the even numbers."
   ]
  },
  {
   "cell_type": "code",
   "execution_count": 32,
   "metadata": {},
   "outputs": [
    {
     "name": "stdout",
     "output_type": "stream",
     "text": [
      "[2,4,6,8,10]\n"
     ]
    }
   ],
   "source": [
    "program = \\\n",
    "'''\n",
    "load \"io\".\n",
    "load \"math\".\n",
    "\n",
    "let even = []\n",
    "for (n %if mod(n,2) == 0) in 1 to 10 do\n",
    "    let even = even + [n].\n",
    "end\n",
    "\n",
    "println even.\n",
    "assert(even == [2,4,6,8,10])\n",
    "'''\n",
    "interp(program)"
   ]
  },
  {
   "cell_type": "markdown",
   "metadata": {},
   "source": [
    "### 25. Compare numbers approximately\n",
    "\n",
    "> Compare the two non-integer values approximately.\n",
    "\n",
    "Comparing non-integer numbers, which are represented as floating-point numbers is often a task that requires approximate comparison.  In Asteroid this can be accomplished with the `isclose` function availabel in the `math` module.\n",
    "\n"
   ]
  },
  {
   "cell_type": "code",
   "execution_count": 33,
   "metadata": {},
   "outputs": [],
   "source": [
    "program = \\\n",
    "'''\n",
    "load \"io\".\n",
    "load \"math\".\n",
    "\n",
    "-- not equal under the default tolerance of 1E-09\n",
    "assert (not isclose(2.0,2.00001)).\n",
    "\n",
    "-- equal under the user defined tolerance of 0.0001\n",
    "assert (isclose(2.0,2.00001,0.0001)).\n",
    "'''\n",
    "interp(program)"
   ]
  },
  {
   "cell_type": "markdown",
   "metadata": {},
   "source": [
    "### 26. Multiplying big numbers\n",
    "\n",
    "> Create a program to multiply very big integer numbers.\n",
    "\n",
    "**Note**: Asteroid does not support big integer arithmetic."
   ]
  },
  {
   "cell_type": "markdown",
   "metadata": {},
   "source": [
    "### 27. Prime numbers\n",
    "\n",
    "> Decide if the given number is a prime number.\n",
    "\n",
    "Prime numbers are those that can be divided only by 1, and by themselves."
   ]
  },
  {
   "cell_type": "code",
   "execution_count": 34,
   "metadata": {},
   "outputs": [
    {
     "name": "stdout",
     "output_type": "stream",
     "text": [
      "true\n",
      "false\n"
     ]
    }
   ],
   "source": [
    "program = \\\n",
    "'''\n",
    "load \"io\".\n",
    "load \"math\".\n",
    "\n",
    "function isprime with x do\n",
    "    if x >= 2 do\n",
    "        for y in range(2,x) do\n",
    "            if not mod(x,y) do\n",
    "                return false.\n",
    "            end\n",
    "        end\n",
    "    else do\n",
    "        return false.\n",
    "    end\n",
    "    return true.\n",
    "end\n",
    "\n",
    "println (isprime 17).\n",
    "println (isprime 15).\n",
    "\n",
    "assert (isprime(17)).\n",
    "assert (not isprime(15)).\n",
    "'''\n",
    "interp(program)"
   ]
  },
  {
   "cell_type": "markdown",
   "metadata": {},
   "source": [
    "### 28. List of prime numbers\n",
    "\n",
    "> Print the list of the first ten prime numbers.\n",
    "\n"
   ]
  },
  {
   "cell_type": "code",
   "execution_count": 35,
   "metadata": {},
   "outputs": [
    {
     "name": "stdout",
     "output_type": "stream",
     "text": [
      "2\n",
      "3\n",
      "5\n",
      "7\n",
      "11\n",
      "13\n",
      "17\n",
      "19\n",
      "23\n",
      "29\n"
     ]
    }
   ],
   "source": [
    "program = \\\n",
    "'''\n",
    "load \"io\".\n",
    "load \"math\".\n",
    "\n",
    "function isprime with x do\n",
    "    if x >= 2 do\n",
    "        for y in range(2,x) do\n",
    "            if not mod(x,y) do\n",
    "                return false.\n",
    "            end\n",
    "        end\n",
    "    else do\n",
    "        return false.\n",
    "    end\n",
    "    return true.\n",
    "end\n",
    "\n",
    "let cnt = 0.\n",
    "for (n %if isprime(n)) in 1 to 1000000 do\n",
    "    println n.\n",
    "    let cnt = cnt+1.\n",
    "    if cnt == 10 do\n",
    "        break.\n",
    "    end\n",
    "end\n",
    "    \n",
    "'''\n",
    "interp(program)"
   ]
  },
  {
   "cell_type": "markdown",
   "metadata": {},
   "source": [
    "### 29. Prime factors\n",
    "\n",
    "> Find the prime factors of a given number.\n",
    "\n",
    "Prime factors are the prime numbers that divide the given integer number exactly.\n"
   ]
  },
  {
   "cell_type": "code",
   "execution_count": 36,
   "metadata": {},
   "outputs": [
    {
     "name": "stdout",
     "output_type": "stream",
     "text": [
      "[3,5,11]\n"
     ]
    }
   ],
   "source": [
    "program = \\\n",
    "'''\n",
    "load \"io\".\n",
    "load \"math\".\n",
    "\n",
    "function isprime with x do\n",
    "    if x >= 2 do\n",
    "        for y in range(2,x) do\n",
    "            if not mod(x,y) do\n",
    "                return false.\n",
    "            end\n",
    "        end\n",
    "    else do\n",
    "        return false.\n",
    "    end\n",
    "    return true.\n",
    "end\n",
    "\n",
    "function primes with x do\n",
    "    let lp = [].\n",
    "    for (n %if isprime(n)) in 1 to x do\n",
    "        let lp = lp+[n].\n",
    "    end\n",
    "    return lp.\n",
    "end\n",
    "\n",
    "let n = 165.\n",
    "let factors = [].\n",
    "let primes_list =  primes(n).\n",
    "let ix = 0.\n",
    "\n",
    "while n > 1 do\n",
    "    let factor = primes_list @ix.\n",
    "    let ix = ix+1.\n",
    "    if not mod(n,factor) do\n",
    "        let ix = 0.\n",
    "        let n = n/factor.\n",
    "        let factors = factors+[factor].\n",
    "    end\n",
    "end\n",
    "println factors.\n",
    "\n",
    "assert (factors == [3,5,11])\n",
    "'''\n",
    "interp(program)"
   ]
  },
  {
   "cell_type": "markdown",
   "metadata": {},
   "source": [
    "### 30. Reducing a fraction\n",
    "\n",
    "> Compose a fraction from the two given integers — numerator and denominator — and reduce it to lowest terms.\n",
    "\n",
    "5/15 and 16/280 are examples of fractions that can be reduced. The final results of this task are 1/3 and 2/35. Generally, the algorithm of reducing a fraction requires searching for the greatest common divisor, and then dividing both numerator and denominator by that number.  For our solution we use the function `gcd` available in the `math` module."
   ]
  },
  {
   "cell_type": "code",
   "execution_count": 37,
   "metadata": {},
   "outputs": [
    {
     "name": "stdout",
     "output_type": "stream",
     "text": [
      "2\n",
      "35\n"
     ]
    }
   ],
   "source": [
    "program = \\\n",
    "'''\n",
    "load \"io\".\n",
    "load \"math\".\n",
    "\n",
    "-- fraction a/b\n",
    "let a = 16.\n",
    "let b = 280.\n",
    "\n",
    "-- reduce fraction\n",
    "let gcd_val = gcd(a,b).\n",
    "let numerator = a/gcd_val.\n",
    "let denominator = b/gcd_val.\n",
    "println numerator.\n",
    "println denominator.\n",
    "\n",
    "-- show that original and reduced fraction are the same value\n",
    "assert (a/b == numerator/denominator).\n",
    "'''\n",
    "interp(program)"
   ]
  },
  {
   "cell_type": "markdown",
   "metadata": {},
   "source": [
    "### 31. Divide by zero\n",
    "\n",
    "> Do something with the division by zero.\n",
    "\n",
    "Asteroid is an eager language, that is, expressions are evaluated as early as possible.  We can trap division-by-zero errors using a try-catch block."
   ]
  },
  {
   "cell_type": "code",
   "execution_count": 38,
   "metadata": {},
   "outputs": [
    {
     "name": "stdout",
     "output_type": "stream",
     "text": [
      "integer division or modulo by zero\n",
      "We are still alive...\n"
     ]
    }
   ],
   "source": [
    "program = \\\n",
    "'''\n",
    "load \"io\".\n",
    "\n",
    "try\n",
    "    println (42/0).\n",
    "catch (type,m) do\n",
    "    println m.\n",
    "end\n",
    "println \"We are still alive...\".\n",
    "'''\n",
    "interp(program)"
   ]
  },
  {
   "cell_type": "markdown",
   "metadata": {},
   "source": [
    "## 2.1 Random numbers"
   ]
  },
  {
   "cell_type": "markdown",
   "metadata": {},
   "source": [
    "### 32. Generating random numbers\n",
    "\n",
    "> Generate a random number between 0 and N.\n",
    "\n",
    "Asteroid has two random number generation functions: `random()` generates a random real value in the interval $[0.0,1.0)$ and `randint(a,b)` that generates a random value in the interval $[a,b]$.  The type of the random value generated depends on the type of the values a and b specifying the interval."
   ]
  },
  {
   "cell_type": "code",
   "execution_count": 39,
   "metadata": {},
   "outputs": [
    {
     "name": "stdout",
     "output_type": "stream",
     "text": [
      "0.6394267984578837\n",
      "0.025010755222666936\n",
      "1\n",
      "2.4489185380347624\n",
      "2\n"
     ]
    }
   ],
   "source": [
    "program =\\\n",
    "'''\n",
    "load \"io\".\n",
    "load \"random\".\n",
    "load \"util\".\n",
    "\n",
    "seed(42).\n",
    "\n",
    "println (random()).          -- random value in [0.0,1.0)\n",
    "println (randint(0.0,1.0)).  -- random value in [0.0,1.0]\n",
    "println (randint(0,1)).      -- always 0 or 1\n",
    "\n",
    "-- generating a random number in the appropriate interval\n",
    "let n = 10.\n",
    "println (randint(0.0,toreal(n))).\n",
    "println (randint(0,n)).\n",
    "\n",
    "'''\n",
    "interp(program)"
   ]
  },
  {
   "cell_type": "markdown",
   "metadata": {},
   "source": [
    "### 33. Neumann’s random generator\n",
    "\n",
    "> Implement the von Neumann’s random number generator (also known as Middle-square method).\n",
    "\n",
    "This algorithm is a simple method of generating short sequences of four-digit random integers. The method has its drawbacks, but for us, it is an interesting algorithmic task. The recipe has these steps:\n",
    "\n",
    "1. Take a number between 0 and 9999.\n",
    "2. Calculate the square of it.\n",
    "3. If necessary, add leading zeros to make the number 8-digit.\n",
    "4. Take the middle four digits.\n",
    "5. Repeat from step 2.\n",
    "\n",
    "To illustrate it with an example, let’s take the number 1234 as the seed. On step 2, it becomes 1522756; after step 3, 01522756. Finally, step 4 extracts the number 5227. "
   ]
  },
  {
   "cell_type": "code",
   "execution_count": 40,
   "metadata": {},
   "outputs": [
    {
     "name": "stdout",
     "output_type": "stream",
     "text": [
      "5227\n"
     ]
    }
   ],
   "source": [
    "program =\\\n",
    "'''\n",
    "load \"io\".\n",
    "load \"util\".\n",
    "\n",
    "let n = 1234.\n",
    "let sq = n*n.\n",
    "let sq_str = tostring(sq).\n",
    "if sq_str @length() < 8 do\n",
    "    let prefix = [1 to 8-sq_str@length()] @map(lambda with _ do return \"0\") \n",
    "                                          @join(\"\").\n",
    "    let sq_str = prefix + sq_str.\n",
    "end\n",
    "let rstr = sq_str @[2 to 5].\n",
    "let rval = tointeger(rstr).\n",
    "println rval.\n",
    "\n",
    "assert (rval == 5227)\n",
    "'''\n",
    "interp(program)"
   ]
  },
  {
   "cell_type": "markdown",
   "metadata": {},
   "source": [
    "### 34. Histogram of random numbers\n",
    "\n",
    "> Test the quality of the random generator by using a histogram to visualise the distribution.\n",
    "\n",
    "The quality of the built-in generator of random numbers fully depends on the algorithm the developers of the compiler used. As a user, you cannot do much to change the existing generator, but you can always test if it delivers numbers uniformly distributed across the whole interval.  \n",
    "\n",
    "In our solution we generate 10 random integers between 0 and 9 and count how many times each of the integers have been generated.  If it is a decent random number generators all numbers should have been generated roughly an equal number of times."
   ]
  },
  {
   "cell_type": "code",
   "execution_count": 41,
   "metadata": {},
   "outputs": [
    {
     "name": "stdout",
     "output_type": "stream",
     "text": [
      "[944,1032,1015,968,981,986,1014,1058,989,1013]\n"
     ]
    }
   ],
   "source": [
    "program =\\\n",
    "'''\n",
    "load \"io\".\n",
    "load \"random\".\n",
    "\n",
    "let hist = [0 to 9] @map(lambda with _ do return 0).\n",
    "\n",
    "for _ in range(10000) do\n",
    "    let ix = randint(0,9).\n",
    "    let hist @ix = hist @ix +1\n",
    "end\n",
    "\n",
    "println hist.\n",
    "\n",
    "'''\n",
    "interp(program)"
   ]
  },
  {
   "cell_type": "markdown",
   "metadata": {},
   "source": [
    "## 2.3 Mathematical problems\n",
    "\n"
   ]
  },
  {
   "cell_type": "markdown",
   "metadata": {},
   "source": [
    "### 35. Distance between two points\n",
    "\n",
    "> Calculate the distance between the two points on a surface.\n",
    "\n",
    "There are two points on a surface, each with their own coordinates, x and y. The task is to find the distance between these two points.\n",
    "A straightforward solution would be to use the Pythagorean theorem:"
   ]
  },
  {
   "cell_type": "code",
   "execution_count": 42,
   "metadata": {},
   "outputs": [
    {
     "name": "stdout",
     "output_type": "stream",
     "text": [
      "2.23606797749979\n"
     ]
    }
   ],
   "source": [
    "program =\\\n",
    "'''\n",
    "load \"io\".\n",
    "load \"math\".\n",
    "\n",
    "let x = [10, 3].\n",
    "let y = [9, 1].\n",
    "let d = (sqrt(pow(x@0-y@0,2) + pow(x@1-y@1,2))).\n",
    "println d.\n",
    "\n",
    "assert (d == 2.23606797749979)\n",
    "'''\n",
    "interp(program)"
   ]
  },
  {
   "cell_type": "markdown",
   "metadata": {},
   "source": [
    "Another approach is using the math identity,\n",
    "\n",
    "$\n",
    "||a|| = \\sqrt{a\\bullet a}\n",
    "$\n",
    "\n",
    "where in our case $a$ would be the distance vector between points $x$ and $y$,"
   ]
  },
  {
   "cell_type": "code",
   "execution_count": 43,
   "metadata": {},
   "outputs": [
    {
     "name": "stdout",
     "output_type": "stream",
     "text": [
      "2.23606797749979\n"
     ]
    }
   ],
   "source": [
    "program =\\\n",
    "'''\n",
    "load \"io\".\n",
    "load \"math\".\n",
    "load \"vector\".\n",
    "\n",
    "let x = [10, 3].\n",
    "let y = [9, 1].\n",
    "let a = vsub(x,y).\n",
    "let d = sqrt(dot(a,a)).\n",
    "println d.\n",
    "\n",
    "assert (d == 2.23606797749979)\n",
    "'''\n",
    "interp(program)"
   ]
  },
  {
   "cell_type": "markdown",
   "metadata": {},
   "source": [
    "The interesting  part about the second approach is that it is completely dimension independent.  Note that except for the definition of the vectors $x$ and $y$ dimension never play a part of the definition of the program."
   ]
  },
  {
   "cell_type": "markdown",
   "metadata": {},
   "source": [
    "### 36. Standard deviation\n",
    "\n",
    "> For the given data, calculate the standard deviation value (sigma).\n",
    "\n",
    "Standard deviation is a statistical term that shows how compact data distribution is. The formula is the following:\n",
    "\n",
    "$\n",
    "\\sigma = \\sqrt{\\frac{\\Sigma (x_i - \\bar{x})^2}{N - 1}}\n",
    "$\n",
    "\n",
    "where $N$ is the number of elements in the array $x$; $\\bar{x}$ is the average value (see Task 56, Average on an array).\n"
   ]
  },
  {
   "cell_type": "code",
   "execution_count": 44,
   "metadata": {},
   "outputs": [
    {
     "name": "stdout",
     "output_type": "stream",
     "text": [
      "420.96248961952256\n"
     ]
    }
   ],
   "source": [
    "program =\\\n",
    "'''\n",
    "load \"io\".\n",
    "load \"math\".\n",
    "\n",
    "let values = [727.7, 1086.5, 1091.0, 1361.3, 1490.5, 1956.1].\n",
    "\n",
    "let avg = values @reduce(lambda with (x,y) do return x+y) / values @length().\n",
    "let diff_sq = values @map(lambda with x do return pow(x-avg,2)).\n",
    "let numerator = diff_sq @reduce(lambda with (x,y) do return x+y).\n",
    "let denominator = values @length() -1.\n",
    "let sigma = sqrt(numerator/denominator).\n",
    "println sigma.\n",
    "\n",
    "assert (sigma == 420.96248961952256)\n",
    "'''\n",
    "interp(program)"
   ]
  },
  {
   "cell_type": "markdown",
   "metadata": {},
   "source": [
    "### 37. Polar coordinates\n",
    "\n",
    "> Convert the Cartesian coordinates to polar and backward.\n",
    "\n",
    "Polar coordinates are a convenient way of representing points on a surface with the two values: distance from the centre of coordinates and the angle between the vector and the pole axis.\n",
    "The conversion formulae between the Cartesian and polar systems, which is valid for **positive** x and y, are the following:\n",
    "\n",
    "$\n",
    "x = r \\cos \\psi\\\\\n",
    "y = r \\sin \\psi\\\\\n",
    "r = \\sqrt{x^2 + y^2}\\\\\n",
    "\\psi = \\arctan \\frac{y}{x}\n",
    "$\n",
    "\n",
    "These expressions can be implemented as-is in the code:"
   ]
  },
  {
   "cell_type": "code",
   "execution_count": 45,
   "metadata": {},
   "outputs": [
    {
     "name": "stdout",
     "output_type": "stream",
     "text": [
      "(1.0000000000000002,2.0)\n"
     ]
    }
   ],
   "source": [
    "program =\\\n",
    "'''\n",
    "load \"io\".\n",
    "load \"math\".\n",
    "\n",
    "function polar_to_cartesian with (r,psi) do\n",
    "    -- return a tuple: (x,y)\n",
    "    return (r*cos(psi),r*sin(psi)).\n",
    "end\n",
    "\n",
    "function cartesian_to_polar with (x,y) do\n",
    "    -- return a tuple: (r,psi)\n",
    "    return (sqrt(pow(x,2)+pow(y,2)),atan(y/x)).\n",
    "end\n",
    "\n",
    "let (r,psi) = cartesian_to_polar(1,2).\n",
    "let (x,y) = polar_to_cartesian(r,psi).\n",
    "\n",
    "println (x,y).\n",
    "\n",
    "-- show that the recovered coordinates are the same\n",
    "-- we started with\n",
    "assert (isclose(1,x,0.0001) and isclose(2,y,0.0001)).\n",
    "'''\n",
    "interp(program)"
   ]
  },
  {
   "cell_type": "markdown",
   "metadata": {},
   "source": [
    "For the **negative** $x$ and $y$, the Cartesian-to-polar conversion is a bit more complicated. Depending on the quadrant of the point, the $\\psi$ value is bigger\n",
    "or smaller by $\\pi$. When $x$ is zero, it is either $-\\frac{\\pi}{2}$ or $\\frac{\\pi}{2}$.\n",
    "All these variants can be implemented by using with/orwith clauses and conditional matching, as demonstrated below:"
   ]
  },
  {
   "cell_type": "code",
   "execution_count": 46,
   "metadata": {},
   "outputs": [
    {
     "name": "stdout",
     "output_type": "stream",
     "text": [
      "(-2.999999999999999,5.000000000000001)\n"
     ]
    }
   ],
   "source": [
    "program =\\\n",
    "'''\n",
    "load \"io\".\n",
    "load \"math\".\n",
    "load \"util\".\n",
    "\n",
    "function polar_to_cartesian with (r,psi) do\n",
    "    -- return a tuple: (x,y)\n",
    "    return (r*cos(psi),r*sin(psi)).\n",
    "end\n",
    "\n",
    "function cartesian_to_polar with (x,y) do\n",
    "    return (sqrt(pow(x,2)+pow(y,2)),cartesian_to_psi(x,y)).\n",
    "end\n",
    "\n",
    "function cartesian_to_psi \n",
    "    with (x,y) %if x > 0  do\n",
    "        return atan(toreal(y)/x).\n",
    "    orwith (x,y) %if x < 0 and y >= 0 do\n",
    "        return atan(toreal(y)/x)+pi.\n",
    "    orwith (x,y) %if x < 0 and y < 0 do\n",
    "        return atan(toreal(y)/x)-pi.\n",
    "    orwith (x,y) %if x == 0 and y > 0 do\n",
    "        return pi/2.\n",
    "    orwith (x,y) %if x == 0 and y < 0 do\n",
    "        return -pi/2.\n",
    "    orwith (x,y) %if x == 0 and y == 0 do\n",
    "        return none.\n",
    "    end\n",
    "    \n",
    "let (r,psi) = cartesian_to_polar(-3,5).\n",
    "let (x,y) = polar_to_cartesian(r,psi).\n",
    "\n",
    "println (x,y).\n",
    "\n",
    "-- show that the recovered coordinates are the same\n",
    "-- we started with\n",
    "assert (isclose(-3,x,0.0001) and isclose(5,y,0.0001)).\n",
    "'''\n",
    "interp(program)"
   ]
  },
  {
   "cell_type": "markdown",
   "metadata": {},
   "source": [
    "### 38. Monte Carlo method\n",
    "\n",
    "> Calculate the area of a circle of radius 1 using the Monte Carlo method.\n",
    "\n",
    "The Monte Carlo method is a statistical method of calculating data whose formula is not known. The idea is to generate a big number of random num- bers and see how many of them satisfy the condition.\n",
    "\n",
    "To calculate the area of a circle of the radius 1, pairs of random numbers between −1 and 1 are generated. These pairs represent the points in the square in the center of coordinates with sides of length 2. The area of the square is thus 4. If the distance between the random point and the center of the square is less than 1, then this point is located inside the circle of that radius. Counting the number of points that landed inside the circle and the number of points outside the circle gives the approximate value of the area of the circle, as soon as the area of the square is known. Here is the program."
   ]
  },
  {
   "cell_type": "code",
   "execution_count": 47,
   "metadata": {},
   "outputs": [
    {
     "name": "stdout",
     "output_type": "stream",
     "text": [
      "3.1392\n"
     ]
    }
   ],
   "source": [
    "program =\\\n",
    "'''\n",
    "load \"io\".\n",
    "load \"math\".\n",
    "load \"random\".\n",
    "\n",
    "seed(42).\n",
    "\n",
    "let inside = 0. \n",
    "let n = 10000.\n",
    "for _ in 1 to n do \n",
    "    let point = (randint(-1.0,1.0),randint(-1.0,1.0)).\n",
    "    if sqrt(pow(point@0,2)+pow(point@1,2)) <= 1.0 do\n",
    "        let inside = inside+1.\n",
    "    end\n",
    "end\n",
    "let area = 4.0 * inside / n.\n",
    "println area.\n",
    "\n",
    "assert (area == 3.1392).\n",
    "'''\n",
    "interp(program)"
   ]
  },
  {
   "cell_type": "markdown",
   "metadata": {},
   "source": [
    "### 39. Unicode digits\n",
    "\n",
    "> Print all Unicode digits.\n",
    "\n",
    "**Note**: Asteroid currently does not support Unicode."
   ]
  },
  {
   "cell_type": "markdown",
   "metadata": {},
   "source": [
    "### 40. Guess the number\n",
    "\n",
    "> Write a program that generates a random integer number 0 through 10 and asks the user to guess it, saying if the entered value is too small or too big.\n",
    "\n",
    "First, a random number needs to be generated and then \n",
    "ask for the initial guess and enter the loop, which compares the guess with the generated number."
   ]
  },
  {
   "cell_type": "code",
   "execution_count": 48,
   "metadata": {},
   "outputs": [],
   "source": [
    "program =\\\n",
    "'''\n",
    "load \"io\".\n",
    "load \"random\".\n",
    "load \"util\".\n",
    "\n",
    "let n = randint(0,10).\n",
    "let guess = tointeger(input(\"Guess my number between 0 and 10: \")).\n",
    "while guess =/= n do\n",
    "    if guess < n do\n",
    "        println \"Too small.\".\n",
    "    elif guess > n  do\n",
    "         println \"Too big.\".\n",
    "    end\n",
    "    let guess = tointeger(input(\"Try again: \")).\n",
    "end\n",
    "println \"Yes, this is it!\".\n",
    "'''\n",
    "# Note: uncomment in order to run the program\n",
    "#interp(program)"
   ]
  },
  {
   "cell_type": "markdown",
   "metadata": {},
   "source": [
    "### 41. Binary to integer\n",
    "\n",
    "> Convert a binary number to a decimal integer.\n",
    "\n",
    "In Asteroid this is straight forward using the built-in `tointeger` function passing it a string representation of the binary number and the base."
   ]
  },
  {
   "cell_type": "code",
   "execution_count": 49,
   "metadata": {},
   "outputs": [
    {
     "name": "stdout",
     "output_type": "stream",
     "text": [
      "45\n"
     ]
    }
   ],
   "source": [
    "program =\\\n",
    "'''\n",
    "load \"io\".\n",
    "load \"util\".\n",
    "\n",
    "let bin = \"101101\".\n",
    "let int = tointeger(bin,2).\n",
    "println int.\n",
    "\n",
    "assert (int == 45).\n",
    "'''\n",
    "interp(program)"
   ]
  },
  {
   "cell_type": "markdown",
   "metadata": {},
   "source": [
    "### 42. Integer as binary, octal, and hex\n",
    "\n",
    "> Print a given integer number in the binary, octal, and hexadecimal representations.\n",
    "\n",
    "In Asteroid this is easily done with the `tobase` function."
   ]
  },
  {
   "cell_type": "code",
   "execution_count": 50,
   "metadata": {},
   "outputs": [
    {
     "name": "stdout",
     "output_type": "stream",
     "text": [
      "101010\n",
      "52\n",
      "2A\n"
     ]
    }
   ],
   "source": [
    "program =\\\n",
    "'''\n",
    "load \"io\".\n",
    "load \"util\".\n",
    "\n",
    "let val = 42.\n",
    "\n",
    "println (tobase(val,2)).  -- bin\n",
    "println (tobase(val,8)).  -- oct\n",
    "println (tobase(val,16)). -- hex\n",
    "\n",
    "-- make sure that conversions are correct in both directions\n",
    "assert (tointeger(tobase(val,2),2) == val). \n",
    "assert (tointeger(tobase(val,8),8) == val).  \n",
    "assert (tointeger(tobase(val,16),16) == val). \n",
    "'''\n",
    "interp(program)"
   ]
  },
  {
   "cell_type": "markdown",
   "metadata": {},
   "source": [
    "### 43. Sum of digits\n",
    "\n",
    "> Calculate the sum of digits of a given number.\n",
    "\n",
    "Pretty straight forward using string and list manipulation."
   ]
  },
  {
   "cell_type": "code",
   "execution_count": 51,
   "metadata": {},
   "outputs": [
    {
     "name": "stdout",
     "output_type": "stream",
     "text": [
      "49\n"
     ]
    }
   ],
   "source": [
    "program =\\\n",
    "'''\n",
    "load \"io\".\n",
    "load \"util\".\n",
    "\n",
    "let number = 139487854.\n",
    "\n",
    "\n",
    "let s = tostring number @explode()\n",
    "                        @map(tointeger)\n",
    "                        @reduce(lambda with (x,y) do return x+y).\n",
    "println s.\n",
    "\n",
    "assert (s == 49).\n",
    "'''\n",
    "interp(program)"
   ]
  },
  {
   "cell_type": "markdown",
   "metadata": {},
   "source": [
    "### 44. Bit counter\n",
    "\n",
    "> Count the number of bits set to 1 in a binary representation of a positive integer number.\n",
    "\n",
    "If we remove all the zeros from a binary number then we left with only 1 characters which we can then count."
   ]
  },
  {
   "cell_type": "code",
   "execution_count": 52,
   "metadata": {},
   "outputs": [
    {
     "name": "stdout",
     "output_type": "stream",
     "text": [
      "4\n"
     ]
    }
   ],
   "source": [
    "program =\\\n",
    "'''\n",
    "load \"io\".\n",
    "\n",
    "let bits = \"1010101\" @replace(\"0\",\"\")\n",
    "                     @length().\n",
    "println bits.\n",
    "\n",
    "assert (bits == 4).\n",
    "'''\n",
    "interp(program)"
   ]
  },
  {
   "cell_type": "markdown",
   "metadata": {},
   "source": [
    "### Compose the largest number\n",
    "\n",
    "> Given the list of integers, compose the largest possible number by concatenating them.\n",
    "\n",
    "The easiest way to achieve that is to treat numbers as strings, sort them alphabetically in descending order, concatenate the pieces to a single string, and get the resulting integer."
   ]
  },
  {
   "cell_type": "code",
   "execution_count": 53,
   "metadata": {},
   "outputs": [
    {
     "name": "stdout",
     "output_type": "stream",
     "text": [
      "8675451\n"
     ]
    }
   ],
   "source": [
    "program =\\\n",
    "'''\n",
    "load \"io\".\n",
    "load \"util\".\n",
    "\n",
    "let a = tointeger([67, 8, 1, 5, 45] @map(tostring) @sort(true) @join(\"\")).\n",
    "println a.\n",
    "\n",
    "assert (a == 8675451).\n",
    "\n",
    "'''\n",
    "interp(program)"
   ]
  },
  {
   "cell_type": "markdown",
   "metadata": {},
   "source": [
    "### 46. Convert to Roman numerals\n",
    "\n",
    "> Convert an integer number to a Roman numerals string.\n",
    "\n",
    "Roman numbers are not a direct translation of the decimal system. In this task, we assume that the number is not more than 3999, which is the maximum a regular Roman number can reach.\n",
    "\n",
    "Let’s use the algorithm that keeps the table of pre-calculated sequences of Roman letters so that we don’t have to check when III becomes IV, or when another I appears after V, etc.\n",
    "\n",
    "In the program below, there are four such sequences: for thousands, hundreds, tens, and ones. The program iterates over the digits of the number in the decimal representation and chooses one of the values from the array of lists stored in the `roman_hash` table.\n"
   ]
  },
  {
   "cell_type": "code",
   "execution_count": 54,
   "metadata": {},
   "outputs": [
    {
     "name": "stdout",
     "output_type": "stream",
     "text": [
      "[(2,1000),(0,100),(1,10),(8,1)]\n",
      "MMXVIII\n"
     ]
    }
   ],
   "source": [
    "program =\\\n",
    "'''\n",
    "load \"io\".\n",
    "load \"math\".\n",
    "load \"util\".\n",
    "load \"hash\".\n",
    "\n",
    "let roman_hash = HashTable().\n",
    "roman_hash @insert(1000,[\"\",\"M\",\"MM\",\"MMM\"]).\n",
    "roman_hash @insert(100,[\"\",\"C\",\"CC\",\"CCC\",\"CD\",\"D\",\"DC\",\"DCC\",\"DCCC\",\"CM\"]).\n",
    "roman_hash @insert(10,[\"\",\"X\",\"XX\",\"XXX\",\"XL\",\"L\",\"LX\",\"LXX\",\"LXXX\",\"XC\"]).\n",
    "roman_hash @insert(1,[\"\",\"I\",\"II\",\"III\",\"IV\",\"V\",\"VI\",\"VII\",\"VIII\",\"IX\"]).\n",
    "\n",
    "let n = 2018.\n",
    "let p10 = range(tostring n @length()) @map(lambda with x do return pow(10,x))\n",
    "                                      @reverse().\n",
    "let digits = tostring n @explode()\n",
    "                        @map(tointeger).\n",
    "let z = zip(digits, p10).\n",
    "println z.\n",
    "let roman = \"\".\n",
    "for (d,p) in z do\n",
    "    let roman = roman + roman_hash @get(p) @d.\n",
    "end\n",
    "println roman.\n",
    "\n",
    "assert (roman == \"MMXVIII\")\n",
    "'''\n",
    "interp(program)"
   ]
  },
  {
   "cell_type": "markdown",
   "metadata": {},
   "source": [
    "### 47. Spelling numbers\n",
    "\n",
    "> Write an integer number below one million in words.\n",
    "\n",
    "Human languages have many inconsistencies, especially in the most frequent constructs. Spelling numbers seems to be a simple task, but due to a number of small differences, the resulting program is quite big.\n",
    "\n",
    "The program is listed on the next page. Let’s discuss the algorithm first.\n",
    "\n",
    "Take a number; for example, 987,654. The rules for spelling out the groups of three digits, 987 and 654, are the same. For the first group, the word thousand must be added.\n",
    "\n",
    "Now, examine a group of three digits. The first digit is the number of hun- dreds, and it has to be spelled only if it is not zero. If it is not zero, then we spell the digit and add the word hundred.\n",
    "\n",
    "Now, remove the leftmost digit, and we’ve got two digits left. If the remain- ing two digits form the number from 1 to 20, then it can be directly con- verted to the corresponding name. The names for the numbers from 0 to 10 are obviously different. The names for the numbers from 11 to 19 have some commonalities, but is it still easier to directly prepare the names for all of them.\n",
    "\n",
    "For the larger numbers (21 to 99), there are two cases. If the number is dividable by 10 then a name for 20, 30, 40, etc. is taken. If not, then the name is built of the name of tens and the name for units, joined with a hy- phen, such as forty-five.\n",
    "\n",
    "The zero name appears only in the case when the given number is zero."
   ]
  },
  {
   "cell_type": "code",
   "execution_count": 55,
   "metadata": {},
   "outputs": [
    {
     "name": "stdout",
     "output_type": "stream",
     "text": [
      "fifteen\n",
      "seventy-five\n",
      "nine hundred eighty-seven thousand six hundred fifty-four\n",
      "one thousand one\n"
     ]
    }
   ],
   "source": [
    "program = \\\n",
    "'''\n",
    "load \"io\".\n",
    "load \"math\".\n",
    "\n",
    "let names = [\"zero\",\"one\",\"two\",\"three\",\"four\",\"five\",\"six\",\"seven\",\"eight\",\"nine\",\n",
    "             \"ten\",\"eleven\",\"twelve\",\"thirteen\",\"fourteen\",\"fifteen\",\n",
    "             \"sixteen\",\"seventeen\",\"eighteen\",\"nineteen\",\"twenty\",\"thirty\",\n",
    "             \"forty\",\"fifty\",\"sixty\",\"seventy\",\"eighty\",\"ninety\"].\n",
    "\n",
    "function spell_number \n",
    "    with (n:%integer) %if n < 20 do\n",
    "        return names @n.\n",
    "    orwith (n:%integer) %if n < 100 do \n",
    "        let r = names @(n / 10 + 18).\n",
    "        let r = r + (\"-\" + names @(mod(n,10))) if mod(n,10) else \"\".\n",
    "        return r.\n",
    "    orwith (n:%integer) %if n < 1000 do  \n",
    "        return spell_part(n,100,\"hundred\").\n",
    "    orwith (n:%integer) %if n < 1000000 do \n",
    "        return spell_part(n,1000,\"thousand\").\n",
    "    end\n",
    "\n",
    "function spell_part \n",
    "    with (n:%integer,base:%integer,name:%string) do\n",
    "        let r = spell_number(n/base) + \" \" + name.\n",
    "        return r + \" \" + spell_number(mod(n,base)) if mod(n,base) else r.\n",
    "    end\n",
    "\n",
    "println (spell_number 15).\n",
    "println (spell_number 75).\n",
    "println (spell_number 987654).\n",
    "println (spell_number 1001).\n",
    "'''\n",
    "interp(program)"
   ]
  },
  {
   "cell_type": "markdown",
   "metadata": {},
   "source": [
    "# Chapter 3: Aggregate Data Types\n",
    "\n",
    "## 3.1 Manipulating lists and arrays"
   ]
  },
  {
   "cell_type": "markdown",
   "metadata": {},
   "source": [
    "### 48. Swap two values\n",
    "\n",
    "> Swap the values of two variables.\n",
    "\n",
    "In Asteroid, there is no need to use temporary variables to swap the values of two variables. Just use tuples on both sides of the equation:\n",
    "```\n",
    "let (b,a) = (a,b).\n",
    "```\n",
    "Consider the complete program:"
   ]
  },
  {
   "cell_type": "code",
   "execution_count": 56,
   "metadata": {},
   "outputs": [
    {
     "name": "stdout",
     "output_type": "stream",
     "text": [
      "(a = 20,b = 10)\n"
     ]
    }
   ],
   "source": [
    "program =\\\n",
    "'''\n",
    "load \"io\".\n",
    "\n",
    "let (a,b) = (10,20). \n",
    "let (b,a) = (a,b).\n",
    "println (\"a = \"+a,\"b = \"+b).\n",
    "\n",
    "assert ((a,b) is (20,10)).\n",
    "'''\n",
    "interp(program)"
   ]
  },
  {
   "cell_type": "markdown",
   "metadata": {},
   "source": [
    "This program prints the swapped values:\n",
    "```\n",
    "(a = 20,b = 10)\n",
    "```\n",
    "This approach also works with elements of an array:"
   ]
  },
  {
   "cell_type": "code",
   "execution_count": 57,
   "metadata": {},
   "outputs": [
    {
     "name": "stdout",
     "output_type": "stream",
     "text": [
      "[3,5,4,7]\n"
     ]
    }
   ],
   "source": [
    "program =\\\n",
    "'''\n",
    "load \"io\".\n",
    "\n",
    "let a = [3,5,7,4].\n",
    "let (a@2,a@3) = (a@3,a@2).\n",
    "println a. \n",
    "\n",
    "assert (a is [3,5,4,7]).\n",
    "'''\n",
    "interp(program)"
   ]
  },
  {
   "cell_type": "markdown",
   "metadata": {},
   "source": [
    "### 49. Reverse a list\n",
    "\n",
    "> Print the given list in reverse order.\n"
   ]
  },
  {
   "cell_type": "code",
   "execution_count": 58,
   "metadata": {},
   "outputs": [
    {
     "name": "stdout",
     "output_type": "stream",
     "text": [
      "[50,40,30,20,10]\n"
     ]
    }
   ],
   "source": [
    "program =\\\n",
    "'''\n",
    "load \"io\".\n",
    "\n",
    "let a = [10, 20, 30, 40, 50].\n",
    "println (a @reverse()). \n",
    "\n",
    "assert(a == [50,40,30,20,10]).\n",
    "'''\n",
    "interp(program)"
   ]
  },
  {
   "cell_type": "markdown",
   "metadata": {},
   "source": [
    "### 50. Rotate a list\n",
    "\n",
    "> Move all elements of an array N positions to the left or to the right.\n",
    "\n",
    "Asteroid does not have a built-in rotate function but such a function is easily constructed using the fact that we can slice lists (see `vix` below)."
   ]
  },
  {
   "cell_type": "code",
   "execution_count": 59,
   "metadata": {},
   "outputs": [
    {
     "name": "stdout",
     "output_type": "stream",
     "text": [
      "[1,3,5,7,9,11,13,15]\n",
      "[7,9,11,13,15,1,3,5]\n",
      "[11,13,15,1,3,5,7,9]\n"
     ]
    }
   ],
   "source": [
    "program =\\\n",
    "'''\n",
    "load \"io\".\n",
    "load \"math\".\n",
    "\n",
    "function rotate with (l:%list,i:%integer) do \n",
    "    let n = l @length().\n",
    "    let vix = range n @map(lambda with x do return mod(x+i,n)).\n",
    "    return l @vix.\n",
    "end\n",
    "\n",
    "\n",
    "let a = [1, 3, 5, 7, 9, 11, 13, 15].\n",
    "let b = rotate(a,3).\n",
    "let c = rotate(a,-3).\n",
    "println a.\n",
    "println b.\n",
    "println c.\n",
    "\n",
    "assert(b == [7,9,11,13,15,1,3,5] and c == [11,13,15,1,3,5,7,9]).\n",
    "'''\n",
    "interp(program)"
   ]
  },
  {
   "cell_type": "markdown",
   "metadata": {},
   "source": [
    "### 51. Randomise an array\n",
    "\n",
    "> Shuffle the elements of an array in random order.\n",
    "\n",
    "This is easily accomplished with the built-in `shuffle`."
   ]
  },
  {
   "cell_type": "code",
   "execution_count": 60,
   "metadata": {},
   "outputs": [
    {
     "name": "stdout",
     "output_type": "stream",
     "text": [
      "[20,6,15,5,10,14,16,19,7,13,18,11,2,12,3,17,8,9,1,4]\n"
     ]
    }
   ],
   "source": [
    "program =\\\n",
    "'''\n",
    "load \"io\".\n",
    "load \"random\".\n",
    "\n",
    "seed(42).\n",
    "let b = [1 to 20] @shuffle().\n",
    "println b.\n",
    "\n",
    "assert(b == [20,6,15,5,10,14,16,19,7,13,18,11,2,12,3,17,8,9,1,4]).\n",
    "'''\n",
    "interp(program)"
   ]
  },
  {
   "cell_type": "markdown",
   "metadata": {},
   "source": [
    "### 52. Incrementing array elements\n",
    "\n",
    "> Increment each element in an array.\n",
    "\n",
    "For this we use Asteroid's `vector` module which can handle incrementing a vector with a scalar."
   ]
  },
  {
   "cell_type": "code",
   "execution_count": 61,
   "metadata": {},
   "outputs": [
    {
     "name": "stdout",
     "output_type": "stream",
     "text": [
      "[2,3,4,5,6,7,8,9,10,11]\n"
     ]
    }
   ],
   "source": [
    "program =\\\n",
    "'''\n",
    "load \"io\".\n",
    "load \"vector\".\n",
    "\n",
    "let a = [1 to 10].\n",
    "let b = vadd(a,1).\n",
    "println b.\n",
    "\n",
    "assert(b == [2,3,4,5,6,7,8,9,10,11]).\n",
    "'''\n",
    "interp(program)"
   ]
  },
  {
   "cell_type": "markdown",
   "metadata": {},
   "source": [
    "### 53. Adding up two arrays\n",
    "\n",
    "> Take two arrays and create a new one whose elements are the sums of the corresponding items of the initial arrays.\n",
    "\n",
    "Again, here we take advantage of Asteroid's vector module.  Note that the two vectors have to be of the same length in order to add them together."
   ]
  },
  {
   "cell_type": "code",
   "execution_count": 62,
   "metadata": {},
   "outputs": [
    {
     "name": "stdout",
     "output_type": "stream",
     "text": [
      "[40,42,44,46,48,50,52,54,56,58,60]\n"
     ]
    }
   ],
   "source": [
    "program =\\\n",
    "'''\n",
    "load \"io\".\n",
    "load \"vector\".\n",
    "\n",
    "let a = [10 to 20].\n",
    "let b = [30 to 40].\n",
    "let c = vadd(a,b).\n",
    "println c.\n",
    "\n",
    "assert(c == [40,42,44,46,48,50,52,54,56,58,60]).\n",
    "'''\n",
    "interp(program)"
   ]
  },
  {
   "cell_type": "markdown",
   "metadata": {},
   "source": [
    "The vector module defines a function called `vop` that allows you to combine two vectors using any arbitrary binary function.  Rewriting the above program using `vop`,"
   ]
  },
  {
   "cell_type": "code",
   "execution_count": 63,
   "metadata": {},
   "outputs": [
    {
     "name": "stdout",
     "output_type": "stream",
     "text": [
      "[40,42,44,46,48,50,52,54,56,58,60]\n"
     ]
    }
   ],
   "source": [
    "program =\\\n",
    "'''\n",
    "load \"io\".\n",
    "load \"vector\".\n",
    "\n",
    "let a = [10 to 20].\n",
    "let b = [30 to 40].\n",
    "let c = vop((lambda with (x,y) do return x+y),a,b).\n",
    "println c.\n",
    "\n",
    "assert(c == [40,42,44,46,48,50,52,54,56,58,60]).\n",
    "'''\n",
    "interp(program)"
   ]
  },
  {
   "cell_type": "markdown",
   "metadata": {},
   "source": [
    "As I said above, any arbitrary binary function. Consider the relational operator `<` expressed as a lambda function,"
   ]
  },
  {
   "cell_type": "code",
   "execution_count": 64,
   "metadata": {},
   "outputs": [
    {
     "name": "stdout",
     "output_type": "stream",
     "text": [
      "[false,true,false,false,false,true,false,false,true,true]\n"
     ]
    }
   ],
   "source": [
    "program =\\\n",
    "'''\n",
    "load \"io\".\n",
    "load \"vector\".\n",
    "load \"random\".\n",
    "\n",
    "seed(42).\n",
    "\n",
    "let a = [1 to 10] @shuffle().\n",
    "let b = [1 to 10] @shuffle().\n",
    "let c = vop((lambda with (x,y) do return x<y),a,b).\n",
    "println c.\n",
    "\n",
    "assert(c == [false,true,false,false,false,true,false,false,true,true]).\n",
    "'''\n",
    "interp(program)"
   ]
  },
  {
   "cell_type": "markdown",
   "metadata": {},
   "source": [
    "### 54. Exclusion of two arrays\n",
    "\n",
    "> From the given two arrays, find the elements of the first array which do not\n",
    "appear in the second one.\n",
    "\n",
    "Here we use Asteroid's `set` module."
   ]
  },
  {
   "cell_type": "code",
   "execution_count": 65,
   "metadata": {},
   "outputs": [
    {
     "name": "stdout",
     "output_type": "stream",
     "text": [
      "[2,3,1,4]\n"
     ]
    }
   ],
   "source": [
    "program =\\\n",
    "'''\n",
    "load \"io\".\n",
    "load \"set\".\n",
    "\n",
    "let a = [1 to 10].\n",
    "let b = [5 to 15].\n",
    "let c = sdiff(a,b).\n",
    "println c.\n",
    "\n",
    "assert(c @sort() == [1,2,3,4]).\n",
    "'''\n",
    "interp(program)"
   ]
  },
  {
   "cell_type": "markdown",
   "metadata": {},
   "source": [
    "## 3.2 Information retrieval\n",
    "\n",
    "### 55. Sum of the elements of an array\n",
    "\n",
    "> Find the sum of the elements of an array of integers.\n"
   ]
  },
  {
   "cell_type": "code",
   "execution_count": 66,
   "metadata": {},
   "outputs": [
    {
     "name": "stdout",
     "output_type": "stream",
     "text": [
      "125\n"
     ]
    }
   ],
   "source": [
    "program =\\\n",
    "'''\n",
    "load \"io\".\n",
    "\n",
    "let a = [4, 6, 8, 1, 0, 58, 1, 34, 7, 4, 2].\n",
    "let s = a @reduce(lambda with (x,y) do return x+y).\n",
    "println s.\n",
    "\n",
    "assert (s == 125).\n",
    "'''\n",
    "interp(program)"
   ]
  },
  {
   "cell_type": "markdown",
   "metadata": {},
   "source": [
    "Summing up elements that are greater than 10."
   ]
  },
  {
   "cell_type": "code",
   "execution_count": 67,
   "metadata": {},
   "outputs": [
    {
     "name": "stdout",
     "output_type": "stream",
     "text": [
      "92\n"
     ]
    }
   ],
   "source": [
    "program =\\\n",
    "'''\n",
    "load \"io\".\n",
    "\n",
    "let a = [4, 6, 8, 1, 0, 58, 1, 34, 7, 4, 2].\n",
    "let f = (lambda with (x,y) do return x+(y if y > 10 else 0)).\n",
    "let s = a @reduce(f,0).\n",
    "println s.\n",
    "\n",
    "assert (s == 92).\n",
    "'''\n",
    "interp(program)"
   ]
  },
  {
   "cell_type": "markdown",
   "metadata": {},
   "source": [
    "### 56. Average of an array\n",
    "\n",
    "> Find the average value of the given array of numbers.\n"
   ]
  },
  {
   "cell_type": "code",
   "execution_count": 68,
   "metadata": {},
   "outputs": [
    {
     "name": "stdout",
     "output_type": "stream",
     "text": [
      "60\n"
     ]
    }
   ],
   "source": [
    "program =\\\n",
    "'''\n",
    "load \"io\".\n",
    "\n",
    "let a = [7, 11, 34, 50, 200].\n",
    "let avg = a @reduce(lambda with (x,y) do return x+y)/a @length().\n",
    "println avg.\n",
    "\n",
    "assert (avg == 60).\n",
    "'''\n",
    "interp(program)"
   ]
  },
  {
   "cell_type": "markdown",
   "metadata": {},
   "source": [
    "### 57. Moving average\n",
    "\n",
    "> Calculate the moving average for the given array of numbers.\n",
    "\n",
    "Compute the moving average over 100 random values using a window of size 7 (3 values below, 3 values above, and the current values)."
   ]
  },
  {
   "cell_type": "code",
   "execution_count": 69,
   "metadata": {},
   "outputs": [
    {
     "data": {
      "image/png": "[encoded data removed]",
      "text/plain": [
       "<Figure size 864x432 with 1 Axes>"
      ]
     },
     "metadata": {},
     "output_type": "display_data"
    }
   ],
   "source": [
    "program =\\\n",
    "'''\n",
    "load \"io\".\n",
    "load \"random\".\n",
    "\n",
    "seed(42).\n",
    "\n",
    "-- Asteroid allows the user to escape to the Python \n",
    "-- ecosystem.  Here we use this to construct a\n",
    "-- plot of the moving average\n",
    "function plot with (dt,avg) do escape\n",
    "\"\n",
    "import pandas as pd\n",
    "import matplotlib.pyplot as plt\n",
    "plt.style.use('seaborn')\n",
    "\n",
    "# import parameters from Asteroid into Python\n",
    "dt_val = state.symbol_table.lookup_sym('dt')\n",
    "avg_val = state.symbol_table.lookup_sym('avg')\n",
    "\n",
    "# convert from Asteroid lists to Python lists\n",
    "dt_plot = []\n",
    "for (_,v) in dt_val[1]:\n",
    "    dt_plot.append(v)\n",
    "\n",
    "avg_plot = []\n",
    "for (_,v) in avg_val[1]:\n",
    "    avg_plot.append(v)\n",
    "\n",
    "# construct a dataframe to plot\n",
    "df = pd.DataFrame(data={'Data':dt_plot,'Average':avg_plot})\n",
    "\n",
    "# colors for the line plot\n",
    "colors = ['steelblue', 'red']\n",
    "\n",
    "# line plot\n",
    "df.plot(color=colors, linewidth=3, figsize=(12,6))\n",
    "\n",
    "# modify ticks size\n",
    "plt.xticks(fontsize=14)\n",
    "plt.yticks(fontsize=14)\n",
    "plt.legend(labels =['Data', 'Moving Average'], fontsize=14)\n",
    "\n",
    "# title and labels\n",
    "plt.title('Moving Average', fontsize=20)\n",
    "plt.xlabel('Instance', fontsize=16)\n",
    "plt.ylabel('Value', fontsize=16)\n",
    "plt.show()\n",
    "\"\n",
    "end\n",
    "\n",
    "-- compute the window on lst\n",
    "function window with (lst:%list,i:%integer) %if i >= 3 and i <= lst @length()-4 do\n",
    "    return lst @[i-3,i-2,i-1,i,i+1,i+2,i+3].\n",
    "end\n",
    "\n",
    "-- sum the values of lst\n",
    "function sum with lst:%list do\n",
    "    return lst @reduce(lambda with (x,y) do return x+y).\n",
    "end\n",
    "\n",
    "let dt = [1 to 100] @map(lambda with _ do return random()).\n",
    "let mavg = [3 to 96] @map(lambda with i do return sum(window(dt,i))/7).\n",
    "\n",
    "plot(dt @[3 to 96],mavg).\n",
    "'''\n",
    "interp(program)"
   ]
  },
  {
   "cell_type": "markdown",
   "metadata": {},
   "source": [
    "### 58. Is an element in a list?\n",
    "\n",
    "> Tell if the given value is in the list."
   ]
  },
  {
   "cell_type": "code",
   "execution_count": 70,
   "metadata": {},
   "outputs": [
    {
     "name": "stdout",
     "output_type": "stream",
     "text": [
      "17 is in the list\n"
     ]
    }
   ],
   "source": [
    "program =\\\n",
    "'''\n",
    "load \"io\".\n",
    "\n",
    "let array = [10, 14, 0, 15, 17, 20, 30, 35].\n",
    "let x = 17.\n",
    "println ((x+\" is in the list\") if array @member(x) else (x+\" is not in the list\")).\n",
    "'''\n",
    "interp(program)"
   ]
  },
  {
   "cell_type": "markdown",
   "metadata": {},
   "source": [
    "We can also use a reduction function to solve this,"
   ]
  },
  {
   "cell_type": "code",
   "execution_count": 71,
   "metadata": {},
   "outputs": [
    {
     "name": "stdout",
     "output_type": "stream",
     "text": [
      "17 is in the list\n"
     ]
    }
   ],
   "source": [
    "program =\\\n",
    "'''\n",
    "load \"io\".\n",
    "\n",
    "let array = [10, 14, 0, 15, 17, 20, 30, 35].\n",
    "let x = 17.\n",
    "\n",
    "if array @reduce(lambda with (acc,i) do return true if i==x else acc,false) do\n",
    "    println (x+\" is in the list\"). \n",
    "else \n",
    "    println (x+\" is not in the list\").\n",
    "end\n",
    "'''\n",
    "interp(program)"
   ]
  },
  {
   "cell_type": "markdown",
   "metadata": {},
   "source": [
    "### 59. First odd number\n",
    "\n",
    "> Find the first odd number in a list of integers.\n",
    "\n",
    "The easiest way to do this is with a reduction."
   ]
  },
  {
   "cell_type": "code",
   "execution_count": 72,
   "metadata": {},
   "outputs": [
    {
     "name": "stdout",
     "output_type": "stream",
     "text": [
      "9\n"
     ]
    }
   ],
   "source": [
    "program =\\\n",
    "'''\n",
    "load \"io\".\n",
    "load \"math\".\n",
    "\n",
    "let array = [2, 4, 18, 9, 16, 7, 10].\n",
    "let odd = array @reduce(lambda with (acc,i) do return i if isnone(acc) and mod(i,2) else acc,none). \n",
    "println odd.\n",
    "'''\n",
    "interp(program)"
   ]
  },
  {
   "cell_type": "markdown",
   "metadata": {},
   "source": [
    "### 60. Take every second element\n",
    "\n",
    "> Form a new array by picking every second element from the original array.\n",
    "\n"
   ]
  },
  {
   "cell_type": "code",
   "execution_count": 73,
   "metadata": {},
   "outputs": [
    {
     "name": "stdout",
     "output_type": "stream",
     "text": [
      "[21,23,25,27,29]\n"
     ]
    }
   ],
   "source": [
    "program =\\\n",
    "'''\n",
    "load \"io\".\n",
    "load \"math\".\n",
    "\n",
    "let array = [20 to 30] @filter(lambda with x do return mod(x,2)).\n",
    "println array.\n",
    "\n",
    "assert (array == [21,23,25,27,29]).\n",
    "'''\n",
    "interp(program)"
   ]
  },
  {
   "cell_type": "markdown",
   "metadata": {},
   "source": [
    "We can use an index vector to accomplish  the same thing,"
   ]
  },
  {
   "cell_type": "code",
   "execution_count": 74,
   "metadata": {},
   "outputs": [
    {
     "name": "stdout",
     "output_type": "stream",
     "text": [
      "[21,23,25,27,29]\n"
     ]
    }
   ],
   "source": [
    "program =\\\n",
    "'''\n",
    "load \"io\".\n",
    "load \"math\".\n",
    "\n",
    "let a = [20 to 30].\n",
    "let array = a @[1 to a @length()-1 step 2] .\n",
    "println array.\n",
    "\n",
    "assert (array == [21,23,25,27,29]).\n",
    "'''\n",
    "interp(program)"
   ]
  },
  {
   "cell_type": "markdown",
   "metadata": {},
   "source": [
    "### 61. Number of occurrences in array\n",
    "\n",
    "> Count how many times a particular element appears in the array.\n"
   ]
  },
  {
   "cell_type": "code",
   "execution_count": 75,
   "metadata": {},
   "outputs": [
    {
     "name": "stdout",
     "output_type": "stream",
     "text": [
      "2\n"
     ]
    }
   ],
   "source": [
    "program =\\\n",
    "'''\n",
    "load \"io\".\n",
    "load \"math\".\n",
    "\n",
    "let dt = [\"apple\",\"pear\",\"grape\",\"lemon\",\"peach\",\"apple\",\"banana\",\"grape\",\"pineapple\",\"avocado\"].\n",
    "let cnt = dt @count(\"grape\").\n",
    "println cnt.\n",
    "\n",
    "assert (cnt == 2).\n",
    "'''\n",
    "interp(program)"
   ]
  },
  {
   "cell_type": "markdown",
   "metadata": {},
   "source": [
    "### 62. Finding unique elements\n",
    "\n",
    "> Print all unique elements of the given array.\n",
    "\n",
    "Converting a list to a set will remove all duplicate elements in the list."
   ]
  },
  {
   "cell_type": "code",
   "execution_count": 76,
   "metadata": {},
   "outputs": [
    {
     "name": "stdout",
     "output_type": "stream",
     "text": [
      "[2,3,4,5,6,7,10]\n"
     ]
    }
   ],
   "source": [
    "program =\\\n",
    "'''\n",
    "load \"io\".\n",
    "load \"set\".\n",
    "\n",
    "function unique with lst:%list do\n",
    "    return toset lst @sort().\n",
    "end\n",
    "\n",
    "let a = unique([2, 3, 7, 4, 5, 5, 6, 2, 10, 7]).\n",
    "\n",
    "println a.\n",
    "\n",
    "assert (a == [2,3,4,5,6,7,10])\n",
    "'''\n",
    "interp(program)"
   ]
  },
  {
   "cell_type": "markdown",
   "metadata": {},
   "source": [
    "### 63. Minimum and maximum\n",
    "\n",
    "> Find the minimum and the maximum numbers in the given list of integers.\n",
    "\n"
   ]
  },
  {
   "cell_type": "code",
   "execution_count": 77,
   "metadata": {},
   "outputs": [
    {
     "name": "stdout",
     "output_type": "stream",
     "text": [
      "15\n",
      "2\n"
     ]
    }
   ],
   "source": [
    "program =\\\n",
    "'''\n",
    "load \"io\".\n",
    "\n",
    "function max with lst:%list do\n",
    "    return lst @sort(true) @0.\n",
    "end\n",
    "\n",
    "function min with lst:%list do\n",
    "    return lst @sort() @0.\n",
    "end\n",
    "\n",
    "let a = max [7, 6, 12, 3, 4, 10, 2, 5, 15, 6, 7, 8, 9, 3].\n",
    "let b = min [7, 6, 12, 3, 4, 10, 2, 5, 15, 6, 7, 8, 9, 3].\n",
    "\n",
    "\n",
    "println a.\n",
    "println b.\n",
    "\n",
    "assert (a == 15 and b == 2).\n",
    "'''\n",
    "interp(program)"
   ]
  },
  {
   "cell_type": "markdown",
   "metadata": {},
   "source": [
    "### 64. Increasing sequences\n",
    "\n",
    "> Check if the given array contains increasing (or decreasing) numbers.\n",
    "\n"
   ]
  },
  {
   "cell_type": "code",
   "execution_count": 78,
   "metadata": {},
   "outputs": [
    {
     "name": "stdout",
     "output_type": "stream",
     "text": [
      "true\n"
     ]
    }
   ],
   "source": [
    "program =\\\n",
    "'''\n",
    "load \"io\".\n",
    "load \"util\".\n",
    "\n",
    "let a = [3, 7, 19, 20, 34].\n",
    "let b = toboolean(a @reduce(lambda with (x,y) do return y if x<y else false)).\n",
    "\n",
    "println b.\n",
    "\n",
    "assert (b).\n",
    "'''\n",
    "interp(program)"
   ]
  },
  {
   "cell_type": "code",
   "execution_count": null,
   "metadata": {},
   "outputs": [],
   "source": []
  }
 ],
 "metadata": {
  "kernelspec": {
   "display_name": "conda_python3",
   "language": "python",
   "name": "conda_python3"
  },
  "language_info": {
   "codemirror_mode": {
    "name": "ipython",
    "version": 3
   },
   "file_extension": ".py",
   "mimetype": "text/x-python",
   "name": "python",
   "nbconvert_exporter": "python",
   "pygments_lexer": "ipython3",
   "version": "3.6.10"
  }
 },
 "nbformat": 4,
 "nbformat_minor": 4
}

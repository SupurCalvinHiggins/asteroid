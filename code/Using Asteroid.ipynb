{
 "cells": [
  {
   "cell_type": "markdown",
   "metadata": {},
   "source": [
    "# Using Asteroid\n",
    "\n",
    "This notebook was inspired by Andrew Shitov's excellent book [Using Raku: 100 Programming Challenges Solved with the Brand-New Raku Programming Language](https://andrewshitov.com/wp-content/uploads/2020/01/Using-Raku.pdf).  Here of course we use Asteroid to solve these programming challenges."
   ]
  },
  {
   "cell_type": "code",
   "execution_count": 1,
   "metadata": {},
   "outputs": [],
   "source": [
    "# make the Asteroid interpreter available in this notebook\n",
    "from asteroid_interp import interp"
   ]
  },
  {
   "cell_type": "markdown",
   "metadata": {},
   "source": [
    "**Note**: We use program as strings in this notebook so that we can run them right here in this notebook."
   ]
  },
  {
   "cell_type": "markdown",
   "metadata": {},
   "source": [
    "# Part I\n",
    "# Chapter 1: Strings\n",
    "## 1.1 Using Strings\n"
   ]
  },
  {
   "cell_type": "markdown",
   "metadata": {},
   "source": [
    "### 1. Hello, World!\n",
    "\n",
    "> Print ‘Hello, World!’\n",
    "\n",
    "The canonical `Hello, World!` program.  The easiest way to write this in Asteroid is,"
   ]
  },
  {
   "cell_type": "code",
   "execution_count": 2,
   "metadata": {},
   "outputs": [
    {
     "name": "stdout",
     "output_type": "stream",
     "text": [
      "Hello, World!\n"
     ]
    }
   ],
   "source": [
    "program = \\\n",
    "'''\n",
    "load \"io\".\n",
    "println \"Hello, World!\".\n",
    "'''\n",
    "interp(program)"
   ]
  },
  {
   "cell_type": "markdown",
   "metadata": {},
   "source": [
    "Two other print functions exists: \n",
    "- `print` - print without appending a new line character.\n",
    "- `raw_print` - print internal term structure. "
   ]
  },
  {
   "cell_type": "code",
   "execution_count": 3,
   "metadata": {},
   "outputs": [
    {
     "name": "stdout",
     "output_type": "stream",
     "text": [
      "('string', 'Hello, World!')\n"
     ]
    }
   ],
   "source": [
    "program = \\\n",
    "'''\n",
    "load \"io\".\n",
    "raw_print \"Hello, World!\".\n",
    "'''\n",
    "interp(program)"
   ]
  },
  {
   "cell_type": "markdown",
   "metadata": {},
   "source": [
    "Here we can see that an Asteroid string is tuple consisting of a type field and a value field."
   ]
  },
  {
   "cell_type": "markdown",
   "metadata": {},
   "source": [
    "### 2. Greet a person\n",
    "\n",
    "> Ask a user for their name and greet them by printing ‘Hello, <Name\\>!’\n",
    "\n",
    "Here is our first solution using a separate function for each of the steps,   "
   ]
  },
  {
   "cell_type": "code",
   "execution_count": 4,
   "metadata": {},
   "outputs": [
    {
     "name": "stdout",
     "output_type": "stream",
     "text": [
      "Enter your name: Leo\n",
      "Hello, Leo!"
     ]
    }
   ],
   "source": [
    "program = \\\n",
    "'''\n",
    "load \"io\".\n",
    "print (\"Enter your name: \").\n",
    "let name = input().\n",
    "print (\"Hello, \"+name+\"!\").\n",
    "'''\n",
    "interp(program)"
   ]
  },
  {
   "cell_type": "markdown",
   "metadata": {},
   "source": [
    "Letting the function `input` do the prompting,"
   ]
  },
  {
   "cell_type": "code",
   "execution_count": 5,
   "metadata": {},
   "outputs": [
    {
     "name": "stdout",
     "output_type": "stream",
     "text": [
      "Enter your name: Leo\n",
      "Hello, Leo!"
     ]
    }
   ],
   "source": [
    "program = \\\n",
    "'''\n",
    "load \"io\".\n",
    "let name = input(\"Enter your name: \").\n",
    "print (\"Hello, \"+name+\"!\").\n",
    "'''\n",
    "interp(program)"
   ]
  },
  {
   "cell_type": "markdown",
   "metadata": {},
   "source": [
    "Doing everything in one step,"
   ]
  },
  {
   "cell_type": "code",
   "execution_count": 6,
   "metadata": {},
   "outputs": [
    {
     "name": "stdout",
     "output_type": "stream",
     "text": [
      "Enter your name: Leo\n",
      "Hello, Leo!"
     ]
    }
   ],
   "source": [
    "program = \\\n",
    "'''\n",
    "load \"io\".\n",
    "print (\"Hello, \"+input(\"Enter your name: \")+\"!\").\n",
    "'''\n",
    "interp(program)"
   ]
  },
  {
   "cell_type": "markdown",
   "metadata": {},
   "source": [
    "### 3. String length\n",
    "\n",
    "> Print the length of a string.\n",
    "\n",
    "In order to print the length of a string we can use the function `len` available in the `util` module,"
   ]
  },
  {
   "cell_type": "code",
   "execution_count": 7,
   "metadata": {},
   "outputs": [
    {
     "name": "stdout",
     "output_type": "stream",
     "text": [
      "6\n"
     ]
    }
   ],
   "source": [
    "program = \\\n",
    "'''\n",
    "load \"io\".\n",
    "load \"util\".\n",
    "println (len(\"Hello!\")).\n",
    "'''\n",
    "interp(program)"
   ]
  },
  {
   "cell_type": "markdown",
   "metadata": {},
   "source": [
    "We can also use the string member function `length` in order to compute the length of the string,"
   ]
  },
  {
   "cell_type": "code",
   "execution_count": 8,
   "metadata": {},
   "outputs": [
    {
     "name": "stdout",
     "output_type": "stream",
     "text": [
      "6\n"
     ]
    }
   ],
   "source": [
    "program = \\\n",
    "'''\n",
    "load \"io\".\n",
    "println (\"Hello!\" @length()).\n",
    "'''\n",
    "interp(program)"
   ]
  },
  {
   "cell_type": "markdown",
   "metadata": {},
   "source": [
    "### 4. Unique digits\n",
    "\n",
    "> Print unique digits from a given integer number.\n",
    "\n",
    "In order to accomplish this we take advantage of the string `explode` function and the `sort` function on lists.\n",
    "Finally we use the `reduce` function to map a list with repeated digits to a list with unique digits,"
   ]
  },
  {
   "cell_type": "code",
   "execution_count": 4,
   "metadata": {},
   "outputs": [
    {
     "name": "stdout",
     "output_type": "stream",
     "text": [
      "[1,2,3]\n"
     ]
    }
   ],
   "source": [
    "program = \\\n",
    "'''\n",
    "load \"io\".\n",
    "\n",
    "function unique with (x,y) do\n",
    "    if not (x @member(y)) do\n",
    "        return x @append(y).\n",
    "    else do\n",
    "        return x.\n",
    "    end\n",
    "end\n",
    "        \n",
    "let digits = ((\"332211\" @explode()) @sort()) @reduce(unique,[]).\n",
    "println digits.\n",
    "assert(digits == [\"1\",\"2\",\"3\"]).\n",
    "'''\n",
    "interp(program)"
   ]
  },
  {
   "cell_type": "markdown",
   "metadata": {},
   "source": [
    "Probably the most noteworthy characteric about this program is the `reduce` function.  The `reduce` function applies a binary function to a list.  The first argument of the binary function acts like an accumulator and the second argument get instantiated with the elements of the list to be processed.  In our function `unique` the variable `x` is the accumulator with an initial value of `[]`.  The function tests whether the element `y` is on the list.  If it is not then it adds it to the list otherwise it just returns the accumulator unchanged."
   ]
  },
  {
   "cell_type": "markdown",
   "metadata": {},
   "source": [
    "## 1.2 Modifying string data\n",
    "\n",
    "### 5. Reverse a string\n",
    "\n",
    "> Print a string in the reversed order from right to left.\n",
    "\n",
    "We use the `explode` function to turn a string into a list of characters, then we reverse the list and turn it back into a string using the `join` function,"
   ]
  },
  {
   "cell_type": "code",
   "execution_count": 10,
   "metadata": {},
   "outputs": [
    {
     "name": "stdout",
     "output_type": "stream",
     "text": [
      "!dlroW ,olleH\n"
     ]
    }
   ],
   "source": [
    "program = \\\n",
    "'''\n",
    "load \"io\".\n",
    "let str = ((\"Hello, World!\" @explode()) @reverse()) @join(\"\").\n",
    "println str.\n",
    "assert(str == \"!dlroW ,olleH\").\n",
    "'''\n",
    "interp(program)"
   ]
  },
  {
   "cell_type": "markdown",
   "metadata": {},
   "source": [
    "### 6. Removing blanks from a string\n",
    "\n",
    "> Remove leading, trailing and double spaces from a given string."
   ]
  },
  {
   "cell_type": "code",
   "execution_count": 11,
   "metadata": {},
   "outputs": [
    {
     "name": "stdout",
     "output_type": "stream",
     "text": [
      "Hello, World!\n"
     ]
    }
   ],
   "source": [
    "program = \\\n",
    "'''\n",
    "load \"io\".\n",
    "let str = (\"   Hello  ,   World    !   \" @trim()) @replace(\"  \",\"\").\n",
    "println str.\n",
    "assert(str == \"Hello, World!\").\n",
    "'''\n",
    "interp(program)"
   ]
  },
  {
   "cell_type": "markdown",
   "metadata": {},
   "source": [
    "### 7. Camel case\n",
    "\n",
    "> Create a camel-case identifier from a given phrase.\n",
    "\n",
    "In this task, we will form the `CamelCase` variable names from a given phrase.\n",
    "Names created in this style are built of several words; each of which starts\n",
    "with a capital letter."
   ]
  },
  {
   "cell_type": "code",
   "execution_count": 12,
   "metadata": {},
   "outputs": [
    {
     "name": "stdout",
     "output_type": "stream",
     "text": [
      "OnceUponATime\n"
     ]
    }
   ],
   "source": [
    "program = \\\n",
    "'''\n",
    "load \"io\".\n",
    "\n",
    "function title with w do\n",
    "    let letter_list = (w @tolower()) @explode().\n",
    "    let first_letter = (letter_list@0) @toupper().\n",
    "    if letter_list @length() > 1 do\n",
    "        let title_case = ([first_letter]+letter_list@[1 to letter_list@length()-1]) @join(\"\").\n",
    "    else\n",
    "        let title_case = first_letter.\n",
    "    end\n",
    "    return title_case.\n",
    "end\n",
    "\n",
    "let str = \"once upon a time\".\n",
    "let camel_str = ((str @split()) @map(title)) @join(\"\").\n",
    "println camel_str.\n",
    "assert(camel_str == \"OnceUponATime\").\n",
    "'''\n",
    "interp(program)"
   ]
  },
  {
   "cell_type": "markdown",
   "metadata": {},
   "source": [
    "### 8. Incrementing filenames\n",
    "\n",
    "> Generate a list of filenames like file1.txt, file2.txt, etc."
   ]
  },
  {
   "cell_type": "code",
   "execution_count": 15,
   "metadata": {},
   "outputs": [
    {
     "name": "stdout",
     "output_type": "stream",
     "text": [
      "file1.txt\n",
      "file2.txt\n",
      "file3.txt\n",
      "file4.txt\n",
      "file5.txt\n"
     ]
    }
   ],
   "source": [
    "program = \\\n",
    "'''\n",
    "load \"io\".\n",
    "\n",
    "let root = \"file\".\n",
    "let ext = \".txt\".\n",
    "\n",
    "for i in 1 to 5 do\n",
    "    println (root+i+ext).\n",
    "end\n",
    "'''\n",
    "interp(program)"
   ]
  },
  {
   "cell_type": "markdown",
   "metadata": {},
   "source": [
    "### 9. Random passwords\n",
    "\n",
    "> Generate a random string that can be used as a password.\n",
    "\n",
    "In our solution we take advantage of Asteroid's `Pick` object.  The `Pick` object maintains a list of items that we can randomly select from using the `pick` member function.  As input to the `Pick` object we compute a bunch of lists of characters that are useful for password construction.  The function `achar` converts a decimal ASCII code to a single character string."
   ]
  },
  {
   "cell_type": "code",
   "execution_count": 42,
   "metadata": {},
   "outputs": [
    {
     "name": "stdout",
     "output_type": "stream",
     "text": [
      "4CUPtz_l0ANaohy\n"
     ]
    }
   ],
   "source": [
    "program = \\\n",
    "'''\n",
    "load \"io\".\n",
    "load \"util\".\n",
    "\n",
    "-- make up lists of symbols useful for password construction\n",
    "let int_list = [0 to 9] @map(tostring).\n",
    "let lc_list = [97 to 122] @map(achar). -- lower case characters\n",
    "let uc_list = [65 to 90] @map(achar). --upper case characters\n",
    "let sp_list = [\"!\",\"_\",\"#\",\"$\",\"%\",\"*\"].\n",
    "-- build the overall pick list of symbols\n",
    "let pick_list = int_list+lc_list+uc_list+sp_list.\n",
    "\n",
    "-- generate the password and print it.\n",
    "println ((Pick pick_list) @pick(15)) @join(\"\").\n",
    "'''\n",
    "interp(program)"
   ]
  },
  {
   "cell_type": "markdown",
   "metadata": {},
   "source": [
    "### 10. DNA-to-RNA transcription\n",
    "\n",
    "> Convert the given DNA sequence to a compliment RNA.\n",
    "\n",
    "We’ll not dig deep into the biology aspect of the problem. For us, it is important that the DNA is a string containing the four letters A, C, G, and T,\n",
    "and the RNA is a string of A, C, G, and U. The transformation from DNA\n",
    "to RNA happens according to the following table:\n",
    "```\n",
    "DNA: A C G T\n",
    "RNA: U G C A\n",
    "```\n",
    "We will solve this programming problem using Asteroid's first-class patterns. We could have solved this with just testing equality on DNA characters but using first-class patterns in more general and can be applied to problems with a more structured mapping relationship."
   ]
  },
  {
   "cell_type": "code",
   "execution_count": 47,
   "metadata": {},
   "outputs": [
    {
     "name": "stdout",
     "output_type": "stream",
     "text": [
      "UGGUAGUCAG\n"
     ]
    }
   ],
   "source": [
    "program = \\\n",
    "'''\n",
    "load \"io\".\n",
    "load \"util\".\n",
    "\n",
    "let dna2rna_table = \n",
    "    [\n",
    "    (\"A\",\"U\"),\n",
    "    (\"C\",\"G\"),\n",
    "    (\"G\",\"C\"),\n",
    "    (\"T\",\"A\")\n",
    "    ].\n",
    "\n",
    "function dna2rna with x do\n",
    "    for (dna,rna) in dna2rna_table do\n",
    "        if x is *dna do\n",
    "            return rna.\n",
    "        end\n",
    "    end\n",
    "    throw Error(\"unknown dna char \"+x).\n",
    "end\n",
    "\n",
    "let dna_seq = \"ACCATCAGTC\".\n",
    "let rna_seq = ((dna_seq @explode()) @map(dna2rna)) @join(\"\").\n",
    "println rna_seq.\n",
    "assert(rna_seq == \"UGGUAGUCAG\").\n",
    "'''\n",
    "interp(program)"
   ]
  },
  {
   "cell_type": "markdown",
   "metadata": {},
   "source": [
    "### 11. Caesar cipher\n",
    "\n",
    "> Encode a message using the Caesar cipher technique.\n",
    "\n",
    "The Caesar code is a simple method of transcoding the letters of the message\n",
    "so that each letter is replaced with the letter that occurs in the alphabet N\n",
    "positions earlier or later.\n",
    "For example, if N is 4, then the letter e becomes a, f is transformed to b,\n",
    "etc. The alphabet is looped so that z becomes v, and letters a to d become\n",
    "w to z."
   ]
  },
  {
   "cell_type": "code",
   "execution_count": 75,
   "metadata": {},
   "outputs": [
    {
     "name": "stdout",
     "output_type": "stream",
     "text": [
      "dahhk, sknhz!\n",
      "hello, world!\n"
     ]
    }
   ],
   "source": [
    "program = \\\n",
    "'''\n",
    "load \"io\".\n",
    "load \"util\".\n",
    "\n",
    "let encode_table = [119 to 122] @map(achar) + [97 to 118] @map(achar).\n",
    "\n",
    "function encode with (v:%string) %if len(v) == 1 do\n",
    "    if not (ascii(v) in [97 to 122]) do\n",
    "        return v.\n",
    "    else \n",
    "        return encode_table @(ascii(v)-ascii(\"a\")).\n",
    "    end\n",
    "end\n",
    "\n",
    "function decode with (v:%string) %if len(v) == 1 do\n",
    "    if not (ascii(v) in [97 to 122]) do\n",
    "        return v.\n",
    "    else \n",
    "        return encode_table @(ascii(v)-ascii(\"w\")+4).\n",
    "    end\n",
    "end\n",
    "\n",
    "let message = \"hello, world!\"\n",
    "let secret = ((message @explode()) @map(encode)) @join(\"\").\n",
    "println secret.\n",
    "\n",
    "let decoded_msg = ((secret @explode()) @map(decode)) @join(\"\").\n",
    "println decoded_msg.\n",
    "'''\n",
    "interp(program)"
   ]
  },
  {
   "cell_type": "code",
   "execution_count": null,
   "metadata": {},
   "outputs": [],
   "source": []
  }
 ],
 "metadata": {
  "kernelspec": {
   "display_name": "Python 3",
   "language": "python",
   "name": "python3"
  },
  "language_info": {
   "codemirror_mode": {
    "name": "ipython",
    "version": 3
   },
   "file_extension": ".py",
   "mimetype": "text/x-python",
   "name": "python",
   "nbconvert_exporter": "python",
   "pygments_lexer": "ipython3",
   "version": "3.8.5"
  }
 },
 "nbformat": 4,
 "nbformat_minor": 4
}

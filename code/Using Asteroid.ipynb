{
 "cells": [
  {
   "cell_type": "markdown",
   "metadata": {},
   "source": [
    "# Using Asteroid\n",
    "\n",
    "This notebook was inspired by Andrew Shitov's excellent book [Using Raku: 100 Programming Challenges Solved with the Brand-New Raku Programming Language](https://andrewshitov.com/wp-content/uploads/2020/01/Using-Raku.pdf).  Here of course we use Asteroid to solve these programming challenges."
   ]
  },
  {
   "cell_type": "code",
   "execution_count": 1,
   "metadata": {},
   "outputs": [],
   "source": [
    "# make the Asteroid interpreter available in this notebook\n",
    "from asteroid_interp import interp"
   ]
  },
  {
   "cell_type": "markdown",
   "metadata": {},
   "source": [
    "**Note**: We use program as strings in this notebook so that we can run them right here in this notebook.\n",
    "\n",
    "**Note**: There is a bug in the parser that does not allow for successive applications of member functions.  Those expressions need to be explicitly parenthesized."
   ]
  },
  {
   "cell_type": "markdown",
   "metadata": {},
   "source": [
    "# Part I\n",
    "# Chapter 1: Strings\n",
    "## 1.1 Using Strings\n"
   ]
  },
  {
   "cell_type": "markdown",
   "metadata": {},
   "source": [
    "### 1. Hello, World!\n",
    "\n",
    "> Print ‘Hello, World!’\n",
    "\n",
    "The canonical `Hello, World!` program.  The easiest way to write this in Asteroid is,"
   ]
  },
  {
   "cell_type": "code",
   "execution_count": 2,
   "metadata": {},
   "outputs": [
    {
     "name": "stdout",
     "output_type": "stream",
     "text": [
      "Hello, World!\n"
     ]
    }
   ],
   "source": [
    "program = \\\n",
    "'''\n",
    "load \"io\".\n",
    "println \"Hello, World!\".\n",
    "'''\n",
    "interp(program)"
   ]
  },
  {
   "cell_type": "markdown",
   "metadata": {},
   "source": [
    "Two other print functions exists: \n",
    "- `print` - print without appending a new line character.\n",
    "- `raw_print` - print internal term structure. "
   ]
  },
  {
   "cell_type": "code",
   "execution_count": 3,
   "metadata": {},
   "outputs": [
    {
     "name": "stdout",
     "output_type": "stream",
     "text": [
      "('string', 'Hello, World!')\n"
     ]
    }
   ],
   "source": [
    "program = \\\n",
    "'''\n",
    "load \"io\".\n",
    "raw_print \"Hello, World!\".\n",
    "'''\n",
    "interp(program)"
   ]
  },
  {
   "cell_type": "markdown",
   "metadata": {},
   "source": [
    "Here we can see that an Asteroid string is tuple consisting of a type field and a value field."
   ]
  },
  {
   "cell_type": "markdown",
   "metadata": {},
   "source": [
    "### 2. Greet a person\n",
    "\n",
    "> Ask a user for their name and greet them by printing ‘Hello, <Name\\>!’\n",
    "\n",
    "Here is our first solution using a separate function for each of the steps,   "
   ]
  },
  {
   "cell_type": "code",
   "execution_count": 4,
   "metadata": {},
   "outputs": [
    {
     "name": "stdout",
     "output_type": "stream",
     "text": [
      "Enter your name: Leo\n",
      "Hello, Leo!"
     ]
    }
   ],
   "source": [
    "program = \\\n",
    "'''\n",
    "load \"io\".\n",
    "print (\"Enter your name: \").\n",
    "let name = input().\n",
    "print (\"Hello, \"+name+\"!\").\n",
    "'''\n",
    "interp(program)"
   ]
  },
  {
   "cell_type": "markdown",
   "metadata": {},
   "source": [
    "Letting the function `input` do the prompting,"
   ]
  },
  {
   "cell_type": "code",
   "execution_count": 5,
   "metadata": {},
   "outputs": [
    {
     "name": "stdout",
     "output_type": "stream",
     "text": [
      "Enter your name: Leo\n",
      "Hello, Leo!"
     ]
    }
   ],
   "source": [
    "program = \\\n",
    "'''\n",
    "load \"io\".\n",
    "let name = input(\"Enter your name: \").\n",
    "print (\"Hello, \"+name+\"!\").\n",
    "'''\n",
    "interp(program)"
   ]
  },
  {
   "cell_type": "markdown",
   "metadata": {},
   "source": [
    "Doing everything in one step,"
   ]
  },
  {
   "cell_type": "code",
   "execution_count": 6,
   "metadata": {},
   "outputs": [
    {
     "name": "stdout",
     "output_type": "stream",
     "text": [
      "Enter your name: Leo\n",
      "Hello, Leo!"
     ]
    }
   ],
   "source": [
    "program = \\\n",
    "'''\n",
    "load \"io\".\n",
    "print (\"Hello, \"+input(\"Enter your name: \")+\"!\").\n",
    "'''\n",
    "interp(program)"
   ]
  },
  {
   "cell_type": "markdown",
   "metadata": {},
   "source": [
    "### 3. String length\n",
    "\n",
    "> Print the length of a string.\n",
    "\n",
    "In order to print the length of a string we can use the function `len` available in the `util` module,"
   ]
  },
  {
   "cell_type": "code",
   "execution_count": 7,
   "metadata": {},
   "outputs": [
    {
     "name": "stdout",
     "output_type": "stream",
     "text": [
      "6\n"
     ]
    }
   ],
   "source": [
    "program = \\\n",
    "'''\n",
    "load \"io\".\n",
    "load \"util\".\n",
    "println (len(\"Hello!\")).\n",
    "'''\n",
    "interp(program)"
   ]
  },
  {
   "cell_type": "markdown",
   "metadata": {},
   "source": [
    "We can also use the string member function `length` in order to compute the length of the string,"
   ]
  },
  {
   "cell_type": "code",
   "execution_count": 8,
   "metadata": {},
   "outputs": [
    {
     "name": "stdout",
     "output_type": "stream",
     "text": [
      "6\n"
     ]
    }
   ],
   "source": [
    "program = \\\n",
    "'''\n",
    "load \"io\".\n",
    "println (\"Hello!\" @length()).\n",
    "'''\n",
    "interp(program)"
   ]
  },
  {
   "cell_type": "markdown",
   "metadata": {},
   "source": [
    "### 4. Unique digits\n",
    "\n",
    "> Print unique digits from a given integer number.\n",
    "\n",
    "In order to accomplish this we take advantage of the string `explode` function and the `sort` function on lists.\n",
    "Finally we use the `reduce` function to map a list with repeated digits to a list with unique digits,"
   ]
  },
  {
   "cell_type": "code",
   "execution_count": 9,
   "metadata": {},
   "outputs": [
    {
     "name": "stdout",
     "output_type": "stream",
     "text": [
      "[1,2,3]\n"
     ]
    }
   ],
   "source": [
    "program = \\\n",
    "'''\n",
    "load \"io\".\n",
    "\n",
    "function unique with (x,y) do\n",
    "    if not (x @member(y)) do\n",
    "        return x @append(y).\n",
    "    else do\n",
    "        return x.\n",
    "    end\n",
    "end\n",
    "        \n",
    "let digits = ((\"332211\" @explode()) @sort()) @reduce(unique,[]).\n",
    "println digits.\n",
    "assert(digits == [\"1\",\"2\",\"3\"]).\n",
    "'''\n",
    "interp(program)"
   ]
  },
  {
   "cell_type": "markdown",
   "metadata": {},
   "source": [
    "Probably the most noteworthy characteric about this program is the `reduce` function.  The `reduce` function applies a binary function to a list.  The first argument of the binary function acts like an accumulator and the second argument get instantiated with the elements of the list to be processed.  In our function `unique` the variable `x` is the accumulator with an initial value of `[]`.  The function tests whether the element `y` is on the list.  If it is not then it adds it to the list otherwise it just returns the accumulator unchanged."
   ]
  },
  {
   "cell_type": "markdown",
   "metadata": {},
   "source": [
    "## 1.2 Modifying string data\n",
    "\n",
    "### 5. Reverse a string\n",
    "\n",
    "> Print a string in the reversed order from right to left.\n",
    "\n",
    "We use the `explode` function to turn a string into a list of characters, then we reverse the list and turn it back into a string using the `join` function,"
   ]
  },
  {
   "cell_type": "code",
   "execution_count": 10,
   "metadata": {},
   "outputs": [
    {
     "name": "stdout",
     "output_type": "stream",
     "text": [
      "!dlroW ,olleH\n"
     ]
    }
   ],
   "source": [
    "program = \\\n",
    "'''\n",
    "load \"io\".\n",
    "let str = ((\"Hello, World!\" @explode()) @reverse()) @join(\"\").\n",
    "println str.\n",
    "assert(str == \"!dlroW ,olleH\").\n",
    "'''\n",
    "interp(program)"
   ]
  },
  {
   "cell_type": "markdown",
   "metadata": {},
   "source": [
    "### 6. Removing blanks from a string\n",
    "\n",
    "> Remove leading, trailing and double spaces from a given string."
   ]
  },
  {
   "cell_type": "code",
   "execution_count": 11,
   "metadata": {},
   "outputs": [
    {
     "name": "stdout",
     "output_type": "stream",
     "text": [
      "Hello, World!\n"
     ]
    }
   ],
   "source": [
    "program = \\\n",
    "'''\n",
    "load \"io\".\n",
    "let str = (\"   Hello  ,   World    !   \" @trim()) @replace(\"  \",\"\").\n",
    "println str.\n",
    "assert(str == \"Hello, World!\").\n",
    "'''\n",
    "interp(program)"
   ]
  },
  {
   "cell_type": "markdown",
   "metadata": {},
   "source": [
    "### 7. Camel case\n",
    "\n",
    "> Create a camel-case identifier from a given phrase.\n",
    "\n",
    "In this task, we will form the `CamelCase` variable names from a given phrase.\n",
    "Names created in this style are built of several words; each of which starts\n",
    "with a capital letter."
   ]
  },
  {
   "cell_type": "code",
   "execution_count": 12,
   "metadata": {},
   "outputs": [
    {
     "name": "stdout",
     "output_type": "stream",
     "text": [
      "OnceUponATime\n"
     ]
    }
   ],
   "source": [
    "program = \\\n",
    "'''\n",
    "load \"io\".\n",
    "\n",
    "function title with w do\n",
    "    let letter_list = (w @tolower()) @explode().\n",
    "    let first_letter = (letter_list@0) @toupper().\n",
    "    if letter_list @length() > 1 do\n",
    "        let title_case = ([first_letter]+letter_list@[1 to letter_list@length()-1]) @join(\"\").\n",
    "    else\n",
    "        let title_case = first_letter.\n",
    "    end\n",
    "    return title_case.\n",
    "end\n",
    "\n",
    "let str = \"once upon a time\".\n",
    "let camel_str = ((str @split()) @map(title)) @join(\"\").\n",
    "println camel_str.\n",
    "assert(camel_str == \"OnceUponATime\").\n",
    "'''\n",
    "interp(program)"
   ]
  },
  {
   "cell_type": "markdown",
   "metadata": {},
   "source": [
    "### 8. Incrementing filenames\n",
    "\n",
    "> Generate a list of filenames like file1.txt, file2.txt, etc."
   ]
  },
  {
   "cell_type": "code",
   "execution_count": 13,
   "metadata": {},
   "outputs": [
    {
     "name": "stdout",
     "output_type": "stream",
     "text": [
      "file1.txt\n",
      "file2.txt\n",
      "file3.txt\n",
      "file4.txt\n",
      "file5.txt\n"
     ]
    }
   ],
   "source": [
    "program = \\\n",
    "'''\n",
    "load \"io\".\n",
    "\n",
    "let root = \"file\".\n",
    "let ext = \".txt\".\n",
    "\n",
    "for i in 1 to 5 do\n",
    "    println (root+i+ext).\n",
    "end\n",
    "'''\n",
    "interp(program)"
   ]
  },
  {
   "cell_type": "markdown",
   "metadata": {},
   "source": [
    "### 9. Random passwords\n",
    "\n",
    "> Generate a random string that can be used as a password.\n",
    "\n",
    "In our solution we take advantage of Asteroid's `Pick` object.  The `Pick` object maintains a list of items that we can randomly select from using the `pick` member function.  As input to the `Pick` object we compute a bunch of lists of characters that are useful for password construction.  The function `achar` converts a decimal ASCII code to a single character string."
   ]
  },
  {
   "cell_type": "code",
   "execution_count": 14,
   "metadata": {},
   "outputs": [
    {
     "name": "stdout",
     "output_type": "stream",
     "text": [
      "OQJrtGB##dNjR9$\n"
     ]
    }
   ],
   "source": [
    "program = \\\n",
    "'''\n",
    "load \"io\".\n",
    "load \"util\".\n",
    "\n",
    "-- make up lists of symbols useful for password construction\n",
    "let int_list = [0 to 9] @map(tostring).\n",
    "let lc_list = [97 to 122] @map(achar). -- lower case characters\n",
    "let uc_list = [65 to 90] @map(achar). --upper case characters\n",
    "let sp_list = [\"!\",\"_\",\"#\",\"$\",\"%\",\"*\"].\n",
    "-- build the overall pick list of symbols\n",
    "let pick_list = int_list+lc_list+uc_list+sp_list.\n",
    "\n",
    "-- generate the password and print it.\n",
    "println ((Pick pick_list) @pick(15)) @join(\"\").\n",
    "'''\n",
    "interp(program)"
   ]
  },
  {
   "cell_type": "markdown",
   "metadata": {},
   "source": [
    "### 10. DNA-to-RNA transcription\n",
    "\n",
    "> Convert the given DNA sequence to a compliment RNA.\n",
    "\n",
    "We’ll not dig deep into the biology aspect of the problem. For us, it is important that the DNA is a string containing the four letters A, C, G, and T,\n",
    "and the RNA is a string of A, C, G, and U. The transformation from DNA\n",
    "to RNA happens according to the following table:\n",
    "```\n",
    "DNA: A C G T\n",
    "RNA: U G C A\n",
    "```\n",
    "We will solve this programming problem using Asteroid's first-class patterns. We could have solved this with just testing equality on DNA characters but using first-class patterns in more general and can be applied to problems with a more structured mapping relationship."
   ]
  },
  {
   "cell_type": "code",
   "execution_count": 15,
   "metadata": {},
   "outputs": [
    {
     "name": "stdout",
     "output_type": "stream",
     "text": [
      "UGGUAGUCAG\n"
     ]
    }
   ],
   "source": [
    "program = \\\n",
    "'''\n",
    "load \"io\".\n",
    "load \"util\".\n",
    "\n",
    "let dna2rna_table = \n",
    "    [\n",
    "    (\"A\",\"U\"),\n",
    "    (\"C\",\"G\"),\n",
    "    (\"G\",\"C\"),\n",
    "    (\"T\",\"A\")\n",
    "    ].\n",
    "\n",
    "function dna2rna with x do\n",
    "    for (dna,rna) in dna2rna_table do\n",
    "        if x is *dna do\n",
    "            return rna.\n",
    "        end\n",
    "    end\n",
    "    throw Error(\"unknown dna char \"+x).\n",
    "end\n",
    "\n",
    "let dna_seq = \"ACCATCAGTC\".\n",
    "let rna_seq = ((dna_seq @explode()) @map(dna2rna)) @join(\"\").\n",
    "println rna_seq.\n",
    "assert(rna_seq == \"UGGUAGUCAG\").\n",
    "'''\n",
    "interp(program)"
   ]
  },
  {
   "cell_type": "markdown",
   "metadata": {},
   "source": [
    "### 11. Caesar cipher\n",
    "\n",
    "> Encode a message using the Caesar cipher technique.\n",
    "\n",
    "The Caesar code is a simple method of transcoding the letters of the message\n",
    "so that each letter is replaced with the letter that occurs in the alphabet N\n",
    "positions earlier or later.\n",
    "For example, if N is 4, then the letter e becomes a, f is transformed to b,\n",
    "etc. The alphabet is looped so that z becomes v, and letters a to d become\n",
    "w to z."
   ]
  },
  {
   "cell_type": "code",
   "execution_count": 16,
   "metadata": {},
   "outputs": [
    {
     "name": "stdout",
     "output_type": "stream",
     "text": [
      "dahhk, sknhz!\n",
      "hello, world!\n"
     ]
    }
   ],
   "source": [
    "program = \\\n",
    "'''\n",
    "load \"io\".\n",
    "load \"util\".\n",
    "\n",
    "let encode_table = [119 to 122] @map(achar) + [97 to 118] @map(achar).\n",
    "\n",
    "function encode with (v:%string) %if len(v) == 1 do\n",
    "    -- only lowercase letters are encoded\n",
    "    if not (ascii(v) in [97 to 122]) do\n",
    "        return v.\n",
    "    else \n",
    "        return encode_table @(ascii(v)-ascii(\"a\")).\n",
    "    end\n",
    "end\n",
    "\n",
    "function decode with (v:%string) %if len(v) == 1 do\n",
    "    -- only lowercase letters are decoded\n",
    "    if not (ascii(v) in [97 to 122]) do\n",
    "        return v.\n",
    "    else \n",
    "        return encode_table @(ascii(v)-ascii(\"w\")+4).\n",
    "    end\n",
    "end\n",
    "\n",
    "let message = \"hello, world!\"\n",
    "let secret = ((message @explode()) @map(encode)) @join(\"\").\n",
    "println secret.\n",
    "\n",
    "let decoded_msg = ((secret @explode()) @map(decode)) @join(\"\").\n",
    "println decoded_msg.\n",
    "'''\n",
    "interp(program)"
   ]
  },
  {
   "cell_type": "markdown",
   "metadata": {},
   "source": [
    "## 1.3 Text Analysis\n",
    "\n",
    "### 12. Plural Endings\n",
    "\n",
    "> Put a noun in the correct form — singular or plural — depending on the number next to it.\n",
    "\n",
    "In program outputs, it is often required to print some number followed by a noun, for example:\n",
    "```\n",
    "10 files found\n",
    "```\n",
    "If there is only one file, then the phrase should be `1 file found` instead."
   ]
  },
  {
   "cell_type": "code",
   "execution_count": 17,
   "metadata": {},
   "outputs": [
    {
     "name": "stdout",
     "output_type": "stream",
     "text": [
      "0 files found\n",
      "1 file found\n",
      "2 files found\n",
      "3 files found\n",
      "4 files found\n",
      "5 files found\n"
     ]
    }
   ],
   "source": [
    "program = \\\n",
    "'''\n",
    "load \"io\".\n",
    "\n",
    "for n in 0 to 5 do\n",
    "    println (n+\" file\"+(\"s \" if n>1 or n==0 else \" \")+\"found\").\n",
    "end\n",
    "'''\n",
    "interp(program)"
   ]
  },
  {
   "cell_type": "markdown",
   "metadata": {},
   "source": [
    "### 13. The most frequent word\n",
    "\n",
    "> Find the most frequent word in the given text.\n"
   ]
  },
  {
   "cell_type": "code",
   "execution_count": 18,
   "metadata": {},
   "outputs": [
    {
     "name": "stdout",
     "output_type": "stream",
     "text": [
      "sed\n"
     ]
    }
   ],
   "source": [
    "program = \\\n",
    "'''\n",
    "load \"io\".\n",
    "load \"util\".\n",
    "\n",
    "-- text generated at 'https://www.lipsum.com/'\n",
    "let text = \"Lorem ipsum dolor sit amet, consectetur adipiscing elit. Sed accumsan magna quis risus commodo, et pellentesque dui cursus. Sed quis risus libero. Cras et mattis libero, eget varius nisi. Phasellus ultrices, augue non dictum eleifend, nunc elit blandit velit, a viverra risus enim in tellus. Maecenas quis ante eget turpis rhoncus rhoncus eget ut mauris. Suspendisse nec erat sed nunc tempus hendrerit. Nunc dictum nunc molestie eleifend tempus. Praesent cursus lorem diam, sed mattis velit vehicula scelerisque. Nunc iaculis rhoncus ante. Etiam quam nisi, fermentum et euismod a, vulputate eu elit. Suspendisse tincidunt ligula quis interdum blandit. Quisque sed aliquam tellus. Pellentesque ac lacus pulvinar, ornare purus ac, viverra ex. Donec quis pharetra dolor.\n",
    "\n",
    "In ac massa tortor. Cras sagittis luctus scelerisque. Morbi a neque sed tortor ultrices dapibus. Mauris pretium vitae massa non auctor. Cras egestas ex ante, ac ullamcorper ante dignissim eget. Fusce bibendum justo ut enim luctus, id volutpat diam lacinia. Mauris sit amet ante risus.\n",
    "\n",
    "Nullam rhoncus ultricies dui. Etiam vel metus vehicula, pellentesque felis ut, suscipit nunc. Sed nec interdum lorem. Maecenas odio erat, vestibulum nec dapibus id, commodo vitae libero. Nulla sed urna sit amet nunc commodo finibus sed vel elit. Aliquam euismod feugiat nisi quis placerat. Aliquam libero nisl, ultrices non est at, sagittis hendrerit dui. Quisque id sem lorem. Nam ultricies metus id ultrices molestie. Pellentesque elementum consequat nibh, nec convallis lorem ullamcorper in. Etiam vitae mi tellus. Etiam accumsan massa sit amet dolor tincidunt iaculis. Nam ullamcorper blandit sem id bibendum. Quisque elementum ipsum ac sapien blandit vehicula.\"\n",
    "\n",
    "-- get rid of punctuation, turn to lower case, and split into words.\n",
    "-- Note: we could have employed richer regular expressions to clean up the text here\n",
    "let wl = (((text @replace(\"\\.\",\"\")) @replace(\",\",\"\")) @tolower()) @split().\n",
    "\n",
    "-- put the words into a hash table, the value is the count of the words\n",
    "let ht = HashTable().\n",
    "for w in wl do\n",
    "    if not ht @get(w) do\n",
    "        ht @insert(w,1).\n",
    "    else do\n",
    "        ht @insert(w,ht @get(w)+1).\n",
    "    end\n",
    "end\n",
    "\n",
    "-- get the contents of hash table and find the most frequent word\n",
    "let (keys,values) = unzip(ht @aslist()).\n",
    "let values_sorted = (values @copy()) @sort(true).\n",
    "let most_frequent_word = keys @(values @index(values_sorted @0)).\n",
    "println most_frequent_word.\n",
    "assert (most_frequent_word == \"sed\").\n",
    "'''\n",
    "interp(program)"
   ]
  },
  {
   "cell_type": "markdown",
   "metadata": {},
   "source": [
    "### 14. The longest common substring\n",
    "\n",
    "> Find the longest common substring in the given two strings.\n",
    "\n",
    "Let us limit ourselves with finding only the first longest substring. If there\n",
    "are more common substrings of the same length, then the rest are ignored.\n",
    "There are two loops (see also Task 17, The longest palindrome) over the first\n",
    "string (`stra`), and they use the index method to search for the substring in the\n",
    "second string (`strb`)."
   ]
  },
  {
   "cell_type": "code",
   "execution_count": 19,
   "metadata": {},
   "outputs": [
    {
     "name": "stdout",
     "output_type": "stream",
     "text": [
      "The longest common substring is ' fox '.\n"
     ]
    }
   ],
   "source": [
    "program = \\\n",
    "'''\n",
    "load \"io\".\n",
    "load \"util\".\n",
    "\n",
    "let stra = \"the quick brown fox jumps over the lazy dog\".\n",
    "let strb = \"what does the fox say?\".\n",
    "let common = \"\".\n",
    "\n",
    "for startix in 0 to stra @length()-1 do\n",
    "    for endix in startix to stra @length()-1 do\n",
    "        let s = stra @[startix to endix].\n",
    "        if strb @index(s) and s @length() > common @length() do\n",
    "            let common = s.\n",
    "        end\n",
    "    end\n",
    "end\n",
    "\n",
    "if common do\n",
    "    println (\"The longest common substring is '\"+common+\"'.\").\n",
    "else do\n",
    "    println (\"There are no common substrings.\").\n",
    "end\n",
    "\n",
    "assert (common == \" fox \").\n",
    "'''\n",
    "interp(program)"
   ]
  },
  {
   "cell_type": "markdown",
   "metadata": {},
   "source": [
    "### 15. Anagram test\n",
    "\n",
    "> Tell if the two words are anagrams of each other.\n",
    "\n",
    "An anagram is a word, phrase, or name formed by rearranging the letters of another, such as `cinema`, formed from `iceman`."
   ]
  },
  {
   "cell_type": "code",
   "execution_count": 20,
   "metadata": {},
   "outputs": [
    {
     "name": "stdout",
     "output_type": "stream",
     "text": [
      "Anagrams\n"
     ]
    }
   ],
   "source": [
    "program = \\\n",
    "'''\n",
    "load \"io\".\n",
    "\n",
    "let str1 = \"cinema\".\n",
    "let str2 = \"iceman\".\n",
    "\n",
    "function normalize with str do\n",
    "    return ((str @explode()) @sort()) @join(\"\").\n",
    "end\n",
    "\n",
    "if normalize(str1) == normalize(str2) do\n",
    "    println \"Anagrams\".\n",
    "else do\n",
    "    println \"Not anagrams\".\n",
    "end\n",
    "\n",
    "assert (normalize(str1) == normalize(str2)).\n",
    "'''\n",
    "interp(program)"
   ]
  },
  {
   "cell_type": "markdown",
   "metadata": {},
   "source": [
    "### 16. Palindrome test\n",
    "\n",
    "> Check if the entered string is palindromic.\n",
    "\n",
    "A palindrome is a string that can be read from both ends: left to right or right\n",
    "to left."
   ]
  },
  {
   "cell_type": "code",
   "execution_count": 21,
   "metadata": {},
   "outputs": [
    {
     "name": "stdout",
     "output_type": "stream",
     "text": [
      "Palindromic\n"
     ]
    }
   ],
   "source": [
    "program = \\\n",
    "'''\n",
    "load \"io\".\n",
    "\n",
    "let str = \"Was it a rat I saw?\".\n",
    "\n",
    "function clean with str:%string do\n",
    "    return (str @tolower()) @replace(\"[^a-z]\",\"\").\n",
    "end\n",
    "\n",
    "-- only keep lower case letters\n",
    "let clean_str = clean(str).\n",
    "\n",
    "-- check if it is palidromic\n",
    "if clean_str == clean_str @flip() do\n",
    "    println \"Palindromic\".\n",
    "else do\n",
    "    println \"Not palindromic\".\n",
    "end\n",
    "\n",
    "assert (clean_str == clean_str @flip()).\n",
    "'''\n",
    "interp(program)"
   ]
  },
  {
   "cell_type": "markdown",
   "metadata": {},
   "source": [
    "### 17. The longest palindrome\n",
    "\n",
    "> Find the longest palindromic substring in the given string.\n",
    "\n",
    "The main idea behind the solution is to scan the string with a window of\n",
    "varying width. In other words, starting from a given character, test all the\n",
    "substrings of any length possible at that position. \n",
    "Now, extract the substring and do the check similar to the solution of Task\n",
    "16, Palindrome test. Here, we have to be careful to check the palindrome\n",
    "without taking into account the non-letter characters but saving the result as\n",
    "part of the original string. "
   ]
  },
  {
   "cell_type": "code",
   "execution_count": 23,
   "metadata": {},
   "outputs": [
    {
     "name": "stdout",
     "output_type": "stream",
     "text": [
      "o, Wo\n"
     ]
    }
   ],
   "source": [
    "program = \\\n",
    "'''\n",
    "load \"io\".\n",
    "\n",
    "let str = \"Hello, World!\".\n",
    "\n",
    "function clean with str:%string do\n",
    "    return (str @tolower()) @replace(\"[^a-z]\",\"\").\n",
    "end\n",
    "\n",
    "function palindrome_test with str:%string do\n",
    "    let clean_str = clean(str).\n",
    "    if clean_str == clean_str @flip() do\n",
    "        return true.\n",
    "    else do\n",
    "        return false.\n",
    "    end\n",
    "end\n",
    "\n",
    "-- create the moving window over the string\n",
    "let longest_palindrome = \"\".\n",
    "\n",
    "for i in 0 to str @length()-2 do\n",
    "    for j in i+1 to str @length()-1 do\n",
    "        let str1 = str @[i to j].\n",
    "        if palindrome_test(str1) and \n",
    "           str1 @length() > longest_palindrome @length() do \n",
    "            let longest_palindrome = str1.\n",
    "        end\n",
    "    end\n",
    "end\n",
    "\n",
    "println longest_palindrome.\n",
    "\n",
    "'''\n",
    "interp(program)"
   ]
  },
  {
   "cell_type": "markdown",
   "metadata": {},
   "source": [
    "### 18. Finding duplicate texts\n",
    "\n",
    "> Find duplicate fragments in the same text.\n",
    "\n",
    "We do this by finding and hashing N-grams after the appropriate preprocessing.  We will use `N=3`."
   ]
  },
  {
   "cell_type": "code",
   "execution_count": 34,
   "metadata": {},
   "outputs": [
    {
     "name": "stdout",
     "output_type": "stream",
     "text": [
      "lorem ipsum dolor: 2\n",
      "ipsum dolor sit: 2\n",
      "dolor sit amet: 3\n",
      "sit amet consectetur: 2\n",
      "amet consectetur adipiscing: 2\n",
      "consectetur adipiscing elit: 2\n",
      "in hac habitasse: 2\n",
      "hac habitasse platea: 2\n",
      "habitasse platea dictumst: 2\n",
      "aliquet quam purus: 2\n",
      "diam sed nulla: 2\n",
      "sit amet condimentum: 2\n"
     ]
    }
   ],
   "source": [
    "program = \\\n",
    "'''\n",
    "load \"io\".\n",
    "load \"util\".\n",
    "\n",
    "-- text from \"www.lipsum.com\"\n",
    "\n",
    "let str = \"Lorem ipsum dolor sit amet, consectetur adipiscing elit. Sed malesuada sapien nec neque suscipit, non rutrum arcu scelerisque. Nam feugiat sapien porta ipsum accumsan, eget maximus diam volutpat. Pellentesque elementum in orci quis pretium. Donec dignissim nunc lectus, id ornare urna varius ut. Praesent semper faucibus vehicula. Aliquam luctus sapien at lorem malesuada, eget suscipit felis facilisis. Suspendisse velit lectus, mollis sit amet tempor eget, faucibus ut nulla. Vestibulum et elementum dolor, a vehicula ipsum. Morbi ut fringilla nisi. Fusce congue rutrum orci nec porta. Ut laoreet justo vel turpis sodales vehicula. Nulla porttitor nisl id odio eleifend sodales.\n",
    "\n",
    "Suspendisse blandit tristique enim id laoreet. Etiam vel aliquet dui, quis tempus magna. Donec blandit volutpat felis egestas tincidunt. Integer placerat luctus mi non pharetra. Donec aliquet nisl orci, egestas elementum nunc bibendum a. Morbi nec risus aliquet, viverra nunc in, molestie odio. Curabitur pellentesque, ante eget dictum aliquam, felis leo bibendum libero, vel bibendum lorem velit eget ex. Lorem ipsum dolor sit amet, consectetur adipiscing elit. Vestibulum pretium tellus quis ante vulputate, pretium tincidunt ipsum dapibus. Praesent congue, ipsum ut sagittis tempus, lacus nisi dapibus dui, aliquam porta metus odio ut neque. Aliquam vitae faucibus dolor. Nulla iaculis lorem non mauris viverra, ut malesuada nibh aliquam. Nam bibendum sit amet massa in dignissim. Nam posuere nunc ante, at viverra diam rhoncus vel.\n",
    "\n",
    "Aliquam mollis sagittis nulla. Maecenas faucibus eu dui eget accumsan. Suspendisse sit amet fermentum sapien. Nunc vitae mi nibh. Mauris condimentum vestibulum imperdiet. Quisque at vehicula dui. Integer sit amet volutpat arcu. Maecenas efficitur leo tortor, non ullamcorper magna tempor non. Sed efficitur quis metus ut pulvinar. Proin nunc felis, congue sit amet nibh placerat, tincidunt mattis nunc. Duis efficitur lacus a orci porttitor, sed molestie risus tempor.\n",
    "\n",
    "Sed tincidunt ipsum at urna sollicitudin feugiat. Ut mollis orci quis massa dictum facilisis. Maecenas non elementum mauris. Sed rutrum orci faucibus, tristique nunc nec, mattis ante. Pellentesque habitant morbi tristique senectus et netus et malesuada fames ac turpis egestas. In hac habitasse platea dictumst. Morbi pellentesque dolor sit amet nunc tincidunt, ut rutrum ante vulputate. Nullam pretium, mi sed condimentum luctus, ipsum nunc dictum lorem, vel ultricies nibh mi ut sem. Nam volutpat id libero eget mollis.\n",
    "\n",
    "Vestibulum eget velit eros. Phasellus sit amet vestibulum odio, vel malesuada quam. Mauris dictum erat eu ligula mollis laoreet. Phasellus ut ante auctor, hendrerit ipsum et, fermentum magna. Etiam nec eros elementum, consectetur nibh ac, ullamcorper ligula. Aliquam sed porttitor sapien. Nulla tincidunt, turpis vitae venenatis aliquet, quam purus elementum diam, in tincidunt orci diam sed nulla. Cras pellentesque non diam quis sollicitudin. Duis suscipit lectus dui, eu varius metus pretium sit amet.\n",
    "\n",
    "Nulla eu ex velit. Ut non justo semper, gravida erat quis, vehicula est. Suspendisse nunc dui, iaculis id purus sit amet, rutrum commodo lacus. Aenean consequat turpis a est vestibulum, ac accumsan nibh dapibus. Nam blandit scelerisque lectus, eu pellentesque arcu ornare non. Fusce ac gravida diam. Ut in fringilla eros. Sed metus augue, porta quis vehicula at, pellentesque et mauris. Duis sodales lacus sit amet condimentum placerat. In blandit tristique nulla eget malesuada. Sed congue finibus neque at semper. Etiam pellentesque egestas urna, ut lobortis odio euismod et. Phasellus aliquet quam purus, quis ullamcorper sem mollis eu.\n",
    "\n",
    "Mauris quis ullamcorper nisi. Aenean quam nulla, sodales eu faucibus in, mattis a nulla. Nullam pulvinar pretium justo eu mattis. Aliquam rutrum ipsum vitae leo maximus ultrices. Donec ut pulvinar nisi. Sed pharetra, turpis dictum lobortis egestas, quam massa venenatis enim, dapibus efficitur dolor mauris eu felis. Donec vulputate ultrices justo sit amet condimentum. Donec id posuere nulla. In vestibulum mi in lectus commodo dignissim. Quisque vestibulum egestas arcu sit amet finibus. Proin commodo aliquet neque quis maximus.\n",
    "\n",
    "Nulla facilisi. Sed gravida aliquet diam in congue. Mauris vehicula justo ac sollicitudin laoreet. Mauris enim mi, auctor id magna eget, feugiat sollicitudin leo. Vivamus ornare ornare commodo. Suspendisse ut dui quis enim porta pretium. Praesent vitae lacus fermentum, posuere orci ac, imperdiet massa. Nulla hendrerit id nisl sed maximus. Vivamus commodo lacus eu condimentum bibendum. Suspendisse porttitor sem eget dolor aliquet congue. Pellentesque tristique augue at quam hendrerit dignissim. Aenean a congue dui. Vestibulum ante ipsum primis in faucibus orci luctus et ultrices posuere cubilia curae; Integer ante lacus, commodo et enim sed, auctor egestas metus.\n",
    "\n",
    "Aliquam a urna id risus tincidunt rutrum. Nunc facilisis, tortor ac suscipit aliquam, ante neque tincidunt mi, nec ullamcorper lectus ligula vel urna. Suspendisse lobortis at felis sit amet facilisis. Pellentesque velit lacus, porttitor vitae eros rutrum, convallis blandit erat. Pellentesque nec mi viverra, volutpat dui in, rutrum lacus. Ut non venenatis leo. Praesent sollicitudin magna porttitor lorem elementum molestie non a turpis. Suspendisse potenti.\n",
    "\n",
    "Donec malesuada iaculis laoreet. Nunc ut volutpat ante, ut consequat tortor. Phasellus posuere, ipsum quis dignissim iaculis, nisl felis ullamcorper ligula, quis placerat sem sapien nec ante. Cras suscipit ut magna nec lacinia. Donec ipsum nibh, imperdiet non aliquam eu, maximus id ante. Pellentesque vitae felis felis. Aliquam et diam sed nulla volutpat vestibulum molestie non lacus. Praesent porta et lacus auctor fermentum. In hac habitasse platea dictumst. Aliquam erat volutpat. Etiam at ligula orci. Class aptent taciti sociosqu ad litora torquent per conubia nostra, per inceptos himenaeos.\"\n",
    "\n",
    "\n",
    "let word_list = ((str @tolower()) @replace(\"[^a-z0-9_]\",\" \")) @split().\n",
    "let ht = HashTable().\n",
    "\n",
    "-- create N-grams\n",
    "for i in 0 to word_list @length()-3 do\n",
    "    let n_gram = [word_list@i, word_list@(i+1), word_list @(i+2)] @join(\" \").\n",
    "    -- put the N-gram into a hash table, the value is the count of the N-gram in the text.\n",
    "    if not ht @get(n_gram) do\n",
    "        ht @insert(n_gram,1).\n",
    "    else do\n",
    "        ht @insert(n_gram,ht @get(n_gram)+1).\n",
    "    end\n",
    "end\n",
    "\n",
    "for ((n_gram,cnt) %if cnt > 1) in ht @aslist() do\n",
    "    println (n_gram+\": \"+cnt).\n",
    "end\n",
    "'''\n",
    "interp(program)"
   ]
  },
  {
   "cell_type": "code",
   "execution_count": null,
   "metadata": {},
   "outputs": [],
   "source": []
  }
 ],
 "metadata": {
  "kernelspec": {
   "display_name": "Python 3",
   "language": "python",
   "name": "python3"
  },
  "language_info": {
   "codemirror_mode": {
    "name": "ipython",
    "version": 3
   },
   "file_extension": ".py",
   "mimetype": "text/x-python",
   "name": "python",
   "nbconvert_exporter": "python",
   "pygments_lexer": "ipython3",
   "version": "3.8.5"
  }
 },
 "nbformat": 4,
 "nbformat_minor": 4
}
